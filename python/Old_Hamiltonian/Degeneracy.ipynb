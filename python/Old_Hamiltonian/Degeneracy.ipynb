{
 "cells": [
  {
   "cell_type": "code",
   "execution_count": 1,
   "metadata": {
    "collapsed": true
   },
   "outputs": [],
   "source": [
    "import numpy as np\n",
    "import scipy.linalg as la\n",
    "import hamiltonian as hm\n",
    "%matplotlib inline\n",
    "import matplotlib.pyplot as plt\n",
    "from random import gauss"
   ]
  },
  {
   "cell_type": "markdown",
   "metadata": {},
   "source": [
    "# Finding R"
   ]
  },
  {
   "cell_type": "code",
   "execution_count": 2,
   "metadata": {},
   "outputs": [],
   "source": [
    "# def R(L):\n",
    "#     base = np.array([[1,0,0,0],[0,0,1,0],[0,1,0,0],[0,0,0,1]])\n",
    "#     R = base\n",
    "#     for i in range(L-2):\n",
    "#         R = np.kron(R,np.eye(2))\n",
    "#     for i in range(L-3):\n",
    "#         R += np.kron(np.eye(2),np.kron(np.eye(2),base))\n",
    "#     return R"
   ]
  },
  {
   "cell_type": "code",
   "execution_count": 2,
   "metadata": {
    "collapsed": true
   },
   "outputs": [],
   "source": [
    "def get_R(L, parity = False):\n",
    "    R = np.zeros((2**L,2**L))\n",
    "    for n in range(2**L):\n",
    "        reverse = int(('{:0'+str(L)+'b}').format(n)[::-1], 2)\n",
    "        R[n, reverse] = 1\n",
    "    if parity:\n",
    "        R = R@hm.get_Px(L)\n",
    "    return R"
   ]
  },
  {
   "cell_type": "code",
   "execution_count": 3,
   "metadata": {},
   "outputs": [
    {
     "data": {
      "image/png": "[encoded data removed]",
      "text/plain": [
       "<matplotlib.figure.Figure at 0x10c5739b0>"
      ]
     },
     "metadata": {},
     "output_type": "display_data"
    }
   ],
   "source": [
    "L=5\n",
    "parity=True\n",
    "plt.imshow(get_R(L, parity=parity), interpolation='nearest')\n",
    "plt.show()"
   ]
  },
  {
   "cell_type": "code",
   "execution_count": 5,
   "metadata": {},
   "outputs": [
    {
     "data": {
      "text/plain": [
       "True"
      ]
     },
     "execution_count": 5,
     "metadata": {},
     "output_type": "execute_result"
    }
   ],
   "source": [
    "H=hm.dense_H(L)\n",
    "R = get_R(L, parity=parity)\n",
    "# R = hm.get_Px(L)\n",
    "np.all(np.isclose(R@H@R+H,0))"
   ]
  },
  {
   "cell_type": "code",
   "execution_count": 6,
   "metadata": {},
   "outputs": [
    {
     "name": "stdout",
     "output_type": "stream",
     "text": [
      "L = 3 , trace = 0.0\n",
      "L = 4 , trace = 4.0\n",
      "L = 5 , trace = 0.0\n",
      "L = 6 , trace = 8.0\n",
      "L = 7 , trace = 0.0\n",
      "L = 8 , trace = 16.0\n",
      "L = 9 , trace = 0.0\n",
      "L = 10 , trace = 32.0\n",
      "L = 11 , trace = 0.0\n"
     ]
    },
    {
     "ename": "KeyboardInterrupt",
     "evalue": "",
     "output_type": "error",
     "traceback": [
      "\u001b[0;31m---------------------------------------------------------------------------\u001b[0m",
      "\u001b[0;31mKeyboardInterrupt\u001b[0m                         Traceback (most recent call last)",
      "\u001b[0;32m<ipython-input-6-c2cda1b4fd6a>\u001b[0m in \u001b[0;36m<module>\u001b[0;34m()\u001b[0m\n\u001b[1;32m      1\u001b[0m \u001b[0;32mfor\u001b[0m \u001b[0mL\u001b[0m \u001b[0;32min\u001b[0m \u001b[0mrange\u001b[0m\u001b[0;34m(\u001b[0m\u001b[0;36m3\u001b[0m\u001b[0;34m,\u001b[0m\u001b[0;36m15\u001b[0m\u001b[0;34m)\u001b[0m\u001b[0;34m:\u001b[0m\u001b[0;34m\u001b[0m\u001b[0m\n\u001b[0;32m----> 2\u001b[0;31m     \u001b[0mprint\u001b[0m\u001b[0;34m(\u001b[0m\u001b[0;34m\"L =\"\u001b[0m\u001b[0;34m,\u001b[0m \u001b[0mL\u001b[0m\u001b[0;34m,\u001b[0m \u001b[0;34m\", trace =\"\u001b[0m\u001b[0;34m,\u001b[0m \u001b[0mnp\u001b[0m\u001b[0;34m.\u001b[0m\u001b[0mtrace\u001b[0m\u001b[0;34m(\u001b[0m\u001b[0mget_R\u001b[0m\u001b[0;34m(\u001b[0m\u001b[0mL\u001b[0m\u001b[0;34m,\u001b[0m \u001b[0mparity\u001b[0m\u001b[0;34m=\u001b[0m\u001b[0mparity\u001b[0m\u001b[0;34m)\u001b[0m\u001b[0;34m)\u001b[0m\u001b[0;34m)\u001b[0m\u001b[0;34m\u001b[0m\u001b[0m\n\u001b[0m",
      "\u001b[0;32m<ipython-input-2-ebf2678d184e>\u001b[0m in \u001b[0;36mget_R\u001b[0;34m(L, parity)\u001b[0m\n\u001b[1;32m      5\u001b[0m         \u001b[0mR\u001b[0m\u001b[0;34m[\u001b[0m\u001b[0mn\u001b[0m\u001b[0;34m,\u001b[0m \u001b[0mreverse\u001b[0m\u001b[0;34m]\u001b[0m \u001b[0;34m=\u001b[0m \u001b[0;36m1\u001b[0m\u001b[0;34m\u001b[0m\u001b[0m\n\u001b[1;32m      6\u001b[0m     \u001b[0;32mif\u001b[0m \u001b[0mparity\u001b[0m\u001b[0;34m:\u001b[0m\u001b[0;34m\u001b[0m\u001b[0m\n\u001b[0;32m----> 7\u001b[0;31m         \u001b[0mR\u001b[0m \u001b[0;34m=\u001b[0m \u001b[0mR\u001b[0m\u001b[0;34m@\u001b[0m\u001b[0mhm\u001b[0m\u001b[0;34m.\u001b[0m\u001b[0mget_Px\u001b[0m\u001b[0;34m(\u001b[0m\u001b[0mL\u001b[0m\u001b[0;34m)\u001b[0m\u001b[0;34m\u001b[0m\u001b[0m\n\u001b[0m\u001b[1;32m      8\u001b[0m     \u001b[0;32mreturn\u001b[0m \u001b[0mR\u001b[0m\u001b[0;34m\u001b[0m\u001b[0m\n",
      "\u001b[0;31mKeyboardInterrupt\u001b[0m: "
     ]
    }
   ],
   "source": [
    "for L in range(3,15):\n",
    "    print(\"L =\", L, \", trace =\", np.trace(get_R(L, parity=parity)))"
   ]
  },
  {
   "cell_type": "markdown",
   "metadata": {},
   "source": [
    "# Breaking SU(2)"
   ]
  },
  {
   "cell_type": "code",
   "execution_count": 143,
   "metadata": {
    "collapsed": true
   },
   "outputs": [],
   "source": [
    "def rand_vector():\n",
    "    vec = [gauss(0, 1) for i in range(3)]\n",
    "    mag = sum(x**2 for x in vec) ** .5\n",
    "    return [x/mag for x in vec]\n",
    "\n",
    "def SU2breaker(L):\n",
    "    H = np.zeros((2**L,2**L), dtype=complex)\n",
    "    for j in range(L//2):\n",
    "        hs = []\n",
    "        for i in range(L):\n",
    "            hs.append(np.eye(2,2, dtype=complex))\n",
    "        vect = rand_vector()\n",
    "        h = vect[0]*hm.X + vect[1]*hm.Y + vect[2]*hm.Z\n",
    "        hs[j] = h\n",
    "        H += hm.tensor(*hs)\n",
    "        hs[j] = np.eye(2,2, dtype=complex)\n",
    "        hs[L-j-1] = np.zeros((2,2), dtype=complex) - h\n",
    "        H += hm.tensor(*hs)\n",
    "    return H"
   ]
  },
  {
   "cell_type": "code",
   "execution_count": 144,
   "metadata": {},
   "outputs": [
    {
     "data": {
      "text/plain": [
       "True"
      ]
     },
     "execution_count": 144,
     "metadata": {},
     "output_type": "execute_result"
    }
   ],
   "source": [
    "L = 4\n",
    "Hprime = hm.dense_H(L) + .001*SU2breaker(L)\n",
    "R = get_R(L)\n",
    "np.all(np.isclose(R@Hprime@R+Hprime,0))"
   ]
  },
  {
   "cell_type": "code",
   "execution_count": 146,
   "metadata": {},
   "outputs": [
    {
     "name": "stdout",
     "output_type": "stream",
     "text": [
      "3 4\n",
      "4 4\n",
      "5 8\n",
      "6 8\n",
      "7 16\n",
      "8 16\n",
      "9 32\n",
      "10 32\n",
      "11 64\n"
     ]
    }
   ],
   "source": [
    "for L in range(3,12):\n",
    "    H  = hm.dense_H(L) + .001*SU2breaker(L)\n",
    "    valsH, vecsH = la.eigh(H)\n",
    "    print(L, np.sum(np.isclose(valsH,0)))"
   ]
  },
  {
   "cell_type": "code",
   "execution_count": 125,
   "metadata": {},
   "outputs": [
    {
     "name": "stdout",
     "output_type": "stream",
     "text": [
      "[array([[ 0.,  0.],\n",
      "       [ 0.,  0.]])]\n"
     ]
    }
   ],
   "source": [
    "print(list1)"
   ]
  },
  {
   "cell_type": "code",
   "execution_count": 134,
   "metadata": {},
   "outputs": [
    {
     "name": "stdout",
     "output_type": "stream",
     "text": [
      "\n",
      "chop() removed the imaginary part\n",
      " \n",
      "[[ 0.     0.325  0.     0.    -0.325  0.     0.     0.   ]\n",
      " [ 0.325  0.814  0.     0.     0.    -0.325  0.     0.   ]\n",
      " [ 0.     0.     0.     0.325  0.     0.    -0.325  0.   ]\n",
      " [ 0.     0.     0.325  0.814  0.     0.     0.    -0.325]\n",
      " [-0.325  0.     0.     0.    -0.814  0.325  0.     0.   ]\n",
      " [ 0.    -0.325  0.     0.     0.325  0.     0.     0.   ]\n",
      " [ 0.     0.    -0.325  0.     0.     0.    -0.814  0.325]\n",
      " [ 0.     0.     0.    -0.325  0.     0.     0.325  0.   ]]\n"
     ]
    }
   ],
   "source": [
    "L = 3\n",
    "print(hm.chop(SU2breaker(L)))"
   ]
  },
  {
   "cell_type": "code",
   "execution_count": 8,
   "metadata": {},
   "outputs": [
    {
     "data": {
      "text/plain": [
       "array([[ 0.,  0.,  0.,  1.],\n",
       "       [ 0.,  0.,  1.,  0.],\n",
       "       [ 0.,  1.,  0.,  0.],\n",
       "       [ 1.,  0.,  0.,  0.]])"
      ]
     },
     "execution_count": 8,
     "metadata": {},
     "output_type": "execute_result"
    }
   ],
   "source": [
    "hm.get_Px(2)"
   ]
  },
  {
   "cell_type": "code",
   "execution_count": 121,
   "metadata": {},
   "outputs": [
    {
     "data": {
      "text/plain": [
       "array([[ 1.,  0.],\n",
       "       [ 0.,  1.]])"
      ]
     },
     "execution_count": 121,
     "metadata": {},
     "output_type": "execute_result"
    }
   ],
   "source": [
    "np.eye(2,2)"
   ]
  },
  {
   "cell_type": "code",
   "execution_count": null,
   "metadata": {
    "collapsed": true
   },
   "outputs": [],
   "source": []
  }
 ],
 "metadata": {
  "kernelspec": {
   "display_name": "Python 3",
   "language": "python",
   "name": "python3"
  },
  "language_info": {
   "codemirror_mode": {
    "name": "ipython",
    "version": 3
   },
   "file_extension": ".py",
   "mimetype": "text/x-python",
   "name": "python",
   "nbconvert_exporter": "python",
   "pygments_lexer": "ipython3",
   "version": "3.5.3"
  }
 },
 "nbformat": 4,
 "nbformat_minor": 1
}
