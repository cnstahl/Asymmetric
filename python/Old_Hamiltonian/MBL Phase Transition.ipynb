{
 "cells": [
  {
   "cell_type": "code",
   "execution_count": 3,
   "metadata": {
    "collapsed": true
   },
   "outputs": [],
   "source": [
    "import numpy as np\n",
    "import scipy.linalg as la\n",
    "import hamiltonian as hm\n",
    "%matplotlib inline\n",
    "import matplotlib.pyplot as plt\n",
    "import random"
   ]
  },
  {
   "cell_type": "code",
   "execution_count": 18,
   "metadata": {
    "collapsed": true
   },
   "outputs": [],
   "source": [
    "def ising_term(l):\n",
    "    if (l==1): return np.zeros((2,2))\n",
    "    if (l==2): return np.matmul(np.kron(hm.Z,hm.I), np.kron(hm.I, hm.Z))\n",
    "    return (np.kron(ising_term(l-1), np.eye(2)) + \n",
    "            np.kron(np.eye(2**(l-2)), np.matmul(np.kron(hm.Z,hm.I), np.kron(hm.I, hm.Z))))"
   ]
  },
  {
   "cell_type": "code",
   "execution_count": 19,
   "metadata": {
    "collapsed": true
   },
   "outputs": [],
   "source": [
    "def rand_field(L, h):\n",
    "    H = np.zeros((2**L, 2**L), dtype='complex128')\n",
    "    for i in range(L):\n",
    "        hi = random.uniform(-h,h)\n",
    "        Hi = 1\n",
    "        for j in range(L):\n",
    "            if (j==i): Hi = np.kron(Hi, hi*hm.Z)\n",
    "            else: Hi = np.kron(Hi,hm.I)\n",
    "        H += Hi\n",
    "    return H"
   ]
  },
  {
   "cell_type": "code",
   "execution_count": 49,
   "metadata": {},
   "outputs": [
    {
     "data": {
      "image/png": "[encoded data removed]",
      "text/plain": [
       "<matplotlib.figure.Figure at 0x1114f3c88>"
      ]
     },
     "metadata": {},
     "output_type": "display_data"
    }
   ],
   "source": [
    "L = 8\n",
    "n = 13\n",
    "rs = np.zeros(n)\n",
    "for idx, h in enumerate(np.linspace(.5,12.5,n)):\n",
    "    r = 0\n",
    "    \n",
    "    # I know I need more trials, but this is running pretty slow as it is\n",
    "    # Switching to sparse matrices will help`\n",
    "    trials = 10\n",
    "    for j in range(trials):\n",
    "        H = ising_term(L) + rand_field(L, h)\n",
    "        \n",
    "        # Get only S_z=0 states\n",
    "        Hsmal_i = hm.mat2list(H)[(int)(L/2)]\n",
    "        vals, vecsH = la.eigh(Hsmal_i)\n",
    "        delta = (vals - np.roll(vals, 1))[1:]\n",
    "        stats = (np.minimum(delta, np.roll(delta, 1)) / np.maximum(delta, np.roll(delta, 1)))[1:]\n",
    "        r += np.average(stats)\n",
    "    rs[idx] = r/trials\n",
    "#     print(h, np.average(stats))\n",
    "plt.plot(np.linspace(.5,12.5,n), rs)\n",
    "plt.show()"
   ]
  },
  {
   "cell_type": "code",
   "execution_count": null,
   "metadata": {
    "collapsed": true
   },
   "outputs": [],
   "source": []
  }
 ],
 "metadata": {
  "kernelspec": {
   "display_name": "Python 3",
   "language": "python",
   "name": "python3"
  },
  "language_info": {
   "codemirror_mode": {
    "name": "ipython",
    "version": 3
   },
   "file_extension": ".py",
   "mimetype": "text/x-python",
   "name": "python",
   "nbconvert_exporter": "python",
   "pygments_lexer": "ipython3",
   "version": "3.5.3"
  }
 },
 "nbformat": 4,
 "nbformat_minor": 1
}
