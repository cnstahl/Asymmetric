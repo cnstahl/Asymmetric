{
 "cells": [
  {
   "cell_type": "code",
   "execution_count": 1,
   "metadata": {
    "collapsed": true
   },
   "outputs": [],
   "source": [
    "%matplotlib inline\n",
    "import numpy as np\n",
    "import matplotlib.pylab as plt"
   ]
  },
  {
   "cell_type": "code",
   "execution_count": 2,
   "metadata": {
    "collapsed": true
   },
   "outputs": [],
   "source": [
    "def near(a, b, rtol = 1e-5, atol = 1e-8):\n",
    "    return np.abs(a-b)<(atol+rtol*np.abs(b))"
   ]
  },
  {
   "cell_type": "code",
   "execution_count": 3,
   "metadata": {
    "collapsed": true
   },
   "outputs": [],
   "source": [
    "base = np.array([[1,0,0,0,0,0,0,0],\n",
    "                 [0,0,0,0,0,0,0,0],\n",
    "                 [0,1,0,0,0,0,0,0],\n",
    "                 [0,0,0,0,0,0,0,0],\n",
    "                 [0,0,1,0,1,0,0,0],\n",
    "                 [0,0,0,0,0,0,0,0],\n",
    "                 [0,0,0,1,0,1,1,0],\n",
    "                 [0,0,0,0,0,0,0,1]])\n",
    "eye  = np.eye(2, dtype='int')"
   ]
  },
  {
   "cell_type": "code",
   "execution_count": 4,
   "metadata": {
    "collapsed": true
   },
   "outputs": [],
   "source": [
    "# Matrix that transforms the state to the right (or maybe left...)\n",
    "def get_permutation(n):\n",
    "    N = 2**n\n",
    "    perm = np.zeros([N, N], dtype='int')\n",
    "    for i in range(int(N/2)):\n",
    "        perm[2*i, i] = 1\n",
    "    for i in range(int(N/2)):\n",
    "        perm[2*i + 1, i + int(N/2)] = 1\n",
    "    return perm"
   ]
  },
  {
   "cell_type": "code",
   "execution_count": 153,
   "metadata": {
    "collapsed": true
   },
   "outputs": [],
   "source": [
    "# Transition matrix for gates on sites 1 and 2\n",
    "def get_single_transition(n):\n",
    "    if n < 3: \n",
    "        raise NameError('n is too small')\n",
    "    if n == 3: \n",
    "        return base* 1\n",
    "    else: \n",
    "        return np.kron(get_single_transition(n-1), eye)\n",
    "\n",
    "# Transition matrix for gates on all sites with equal probability\n",
    "def get_full_transition(n):\n",
    "    single = get_single_transition(n)\n",
    "    full   = single\n",
    "#     perm   = get_permutation(n)\n",
    "    perm   = np.append(range(0,2**n,2),range(1,2**n,2))\n",
    "    for i in range(n-1):\n",
    "        single = single[perm][:,perm]\n",
    "        full += single\n",
    "    return full"
   ]
  },
  {
   "cell_type": "code",
   "execution_count": 6,
   "metadata": {
    "collapsed": true
   },
   "outputs": [],
   "source": [
    "# Matrix that brings a transition matrix into irriducible form\n",
    "def get_reducer(n):\n",
    "    if n == 3: return np.array([[1,0,0,0,0,0,0,0],\n",
    "                                [0,1,0,0,0,0,0,0],\n",
    "                                [0,0,1,0,0,0,0,0],\n",
    "                                [0,0,0,0,1,0,0,0],\n",
    "                                [0,0,0,1,0,0,0,0],\n",
    "                                [0,0,0,0,0,1,0,0],\n",
    "                                [0,0,0,0,0,0,1,0],\n",
    "                                [0,0,0,0,0,0,0,1]])\n",
    "    \n",
    "    if n == 4: return np.array([[1,0,0,0,0,0,0,0,0,0,0,0,0,0,0,0],\n",
    "                                [0,1,0,0,0,0,0,0,0,0,0,0,0,0,0,0],\n",
    "                                [0,0,1,0,0,0,0,0,0,0,0,0,0,0,0,0],\n",
    "                                [0,0,0,0,0,1,0,0,0,0,0,0,0,0,0,0],\n",
    "                                [0,0,0,1,0,0,0,0,0,0,0,0,0,0,0,0],\n",
    "                                [0,0,0,0,0,0,1,0,0,0,0,0,0,0,0,0],\n",
    "                                [0,0,0,0,0,0,0,1,0,0,0,0,0,0,0,0],\n",
    "                                [0,0,0,0,0,0,0,0,0,0,0,1,0,0,0,0],\n",
    "                                [0,0,0,0,1,0,0,0,0,0,0,0,0,0,0,0],\n",
    "                                [0,0,0,0,0,0,0,0,1,0,0,0,0,0,0,0],\n",
    "                                [0,0,0,0,0,0,0,0,0,1,0,0,0,0,0,0],\n",
    "                                [0,0,0,0,0,0,0,0,0,0,0,0,1,0,0,0],\n",
    "                                [0,0,0,0,0,0,0,0,0,0,1,0,0,0,0,0],\n",
    "                                [0,0,0,0,0,0,0,0,0,0,0,0,0,1,0,0],\n",
    "                                [0,0,0,0,0,0,0,0,0,0,0,0,0,0,1,0],\n",
    "                                [0,0,0,0,0,0,0,0,0,0,0,0,0,0,0,1]])"
   ]
  },
  {
   "cell_type": "code",
   "execution_count": 7,
   "metadata": {
    "collapsed": true
   },
   "outputs": [],
   "source": [
    "# count the number of 1s in x\n",
    "def popcount_zero(x):\n",
    "    c = 0\n",
    "    while x:\n",
    "        x &= x - 1\n",
    "        c += 1\n",
    "\n",
    "    return c\n",
    "\n",
    "# mask to get one subset of transition matrix\n",
    "def get_mask(n, rise):\n",
    "    mask = np.zeros([2**n, 2**n], dtype='bool')\n",
    "    ones = n + rise\n",
    "    if (ones % 2 == 0): ones = int(ones / 2)\n",
    "    else: raise NameError('invalid rise for number of sites')\n",
    "        \n",
    "    for i, row in enumerate(mask):\n",
    "        if popcount_zero(i) == ones:\n",
    "            for j, val in enumerate(row):\n",
    "                if popcount_zero(j) == ones:\n",
    "                    mask[i,j] = True\n",
    "    return mask"
   ]
  },
  {
   "cell_type": "code",
   "execution_count": 8,
   "metadata": {
    "collapsed": true
   },
   "outputs": [],
   "source": [
    "def get_steady_states(n, rise):\n",
    "    transition = get_full_transition(n)/n\n",
    "    a = transition[get_mask(n, rise)]\n",
    "    a = a.reshape((np.sqrt(len(a)), np.sqrt(len(a))))\n",
    "    \n",
    "    D, V = np.linalg.eig(a)\n",
    "    V = V.T\n",
    "    return V[near(D, 1.0)][0]"
   ]
  },
  {
   "cell_type": "code",
   "execution_count": 126,
   "metadata": {
    "collapsed": true
   },
   "outputs": [],
   "source": [
    "def digits(number, base=2):\n",
    "    assert number >= 0\n",
    "    if number == 0:\n",
    "        return [0]\n",
    "    l = []\n",
    "    while number > 0:\n",
    "        l.append(number % base)\n",
    "        number = number // base\n",
    "    return l\n",
    "\n",
    "def get_correlation(val,n,dist=1):\n",
    "    a = np.array(digits(val))\n",
    "#     print(a)\n",
    "    extra = n-len(a)\n",
    "    assert extra >= 0\n",
    "    a = np.append(a, np.zeros(extra))\n",
    "    a = 2*a-1\n",
    "#     print(a)\n",
    "    return (np.sum(a*np.roll(a,dist))/len(a) - (np.average(a))**2) + 1/(n-1)\n",
    "\n",
    "def get_cors(rise, n, dist = 1):\n",
    "    mask = np.zeros(2**n, dtype='bool')\n",
    "    ones = n + rise\n",
    "    if (ones % 2 == 0): ones = int(ones / 2)\n",
    "    else: raise NameError('invalid rise for number of sites')\n",
    "        \n",
    "    for i, row in enumerate(mask):\n",
    "        if popcount_zero(i) == ones:\n",
    "            mask[i] = True\n",
    "    \n",
    "    states = np.arange(2**n, dtype=float)[mask]\n",
    "    \n",
    "    for idx, val in enumerate(states):\n",
    "        states[idx] = get_correlation(val,n,dist=dist)\n",
    "#         print(get_correlation(val,n), states[idx])\n",
    "    return states"
   ]
  },
  {
   "cell_type": "code",
   "execution_count": 154,
   "metadata": {},
   "outputs": [
    {
     "name": "stdout",
     "output_type": "stream",
     "text": [
      "State for rise = -4\n",
      "[ 1.]\n",
      "[ 0.33333333]\n",
      "State for rise = -2\n",
      "[ 1.  1.  1.  1.]\n",
      "[ 0.08333333  0.08333333  0.08333333  0.08333333]\n",
      "State for rise = 0\n",
      "[ 2.  1.  2.  2.  1.  2.]\n",
      "[ 0.33333333 -0.66666667  0.33333333  0.33333333 -0.66666667  0.33333333]\n",
      "State for rise = 2\n",
      "[ 1.  1.  1.  1.]\n",
      "[ 0.08333333  0.08333333  0.08333333  0.08333333]\n",
      "State for rise = 4\n",
      "[ 1.]\n",
      "[ 0.33333333]\n"
     ]
    },
    {
     "name": "stderr",
     "output_type": "stream",
     "text": [
      "/Users/cstahl/anaconda3/lib/python3.5/site-packages/ipykernel/__main__.py:4: DeprecationWarning: using a non-integer number instead of an integer will result in an error in the future\n"
     ]
    }
   ],
   "source": [
    "n = 4\n",
    "for rise in range(-n,n+2,2):\n",
    "    print(\"State for rise = {}\".format(rise))\n",
    "    state = get_steady_states(n, rise)\n",
    "    print(np.real(state/np.min(state)))\n",
    "    print(np.real(get_cors(rise, n)))"
   ]
  },
  {
   "cell_type": "code",
   "execution_count": 156,
   "metadata": {},
   "outputs": [
    {
     "name": "stdout",
     "output_type": "stream",
     "text": [
      "Correlation for length 4\n",
      "(1+0j)\n",
      "-3.70074341542e-17\n",
      "(0.133333333333+0j)\n",
      "Correlation for length 6\n",
      "(1+0j)\n",
      "1.11022302463e-17\n",
      "(0.110344827586+0j)\n",
      "Correlation for length 8\n",
      "(1+0j)\n",
      "-1.26882631386e-17\n",
      "(0.117125934799+0j)\n",
      "Correlation for length 10\n"
     ]
    },
    {
     "name": "stderr",
     "output_type": "stream",
     "text": [
      "/Users/cstahl/anaconda3/lib/python3.5/site-packages/ipykernel/__main__.py:4: DeprecationWarning: using a non-integer number instead of an integer will result in an error in the future\n"
     ]
    },
    {
     "name": "stdout",
     "output_type": "stream",
     "text": [
      "(1+0j)\n",
      "-8.81129384623e-18\n",
      "(0.116313840976+0j)\n"
     ]
    }
   ],
   "source": [
    "rise = 0\n",
    "dist = 1\n",
    "for n in range(4,12,2):\n",
    "    print(\"Correlation for length {}\".format(n))\n",
    "    state = get_steady_states(n, rise)\n",
    "    state /= np.sum(state)\n",
    "    print(np.sum(state))\n",
    "    cors = get_cors(rise, n, dist=dist)\n",
    "    print(np.average(cors))\n",
    "    print(state@cors)"
   ]
  },
  {
   "cell_type": "code",
   "execution_count": null,
   "metadata": {
    "collapsed": true
   },
   "outputs": [],
   "source": [
    "slope = .25\n",
    "for n in range(4,12,4):\n",
    "    print(\"Correlation for length {}\".format(n))\n",
    "    state = get_steady_states(n, rise)\n",
    "    state /= np.sum(state)\n",
    "    print(np.sum(state))\n",
    "    cors = get_cors(rise, n)\n",
    "    print(np.average(cors))\n",
    "    print(state@cors)"
   ]
  },
  {
   "cell_type": "code",
   "execution_count": 10,
   "metadata": {},
   "outputs": [
    {
     "data": {
      "image/png": "[encoded data removed]",
      "text/plain": [
       "<matplotlib.figure.Figure at 0x1144875c0>"
      ]
     },
     "metadata": {},
     "output_type": "display_data"
    }
   ],
   "source": [
    "n = 4\n",
    "red = get_reducer(n)\n",
    "plt.imshow(red.T @ get_full_transition(n) @ red, interpolation='nearest', cmap=plt.cm.ocean_r)\n",
    "plt.colorbar()\n",
    "plt.show()"
   ]
  },
  {
   "cell_type": "code",
   "execution_count": 151,
   "metadata": {},
   "outputs": [
    {
     "name": "stdout",
     "output_type": "stream",
     "text": [
      "[0 2 4 6 1 3 5 7]\n"
     ]
    }
   ],
   "source": [
    "n = 8\n",
    "a = np.append(range(0,n,2),range(1,n,2))\n",
    "print(a)"
   ]
  },
  {
   "cell_type": "code",
   "execution_count": 152,
   "metadata": {},
   "outputs": [
    {
     "name": "stdout",
     "output_type": "stream",
     "text": [
      "[[3 0 0 0 0 0 0 0]\n",
      " [0 1 0 0 2 0 0 0]\n",
      " [0 2 1 0 0 0 0 0]\n",
      " [0 0 0 1 0 1 1 0]\n",
      " [0 0 2 0 1 0 0 0]\n",
      " [0 0 0 1 0 1 1 0]\n",
      " [0 0 0 1 0 1 1 0]\n",
      " [0 0 0 0 0 0 0 3]]\n"
     ]
    }
   ],
   "source": [
    "n = 3\n",
    "single = get_single_transition(n)\n",
    "# print(single)\n",
    "full   = single\n",
    "#     perm   = get_permutation(n)\n",
    "perm   = np.append(range(0,2**n,2),range(1,2**n,2))\n",
    "# print(perm)\n",
    "for i in range(n-1):\n",
    "    single = single[perm][:,perm]\n",
    "#     print(single)\n",
    "    full += single\n",
    "print(full)"
   ]
  },
  {
   "cell_type": "code",
   "execution_count": 49,
   "metadata": {},
   "outputs": [
    {
     "data": {
      "text/plain": [
       "[4, 9, 1]"
      ]
     },
     "execution_count": 49,
     "metadata": {},
     "output_type": "execute_result"
    }
   ],
   "source": [
    "digits(194,base=10)"
   ]
  },
  {
   "cell_type": "code",
   "execution_count": 159,
   "metadata": {},
   "outputs": [
    {
     "data": {
      "text/plain": [
       "array([ 1.,  2.])"
      ]
     },
     "execution_count": 159,
     "metadata": {},
     "output_type": "execute_result"
    }
   ],
   "source": [
    "np.real((1+1j,2))"
   ]
  },
  {
   "cell_type": "code",
   "execution_count": 164,
   "metadata": {},
   "outputs": [
    {
     "ename": "IndexError",
     "evalue": "axis 1 out of bounds [0, 1)",
     "output_type": "error",
     "traceback": [
      "\u001b[0;31m---------------------------------------------------------------------------\u001b[0m",
      "\u001b[0;31mIndexError\u001b[0m                                Traceback (most recent call last)",
      "\u001b[0;32m<ipython-input-164-1f0f87eb8368>\u001b[0m in \u001b[0;36m<module>\u001b[0;34m()\u001b[0m\n\u001b[1;32m      1\u001b[0m \u001b[0ma\u001b[0m \u001b[0;34m=\u001b[0m \u001b[0mnp\u001b[0m\u001b[0;34m.\u001b[0m\u001b[0marray\u001b[0m\u001b[0;34m(\u001b[0m\u001b[0;34m[\u001b[0m\u001b[0;34m]\u001b[0m\u001b[0;34m)\u001b[0m\u001b[0;34m\u001b[0m\u001b[0m\n\u001b[1;32m      2\u001b[0m \u001b[0ma\u001b[0m \u001b[0;34m=\u001b[0m \u001b[0mnp\u001b[0m\u001b[0;34m.\u001b[0m\u001b[0mappend\u001b[0m\u001b[0;34m(\u001b[0m\u001b[0ma\u001b[0m\u001b[0;34m,\u001b[0m\u001b[0;34m(\u001b[0m\u001b[0;36m1\u001b[0m\u001b[0;34m,\u001b[0m\u001b[0;36m2\u001b[0m\u001b[0;34m)\u001b[0m\u001b[0;34m)\u001b[0m\u001b[0;34m\u001b[0m\u001b[0m\n\u001b[0;32m----> 3\u001b[0;31m \u001b[0ma\u001b[0m \u001b[0;34m=\u001b[0m \u001b[0mnp\u001b[0m\u001b[0;34m.\u001b[0m\u001b[0mappend\u001b[0m\u001b[0;34m(\u001b[0m\u001b[0ma\u001b[0m\u001b[0;34m,\u001b[0m\u001b[0;34m(\u001b[0m\u001b[0;36m1\u001b[0m\u001b[0;34m,\u001b[0m\u001b[0;36m2\u001b[0m\u001b[0;34m)\u001b[0m\u001b[0;34m,\u001b[0m\u001b[0maxis\u001b[0m\u001b[0;34m=\u001b[0m\u001b[0;36m1\u001b[0m\u001b[0;34m)\u001b[0m\u001b[0;34m\u001b[0m\u001b[0m\n\u001b[0m",
      "\u001b[0;32m/Users/cstahl/anaconda3/lib/python3.5/site-packages/numpy/lib/function_base.py\u001b[0m in \u001b[0;36mappend\u001b[0;34m(arr, values, axis)\u001b[0m\n\u001b[1;32m   4148\u001b[0m         \u001b[0mvalues\u001b[0m \u001b[0;34m=\u001b[0m \u001b[0mravel\u001b[0m\u001b[0;34m(\u001b[0m\u001b[0mvalues\u001b[0m\u001b[0;34m)\u001b[0m\u001b[0;34m\u001b[0m\u001b[0m\n\u001b[1;32m   4149\u001b[0m         \u001b[0maxis\u001b[0m \u001b[0;34m=\u001b[0m \u001b[0marr\u001b[0m\u001b[0;34m.\u001b[0m\u001b[0mndim\u001b[0m\u001b[0;34m-\u001b[0m\u001b[0;36m1\u001b[0m\u001b[0;34m\u001b[0m\u001b[0m\n\u001b[0;32m-> 4150\u001b[0;31m     \u001b[0;32mreturn\u001b[0m \u001b[0mconcatenate\u001b[0m\u001b[0;34m(\u001b[0m\u001b[0;34m(\u001b[0m\u001b[0marr\u001b[0m\u001b[0;34m,\u001b[0m \u001b[0mvalues\u001b[0m\u001b[0;34m)\u001b[0m\u001b[0;34m,\u001b[0m \u001b[0maxis\u001b[0m\u001b[0;34m=\u001b[0m\u001b[0maxis\u001b[0m\u001b[0;34m)\u001b[0m\u001b[0;34m\u001b[0m\u001b[0m\n\u001b[0m",
      "\u001b[0;31mIndexError\u001b[0m: axis 1 out of bounds [0, 1)"
     ]
    }
   ],
   "source": [
    "a = np.array([])\n",
    "a = np.append(a,(1,2))\n",
    "a = np.append(a,(1,2),axis=1)"
   ]
  },
  {
   "cell_type": "code",
   "execution_count": null,
   "metadata": {
    "collapsed": true
   },
   "outputs": [],
   "source": []
  }
 ],
 "metadata": {
  "kernelspec": {
   "display_name": "Python 3",
   "language": "python",
   "name": "python3"
  },
  "language_info": {
   "codemirror_mode": {
    "name": "ipython",
    "version": 3
   },
   "file_extension": ".py",
   "mimetype": "text/x-python",
   "name": "python",
   "nbconvert_exporter": "python",
   "pygments_lexer": "ipython3",
   "version": "3.5.3"
  }
 },
 "nbformat": 4,
 "nbformat_minor": 1
}
