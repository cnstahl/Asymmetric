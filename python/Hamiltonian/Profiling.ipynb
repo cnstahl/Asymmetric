{
 "cells": [
  {
   "cell_type": "code",
   "execution_count": 1,
   "metadata": {
    "collapsed": true
   },
   "outputs": [],
   "source": [
    "import pstats"
   ]
  },
  {
   "cell_type": "code",
   "execution_count": 2,
   "metadata": {},
   "outputs": [
    {
     "name": "stdout",
     "output_type": "stream",
     "text": [
      "Wed Oct 17 11:06:00 2018    macProf\n",
      "\n",
      "         8052646 function calls (8035999 primitive calls) in 391.638 seconds\n",
      "\n",
      "   Ordered by: internal time\n",
      "   List reduced from 1322 to 10 due to restriction <10>\n",
      "\n",
      "   ncalls  tottime  percall  cumtime  percall filename:lineno(function)\n",
      "    13442  237.789    0.018  237.789    0.018 {built-in method scipy.sparse._sparsetools.csr_matmat_pass2}\n",
      "    13442   59.438    0.004   59.438    0.004 {built-in method scipy.sparse._sparsetools.csr_matmat_pass1}\n",
      "     2880   11.732    0.004   11.732    0.004 {built-in method numpy.core.multiarray.matmul}\n",
      "     2640    6.851    0.003   74.774    0.028 quantum.py:118(par_tr)\n",
      "     3659    6.188    0.002    6.188    0.002 {built-in method numpy.core.multiarray.zeros}\n",
      "   104853    6.088    0.000    6.088    0.000 {built-in method numpy.core.multiarray.empty}\n",
      "     2640    5.450    0.002  278.081    0.105 quantum.py:28(mat_norm)\n",
      "     8041    4.852    0.001    4.852    0.001 {built-in method scipy.sparse._sparsetools.csc_tocsr}\n",
      "    84696    4.189    0.000    4.189    0.000 {method 'reduce' of 'numpy.ufunc' objects}\n",
      "     2661    4.117    0.002    4.117    0.002 {built-in method scipy.sparse._sparsetools.csr_plus_csr}\n",
      "\n",
      "\n"
     ]
    },
    {
     "data": {
      "text/plain": [
       "<pstats.Stats at 0x103fcd0f0>"
      ]
     },
     "execution_count": 2,
     "metadata": {},
     "output_type": "execute_result"
    }
   ],
   "source": [
    "p = pstats.Stats('macProf')\n",
    "p.strip_dirs().sort_stats('time').print_stats(10)"
   ]
  },
  {
   "cell_type": "code",
   "execution_count": 3,
   "metadata": {},
   "outputs": [
    {
     "name": "stdout",
     "output_type": "stream",
     "text": [
      "Wed Oct 17 11:35:56 2018    feynProf\n",
      "\n",
      "         9812936 function calls (9796060 primitive calls) in 270.057 seconds\n",
      "\n",
      "   Ordered by: internal time\n",
      "   List reduced from 1317 to 10 due to restriction <10>\n",
      "\n",
      "   ncalls  tottime  percall  cumtime  percall filename:lineno(function)\n",
      "    13442  184.358    0.014  184.358    0.014 {built-in method scipy.sparse._sparsetools.csr_matmat_pass2}\n",
      "    13442   48.272    0.004   48.272    0.004 {built-in method scipy.sparse._sparsetools.csr_matmat_pass1}\n",
      "     8041    5.910    0.001    5.910    0.001 {built-in method scipy.sparse._sparsetools.csc_tocsr}\n",
      "     2880    3.507    0.001    3.507    0.001 {built-in method numpy.core.multiarray.matmul}\n",
      "     2661    2.709    0.001    2.709    0.001 {built-in method scipy.sparse._sparsetools.csr_plus_csr}\n",
      "     3659    2.701    0.001    2.701    0.001 {built-in method numpy.core.multiarray.zeros}\n",
      "     1958    1.705    0.001    1.705    0.001 {built-in method scipy.sparse._sparsetools.coo_tocsr}\n",
      "   999564    1.666    0.000    1.667    0.000 {built-in method numpy.core.multiarray.array}\n",
      "     2652    1.406    0.001    1.406    0.001 {built-in method scipy.sparse._sparsetools.csr_todense}\n",
      "    73608    1.265    0.000    1.265    0.000 {method 'reduce' of 'numpy.ufunc' objects}\n",
      "\n",
      "\n"
     ]
    },
    {
     "data": {
      "text/plain": [
       "<pstats.Stats at 0x1059e6b00>"
      ]
     },
     "execution_count": 3,
     "metadata": {},
     "output_type": "execute_result"
    }
   ],
   "source": [
    "p = pstats.Stats('feynProf')\n",
    "p.strip_dirs().sort_stats('time').print_stats(10)"
   ]
  },
  {
   "cell_type": "code",
   "execution_count": 4,
   "metadata": {},
   "outputs": [
    {
     "name": "stdout",
     "output_type": "stream",
     "text": [
      "Wed Oct 17 11:35:56 2018    slrmProf\n",
      "\n",
      "         9810780 function calls (9793904 primitive calls) in 383.994 seconds\n",
      "\n",
      "   Ordered by: internal time\n",
      "   List reduced from 1317 to 10 due to restriction <10>\n",
      "\n",
      "   ncalls  tottime  percall  cumtime  percall filename:lineno(function)\n",
      "    13442  200.194    0.015  200.194    0.015 {built-in method scipy.sparse._sparsetools.csr_matmat_pass2}\n",
      "     2880   78.525    0.027   78.525    0.027 {built-in method numpy.core.multiarray.matmul}\n",
      "    13442   44.207    0.003   44.207    0.003 {built-in method scipy.sparse._sparsetools.csr_matmat_pass1}\n",
      "     8041    9.539    0.001    9.539    0.001 {built-in method scipy.sparse._sparsetools.csc_tocsr}\n",
      "6277/4126    6.110    0.001   13.295    0.003 coo.py:126(__init__)\n",
      "       12    5.171    0.431    5.174    0.431 decomp.py:270(eigh)\n",
      "     2652    3.332    0.001    3.332    0.001 {built-in method scipy.sparse._sparsetools.csr_todense}\n",
      "     1602    3.290    0.002    3.290    0.002 {method 'nonzero' of 'numpy.ndarray' objects}\n",
      "     2661    2.957    0.001    2.957    0.001 {built-in method scipy.sparse._sparsetools.csr_plus_csr}\n",
      "     3659    2.848    0.001    2.848    0.001 {built-in method numpy.core.multiarray.zeros}\n",
      "\n",
      "\n"
     ]
    },
    {
     "data": {
      "text/plain": [
       "<pstats.Stats at 0x1059f5630>"
      ]
     },
     "execution_count": 4,
     "metadata": {},
     "output_type": "execute_result"
    }
   ],
   "source": [
    "p = pstats.Stats('slrmProf')\n",
    "p.strip_dirs().sort_stats('time').print_stats(10)"
   ]
  },
  {
   "cell_type": "code",
   "execution_count": 5,
   "metadata": {},
   "outputs": [
    {
     "name": "stdout",
     "output_type": "stream",
     "text": [
      "Fri Oct 19 15:45:54 2018    slrmllProf\n",
      "\n",
      "         9810912 function calls (9794036 primitive calls) in 446.795 seconds\n",
      "\n",
      "   Ordered by: internal time\n",
      "   List reduced from 1317 to 10 due to restriction <10>\n",
      "\n",
      "   ncalls  tottime  percall  cumtime  percall filename:lineno(function)\n",
      "    13442  218.946    0.016  218.946    0.016 {built-in method scipy.sparse._sparsetools.csr_matmat_pass2}\n",
      "     2880  115.774    0.040  115.774    0.040 {built-in method numpy.core.multiarray.matmul}\n",
      "    13442   48.683    0.004   48.683    0.004 {built-in method scipy.sparse._sparsetools.csr_matmat_pass1}\n",
      "       12    9.028    0.752    9.031    0.753 decomp.py:270(eigh)\n",
      "     8041    7.758    0.001    7.758    0.001 {built-in method scipy.sparse._sparsetools.csc_tocsr}\n",
      "     1602    4.555    0.003    4.555    0.003 {method 'nonzero' of 'numpy.ndarray' objects}\n",
      "      241    3.503    0.015    4.135    0.017 asymmetric.py:58(permutations)\n",
      "6277/4126    3.385    0.001   12.586    0.003 coo.py:126(__init__)\n",
      "     2661    3.087    0.001    3.087    0.001 {built-in method scipy.sparse._sparsetools.csr_plus_csr}\n",
      "    73608    2.723    0.000    2.723    0.000 {method 'reduce' of 'numpy.ufunc' objects}\n",
      "\n",
      "\n"
     ]
    },
    {
     "data": {
      "text/plain": [
       "<pstats.Stats at 0x1059ea908>"
      ]
     },
     "execution_count": 5,
     "metadata": {},
     "output_type": "execute_result"
    }
   ],
   "source": [
    "p = pstats.Stats('slrmllProf')\n",
    "p.strip_dirs().sort_stats('time').print_stats(10)"
   ]
  },
  {
   "cell_type": "code",
   "execution_count": 6,
   "metadata": {},
   "outputs": [
    {
     "name": "stdout",
     "output_type": "stream",
     "text": [
      "Fri Oct 19 15:45:54 2018    slrmlpProf\n",
      "\n",
      "         9810926 function calls (9794050 primitive calls) in 332.457 seconds\n",
      "\n",
      "   Ordered by: internal time\n",
      "   List reduced from 1317 to 10 due to restriction <10>\n",
      "\n",
      "   ncalls  tottime  percall  cumtime  percall filename:lineno(function)\n",
      "    13442  218.671    0.016  218.671    0.016 {built-in method scipy.sparse._sparsetools.csr_matmat_pass2}\n",
      "    13442   48.395    0.004   48.395    0.004 {built-in method scipy.sparse._sparsetools.csr_matmat_pass1}\n",
      "     2880   14.166    0.005   14.166    0.005 {built-in method numpy.core.multiarray.matmul}\n",
      "     8041    9.757    0.001    9.757    0.001 {built-in method scipy.sparse._sparsetools.csc_tocsr}\n",
      "     2661    3.358    0.001    3.358    0.001 {built-in method scipy.sparse._sparsetools.csr_plus_csr}\n",
      "     1602    3.227    0.002    3.227    0.002 {method 'nonzero' of 'numpy.ndarray' objects}\n",
      "    73608    2.598    0.000    2.598    0.000 {method 'reduce' of 'numpy.ufunc' objects}\n",
      "   999564    2.540    0.000    2.541    0.000 {built-in method numpy.core.multiarray.array}\n",
      "     3659    2.465    0.001    2.465    0.001 {built-in method numpy.core.multiarray.zeros}\n",
      "     1958    2.242    0.001    2.242    0.001 {built-in method scipy.sparse._sparsetools.coo_tocsr}\n",
      "\n",
      "\n"
     ]
    },
    {
     "data": {
      "text/plain": [
       "<pstats.Stats at 0x105d83eb8>"
      ]
     },
     "execution_count": 6,
     "metadata": {},
     "output_type": "execute_result"
    }
   ],
   "source": [
    "p = pstats.Stats('slrmlpProf')\n",
    "p.strip_dirs().sort_stats('time').print_stats(10)"
   ]
  },
  {
   "cell_type": "code",
   "execution_count": 7,
   "metadata": {},
   "outputs": [
    {
     "name": "stdout",
     "output_type": "stream",
     "text": [
      "Sat Oct 20 12:10:10 2018    slrm12Prof\n",
      "\n",
      "         9810886 function calls (9794009 primitive calls) in 356.051 seconds\n",
      "\n",
      "   Ordered by: internal time\n",
      "   List reduced from 1332 to 10 due to restriction <10>\n",
      "\n",
      "   ncalls  tottime  percall  cumtime  percall filename:lineno(function)\n",
      "    13442  245.657    0.018  245.657    0.018 {built-in method scipy.sparse._sparsetools.csr_matmat_pass2}\n",
      "    13442   54.430    0.004   54.430    0.004 {built-in method scipy.sparse._sparsetools.csr_matmat_pass1}\n",
      "     2880   12.179    0.004   12.179    0.004 {built-in method numpy.core.multiarray.matmul}\n",
      "     8041    8.347    0.001    8.347    0.001 {built-in method scipy.sparse._sparsetools.csc_tocsr}\n",
      "     2661    3.465    0.001    3.465    0.001 {built-in method scipy.sparse._sparsetools.csr_plus_csr}\n",
      "     3659    2.569    0.001    2.569    0.001 {built-in method numpy.core.multiarray.zeros}\n",
      "    73608    2.229    0.000    2.229    0.000 {method 'reduce' of 'numpy.ufunc' objects}\n",
      "   999564    2.154    0.000    2.155    0.000 {built-in method numpy.core.multiarray.array}\n",
      "     1958    1.776    0.001    1.776    0.001 {built-in method scipy.sparse._sparsetools.coo_tocsr}\n",
      "     1602    1.767    0.001    1.767    0.001 {method 'nonzero' of 'numpy.ndarray' objects}\n",
      "\n",
      "\n"
     ]
    },
    {
     "data": {
      "text/plain": [
       "<pstats.Stats at 0x105b48358>"
      ]
     },
     "execution_count": 7,
     "metadata": {},
     "output_type": "execute_result"
    }
   ],
   "source": [
    "p = pstats.Stats('slrm12Prof')\n",
    "p.strip_dirs().sort_stats('time').print_stats(10)"
   ]
  },
  {
   "cell_type": "code",
   "execution_count": null,
   "metadata": {
    "collapsed": true
   },
   "outputs": [],
   "source": []
  }
 ],
 "metadata": {
  "kernelspec": {
   "display_name": "Python 3",
   "language": "python",
   "name": "python3"
  },
  "language_info": {
   "codemirror_mode": {
    "name": "ipython",
    "version": 3
   },
   "file_extension": ".py",
   "mimetype": "text/x-python",
   "name": "python",
   "nbconvert_exporter": "python",
   "pygments_lexer": "ipython3",
   "version": "3.5.3"
  }
 },
 "nbformat": 4,
 "nbformat_minor": 1
}
