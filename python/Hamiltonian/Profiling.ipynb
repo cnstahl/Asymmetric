{
 "cells": [
  {
   "cell_type": "code",
   "execution_count": 1,
   "metadata": {
    "collapsed": true
   },
   "outputs": [],
   "source": [
    "import pstats"
   ]
  },
  {
   "cell_type": "code",
   "execution_count": 2,
   "metadata": {},
   "outputs": [
    {
     "name": "stdout",
     "output_type": "stream",
     "text": [
      "Wed Oct 17 11:06:00 2018    macProf\n",
      "\n",
      "         8052646 function calls (8035999 primitive calls) in 391.638 seconds\n",
      "\n",
      "   Ordered by: internal time\n",
      "   List reduced from 1322 to 10 due to restriction <10>\n",
      "\n",
      "   ncalls  tottime  percall  cumtime  percall filename:lineno(function)\n",
      "    13442  237.789    0.018  237.789    0.018 {built-in method scipy.sparse._sparsetools.csr_matmat_pass2}\n",
      "    13442   59.438    0.004   59.438    0.004 {built-in method scipy.sparse._sparsetools.csr_matmat_pass1}\n",
      "     2880   11.732    0.004   11.732    0.004 {built-in method numpy.core.multiarray.matmul}\n",
      "     2640    6.851    0.003   74.774    0.028 quantum.py:118(par_tr)\n",
      "     3659    6.188    0.002    6.188    0.002 {built-in method numpy.core.multiarray.zeros}\n",
      "   104853    6.088    0.000    6.088    0.000 {built-in method numpy.core.multiarray.empty}\n",
      "     2640    5.450    0.002  278.081    0.105 quantum.py:28(mat_norm)\n",
      "     8041    4.852    0.001    4.852    0.001 {built-in method scipy.sparse._sparsetools.csc_tocsr}\n",
      "    84696    4.189    0.000    4.189    0.000 {method 'reduce' of 'numpy.ufunc' objects}\n",
      "     2661    4.117    0.002    4.117    0.002 {built-in method scipy.sparse._sparsetools.csr_plus_csr}\n",
      "\n",
      "\n"
     ]
    },
    {
     "data": {
      "text/plain": [
       "<pstats.Stats at 0x103fcd0f0>"
      ]
     },
     "execution_count": 2,
     "metadata": {},
     "output_type": "execute_result"
    }
   ],
   "source": [
    "p = pstats.Stats('macProf')\n",
    "p.strip_dirs().sort_stats('time').print_stats(10)"
   ]
  },
  {
   "cell_type": "code",
   "execution_count": 3,
   "metadata": {},
   "outputs": [
    {
     "name": "stdout",
     "output_type": "stream",
     "text": [
      "Wed Oct 17 11:35:56 2018    feynProf\n",
      "\n",
      "         9812936 function calls (9796060 primitive calls) in 270.057 seconds\n",
      "\n",
      "   Ordered by: internal time\n",
      "   List reduced from 1317 to 10 due to restriction <10>\n",
      "\n",
      "   ncalls  tottime  percall  cumtime  percall filename:lineno(function)\n",
      "    13442  184.358    0.014  184.358    0.014 {built-in method scipy.sparse._sparsetools.csr_matmat_pass2}\n",
      "    13442   48.272    0.004   48.272    0.004 {built-in method scipy.sparse._sparsetools.csr_matmat_pass1}\n",
      "     8041    5.910    0.001    5.910    0.001 {built-in method scipy.sparse._sparsetools.csc_tocsr}\n",
      "     2880    3.507    0.001    3.507    0.001 {built-in method numpy.core.multiarray.matmul}\n",
      "     2661    2.709    0.001    2.709    0.001 {built-in method scipy.sparse._sparsetools.csr_plus_csr}\n",
      "     3659    2.701    0.001    2.701    0.001 {built-in method numpy.core.multiarray.zeros}\n",
      "     1958    1.705    0.001    1.705    0.001 {built-in method scipy.sparse._sparsetools.coo_tocsr}\n",
      "   999564    1.666    0.000    1.667    0.000 {built-in method numpy.core.multiarray.array}\n",
      "     2652    1.406    0.001    1.406    0.001 {built-in method scipy.sparse._sparsetools.csr_todense}\n",
      "    73608    1.265    0.000    1.265    0.000 {method 'reduce' of 'numpy.ufunc' objects}\n",
      "\n",
      "\n"
     ]
    },
    {
     "data": {
      "text/plain": [
       "<pstats.Stats at 0x1059e6b00>"
      ]
     },
     "execution_count": 3,
     "metadata": {},
     "output_type": "execute_result"
    }
   ],
   "source": [
    "p = pstats.Stats('feynProf')\n",
    "p.strip_dirs().sort_stats('time').print_stats(10)"
   ]
  },
  {
   "cell_type": "code",
   "execution_count": 4,
   "metadata": {},
   "outputs": [
    {
     "name": "stdout",
     "output_type": "stream",
     "text": [
      "Wed Oct 17 11:35:56 2018    slrmProf\n",
      "\n",
      "         9810780 function calls (9793904 primitive calls) in 383.994 seconds\n",
      "\n",
      "   Ordered by: internal time\n",
      "   List reduced from 1317 to 10 due to restriction <10>\n",
      "\n",
      "   ncalls  tottime  percall  cumtime  percall filename:lineno(function)\n",
      "    13442  200.194    0.015  200.194    0.015 {built-in method scipy.sparse._sparsetools.csr_matmat_pass2}\n",
      "     2880   78.525    0.027   78.525    0.027 {built-in method numpy.core.multiarray.matmul}\n",
      "    13442   44.207    0.003   44.207    0.003 {built-in method scipy.sparse._sparsetools.csr_matmat_pass1}\n",
      "     8041    9.539    0.001    9.539    0.001 {built-in method scipy.sparse._sparsetools.csc_tocsr}\n",
      "6277/4126    6.110    0.001   13.295    0.003 coo.py:126(__init__)\n",
      "       12    5.171    0.431    5.174    0.431 decomp.py:270(eigh)\n",
      "     2652    3.332    0.001    3.332    0.001 {built-in method scipy.sparse._sparsetools.csr_todense}\n",
      "     1602    3.290    0.002    3.290    0.002 {method 'nonzero' of 'numpy.ndarray' objects}\n",
      "     2661    2.957    0.001    2.957    0.001 {built-in method scipy.sparse._sparsetools.csr_plus_csr}\n",
      "     3659    2.848    0.001    2.848    0.001 {built-in method numpy.core.multiarray.zeros}\n",
      "\n",
      "\n"
     ]
    },
    {
     "data": {
      "text/plain": [
       "<pstats.Stats at 0x1059f5630>"
      ]
     },
     "execution_count": 4,
     "metadata": {},
     "output_type": "execute_result"
    }
   ],
   "source": [
    "p = pstats.Stats('slrmProf')\n",
    "p.strip_dirs().sort_stats('time').print_stats(10)"
   ]
  },
  {
   "cell_type": "code",
   "execution_count": 5,
   "metadata": {},
   "outputs": [
    {
     "name": "stdout",
     "output_type": "stream",
     "text": [
      "Fri Oct 19 15:45:54 2018    slrmllProf\n",
      "\n",
      "         9810912 function calls (9794036 primitive calls) in 446.795 seconds\n",
      "\n",
      "   Ordered by: internal time\n",
      "   List reduced from 1317 to 10 due to restriction <10>\n",
      "\n",
      "   ncalls  tottime  percall  cumtime  percall filename:lineno(function)\n",
      "    13442  218.946    0.016  218.946    0.016 {built-in method scipy.sparse._sparsetools.csr_matmat_pass2}\n",
      "     2880  115.774    0.040  115.774    0.040 {built-in method numpy.core.multiarray.matmul}\n",
      "    13442   48.683    0.004   48.683    0.004 {built-in method scipy.sparse._sparsetools.csr_matmat_pass1}\n",
      "       12    9.028    0.752    9.031    0.753 decomp.py:270(eigh)\n",
      "     8041    7.758    0.001    7.758    0.001 {built-in method scipy.sparse._sparsetools.csc_tocsr}\n",
      "     1602    4.555    0.003    4.555    0.003 {method 'nonzero' of 'numpy.ndarray' objects}\n",
      "      241    3.503    0.015    4.135    0.017 asymmetric.py:58(permutations)\n",
      "6277/4126    3.385    0.001   12.586    0.003 coo.py:126(__init__)\n",
      "     2661    3.087    0.001    3.087    0.001 {built-in method scipy.sparse._sparsetools.csr_plus_csr}\n",
      "    73608    2.723    0.000    2.723    0.000 {method 'reduce' of 'numpy.ufunc' objects}\n",
      "\n",
      "\n"
     ]
    },
    {
     "data": {
      "text/plain": [
       "<pstats.Stats at 0x1059ea908>"
      ]
     },
     "execution_count": 5,
     "metadata": {},
     "output_type": "execute_result"
    }
   ],
   "source": [
    "p = pstats.Stats('slrmllProf')\n",
    "p.strip_dirs().sort_stats('time').print_stats(10)"
   ]
  },
  {
   "cell_type": "code",
   "execution_count": 6,
   "metadata": {},
   "outputs": [
    {
     "name": "stdout",
     "output_type": "stream",
     "text": [
      "Fri Oct 19 15:45:54 2018    slrmlpProf\n",
      "\n",
      "         9810926 function calls (9794050 primitive calls) in 332.457 seconds\n",
      "\n",
      "   Ordered by: internal time\n",
      "   List reduced from 1317 to 10 due to restriction <10>\n",
      "\n",
      "   ncalls  tottime  percall  cumtime  percall filename:lineno(function)\n",
      "    13442  218.671    0.016  218.671    0.016 {built-in method scipy.sparse._sparsetools.csr_matmat_pass2}\n",
      "    13442   48.395    0.004   48.395    0.004 {built-in method scipy.sparse._sparsetools.csr_matmat_pass1}\n",
      "     2880   14.166    0.005   14.166    0.005 {built-in method numpy.core.multiarray.matmul}\n",
      "     8041    9.757    0.001    9.757    0.001 {built-in method scipy.sparse._sparsetools.csc_tocsr}\n",
      "     2661    3.358    0.001    3.358    0.001 {built-in method scipy.sparse._sparsetools.csr_plus_csr}\n",
      "     1602    3.227    0.002    3.227    0.002 {method 'nonzero' of 'numpy.ndarray' objects}\n",
      "    73608    2.598    0.000    2.598    0.000 {method 'reduce' of 'numpy.ufunc' objects}\n",
      "   999564    2.540    0.000    2.541    0.000 {built-in method numpy.core.multiarray.array}\n",
      "     3659    2.465    0.001    2.465    0.001 {built-in method numpy.core.multiarray.zeros}\n",
      "     1958    2.242    0.001    2.242    0.001 {built-in method scipy.sparse._sparsetools.coo_tocsr}\n",
      "\n",
      "\n"
     ]
    },
    {
     "data": {
      "text/plain": [
       "<pstats.Stats at 0x105d83eb8>"
      ]
     },
     "execution_count": 6,
     "metadata": {},
     "output_type": "execute_result"
    }
   ],
   "source": [
    "p = pstats.Stats('slrmlpProf')\n",
    "p.strip_dirs().sort_stats('time').print_stats(10)"
   ]
  },
  {
   "cell_type": "code",
   "execution_count": 7,
   "metadata": {},
   "outputs": [
    {
     "name": "stdout",
     "output_type": "stream",
     "text": [
      "Sat Oct 20 12:10:10 2018    slrm12Prof\n",
      "\n",
      "         9810886 function calls (9794009 primitive calls) in 356.051 seconds\n",
      "\n",
      "   Ordered by: internal time\n",
      "   List reduced from 1332 to 10 due to restriction <10>\n",
      "\n",
      "   ncalls  tottime  percall  cumtime  percall filename:lineno(function)\n",
      "    13442  245.657    0.018  245.657    0.018 {built-in method scipy.sparse._sparsetools.csr_matmat_pass2}\n",
      "    13442   54.430    0.004   54.430    0.004 {built-in method scipy.sparse._sparsetools.csr_matmat_pass1}\n",
      "     2880   12.179    0.004   12.179    0.004 {built-in method numpy.core.multiarray.matmul}\n",
      "     8041    8.347    0.001    8.347    0.001 {built-in method scipy.sparse._sparsetools.csc_tocsr}\n",
      "     2661    3.465    0.001    3.465    0.001 {built-in method scipy.sparse._sparsetools.csr_plus_csr}\n",
      "     3659    2.569    0.001    2.569    0.001 {built-in method numpy.core.multiarray.zeros}\n",
      "    73608    2.229    0.000    2.229    0.000 {method 'reduce' of 'numpy.ufunc' objects}\n",
      "   999564    2.154    0.000    2.155    0.000 {built-in method numpy.core.multiarray.array}\n",
      "     1958    1.776    0.001    1.776    0.001 {built-in method scipy.sparse._sparsetools.coo_tocsr}\n",
      "     1602    1.767    0.001    1.767    0.001 {method 'nonzero' of 'numpy.ndarray' objects}\n",
      "\n",
      "\n"
     ]
    },
    {
     "data": {
      "text/plain": [
       "<pstats.Stats at 0x105b48358>"
      ]
     },
     "execution_count": 7,
     "metadata": {},
     "output_type": "execute_result"
    }
   ],
   "source": [
    "p = pstats.Stats('slrm12Prof')\n",
    "p.strip_dirs().sort_stats('time').print_stats(10)"
   ]
  },
  {
   "cell_type": "code",
   "execution_count": 2,
   "metadata": {},
   "outputs": [
    {
     "name": "stdout",
     "output_type": "stream",
     "text": [
      "Thu Oct 25 22:59:11 2018    vecProf\n",
      "\n",
      "         8803667 function calls (8790295 primitive calls) in 24.570 seconds\n",
      "\n",
      "   Ordered by: internal time\n",
      "   List reduced from 1432 to 10 due to restriction <10>\n",
      "\n",
      "   ncalls  tottime  percall  cumtime  percall filename:lineno(function)\n",
      "   229199    2.103    0.000    2.116    0.000 {method 'reduce' of 'numpy.ufunc' objects}\n",
      "   207326    2.011    0.000    4.611    0.000 linalg.py:2203(norm)\n",
      "     4640    1.638    0.000    9.405    0.002 _expm_multiply.py:190(_expm_multiply_simple_core)\n",
      "    41272    1.425    0.000    4.014    0.000 compressed.py:128(check_format)\n",
      "    89286    0.985    0.000    2.423    0.000 sputils.py:120(get_index_dtype)\n",
      "   178577    0.787    0.000    0.787    0.000 getlimits.py:507(__init__)\n",
      "   110995    0.732    0.000    2.246    0.000 compressed.py:451(_mul_vector)\n",
      "   555873    0.692    0.000    1.106    0.000 numeric.py:433(asarray)\n",
      "     3648    0.646    0.000    0.943    0.000 _expm_multiply.py:410(_fragment_3_1)\n",
      "41272/41226    0.634    0.000    7.018    0.000 compressed.py:25(__init__)\n",
      "\n",
      "\n"
     ]
    },
    {
     "data": {
      "text/plain": [
       "<pstats.Stats at 0x10f7b1c88>"
      ]
     },
     "execution_count": 2,
     "metadata": {},
     "output_type": "execute_result"
    }
   ],
   "source": [
    "# Using only vector method \n",
    "p = pstats.Stats('vecProf')\n",
    "p.strip_dirs().sort_stats('time').print_stats(10)"
   ]
  },
  {
   "cell_type": "code",
   "execution_count": 3,
   "metadata": {},
   "outputs": [
    {
     "name": "stdout",
     "output_type": "stream",
     "text": [
      "Thu Oct 25 23:03:16 2018    vec2Prof\n",
      "\n",
      "         17320333 function calls (17297681 primitive calls) in 40.179 seconds\n",
      "\n",
      "   Ordered by: internal time\n",
      "   List reduced from 1433 to 10 due to restriction <10>\n",
      "\n",
      "   ncalls  tottime  percall  cumtime  percall filename:lineno(function)\n",
      "   421620    3.377    0.000    7.610    0.000 linalg.py:2203(norm)\n",
      "   452774    3.187    0.000    3.204    0.000 {method 'reduce' of 'numpy.ufunc' objects}\n",
      "     9280    2.589    0.000   15.504    0.002 _expm_multiply.py:190(_expm_multiply_simple_core)\n",
      "    82040    2.384    0.000    6.916    0.000 compressed.py:128(check_format)\n",
      "   175462    1.661    0.000    4.130    0.000 sputils.py:120(get_index_dtype)\n",
      "   350929    1.358    0.000    1.358    0.000 getlimits.py:507(__init__)\n",
      "   225410    1.255    0.000    3.594    0.000 compressed.py:451(_mul_vector)\n",
      "  1110252    1.180    0.000    1.949    0.000 numeric.py:433(asarray)\n",
      "  1351579    1.085    0.000    1.085    0.000 {built-in method numpy.core.multiarray.array}\n",
      "82040/81994    1.083    0.000   11.966    0.000 compressed.py:25(__init__)\n",
      "\n",
      "\n"
     ]
    },
    {
     "data": {
      "text/plain": [
       "<pstats.Stats at 0x10fe23f28>"
      ]
     },
     "execution_count": 3,
     "metadata": {},
     "output_type": "execute_result"
    }
   ],
   "source": [
    "# Using 2 vectors\n",
    "p = pstats.Stats('vec2Prof')\n",
    "p.strip_dirs().sort_stats('time').print_stats(10)"
   ]
  },
  {
   "cell_type": "code",
   "execution_count": 4,
   "metadata": {},
   "outputs": [
    {
     "name": "stdout",
     "output_type": "stream",
     "text": [
      "Thu Oct 25 23:10:15 2018    vec0Prof\n",
      "\n",
      "         70234798 function calls (70191154 primitive calls) in 207.898 seconds\n",
      "\n",
      "   Ordered by: internal time\n",
      "   List reduced from 1522 to 10 due to restriction <10>\n",
      "\n",
      "   ncalls  tottime  percall  cumtime  percall filename:lineno(function)\n",
      "   545024   18.131    0.000   50.845    0.000 compressed.py:128(check_format)\n",
      "    87720   14.406    0.000   14.406    0.000 {method 'solve' of 'SuperLU' objects}\n",
      "    15592   14.125    0.001   14.125    0.001 {built-in method scipy.sparse._sparsetools.csr_matmat_pass2}\n",
      "  1214354   13.209    0.000   31.763    0.000 sputils.py:120(get_index_dtype)\n",
      "  2428713   10.174    0.000   10.174    0.000 getlimits.py:507(__init__)\n",
      "545024/538786    8.008    0.000   88.949    0.000 compressed.py:25(__init__)\n",
      "  6899017    7.121    0.000    7.121    0.000 {built-in method numpy.core.multiarray.array}\n",
      "   582935    6.791    0.000   13.690    0.000 compressed.py:1062(prune)\n",
      "  5270790    6.337    0.000   11.498    0.000 numeric.py:433(asarray)\n",
      "    15592    4.324    0.000    4.324    0.000 {built-in method scipy.sparse._sparsetools.csr_matmat_pass1}\n",
      "\n",
      "\n"
     ]
    },
    {
     "data": {
      "text/plain": [
       "<pstats.Stats at 0x10fe48ef0>"
      ]
     },
     "execution_count": 4,
     "metadata": {},
     "output_type": "execute_result"
    }
   ],
   "source": [
    "# Alowing empty small lists\n",
    "p = pstats.Stats('vec0Prof')\n",
    "p.strip_dirs().sort_stats('time').print_stats(10)"
   ]
  },
  {
   "cell_type": "code",
   "execution_count": 3,
   "metadata": {},
   "outputs": [
    {
     "name": "stdout",
     "output_type": "stream",
     "text": [
      "Sun Nov  4 17:48:06 2018    prof\n",
      "\n",
      "         112702545 function calls (112626832 primitive calls) in 219.317 seconds\n",
      "\n",
      "   Ordered by: cumulative time\n",
      "   List reduced from 1436 to 10 due to restriction <10>\n",
      "\n",
      "   ncalls  tottime  percall  cumtime  percall filename:lineno(function)\n",
      "    247/1    0.019    0.000  219.318  219.318 {built-in method builtins.exec}\n",
      "        1    0.010    0.010  219.318  219.318 zotocs_small.py:1(<module>)\n",
      "        5    0.005    0.001  216.030   43.206 asymmetric.py:141(zotoc_vec_expm)\n",
      "      325    0.077    0.000  216.025    0.665 asymmetric.py:128(zotoc_vec_sites)\n",
      "    35750    0.448    0.000  202.929    0.006 _expm_multiply.py:48(expm_multiply)\n",
      "    35750    1.054    0.000  202.364    0.006 _expm_multiply.py:137(_expm_multiply_simple)\n",
      "     3250    0.412    0.000  195.762    0.060 asymmetric.py:136(<listcomp>)\n",
      "    35750   22.792    0.001  143.391    0.004 _expm_multiply.py:190(_expm_multiply_simple_core)\n",
      "  4351472    7.250    0.000   80.899    0.000 _expm_multiply.py:15(_exact_inf_norm)\n",
      "  4351472   33.132    0.000   69.887    0.000 linalg.py:2203(norm)\n",
      "\n",
      "\n"
     ]
    },
    {
     "data": {
      "text/plain": [
       "<pstats.Stats at 0x10f9c6a20>"
      ]
     },
     "execution_count": 3,
     "metadata": {},
     "output_type": "execute_result"
    }
   ],
   "source": [
    "p = pstats.Stats('prof')\n",
    "p.strip_dirs().sort_stats('cumtime').print_stats(10)"
   ]
  },
  {
   "cell_type": "code",
   "execution_count": 4,
   "metadata": {},
   "outputs": [
    {
     "name": "stdout",
     "output_type": "stream",
     "text": [
      "Sun Nov  4 18:01:21 2018    prof250\n",
      "\n",
      "         24738232 function calls (24719719 primitive calls) in 57.444 seconds\n",
      "\n",
      "   Ordered by: cumulative time\n",
      "   List reduced from 1436 to 10 due to restriction <10>\n",
      "\n",
      "   ncalls  tottime  percall  cumtime  percall filename:lineno(function)\n",
      "    247/1    0.016    0.000   57.444   57.444 {built-in method builtins.exec}\n",
      "        1    0.001    0.001   57.444   57.444 zotocs_small.py:1(<module>)\n",
      "        5    0.003    0.001   47.411    9.482 asymmetric.py:141(zotoc_vec_expm)\n",
      "      325    0.067    0.000   47.408    0.146 asymmetric.py:128(zotoc_vec_sites)\n",
      "     7150    0.090    0.000   44.413    0.006 _expm_multiply.py:48(expm_multiply)\n",
      "     7150    0.233    0.000   44.298    0.006 _expm_multiply.py:137(_expm_multiply_simple)\n",
      "     3250    0.089    0.000   42.843    0.013 asymmetric.py:136(<listcomp>)\n",
      "     7150    5.073    0.001   31.569    0.004 _expm_multiply.py:190(_expm_multiply_simple_core)\n",
      "   901362    1.564    0.000   17.454    0.000 _expm_multiply.py:15(_exact_inf_norm)\n",
      "   503149    1.150    0.000   15.950    0.000 base.py:452(__mul__)\n",
      "\n",
      "\n"
     ]
    },
    {
     "data": {
      "text/plain": [
       "<pstats.Stats at 0x110572978>"
      ]
     },
     "execution_count": 4,
     "metadata": {},
     "output_type": "execute_result"
    }
   ],
   "source": [
    "p = pstats.Stats('prof250')\n",
    "p.strip_dirs().sort_stats('cumtime').print_stats(10)"
   ]
  },
  {
   "cell_type": "code",
   "execution_count": 5,
   "metadata": {},
   "outputs": [
    {
     "name": "stdout",
     "output_type": "stream",
     "text": [
      "Sun Nov  4 18:02:30 2018    prof500\n",
      "\n",
      "         2110073 function calls (2105873 primitive calls) in 17.085 seconds\n",
      "\n",
      "   Ordered by: cumulative time\n",
      "   List reduced from 1392 to 10 due to restriction <10>\n",
      "\n",
      "   ncalls  tottime  percall  cumtime  percall filename:lineno(function)\n",
      "    247/1    0.018    0.000   17.085   17.085 {built-in method builtins.exec}\n",
      "        1    0.002    0.002   17.085   17.085 zotocs_small.py:1(<module>)\n",
      "        1    0.166    0.166   15.860   15.860 asymmetric.py:117(zotoc_mat_exact)\n",
      "       65    0.210    0.003   15.693    0.241 asymmetric.py:104(zotoc_ed_sites)\n",
      "      650    5.839    0.009   13.132    0.020 asymmetric.py:113(<listcomp>)\n",
      "    15015    0.043    0.000    7.732    0.001 base.py:561(__rmatmul__)\n",
      "    15015    0.126    0.000    7.371    0.000 base.py:540(__rmul__)\n",
      "    15048    0.092    0.000    4.389    0.000 base.py:452(__mul__)\n",
      "    12285    0.286    0.000    4.214    0.000 compressed.py:464(_mul_multivector)\n",
      "    15026    0.222    0.000    2.678    0.000 csr.py:131(transpose)\n",
      "\n",
      "\n"
     ]
    },
    {
     "data": {
      "text/plain": [
       "<pstats.Stats at 0x1105850f0>"
      ]
     },
     "execution_count": 5,
     "metadata": {},
     "output_type": "execute_result"
    }
   ],
   "source": [
    "p = pstats.Stats('prof500')\n",
    "p.strip_dirs().sort_stats('cumtime').print_stats(10)"
   ]
  },
  {
   "cell_type": "code",
   "execution_count": 6,
   "metadata": {},
   "outputs": [
    {
     "name": "stdout",
     "output_type": "stream",
     "text": [
      "Sun Nov  4 18:04:08 2018    prof800\n",
      "\n",
      "         2110084 function calls (2105884 primitive calls) in 13.982 seconds\n",
      "\n",
      "   Ordered by: cumulative time\n",
      "   List reduced from 1392 to 10 due to restriction <10>\n",
      "\n",
      "   ncalls  tottime  percall  cumtime  percall filename:lineno(function)\n",
      "    247/1    0.017    0.000   13.983   13.983 {built-in method builtins.exec}\n",
      "        1    0.001    0.001   13.983   13.983 zotocs_small.py:1(<module>)\n",
      "        1    0.139    0.139   12.784   12.784 asymmetric.py:117(zotoc_mat_exact)\n",
      "       65    0.194    0.003   12.645    0.195 asymmetric.py:104(zotoc_ed_sites)\n",
      "      650    4.543    0.007   10.573    0.016 asymmetric.py:113(<listcomp>)\n",
      "    15015    0.037    0.000    6.402    0.000 base.py:561(__rmatmul__)\n",
      "    15015    0.108    0.000    6.104    0.000 base.py:540(__rmul__)\n",
      "    15048    0.066    0.000    3.646    0.000 base.py:452(__mul__)\n",
      "    12285    0.249    0.000    3.512    0.000 compressed.py:464(_mul_multivector)\n",
      "    15026    0.184    0.000    2.208    0.000 csr.py:131(transpose)\n",
      "\n",
      "\n"
     ]
    },
    {
     "data": {
      "text/plain": [
       "<pstats.Stats at 0x1106b2630>"
      ]
     },
     "execution_count": 6,
     "metadata": {},
     "output_type": "execute_result"
    }
   ],
   "source": [
    "p = pstats.Stats('prof800')\n",
    "p.strip_dirs().sort_stats('cumtime').print_stats(10)"
   ]
  },
  {
   "cell_type": "code",
   "execution_count": null,
   "metadata": {
    "collapsed": true
   },
   "outputs": [],
   "source": []
  }
 ],
 "metadata": {
  "kernelspec": {
   "display_name": "Python 3",
   "language": "python",
   "name": "python3"
  },
  "language_info": {
   "codemirror_mode": {
    "name": "ipython",
    "version": 3
   },
   "file_extension": ".py",
   "mimetype": "text/x-python",
   "name": "python",
   "nbconvert_exporter": "python",
   "pygments_lexer": "ipython3",
   "version": "3.5.3"
  }
 },
 "nbformat": 4,
 "nbformat_minor": 1
}
