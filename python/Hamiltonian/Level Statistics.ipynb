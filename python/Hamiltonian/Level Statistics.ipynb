{
 "cells": [
  {
   "cell_type": "code",
   "execution_count": 1,
   "metadata": {
    "collapsed": true
   },
   "outputs": [],
   "source": [
    "import numpy as np\n",
    "import scipy.linalg as la\n",
    "import hamiltonian as hm\n",
    "%matplotlib inline\n",
    "import matplotlib.pyplot as plt"
   ]
  },
  {
   "cell_type": "markdown",
   "metadata": {},
   "source": [
    "# Old Method"
   ]
  },
  {
   "cell_type": "code",
   "execution_count": 18,
   "metadata": {
    "collapsed": true
   },
   "outputs": [],
   "source": [
    "L = 5\n",
    "dense = True\n",
    "if (dense):\n",
    "    fix = 'dense'\n",
    "else:\n",
    "    fix = 'sparse'"
   ]
  },
  {
   "cell_type": "code",
   "execution_count": 19,
   "metadata": {
    "collapsed": true
   },
   "outputs": [],
   "source": [
    "if (dense):\n",
    "    H = hm.dense_H(L)\n",
    "    fix = 'dense'\n",
    "else:\n",
    "    H = hm.sparse_H(L)\n",
    "    fix = 'sparse'\n",
    "# vals, vecs = la.eigh(H)"
   ]
  },
  {
   "cell_type": "code",
   "execution_count": 20,
   "metadata": {
    "collapsed": true
   },
   "outputs": [],
   "source": [
    "Z = np.zeros((2**L,2**L))\n",
    "for i in range(L):\n",
    "    Zi = 1\n",
    "    for j in range(L):\n",
    "        if (j==i): Zi = np.kron(Zi,hm.Z)\n",
    "        else: Zi = np.kron(Zi,hm.I)\n",
    "    Z += Zi\n",
    "\n",
    "X = np.zeros((2**L,2**L))\n",
    "for i in range(L):\n",
    "    Xi = 1\n",
    "    for j in range(L):\n",
    "        if (j==i): Xi = np.kron(Xi,hm.X)\n",
    "        else: Xi = np.kron(Xi,hm.I)\n",
    "    X += Xi\n",
    "\n",
    "Y = np.zeros((2**L,2**L), dtype=complex)\n",
    "for i in range(L):\n",
    "    Yi = 1\n",
    "    for j in range(L):\n",
    "        if (j==i): Yi = np.kron(Yi,hm.Y)\n",
    "        else: Yi = np.kron(Yi,hm.I)\n",
    "    Y += Yi\n",
    "    \n",
    "# print(Z@Z)\n",
    "# vals, vecs = la.eigh(Z)\n",
    "# print(vals)\n",
    "    \n",
    "S2 = X@X + Y@Y + Z@Z\n",
    "# vals2, _ = la.eigh(S2)\n",
    "# print(hm.chop(S2))\n",
    "# print(hm.chop(vals2))\n",
    "# print(hm.chop(np.sqrt(vals2+1)-1)/2)"
   ]
  },
  {
   "cell_type": "code",
   "execution_count": 21,
   "metadata": {
    "collapsed": true
   },
   "outputs": [],
   "source": [
    "Hsmal = hm.mat2list(H)[(int)(L/2)]\n",
    "Zsmal = hm.mat2list(Z)[(int)(L/2)]\n",
    "Ssmal = hm.mat2list(S2)[(int)(L/2)]"
   ]
  },
  {
   "cell_type": "code",
   "execution_count": 86,
   "metadata": {
    "collapsed": true
   },
   "outputs": [],
   "source": [
    "# # eigs of Hsmal\n",
    "# valsH, vecsH = la.eigh(Hsmal)\n",
    "# for i, vec in enumerate(vecsH.T):\n",
    "# #     a = (H@vec)\n",
    "# #     a = a[np.absolute(vec) > .0001]\n",
    "# #     a = a/vec[np.absolute(vec) > .0001]\n",
    "# #     if np.all(np.isclose(a[0], a)): print(\"H:\", a[0])\n",
    "# #     else: print(\"not an eig of H\")\n",
    "# #     print(\"should be\", valsH[i], '\\n')\n",
    "#     a = (vec.conj()@Hsmal@vec)\n",
    "#     print(i, \"H:\", hm.chop(a), \" should be\", hm.chop(valsH[i]))"
   ]
  },
  {
   "cell_type": "code",
   "execution_count": 87,
   "metadata": {
    "collapsed": true
   },
   "outputs": [],
   "source": [
    "# # expectations of S2 in eigs of Hsmal\n",
    "# valsH, vecsH = la.eigh(Hsmal)\n",
    "# Ss = []\n",
    "# for i, vec in enumerate(vecsH.T):\n",
    "#     a = (Ssmal@vec)\n",
    "#     a = a[np.absolute(vec) > .0001]\n",
    "#     a = a/vec[np.absolute(vec) > .0001]\n",
    "#     if np.all(np.isclose(a[0], a)): \n",
    "#         print(i, \"S:\", hm.chop(a[0]), hm.chop(vec.conj()@Ssmal@vec))\n",
    "#         Ss.append(a[0])\n",
    "#     else: \n",
    "#         print(str(i) + \" is not an eig of S\", a[0], vec[np.absolute(vec) > .0001][np.argmax(np.absolute(a - a[0]))])\n",
    "# #         Ss.append(None)\n",
    "# #     print(\"should be\", valsX[i], '\\n')\n",
    "# #     a = (vec.conj()@Zsmal@vec)\n",
    "# #     print(\"z:\", a)"
   ]
  },
  {
   "cell_type": "code",
   "execution_count": 88,
   "metadata": {
    "collapsed": true
   },
   "outputs": [],
   "source": [
    "# # eigs of Ssmal\n",
    "# valsS, vecsS = la.eigh(Ssmal)\n",
    "# for i, vec in enumerate(vecsS.T):\n",
    "# #     a = (H@vec)\n",
    "# #     a = a[np.absolute(vec) > .0001]\n",
    "# #     a = a/vec[np.absolute(vec) > .0001]\n",
    "# #     if np.all(np.isclose(a[0], a)): print(\"H:\", a[0])\n",
    "# #     else: print(\"not an eig of H\")\n",
    "# #     print(\"should be\", valsH[i], '\\n')\n",
    "#     a = (vec.conj()@Ssmal@vec)\n",
    "#     print(\"S:\", hm.chop(a))\n",
    "# #     print(str(i) + \" should be\", valsH[i], '\\n')"
   ]
  },
  {
   "cell_type": "code",
   "execution_count": 16,
   "metadata": {},
   "outputs": [
    {
     "data": {
      "image/png": "[encoded data removed]",
      "text/plain": [
       "<matplotlib.figure.Figure at 0x10700bf98>"
      ]
     },
     "metadata": {},
     "output_type": "display_data"
    },
    {
     "data": {
      "image/png": "[encoded data removed]",
      "text/plain": [
       "<matplotlib.figure.Figure at 0x10e447a90>"
      ]
     },
     "metadata": {},
     "output_type": "display_data"
    }
   ],
   "source": [
    "valsS, vecsS = la.eigh(Ssmal)\n",
    "Sdiag = vecsS.conj().T@Ssmal@vecsS\n",
    "# print(np.absolute(Sdiag))\n",
    "plt.matshow(np.absolute(Sdiag))\n",
    "plt.show()\n",
    "vals = np.round(valsS).astype('int')\n",
    "counts = np.bincount(vals)\n",
    "mask = (vals == np.argmax(counts))\n",
    "plt.matshow(np.absolute(Sdiag)[mask][:,mask])\n",
    "plt.show()"
   ]
  },
  {
   "cell_type": "code",
   "execution_count": 17,
   "metadata": {},
   "outputs": [
    {
     "name": "stdout",
     "output_type": "stream",
     "text": [
      "[-8.986 -7.869 -6.335 -5.907 -5.432 -5.263 -4.657 -4.362 -4.203 -3.62  -3.44\n",
      " -3.054 -2.734 -2.625 -2.298 -1.594 -1.406 -1.236 -0.915 -0.595 -0.494\n",
      " -0.291 -0.167 -0.011  0.011  0.167  0.291  0.494  0.595  0.915  1.236\n",
      "  1.406  1.594  2.298  2.625  2.734  3.054  3.44   3.62   4.203  4.362\n",
      "  4.657  5.263  5.432  5.907  6.335  7.869  8.986]\n",
      "[-8.98641816 -7.86879741 -6.33451142 -5.90688383 -5.43234725 -5.26346836\n",
      " -4.6566959  -4.36235966 -4.20258493 -3.61960348 -3.44017486 -3.05371431\n",
      " -2.73436839 -2.62505438 -2.29766099 -1.5939273  -1.40580594 -1.23648368\n",
      " -0.91528964 -0.59480805 -0.49369375 -0.29052309 -0.16713518 -0.01122377\n",
      "  0.01122377  0.16713518  0.29052309  0.49369375  0.59480805  0.91528964\n",
      "  1.23648368  1.40580594  1.5939273   2.29766099  2.62505438  2.73436839\n",
      "  3.05371431  3.44017486  3.61960348  4.20258493  4.36235966  4.6566959\n",
      "  5.26346836  5.43234725  5.90688383  6.33451142  7.86879741  8.98641816]\n"
     ]
    }
   ],
   "source": [
    "Htiny = (vecsS.conj().T@Hsmal@vecsS)[mask][:,mask]\n",
    "valsH, vecsH = la.eigh(Htiny)\n",
    "print(hm.chop(valsH))\n",
    "print(valsH)"
   ]
  },
  {
   "cell_type": "code",
   "execution_count": 92,
   "metadata": {
    "collapsed": true
   },
   "outputs": [],
   "source": [
    "valsH = valsH[valsH > 1e-10]\n",
    "delta = (valsH - np.roll(valsH, 1))[1:]\n",
    "stats = np.minimum(delta, np.roll(delta, 1)) / np.maximum(delta, np.roll(delta, 1)) "
   ]
  },
  {
   "cell_type": "code",
   "execution_count": 71,
   "metadata": {},
   "outputs": [
    {
     "data": {
      "image/png": "[encoded data removed]",
      "text/plain": [
       "<matplotlib.figure.Figure at 0x1083213c8>"
      ]
     },
     "metadata": {},
     "output_type": "display_data"
    }
   ],
   "source": [
    "n, bins, patches = plt.hist(stats, 20, facecolor='green')\n",
    "plt.xlabel('r')\n",
    "plt.ylabel('p(r)')\n",
    "plt.title(\"Level Statistics, \" + fix + \", L=\" + str(L))\n",
    "plt.savefig(\"figures/level_stats_\" + fix + \"L\" + str(L) + \".pdf\")"
   ]
  },
  {
   "cell_type": "code",
   "execution_count": 59,
   "metadata": {
    "collapsed": true
   },
   "outputs": [],
   "source": [
    "np.save('data/level_stats_' + fix + \"L\" + str(L), stats)"
   ]
  },
  {
   "cell_type": "markdown",
   "metadata": {},
   "source": [
    "# Breaking Degeneracies\n",
    "### Use Ising Term"
   ]
  },
  {
   "cell_type": "code",
   "execution_count": 2,
   "metadata": {
    "collapsed": true
   },
   "outputs": [],
   "source": [
    "def ising_mult(l):\n",
    "    if (l==1): return np.zeros((2,2))\n",
    "    if (l==2): return np.matmul(np.kron(hm.Z,hm.I), np.kron(hm.I, hm.Z))\n",
    "    return (np.kron(ising_mult(l-1), np.eye(2)) + \n",
    "            np.kron(np.eye(2**(l-2)), np.matmul(np.kron(hm.Z,hm.I), np.kron(hm.I, hm.Z))))"
   ]
  },
  {
   "cell_type": "code",
   "execution_count": 43,
   "metadata": {
    "collapsed": true
   },
   "outputs": [],
   "source": [
    "L = 11\n",
    "dense = True\n",
    "if (dense):\n",
    "    fix = 'dense'\n",
    "else:\n",
    "    fix = 'sparse'"
   ]
  },
  {
   "cell_type": "code",
   "execution_count": 44,
   "metadata": {
    "collapsed": true
   },
   "outputs": [],
   "source": [
    "if (dense):\n",
    "    H = hm.dense_H(L)\n",
    "    fix = 'dense'\n",
    "else:\n",
    "    H = hm.sparse_H(L)\n",
    "    fix = 'sparse'\n",
    "# vals, vecs = la.eigh(H)"
   ]
  },
  {
   "cell_type": "code",
   "execution_count": 45,
   "metadata": {
    "collapsed": true
   },
   "outputs": [],
   "source": [
    "Z = np.zeros((2**L,2**L))\n",
    "for i in range(L):\n",
    "    Zi = 1\n",
    "    for j in range(L):\n",
    "        if (j==i): Zi = np.kron(Zi,hm.Z)\n",
    "        else: Zi = np.kron(Zi,hm.I)\n",
    "    Z += Zi\n",
    "\n",
    "X = np.zeros((2**L,2**L))\n",
    "for i in range(L):\n",
    "    Xi = 1\n",
    "    for j in range(L):\n",
    "        if (j==i): Xi = np.kron(Xi,hm.X)\n",
    "        else: Xi = np.kron(Xi,hm.I)\n",
    "    X += Xi\n",
    "\n",
    "Y = np.zeros((2**L,2**L), dtype=complex)\n",
    "for i in range(L):\n",
    "    Yi = 1\n",
    "    for j in range(L):\n",
    "        if (j==i): Yi = np.kron(Yi,hm.Y)\n",
    "        else: Yi = np.kron(Yi,hm.I)\n",
    "    Y += Yi\n",
    "    \n",
    "# print(Z@Z)\n",
    "# vals, vecs = la.eigh(Z)\n",
    "# print(vals)\n",
    "    \n",
    "S2 = X@X + Y@Y + Z@Z\n",
    "# vals2, _ = la.eigh(S2)\n",
    "# print(hm.chop(S2))\n",
    "# print(hm.chop(vals2))\n",
    "# print(hm.chop(np.sqrt(vals2+1)-1)/2)"
   ]
  },
  {
   "cell_type": "code",
   "execution_count": 46,
   "metadata": {
    "collapsed": true
   },
   "outputs": [],
   "source": [
    "Hsmal = hm.mat2list(H)[(int)(L/2)]\n",
    "Zsmal = hm.mat2list(Z)[(int)(L/2)]\n",
    "Ssmal = hm.mat2list(S2)[(int)(L/2)]"
   ]
  },
  {
   "cell_type": "code",
   "execution_count": 47,
   "metadata": {},
   "outputs": [],
   "source": [
    "valsH, vecsH = la.eigh(Hsmal)\n",
    "# print(hm.chop(valsH))\n",
    "# print(valsH)"
   ]
  },
  {
   "cell_type": "code",
   "execution_count": 48,
   "metadata": {},
   "outputs": [
    {
     "data": {
      "text/plain": [
       "array([-11.641, -11.168, -10.622, -10.177, -10.106, -10.04 ,  -9.917,\n",
       "        -9.834,  -9.557,  -9.5  ,  -9.442,  -9.413,  -8.899,  -8.549,\n",
       "        -8.113,  -8.097,  -8.045,  -8.   ,  -7.758,  -7.727,  -7.716,\n",
       "        -7.583,  -7.553,  -7.44 ,  -7.301,  -7.203,  -6.855,  -6.813,\n",
       "        -6.686,  -6.618,  -6.46 ,  -6.451,  -6.438,  -6.399,  -6.355,\n",
       "        -6.299,  -6.191,  -6.163,  -6.083,  -5.998,  -5.953,  -5.94 ,\n",
       "        -5.939,  -5.93 ,  -5.856,  -5.807,  -5.787,  -5.777,  -5.741,\n",
       "        -5.715,  -5.689,  -5.672,  -5.631,  -5.617,  -5.577,  -5.526,\n",
       "        -5.481,  -5.448,  -5.421,  -5.392,  -5.262,  -5.255,  -5.217,\n",
       "        -5.165,  -5.136,  -5.051,  -5.01 ,  -5.008,  -4.996,  -4.992,\n",
       "        -4.876,  -4.854,  -4.79 ,  -4.732,  -4.714,  -4.645,  -4.585,\n",
       "        -4.515,  -4.51 ,  -4.506,  -4.476,  -4.456,  -4.448,  -4.39 ,\n",
       "        -4.381,  -4.312,  -4.295,  -4.271,  -4.243,  -4.201,  -4.155,\n",
       "        -4.141,  -4.096,  -4.074,  -4.004,  -3.966,  -3.884,  -3.863,\n",
       "        -3.808,  -3.802,  -3.771,  -3.736,  -3.706,  -3.625,  -3.568,\n",
       "        -3.534,  -3.513,  -3.505,  -3.486,  -3.443,  -3.439,  -3.305,\n",
       "        -3.287,  -3.278,  -3.208,  -3.17 ,  -3.166,  -3.152,  -3.135,\n",
       "        -3.075,  -2.992,  -2.903,  -2.895,  -2.873,  -2.826,  -2.76 ,\n",
       "        -2.677,  -2.668,  -2.643,  -2.605,  -2.595,  -2.581,  -2.442,\n",
       "        -2.422,  -2.411,  -2.395,  -2.37 ,  -2.324,  -2.303,  -2.282,\n",
       "        -2.259,  -2.098,  -2.073,  -2.043,  -2.04 ,  -2.005,  -2.   ,\n",
       "        -1.995,  -1.946,  -1.939,  -1.933,  -1.864,  -1.826,  -1.822,\n",
       "        -1.812,  -1.809,  -1.788,  -1.739,  -1.736,  -1.657,  -1.577,\n",
       "        -1.577,  -1.564,  -1.497,  -1.429,  -1.422,  -1.412,  -1.397,\n",
       "        -1.373,  -1.352,  -1.265,  -1.231,  -1.207,  -1.196,  -1.165,\n",
       "        -1.128,  -1.09 ,  -1.081,  -1.062,  -1.031,  -1.023,  -0.976,\n",
       "        -0.96 ,  -0.942,  -0.902,  -0.885,  -0.871,  -0.865,  -0.854,\n",
       "        -0.829,  -0.788,  -0.784,  -0.712,  -0.688,  -0.682,  -0.634,\n",
       "        -0.622,  -0.594,  -0.591,  -0.585,  -0.525,  -0.478,  -0.447,\n",
       "        -0.444,  -0.408,  -0.397,  -0.351,  -0.343,  -0.305,  -0.274,\n",
       "        -0.27 ,  -0.253,  -0.241,  -0.238,  -0.227,  -0.225,  -0.194,\n",
       "        -0.191,  -0.169,  -0.125,  -0.12 ,  -0.109,  -0.085,  -0.082,\n",
       "        -0.07 ,  -0.012,  -0.   ,  -0.   ,  -0.   ,   0.   ,   0.   ,\n",
       "         0.   ,   0.   ,   0.   ,   0.   ,   0.   ,   0.012,   0.07 ,\n",
       "         0.082,   0.085,   0.109,   0.12 ,   0.125,   0.169,   0.191,\n",
       "         0.194,   0.225,   0.227,   0.238,   0.241,   0.253,   0.27 ,\n",
       "         0.274,   0.305,   0.343,   0.351,   0.397,   0.408,   0.444,\n",
       "         0.447,   0.478,   0.525,   0.585,   0.591,   0.594,   0.622,\n",
       "         0.634,   0.682,   0.688,   0.712,   0.784,   0.788,   0.829,\n",
       "         0.854,   0.865,   0.871,   0.885,   0.902,   0.942,   0.96 ,\n",
       "         0.976,   1.023,   1.031,   1.062,   1.081,   1.09 ,   1.128,\n",
       "         1.165,   1.196,   1.207,   1.231,   1.265,   1.352,   1.373,\n",
       "         1.397,   1.412,   1.422,   1.429,   1.497,   1.564,   1.577,\n",
       "         1.577,   1.657,   1.736,   1.739,   1.788,   1.809,   1.812,\n",
       "         1.822,   1.826,   1.864,   1.933,   1.939,   1.946,   1.995,\n",
       "         2.   ,   2.005,   2.04 ,   2.043,   2.073,   2.098,   2.259,\n",
       "         2.282,   2.303,   2.324,   2.37 ,   2.395,   2.411,   2.422,\n",
       "         2.442,   2.581,   2.595,   2.605,   2.643,   2.668,   2.677,\n",
       "         2.76 ,   2.826,   2.873,   2.895,   2.903,   2.992,   3.075,\n",
       "         3.135,   3.152,   3.166,   3.17 ,   3.208,   3.278,   3.287,\n",
       "         3.305,   3.439,   3.443,   3.486,   3.505,   3.513,   3.534,\n",
       "         3.568,   3.625,   3.706,   3.736,   3.771,   3.802,   3.808,\n",
       "         3.863,   3.884,   3.966,   4.004,   4.074,   4.096,   4.141,\n",
       "         4.155,   4.201,   4.243,   4.271,   4.295,   4.312,   4.381,\n",
       "         4.39 ,   4.448,   4.456,   4.476,   4.506,   4.51 ,   4.515,\n",
       "         4.585,   4.645,   4.714,   4.732,   4.79 ,   4.854,   4.876,\n",
       "         4.992,   4.996,   5.008,   5.01 ,   5.051,   5.136,   5.165,\n",
       "         5.217,   5.255,   5.262,   5.392,   5.421,   5.448,   5.481,\n",
       "         5.526,   5.577,   5.617,   5.631,   5.672,   5.689,   5.715,\n",
       "         5.741,   5.777,   5.787,   5.807,   5.856,   5.93 ,   5.939,\n",
       "         5.94 ,   5.953,   5.998,   6.083,   6.163,   6.191,   6.299,\n",
       "         6.355,   6.399,   6.438,   6.451,   6.46 ,   6.618,   6.686,\n",
       "         6.813,   6.855,   7.203,   7.301,   7.44 ,   7.553,   7.583,\n",
       "         7.716,   7.727,   7.758,   8.   ,   8.045,   8.097,   8.113,\n",
       "         8.549,   8.899,   9.413,   9.442,   9.5  ,   9.557,   9.834,\n",
       "         9.917,  10.04 ,  10.106,  10.177,  10.622,  11.168,  11.641])"
      ]
     },
     "execution_count": 48,
     "metadata": {},
     "output_type": "execute_result"
    }
   ],
   "source": [
    "hm.chop(valsH)"
   ]
  },
  {
   "cell_type": "code",
   "execution_count": 33,
   "metadata": {},
   "outputs": [
    {
     "data": {
      "image/png": "[encoded data removed]",
      "text/plain": [
       "<matplotlib.figure.Figure at 0x11745f1d0>"
      ]
     },
     "metadata": {},
     "output_type": "display_data"
    }
   ],
   "source": [
    "vals = valsH\n",
    "# vals = valsH[valsH > 1e-10]\n",
    "delta = (vals - np.roll(vals, 1))[1:]\n",
    "stats = (np.minimum(delta, np.roll(delta, 1)) / np.maximum(delta, np.roll(delta, 1)))[1:]\n",
    "n, bins, patches = plt.hist(stats, 20, facecolor='green')\n",
    "plt.xlabel('r')\n",
    "plt.ylabel('p(r)')\n",
    "plt.title(\"Level Statistics, \" + fix + \", L=\" + str(L))\n",
    "plt.show()\n",
    "# plt.savefig(\"figures/level_stats_\" + fix + \"L\" + str(L) + \".pdf\")"
   ]
  },
  {
   "cell_type": "code",
   "execution_count": 67,
   "metadata": {
    "collapsed": true
   },
   "outputs": [],
   "source": [
    "ising_strength = -.2\n",
    "H_ising = H + ising_strength * ising_mult(L)"
   ]
  },
  {
   "cell_type": "code",
   "execution_count": 68,
   "metadata": {
    "collapsed": true
   },
   "outputs": [],
   "source": [
    "Hsmal_i = hm.mat2list(H_ising)[(int)(L/2)]"
   ]
  },
  {
   "cell_type": "code",
   "execution_count": 69,
   "metadata": {
    "collapsed": true
   },
   "outputs": [],
   "source": [
    "valsH_i, vecsH = la.eigh(Hsmal_i)"
   ]
  },
  {
   "cell_type": "code",
   "execution_count": 70,
   "metadata": {},
   "outputs": [
    {
     "data": {
      "image/png": "[encoded data removed]",
      "text/plain": [
       "<matplotlib.figure.Figure at 0x115104940>"
      ]
     },
     "metadata": {},
     "output_type": "display_data"
    }
   ],
   "source": [
    "vals = valsH_i\n",
    "# vals = valsH[valsH > 1e-10]\n",
    "delta = (vals - np.roll(vals, 1))[1:]\n",
    "stats = (np.minimum(delta, np.roll(delta, 1)) / np.maximum(delta, np.roll(delta, 1)))[1:]\n",
    "n, bins, patches = plt.hist(stats, 20, facecolor='green')\n",
    "plt.xlabel('r')\n",
    "plt.ylabel('p(r)')\n",
    "plt.title(\"Level Statistics, \" + fix + \", L=\" + str(L))\n",
    "plt.show()\n",
    "# plt.savefig(\"figures/level_stats_\" + fix + \"L\" + str(L) + \".pdf\")"
   ]
  },
  {
   "cell_type": "code",
   "execution_count": null,
   "metadata": {
    "collapsed": true
   },
   "outputs": [],
   "source": []
  }
 ],
 "metadata": {
  "kernelspec": {
   "display_name": "Python 3",
   "language": "python",
   "name": "python3"
  },
  "language_info": {
   "codemirror_mode": {
    "name": "ipython",
    "version": 3
   },
   "file_extension": ".py",
   "mimetype": "text/x-python",
   "name": "python",
   "nbconvert_exporter": "python",
   "pygments_lexer": "ipython3",
   "version": "3.5.3"
  }
 },
 "nbformat": 4,
 "nbformat_minor": 1
}
