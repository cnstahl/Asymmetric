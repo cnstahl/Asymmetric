{
 "cells": [
  {
   "cell_type": "code",
   "execution_count": 1,
   "metadata": {
    "collapsed": true
   },
   "outputs": [],
   "source": [
    "import numpy as np\n",
    "import scipy.linalg as la\n",
    "import hamiltonian as hm\n",
    "%matplotlib inline\n",
    "import matplotlib.pyplot as plt"
   ]
  },
  {
   "cell_type": "code",
   "execution_count": 82,
   "metadata": {
    "collapsed": true
   },
   "outputs": [],
   "source": [
    "L = 11\n",
    "dense = True\n",
    "if (dense):\n",
    "    fix = 'dense'\n",
    "else:\n",
    "    fix = 'sparse'"
   ]
  },
  {
   "cell_type": "code",
   "execution_count": 83,
   "metadata": {},
   "outputs": [],
   "source": [
    "if (dense):\n",
    "    H = hm.dense_H(L)\n",
    "    fix = 'dense'\n",
    "else:\n",
    "    H = hm.sparse_H(L)\n",
    "    fix = 'sparse'\n",
    "# vals, vecs = la.eigh(H)"
   ]
  },
  {
   "cell_type": "code",
   "execution_count": 84,
   "metadata": {},
   "outputs": [],
   "source": [
    "Z = np.zeros((2**L,2**L))\n",
    "for i in range(L):\n",
    "    Zi = 1\n",
    "    for j in range(L):\n",
    "        if (j==i): Zi = np.kron(Zi,hm.Z)\n",
    "        else: Zi = np.kron(Zi,hm.I)\n",
    "    Z += Zi\n",
    "\n",
    "X = np.zeros((2**L,2**L))\n",
    "for i in range(L):\n",
    "    Xi = 1\n",
    "    for j in range(L):\n",
    "        if (j==i): Xi = np.kron(Xi,hm.X)\n",
    "        else: Xi = np.kron(Xi,hm.I)\n",
    "    X += Xi\n",
    "\n",
    "Y = np.zeros((2**L,2**L), dtype=complex)\n",
    "for i in range(L):\n",
    "    Yi = 1\n",
    "    for j in range(L):\n",
    "        if (j==i): Yi = np.kron(Yi,hm.Y)\n",
    "        else: Yi = np.kron(Yi,hm.I)\n",
    "    Y += Yi\n",
    "    \n",
    "# print(Z@Z)\n",
    "# vals, vecs = la.eigh(Z)\n",
    "# print(vals)\n",
    "    \n",
    "S2 = X@X + Y@Y + Z@Z\n",
    "# vals2, _ = la.eigh(S2)\n",
    "# print(hm.chop(S2))\n",
    "# print(hm.chop(vals2))\n",
    "# print(hm.chop(np.sqrt(vals2+1)-1)/2)"
   ]
  },
  {
   "cell_type": "code",
   "execution_count": 85,
   "metadata": {},
   "outputs": [],
   "source": [
    "Hsmal = hm.mat2list(H)[(int)(L/2)]\n",
    "Zsmal = hm.mat2list(Z)[(int)(L/2)]\n",
    "Ssmal = hm.mat2list(S2)[(int)(L/2)]"
   ]
  },
  {
   "cell_type": "code",
   "execution_count": 86,
   "metadata": {},
   "outputs": [],
   "source": [
    "# # eigs of Hsmal\n",
    "# valsH, vecsH = la.eigh(Hsmal)\n",
    "# for i, vec in enumerate(vecsH.T):\n",
    "# #     a = (H@vec)\n",
    "# #     a = a[np.absolute(vec) > .0001]\n",
    "# #     a = a/vec[np.absolute(vec) > .0001]\n",
    "# #     if np.all(np.isclose(a[0], a)): print(\"H:\", a[0])\n",
    "# #     else: print(\"not an eig of H\")\n",
    "# #     print(\"should be\", valsH[i], '\\n')\n",
    "#     a = (vec.conj()@Hsmal@vec)\n",
    "#     print(i, \"H:\", hm.chop(a), \" should be\", hm.chop(valsH[i]))"
   ]
  },
  {
   "cell_type": "code",
   "execution_count": 87,
   "metadata": {},
   "outputs": [],
   "source": [
    "# # expectations of S2 in eigs of Hsmal\n",
    "# valsH, vecsH = la.eigh(Hsmal)\n",
    "# Ss = []\n",
    "# for i, vec in enumerate(vecsH.T):\n",
    "#     a = (Ssmal@vec)\n",
    "#     a = a[np.absolute(vec) > .0001]\n",
    "#     a = a/vec[np.absolute(vec) > .0001]\n",
    "#     if np.all(np.isclose(a[0], a)): \n",
    "#         print(i, \"S:\", hm.chop(a[0]), hm.chop(vec.conj()@Ssmal@vec))\n",
    "#         Ss.append(a[0])\n",
    "#     else: \n",
    "#         print(str(i) + \" is not an eig of S\", a[0], vec[np.absolute(vec) > .0001][np.argmax(np.absolute(a - a[0]))])\n",
    "# #         Ss.append(None)\n",
    "# #     print(\"should be\", valsX[i], '\\n')\n",
    "# #     a = (vec.conj()@Zsmal@vec)\n",
    "# #     print(\"z:\", a)"
   ]
  },
  {
   "cell_type": "code",
   "execution_count": 88,
   "metadata": {},
   "outputs": [],
   "source": [
    "# # eigs of Ssmal\n",
    "# valsS, vecsS = la.eigh(Ssmal)\n",
    "# for i, vec in enumerate(vecsS.T):\n",
    "# #     a = (H@vec)\n",
    "# #     a = a[np.absolute(vec) > .0001]\n",
    "# #     a = a/vec[np.absolute(vec) > .0001]\n",
    "# #     if np.all(np.isclose(a[0], a)): print(\"H:\", a[0])\n",
    "# #     else: print(\"not an eig of H\")\n",
    "# #     print(\"should be\", valsH[i], '\\n')\n",
    "#     a = (vec.conj()@Ssmal@vec)\n",
    "#     print(\"S:\", hm.chop(a))\n",
    "# #     print(str(i) + \" should be\", valsH[i], '\\n')"
   ]
  },
  {
   "cell_type": "code",
   "execution_count": 89,
   "metadata": {},
   "outputs": [
    {
     "data": {
      "image/png": "[encoded data removed]",
      "text/plain": [
       "<matplotlib.figure.Figure at 0x116d0deb8>"
      ]
     },
     "metadata": {},
     "output_type": "display_data"
    },
    {
     "data": {
      "image/png": "[encoded data removed]",
      "text/plain": [
       "<matplotlib.figure.Figure at 0x116b2c898>"
      ]
     },
     "metadata": {},
     "output_type": "display_data"
    }
   ],
   "source": [
    "valsS, vecsS = la.eigh(Ssmal)\n",
    "Sdiag = vecsS.conj().T@Ssmal@vecsS\n",
    "# print(np.absolute(Sdiag))\n",
    "plt.matshow(np.absolute(Sdiag))\n",
    "plt.show()\n",
    "vals = np.round(valsS).astype('int')\n",
    "counts = np.bincount(vals)\n",
    "mask = (vals == np.argmax(counts))\n",
    "plt.matshow(np.absolute(Sdiag)[mask][:,mask])\n",
    "plt.show()"
   ]
  },
  {
   "cell_type": "code",
   "execution_count": 90,
   "metadata": {},
   "outputs": [
    {
     "name": "stdout",
     "output_type": "stream",
     "text": [
      "[-11.168 -10.177  -9.834  -9.5    -8.899  -8.549  -8.     -7.727  -7.583\n",
      "  -7.203  -6.813  -6.46   -6.451  -6.355  -6.163  -5.953  -5.94   -5.856\n",
      "  -5.689  -5.526  -5.481  -5.421  -5.262  -5.217  -5.01   -4.876  -4.732\n",
      "  -4.714  -4.645  -4.585  -4.39   -4.312  -4.243  -4.155  -4.004  -3.884\n",
      "  -3.802  -3.771  -3.486  -3.439  -3.305  -3.17   -3.152  -2.873  -2.826\n",
      "  -2.605  -2.442  -2.422  -2.395  -2.303  -2.282  -2.098  -2.073  -1.995\n",
      "  -1.933  -1.812  -1.736  -1.657  -1.564  -1.497  -1.429  -1.207  -1.165\n",
      "  -1.081  -0.942  -0.902  -0.871  -0.829  -0.788  -0.682  -0.622  -0.585\n",
      "  -0.525  -0.408  -0.274  -0.253  -0.225  -0.169  -0.12   -0.085  -0.     -0.\n",
      "  -0.      0.      0.      0.085   0.12    0.169   0.225   0.253   0.274\n",
      "   0.408   0.525   0.585   0.622   0.682   0.788   0.829   0.871   0.902\n",
      "   0.942   1.081   1.165   1.207   1.429   1.497   1.564   1.657   1.736\n",
      "   1.812   1.933   1.995   2.073   2.098   2.282   2.303   2.395   2.422\n",
      "   2.442   2.605   2.826   2.873   3.152   3.17    3.305   3.439   3.486\n",
      "   3.771   3.802   3.884   4.004   4.155   4.243   4.312   4.39    4.585\n",
      "   4.645   4.714   4.732   4.876   5.01    5.217   5.262   5.421   5.481\n",
      "   5.526   5.689   5.856   5.94    5.953   6.163   6.355   6.451   6.46\n",
      "   6.813   7.203   7.583   7.727   8.      8.549   8.899   9.5     9.834\n",
      "  10.177  11.168]\n",
      "[ -1.11675937e+01  -1.01771816e+01  -9.83400155e+00  -9.49999960e+00\n",
      "  -8.89860888e+00  -8.54912208e+00  -8.00031598e+00  -7.72692680e+00\n",
      "  -7.58264197e+00  -7.20269438e+00  -6.81277320e+00  -6.46004151e+00\n",
      "  -6.45116788e+00  -6.35524654e+00  -6.16336803e+00  -5.95288123e+00\n",
      "  -5.93993294e+00  -5.85573257e+00  -5.68882495e+00  -5.52623071e+00\n",
      "  -5.48129955e+00  -5.42064313e+00  -5.26245063e+00  -5.21683940e+00\n",
      "  -5.00988661e+00  -4.87594720e+00  -4.73194081e+00  -4.71431027e+00\n",
      "  -4.64472868e+00  -4.58518544e+00  -4.38976717e+00  -4.31231633e+00\n",
      "  -4.24265529e+00  -4.15511066e+00  -4.00443021e+00  -3.88378669e+00\n",
      "  -3.80153635e+00  -3.77129694e+00  -3.48565508e+00  -3.43922407e+00\n",
      "  -3.30511525e+00  -3.16966620e+00  -3.15249892e+00  -2.87254686e+00\n",
      "  -2.82646963e+00  -2.60478186e+00  -2.44190188e+00  -2.42165251e+00\n",
      "  -2.39516562e+00  -2.30263431e+00  -2.28197618e+00  -2.09772869e+00\n",
      "  -2.07309707e+00  -1.99468448e+00  -1.93316818e+00  -1.81190457e+00\n",
      "  -1.73626607e+00  -1.65725005e+00  -1.56424137e+00  -1.49676973e+00\n",
      "  -1.42870736e+00  -1.20730571e+00  -1.16451962e+00  -1.08124291e+00\n",
      "  -9.42290499e-01  -9.02315994e-01  -8.71480476e-01  -8.29491844e-01\n",
      "  -7.87823383e-01  -6.81987412e-01  -6.21522564e-01  -5.84839544e-01\n",
      "  -5.25426685e-01  -4.07922699e-01  -2.73571667e-01  -2.53199517e-01\n",
      "  -2.25210967e-01  -1.68598530e-01  -1.19514981e-01  -8.50642677e-02\n",
      "  -7.14566848e-15  -3.49997397e-16  -1.65977468e-17   1.86730747e-16\n",
      "   3.54364304e-16   8.50642677e-02   1.19514981e-01   1.68598530e-01\n",
      "   2.25210967e-01   2.53199517e-01   2.73571667e-01   4.07922699e-01\n",
      "   5.25426685e-01   5.84839544e-01   6.21522564e-01   6.81987412e-01\n",
      "   7.87823383e-01   8.29491844e-01   8.71480476e-01   9.02315994e-01\n",
      "   9.42290499e-01   1.08124291e+00   1.16451962e+00   1.20730571e+00\n",
      "   1.42870736e+00   1.49676973e+00   1.56424137e+00   1.65725005e+00\n",
      "   1.73626607e+00   1.81190457e+00   1.93316818e+00   1.99468448e+00\n",
      "   2.07309707e+00   2.09772869e+00   2.28197618e+00   2.30263431e+00\n",
      "   2.39516562e+00   2.42165251e+00   2.44190188e+00   2.60478186e+00\n",
      "   2.82646963e+00   2.87254686e+00   3.15249892e+00   3.16966620e+00\n",
      "   3.30511525e+00   3.43922407e+00   3.48565508e+00   3.77129694e+00\n",
      "   3.80153635e+00   3.88378669e+00   4.00443021e+00   4.15511066e+00\n",
      "   4.24265529e+00   4.31231633e+00   4.38976717e+00   4.58518544e+00\n",
      "   4.64472868e+00   4.71431027e+00   4.73194081e+00   4.87594720e+00\n",
      "   5.00988661e+00   5.21683940e+00   5.26245063e+00   5.42064313e+00\n",
      "   5.48129955e+00   5.52623071e+00   5.68882495e+00   5.85573257e+00\n",
      "   5.93993294e+00   5.95288123e+00   6.16336803e+00   6.35524654e+00\n",
      "   6.45116788e+00   6.46004151e+00   6.81277320e+00   7.20269438e+00\n",
      "   7.58264197e+00   7.72692680e+00   8.00031598e+00   8.54912208e+00\n",
      "   8.89860888e+00   9.49999960e+00   9.83400155e+00   1.01771816e+01\n",
      "   1.11675937e+01]\n"
     ]
    }
   ],
   "source": [
    "Htiny = (vecsS.conj().T@Hsmal@vecsS)[mask][:,mask]\n",
    "valsH, vecsH = la.eigh(Htiny)\n",
    "print(hm.chop(valsH))\n",
    "print(valsH)"
   ]
  },
  {
   "cell_type": "code",
   "execution_count": 92,
   "metadata": {},
   "outputs": [],
   "source": [
    "valsH = valsH[valsH > 1e-10]\n",
    "delta = (valsH - np.roll(valsH, 1))[1:]\n",
    "stats = np.minimum(delta, np.roll(delta, 1)) / np.maximum(delta, np.roll(delta, 1)) "
   ]
  },
  {
   "cell_type": "code",
   "execution_count": 71,
   "metadata": {},
   "outputs": [
    {
     "data": {
      "image/png": "[encoded data removed]",
      "text/plain": [
       "<matplotlib.figure.Figure at 0x1083213c8>"
      ]
     },
     "metadata": {},
     "output_type": "display_data"
    }
   ],
   "source": [
    "n, bins, patches = plt.hist(stats, 20, facecolor='green')\n",
    "plt.xlabel('r')\n",
    "plt.ylabel('p(r)')\n",
    "plt.title(\"Level Statistics, \" + fix + \", L=\" + str(L))\n",
    "plt.savefig(\"figures/level_stats_\" + fix + \"L\" + str(L) + \".pdf\")"
   ]
  },
  {
   "cell_type": "code",
   "execution_count": 59,
   "metadata": {},
   "outputs": [],
   "source": [
    "np.save('data/level_stats_' + fix + \"L\" + str(L), stats)"
   ]
  },
  {
   "cell_type": "code",
   "execution_count": 68,
   "metadata": {},
   "outputs": [],
   "source": [
    "stats= np.load('data/level_stats_' + fix + \"L\" + str(L) + '.npy')"
   ]
  },
  {
   "cell_type": "code",
   "execution_count": 81,
   "metadata": {},
   "outputs": [
    {
     "data": {
      "text/plain": [
       "15"
      ]
     },
     "execution_count": 81,
     "metadata": {},
     "output_type": "execute_result"
    }
   ],
   "source": [
    "np.argmax(counts)"
   ]
  },
  {
   "cell_type": "code",
   "execution_count": 93,
   "metadata": {},
   "outputs": [
    {
     "data": {
      "text/plain": [
       "array([  0.08506427,   0.11951498,   0.16859853,   0.22521097,\n",
       "         0.25319952,   0.27357167,   0.4079227 ,   0.52542669,\n",
       "         0.58483954,   0.62152256,   0.68198741,   0.78782338,\n",
       "         0.82949184,   0.87148048,   0.90231599,   0.9422905 ,\n",
       "         1.08124291,   1.16451962,   1.20730571,   1.42870736,\n",
       "         1.49676973,   1.56424137,   1.65725005,   1.73626607,\n",
       "         1.81190457,   1.93316818,   1.99468448,   2.07309707,\n",
       "         2.09772869,   2.28197618,   2.30263431,   2.39516562,\n",
       "         2.42165251,   2.44190188,   2.60478186,   2.82646963,\n",
       "         2.87254686,   3.15249892,   3.1696662 ,   3.30511525,\n",
       "         3.43922407,   3.48565508,   3.77129694,   3.80153635,\n",
       "         3.88378669,   4.00443021,   4.15511066,   4.24265529,\n",
       "         4.31231633,   4.38976717,   4.58518544,   4.64472868,\n",
       "         4.71431027,   4.73194081,   4.8759472 ,   5.00988661,\n",
       "         5.2168394 ,   5.26245063,   5.42064313,   5.48129955,\n",
       "         5.52623071,   5.68882495,   5.85573257,   5.93993294,\n",
       "         5.95288123,   6.16336803,   6.35524654,   6.45116788,\n",
       "         6.46004151,   6.8127732 ,   7.20269438,   7.58264197,\n",
       "         7.7269268 ,   8.00031598,   8.54912208,   8.89860888,\n",
       "         9.4999996 ,   9.83400155,  10.17718159,  11.16759366])"
      ]
     },
     "execution_count": 93,
     "metadata": {},
     "output_type": "execute_result"
    }
   ],
   "source": [
    "valsH"
   ]
  },
  {
   "cell_type": "code",
   "execution_count": null,
   "metadata": {
    "collapsed": true
   },
   "outputs": [],
   "source": []
  }
 ],
 "metadata": {
  "kernelspec": {
   "display_name": "Python 3",
   "language": "python",
   "name": "python3"
  },
  "language_info": {
   "codemirror_mode": {
    "name": "ipython",
    "version": 3
   },
   "file_extension": ".py",
   "mimetype": "text/x-python",
   "name": "python",
   "nbconvert_exporter": "python",
   "pygments_lexer": "ipython3",
   "version": "3.5.3"
  }
 },
 "nbformat": 4,
 "nbformat_minor": 1
}
