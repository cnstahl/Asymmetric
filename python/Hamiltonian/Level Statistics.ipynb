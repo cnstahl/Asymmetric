{
 "cells": [
  {
   "cell_type": "code",
   "execution_count": 1,
   "metadata": {
    "collapsed": true
   },
   "outputs": [],
   "source": [
    "import numpy as np\n",
    "import scipy.linalg as la\n",
    "import hamiltonian as hm\n",
    "%matplotlib inline\n",
    "import matplotlib.pyplot as plt"
   ]
  },
  {
   "cell_type": "code",
   "execution_count": 2,
   "metadata": {},
   "outputs": [],
   "source": [
    "L = 13\n",
    "H = hm.sparse_H(L)\n",
    "# vals, vecs = la.eigh(H)"
   ]
  },
  {
   "cell_type": "code",
   "execution_count": 3,
   "metadata": {},
   "outputs": [],
   "source": [
    "Z = np.zeros((2**L,2**L))\n",
    "for i in range(L):\n",
    "    Zi = 1\n",
    "    for j in range(L):\n",
    "        if (j==i): Zi = np.kron(Zi,hm.Z)\n",
    "        else: Zi = np.kron(Zi,hm.I)\n",
    "    Z += Zi\n",
    "\n",
    "X = np.zeros((2**L,2**L))\n",
    "for i in range(L):\n",
    "    Xi = 1\n",
    "    for j in range(L):\n",
    "        if (j==i): Xi = np.kron(Xi,hm.X)\n",
    "        else: Xi = np.kron(Xi,hm.I)\n",
    "    X += Xi\n",
    "\n",
    "Y = np.zeros((2**L,2**L), dtype=complex)\n",
    "for i in range(L):\n",
    "    Yi = 1\n",
    "    for j in range(L):\n",
    "        if (j==i): Yi = np.kron(Yi,hm.Y)\n",
    "        else: Yi = np.kron(Yi,hm.I)\n",
    "    Y += Yi\n",
    "    \n",
    "# print(Z@Z)\n",
    "# vals, vecs = la.eigh(Z)\n",
    "# print(vals)\n",
    "    \n",
    "S2 = X@X + Y@Y + Z@Z\n",
    "# vals2, _ = la.eigh(S2)\n",
    "# print(hm.chop(S2))\n",
    "# print(hm.chop(vals2))\n",
    "# print(hm.chop(np.sqrt(vals2+1)-1)/2)"
   ]
  },
  {
   "cell_type": "code",
   "execution_count": 4,
   "metadata": {},
   "outputs": [],
   "source": [
    "Hsmal = hm.mat2list(H)[(int)(L/2)]\n",
    "Zsmal = hm.mat2list(Z)[(int)(L/2)]\n",
    "Ssmal = hm.mat2list(S2)[(int)(L/2)]"
   ]
  },
  {
   "cell_type": "code",
   "execution_count": null,
   "metadata": {},
   "outputs": [],
   "source": [
    "# # eigs of Hsmal\n",
    "# valsH, vecsH = la.eigh(Hsmal)\n",
    "# for i, vec in enumerate(vecsH.T):\n",
    "# #     a = (H@vec)\n",
    "# #     a = a[np.absolute(vec) > .0001]\n",
    "# #     a = a/vec[np.absolute(vec) > .0001]\n",
    "# #     if np.all(np.isclose(a[0], a)): print(\"H:\", a[0])\n",
    "# #     else: print(\"not an eig of H\")\n",
    "# #     print(\"should be\", valsH[i], '\\n')\n",
    "#     a = (vec.conj()@Hsmal@vec)\n",
    "#     print(i, \"H:\", hm.chop(a), \" should be\", hm.chop(valsH[i]))"
   ]
  },
  {
   "cell_type": "code",
   "execution_count": null,
   "metadata": {},
   "outputs": [],
   "source": [
    "# # expectations of S2 in eigs of Hsmal\n",
    "# valsH, vecsH = la.eigh(Hsmal)\n",
    "# Ss = []\n",
    "# for i, vec in enumerate(vecsH.T):\n",
    "#     a = (Ssmal@vec)\n",
    "#     a = a[np.absolute(vec) > .0001]\n",
    "#     a = a/vec[np.absolute(vec) > .0001]\n",
    "#     if np.all(np.isclose(a[0], a)): \n",
    "#         print(i, \"S:\", hm.chop(a[0]), hm.chop(vec.conj()@Ssmal@vec))\n",
    "#         Ss.append(a[0])\n",
    "#     else: \n",
    "#         print(str(i) + \" is not an eig of S\", a[0], vec[np.absolute(vec) > .0001][np.argmax(np.absolute(a - a[0]))])\n",
    "# #         Ss.append(None)\n",
    "# #     print(\"should be\", valsX[i], '\\n')\n",
    "# #     a = (vec.conj()@Zsmal@vec)\n",
    "# #     print(\"z:\", a)"
   ]
  },
  {
   "cell_type": "code",
   "execution_count": null,
   "metadata": {},
   "outputs": [],
   "source": [
    "# # eigs of Ssmal\n",
    "# valsS, vecsS = la.eigh(Ssmal)\n",
    "# for i, vec in enumerate(vecsS.T):\n",
    "# #     a = (H@vec)\n",
    "# #     a = a[np.absolute(vec) > .0001]\n",
    "# #     a = a/vec[np.absolute(vec) > .0001]\n",
    "# #     if np.all(np.isclose(a[0], a)): print(\"H:\", a[0])\n",
    "# #     else: print(\"not an eig of H\")\n",
    "# #     print(\"should be\", valsH[i], '\\n')\n",
    "#     a = (vec.conj()@Ssmal@vec)\n",
    "#     print(\"S:\", hm.chop(a))\n",
    "# #     print(str(i) + \" should be\", valsH[i], '\\n')"
   ]
  },
  {
   "cell_type": "code",
   "execution_count": 5,
   "metadata": {},
   "outputs": [],
   "source": [
    "valsS, vecsS = la.eigh(Ssmal)\n",
    "Sdiag = vecsS.conj().T@Hsmal@vecsS\n",
    "# print(np.absolute(Sdiag))\n",
    "# plt.matshow(np.absolute(Sdiag))\n",
    "# plt.show()\n",
    "vals = np.round(valsS).astype('int')\n",
    "counts = np.bincount(vals)\n",
    "mask = (vals == np.argmax(counts))\n",
    "# plt.matshow(np.absolute(Sdiag)[mask][:,mask])\n",
    "# plt.show()"
   ]
  },
  {
   "cell_type": "code",
   "execution_count": 6,
   "metadata": {
    "collapsed": true
   },
   "outputs": [
    {
     "name": "stdout",
     "output_type": "stream",
     "text": [
      "[-9.    -8.848 -8.689 -8.677 -8.452 -8.257 -8.159 -8.063 -7.935 -7.886\n",
      " -7.842 -7.725 -7.618 -7.497 -7.477 -7.382 -7.204 -7.179 -7.035 -7.034\n",
      " -6.989 -6.877 -6.853 -6.773 -6.716 -6.644 -6.58  -6.531 -6.503 -6.464\n",
      " -6.453 -6.312 -6.275 -6.255 -6.231 -6.115 -6.083 -6.068 -6.045 -5.988\n",
      " -5.965 -5.929 -5.853 -5.831 -5.726 -5.691 -5.644 -5.632 -5.554 -5.532\n",
      " -5.508 -5.473 -5.452 -5.406 -5.372 -5.331 -5.3   -5.246 -5.234 -5.197\n",
      " -5.175 -5.126 -5.073 -5.014 -4.974 -4.948 -4.928 -4.919 -4.884 -4.838\n",
      " -4.787 -4.755 -4.701 -4.665 -4.634 -4.613 -4.578 -4.511 -4.492 -4.472\n",
      " -4.427 -4.422 -4.393 -4.352 -4.336 -4.302 -4.267 -4.248 -4.22  -4.202\n",
      " -4.168 -4.136 -4.128 -4.037 -4.013 -3.999 -3.975 -3.934 -3.918 -3.905\n",
      " -3.883 -3.816 -3.787 -3.766 -3.739 -3.727 -3.678 -3.659 -3.651 -3.587\n",
      " -3.574 -3.532 -3.516 -3.48  -3.457 -3.451 -3.399 -3.391 -3.381 -3.364\n",
      " -3.338 -3.309 -3.263 -3.238 -3.22  -3.19  -3.166 -3.15  -3.13  -3.112\n",
      " -3.082 -3.059 -3.032 -3.014 -3.003 -2.977 -2.948 -2.934 -2.904 -2.866\n",
      " -2.844 -2.819 -2.793 -2.779 -2.776 -2.73  -2.719 -2.696 -2.693 -2.651\n",
      " -2.65  -2.623 -2.6   -2.595 -2.568 -2.544 -2.538 -2.524 -2.501 -2.473\n",
      " -2.45  -2.419 -2.408 -2.374 -2.357 -2.323 -2.317 -2.298 -2.282 -2.27\n",
      " -2.225 -2.219 -2.196 -2.172 -2.156 -2.142 -2.078 -2.066 -2.05  -2.036\n",
      " -2.005 -1.999 -1.968 -1.944 -1.924 -1.918 -1.896 -1.873 -1.854 -1.798\n",
      " -1.785 -1.775 -1.768 -1.757 -1.737 -1.712 -1.672 -1.654 -1.64  -1.632\n",
      " -1.615 -1.574 -1.564 -1.521 -1.515 -1.496 -1.49  -1.467 -1.458 -1.425\n",
      " -1.396 -1.382 -1.348 -1.335 -1.317 -1.305 -1.284 -1.27  -1.26  -1.238\n",
      " -1.213 -1.201 -1.177 -1.153 -1.134 -1.106 -1.082 -1.07  -1.056 -1.044\n",
      " -1.01  -0.992 -0.976 -0.956 -0.94  -0.907 -0.895 -0.887 -0.853 -0.83\n",
      " -0.825 -0.787 -0.774 -0.769 -0.749 -0.726 -0.701 -0.694 -0.675 -0.657\n",
      " -0.617 -0.606 -0.579 -0.578 -0.576 -0.568 -0.539 -0.514 -0.485 -0.48\n",
      " -0.475 -0.443 -0.415 -0.399 -0.382 -0.378 -0.361 -0.337 -0.318 -0.299\n",
      " -0.282 -0.275 -0.255 -0.221 -0.21  -0.182 -0.164 -0.142 -0.133 -0.105\n",
      " -0.095 -0.069 -0.056 -0.043 -0.023 -0.018  0.018  0.023  0.043  0.056\n",
      "  0.069  0.095  0.105  0.133  0.142  0.164  0.182  0.21   0.221  0.255\n",
      "  0.275  0.282  0.299  0.318  0.337  0.361  0.378  0.382  0.399  0.415\n",
      "  0.443  0.475  0.48   0.485  0.514  0.539  0.568  0.576  0.578  0.579\n",
      "  0.606  0.617  0.657  0.675  0.694  0.701  0.726  0.749  0.769  0.774\n",
      "  0.787  0.825  0.83   0.853  0.887  0.895  0.907  0.94   0.956  0.976\n",
      "  0.992  1.01   1.044  1.056  1.07   1.082  1.106  1.134  1.153  1.177\n",
      "  1.201  1.213  1.238  1.26   1.27   1.284  1.305  1.317  1.335  1.348\n",
      "  1.382  1.396  1.425  1.458  1.467  1.49   1.496  1.515  1.521  1.564\n",
      "  1.574  1.615  1.632  1.64   1.654  1.672  1.712  1.737  1.757  1.768\n",
      "  1.775  1.785  1.798  1.854  1.873  1.896  1.918  1.924  1.944  1.968\n",
      "  1.999  2.005  2.036  2.05   2.066  2.078  2.142  2.156  2.172  2.196\n",
      "  2.219  2.225  2.27   2.282  2.298  2.317  2.323  2.357  2.374  2.408\n",
      "  2.419  2.45   2.473  2.501  2.524  2.538  2.544  2.568  2.595  2.6    2.623\n",
      "  2.65   2.651  2.693  2.696  2.719  2.73   2.776  2.779  2.793  2.819\n",
      "  2.844  2.866  2.904  2.934  2.948  2.977  3.003  3.014  3.032  3.059\n",
      "  3.082  3.112  3.13   3.15   3.166  3.19   3.22   3.238  3.263  3.309\n",
      "  3.338  3.364  3.381  3.391  3.399  3.451  3.457  3.48   3.516  3.532\n",
      "  3.574  3.587  3.651  3.659  3.678  3.727  3.739  3.766  3.787  3.816\n",
      "  3.883  3.905  3.918  3.934  3.975  3.999  4.013  4.037  4.128  4.136\n",
      "  4.168  4.202  4.22   4.248  4.267  4.302  4.336  4.352  4.393  4.422\n",
      "  4.427  4.472  4.492  4.511  4.578  4.613  4.634  4.665  4.701  4.755\n",
      "  4.787  4.838  4.884  4.919  4.928  4.948  4.974  5.014  5.073  5.126\n",
      "  5.175  5.197  5.234  5.246  5.3    5.331  5.372  5.406  5.452  5.473\n",
      "  5.508  5.532  5.554  5.632  5.644  5.691  5.726  5.831  5.853  5.929\n",
      "  5.965  5.988  6.045  6.068  6.083  6.115  6.231  6.255  6.275  6.312\n",
      "  6.453  6.464  6.503  6.531  6.58   6.644  6.716  6.773  6.853  6.877\n",
      "  6.989  7.034  7.035  7.179  7.204  7.382  7.477  7.497  7.618  7.725\n",
      "  7.842  7.886  7.935  8.063  8.159  8.257  8.452  8.677  8.689  8.848  9.   ]\n",
      "[-8.9996175  -8.84819554 -8.68923245 -8.67692688 -8.45242675 -8.25687098\n",
      " -8.1590845  -8.06303532 -7.9347241  -7.88587784 -7.84161347 -7.7249443\n",
      " -7.6181759  -7.49685036 -7.47698937 -7.38240908 -7.20380381 -7.17867915\n",
      " -7.03515212 -7.03413871 -6.9885014  -6.87697113 -6.8525016  -6.77311638\n",
      " -6.71626311 -6.64399942 -6.58037944 -6.53125346 -6.50275942 -6.46366381\n",
      " -6.45307221 -6.31219396 -6.2749847  -6.25490059 -6.2314571  -6.11519395\n",
      " -6.08317937 -6.06832472 -6.04480462 -5.98775884 -5.96511473 -5.92866158\n",
      " -5.85331977 -5.83063985 -5.72618247 -5.69084599 -5.64394013 -5.6322973\n",
      " -5.55403097 -5.53210604 -5.5078427  -5.47311609 -5.45177832 -5.4064203\n",
      " -5.37218639 -5.33060394 -5.3004144  -5.24584427 -5.23414782 -5.19688812\n",
      " -5.17452284 -5.12588546 -5.07281729 -5.01404872 -4.97442871 -4.94802311\n",
      " -4.92805079 -4.9186112  -4.88361191 -4.83766965 -4.78659214 -4.75455015\n",
      " -4.70063674 -4.66477592 -4.63435566 -4.61310498 -4.57826459 -4.51147039\n",
      " -4.49215939 -4.47151659 -4.42722388 -4.42154659 -4.39268264 -4.35190522\n",
      " -4.33649396 -4.30166241 -4.2671816  -4.24766452 -4.21990346 -4.20201537\n",
      " -4.16833752 -4.13564091 -4.12832344 -4.03685839 -4.013038   -3.99928083\n",
      " -3.9746102  -3.9335758  -3.91782489 -3.90495737 -3.88323118 -3.81613976\n",
      " -3.786544   -3.76618732 -3.73944029 -3.72740227 -3.67814507 -3.65865021\n",
      " -3.65088961 -3.58654567 -3.57380373 -3.53239661 -3.51584349 -3.47975911\n",
      " -3.45738421 -3.45072339 -3.39904302 -3.39068937 -3.38113237 -3.36352673\n",
      " -3.33816432 -3.30908759 -3.26262092 -3.23834987 -3.22008174 -3.18953675\n",
      " -3.16567367 -3.1498195  -3.13017526 -3.11225517 -3.08225952 -3.0585942\n",
      " -3.03228556 -3.01408989 -3.00288772 -2.97713273 -2.94765614 -2.93359407\n",
      " -2.90387719 -2.86557383 -2.84440364 -2.81876468 -2.79289201 -2.77904059\n",
      " -2.77618312 -2.72962565 -2.71860011 -2.69634227 -2.69349133 -2.65118944\n",
      " -2.64959968 -2.62311014 -2.59966068 -2.59487039 -2.56794459 -2.54354752\n",
      " -2.53789602 -2.52394246 -2.50101851 -2.47330515 -2.45040925 -2.41901464\n",
      " -2.40806171 -2.37382602 -2.35706806 -2.32328122 -2.31688407 -2.29802931\n",
      " -2.28196567 -2.2704766  -2.22526328 -2.21880053 -2.19646104 -2.17159752\n",
      " -2.15562799 -2.14218358 -2.07785834 -2.06632422 -2.04984023 -2.03623263\n",
      " -2.00492544 -1.99871121 -1.96843961 -1.9444626  -1.92440629 -1.91776492\n",
      " -1.89647253 -1.87282077 -1.85397817 -1.79752999 -1.78489132 -1.77501193\n",
      " -1.76803125 -1.75740634 -1.73651241 -1.71215557 -1.67169625 -1.65435493\n",
      " -1.63963304 -1.63211607 -1.61470763 -1.57370614 -1.56437663 -1.52067672\n",
      " -1.51480446 -1.49615842 -1.48970755 -1.46651745 -1.45846044 -1.42483521\n",
      " -1.3962416  -1.38196838 -1.34789458 -1.33476955 -1.31726999 -1.30485882\n",
      " -1.2842874  -1.2700973  -1.26018115 -1.23809235 -1.21317536 -1.20088375\n",
      " -1.17650512 -1.15306248 -1.13355125 -1.10585268 -1.0819503  -1.0700561\n",
      " -1.05561438 -1.04440695 -1.00992046 -0.99221541 -0.97565156 -0.95623645\n",
      " -0.93955356 -0.90687126 -0.89508392 -0.88669955 -0.85305679 -0.83049125\n",
      " -0.82514426 -0.78696566 -0.77411476 -0.76941812 -0.74863248 -0.72643493\n",
      " -0.7006895  -0.69445218 -0.67542502 -0.65744911 -0.61740336 -0.60640996\n",
      " -0.57857857 -0.57750849 -0.57594939 -0.56762284 -0.53897583 -0.51403901\n",
      " -0.48461061 -0.47960503 -0.47459696 -0.44254383 -0.41513272 -0.39930329\n",
      " -0.38198794 -0.37762754 -0.36130165 -0.33737196 -0.31800955 -0.29880447\n",
      " -0.28195633 -0.27522912 -0.25509747 -0.22084706 -0.20975599 -0.18189269\n",
      " -0.16427572 -0.14180129 -0.13265319 -0.10465509 -0.09501268 -0.06882805\n",
      " -0.0557017  -0.04318152 -0.0226106  -0.01849009  0.01849009  0.0226106\n",
      "  0.04318152  0.0557017   0.06882805  0.09501268  0.10465509  0.13265319\n",
      "  0.14180129  0.16427572  0.18189269  0.20975599  0.22084706  0.25509747\n",
      "  0.27522912  0.28195633  0.29880447  0.31800955  0.33737196  0.36130165\n",
      "  0.37762754  0.38198794  0.39930329  0.41513272  0.44254383  0.47459696\n",
      "  0.47960503  0.48461061  0.51403901  0.53897583  0.56762284  0.57594939\n",
      "  0.57750849  0.57857857  0.60640996  0.61740336  0.65744911  0.67542502\n",
      "  0.69445218  0.7006895   0.72643493  0.74863248  0.76941812  0.77411476\n",
      "  0.78696566  0.82514426  0.83049125  0.85305679  0.88669955  0.89508392\n",
      "  0.90687126  0.93955356  0.95623645  0.97565156  0.99221541  1.00992046\n",
      "  1.04440695  1.05561438  1.0700561   1.0819503   1.10585268  1.13355125\n",
      "  1.15306248  1.17650512  1.20088375  1.21317536  1.23809235  1.26018115\n",
      "  1.2700973   1.2842874   1.30485882  1.31726999  1.33476955  1.34789458\n",
      "  1.38196838  1.3962416   1.42483521  1.45846044  1.46651745  1.48970755\n",
      "  1.49615842  1.51480446  1.52067672  1.56437663  1.57370614  1.61470763\n",
      "  1.63211607  1.63963304  1.65435493  1.67169625  1.71215557  1.73651241\n",
      "  1.75740634  1.76803125  1.77501193  1.78489132  1.79752999  1.85397817\n",
      "  1.87282077  1.89647253  1.91776492  1.92440629  1.9444626   1.96843961\n",
      "  1.99871121  2.00492544  2.03623263  2.04984023  2.06632422  2.07785834\n",
      "  2.14218358  2.15562799  2.17159752  2.19646104  2.21880053  2.22526328\n",
      "  2.2704766   2.28196567  2.29802931  2.31688407  2.32328122  2.35706806\n",
      "  2.37382602  2.40806171  2.41901464  2.45040925  2.47330515  2.50101851\n",
      "  2.52394246  2.53789602  2.54354752  2.56794459  2.59487039  2.59966068\n",
      "  2.62311014  2.64959968  2.65118944  2.69349133  2.69634227  2.71860011\n",
      "  2.72962565  2.77618312  2.77904059  2.79289201  2.81876468  2.84440364\n",
      "  2.86557383  2.90387719  2.93359407  2.94765614  2.97713273  3.00288772\n",
      "  3.01408989  3.03228556  3.0585942   3.08225952  3.11225517  3.13017526\n",
      "  3.1498195   3.16567367  3.18953675  3.22008174  3.23834987  3.26262092\n",
      "  3.30908759  3.33816432  3.36352673  3.38113237  3.39068937  3.39904302\n",
      "  3.45072339  3.45738421  3.47975911  3.51584349  3.53239661  3.57380373\n",
      "  3.58654567  3.65088961  3.65865021  3.67814507  3.72740227  3.73944029\n",
      "  3.76618732  3.786544    3.81613976  3.88323118  3.90495737  3.91782489\n",
      "  3.9335758   3.9746102   3.99928083  4.013038    4.03685839  4.12832344\n",
      "  4.13564091  4.16833752  4.20201537  4.21990346  4.24766452  4.2671816\n",
      "  4.30166241  4.33649396  4.35190522  4.39268264  4.42154659  4.42722388\n",
      "  4.47151659  4.49215939  4.51147039  4.57826459  4.61310498  4.63435566\n",
      "  4.66477592  4.70063674  4.75455015  4.78659214  4.83766965  4.88361191\n",
      "  4.9186112   4.92805079  4.94802311  4.97442871  5.01404872  5.07281729\n",
      "  5.12588546  5.17452284  5.19688812  5.23414782  5.24584427  5.3004144\n",
      "  5.33060394  5.37218639  5.4064203   5.45177832  5.47311609  5.5078427\n",
      "  5.53210604  5.55403097  5.6322973   5.64394013  5.69084599  5.72618247\n",
      "  5.83063985  5.85331977  5.92866158  5.96511473  5.98775884  6.04480462\n",
      "  6.06832472  6.08317937  6.11519395  6.2314571   6.25490059  6.2749847\n",
      "  6.31219396  6.45307221  6.46366381  6.50275942  6.53125346  6.58037944\n",
      "  6.64399942  6.71626311  6.77311638  6.8525016   6.87697113  6.9885014\n",
      "  7.03413871  7.03515212  7.17867915  7.20380381  7.38240908  7.47698937\n",
      "  7.49685036  7.6181759   7.7249443   7.84161347  7.88587784  7.9347241\n",
      "  8.06303532  8.1590845   8.25687098  8.45242675  8.67692688  8.68923245\n",
      "  8.84819554  8.9996175 ]\n"
     ]
    }
   ],
   "source": [
    "Htiny = (vecsS.conj().T@Hsmal@vecsS)[mask][:,mask]\n",
    "valsH, vecsH = la.eigh(Htiny)\n",
    "print(hm.chop(valsH))\n",
    "print(valsH)"
   ]
  },
  {
   "cell_type": "code",
   "execution_count": 7,
   "metadata": {},
   "outputs": [
    {
     "data": {
      "text/plain": [
       "(array([  4.,   1.,   4.,   4.,   4.,   6.,   6.,   6.,   9.,  10.,   9.,\n",
       "         10.,  12.,  12.,  12.,  14.,  16.,  19.,  16.,  15.,  20.,  18.,\n",
       "         19.,  21.,  19.,  19.,  21.,  19.,  18.,  20.,  15.,  16.,  19.,\n",
       "         16.,  14.,  12.,  12.,  12.,  10.,   9.,  10.,   9.,   6.,   6.,\n",
       "          6.,   4.,   4.,   4.,   1.,   4.]),\n",
       " array([-8.9996175, -8.6396328, -8.2796481, -7.9196634, -7.5596787,\n",
       "        -7.199694 , -6.8397093, -6.4797246, -6.1197399, -5.7597552,\n",
       "        -5.3997705, -5.0397858, -4.6798011, -4.3198164, -3.9598317,\n",
       "        -3.599847 , -3.2398623, -2.8798776, -2.5198929, -2.1599082,\n",
       "        -1.7999235, -1.4399388, -1.0799541, -0.7199694, -0.3599847,\n",
       "         0.       ,  0.3599847,  0.7199694,  1.0799541,  1.4399388,\n",
       "         1.7999235,  2.1599082,  2.5198929,  2.8798776,  3.2398623,\n",
       "         3.599847 ,  3.9598317,  4.3198164,  4.6798011,  5.0397858,\n",
       "         5.3997705,  5.7597552,  6.1197399,  6.4797246,  6.8397093,\n",
       "         7.199694 ,  7.5596787,  7.9196634,  8.2796481,  8.6396328,\n",
       "         8.9996175]),\n",
       " <a list of 50 Patch objects>)"
      ]
     },
     "execution_count": 7,
     "metadata": {},
     "output_type": "execute_result"
    },
    {
     "data": {
      "image/png": "[encoded data removed]",
      "text/plain": [
       "<matplotlib.figure.Figure at 0x10ae71048>"
      ]
     },
     "metadata": {},
     "output_type": "display_data"
    }
   ],
   "source": [
    "plt.hist(valsH, 50, facecolor='green')"
   ]
  },
  {
   "cell_type": "code",
   "execution_count": null,
   "metadata": {
    "collapsed": true
   },
   "outputs": [],
   "source": []
  },
  {
   "cell_type": "code",
   "execution_count": null,
   "metadata": {
    "collapsed": true
   },
   "outputs": [],
   "source": []
  }
 ],
 "metadata": {
  "kernelspec": {
   "display_name": "Python 3",
   "language": "python",
   "name": "python3"
  },
  "language_info": {
   "codemirror_mode": {
    "name": "ipython",
    "version": 3
   },
   "file_extension": ".py",
   "mimetype": "text/x-python",
   "name": "python",
   "nbconvert_exporter": "python",
   "pygments_lexer": "ipython3",
   "version": "3.5.3"
  }
 },
 "nbformat": 4,
 "nbformat_minor": 1
}
