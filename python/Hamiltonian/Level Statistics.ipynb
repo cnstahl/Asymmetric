{
 "cells": [
  {
   "cell_type": "code",
   "execution_count": 1,
   "metadata": {
    "collapsed": true
   },
   "outputs": [],
   "source": [
    "import numpy as np\n",
    "import scipy.linalg as la\n",
    "import hamiltonian as hm\n",
    "%matplotlib inline\n",
    "import matplotlib.pyplot as plt"
   ]
  },
  {
   "cell_type": "code",
   "execution_count": 151,
   "metadata": {
    "collapsed": true
   },
   "outputs": [],
   "source": [
    "L = 5\n",
    "H = hm.sparse_H(L)\n",
    "vals, vecs = la.eigh(H)"
   ]
  },
  {
   "cell_type": "code",
   "execution_count": 152,
   "metadata": {},
   "outputs": [
    {
     "name": "stdout",
     "output_type": "stream",
     "text": [
      "[ 3  3  3  3  3  3  3  3  3  3 15 15 15 15 15 15 15 15 15 15 15 15 15 15 15\n",
      " 15 35 35 35 35 35 35]\n",
      "[ 0.5  0.5  0.5  0.5  0.5  0.5  0.5  0.5  0.5  0.5  1.5  1.5  1.5  1.5  1.5\n",
      "  1.5  1.5  1.5  1.5  1.5  1.5  1.5  1.5  1.5  1.5  1.5  2.5  2.5  2.5  2.5\n",
      "  2.5  2.5]\n"
     ]
    }
   ],
   "source": [
    "Z = np.zeros((2**L,2**L))\n",
    "for i in range(L):\n",
    "    Zi = 1\n",
    "    for j in range(L):\n",
    "        if (j==i): Zi = np.kron(Zi,hm.Z)\n",
    "        else: Zi = np.kron(Zi,hm.I)\n",
    "    Z += Zi\n",
    "\n",
    "X = np.zeros((2**L,2**L))\n",
    "for i in range(L):\n",
    "    Xi = 1\n",
    "    for j in range(L):\n",
    "        if (j==i): Xi = np.kron(Xi,hm.X)\n",
    "        else: Xi = np.kron(Xi,hm.I)\n",
    "    X += Xi\n",
    "\n",
    "Y = np.zeros((2**L,2**L), dtype=complex)\n",
    "for i in range(L):\n",
    "    Yi = 1\n",
    "    for j in range(L):\n",
    "        if (j==i): Yi = np.kron(Yi,hm.Y)\n",
    "        else: Yi = np.kron(Yi,hm.I)\n",
    "    Y += Yi\n",
    "    \n",
    "# print(Z@Z)\n",
    "# vals, vecs = la.eigh(Z)\n",
    "# print(vals)\n",
    "    \n",
    "S2 = X@X + Y@Y + Z@Z\n",
    "vals2, _ = la.eigh(S2)\n",
    "# print(hm.chop(S2))\n",
    "print(hm.chop(vals2))\n",
    "print(hm.chop(np.sqrt(vals2+1)-1)/2)"
   ]
  },
  {
   "cell_type": "code",
   "execution_count": 157,
   "metadata": {},
   "outputs": [],
   "source": [
    "# eigs of H\n",
    "valsH, vecsH = la.eigh(H)\n",
    "for i, vec in enumerate(vecsH.T):\n",
    "    a = (H@vec)\n",
    "    a = a[np.absolute(vec) > .0001]\n",
    "    a = a/vec[np.absolute(vec) > .0001]\n",
    "#     if np.all(np.isclose(a[0], a)): print(\"H:\", a[0])\n",
    "#     else: print(\"not an eig of H\")\n",
    "#     print(\"should be\", valsH[i], '\\n')"
   ]
  },
  {
   "cell_type": "code",
   "execution_count": 172,
   "metadata": {},
   "outputs": [
    {
     "name": "stdout",
     "output_type": "stream",
     "text": [
      "not an eig of Z (1-0j) (0.201850725583+0.0302675080896j)\n",
      "not an eig of Z (1+0j) (0.00258438087645+0.000387527807287j)\n",
      "not an eig of Z (-1-0j) (0.0971649552771-0.374911741616j)\n",
      "not an eig of Z (1+0j) (0.00174886689924+0.000206520340168j)\n",
      "not an eig of Z (1+0j) (-0.000219899449006-0.00033022258851j)\n",
      "Z: (3+0j)\n",
      "not an eig of Z (1-0j) (-0.00378539442432-0.00388993546564j)\n",
      "not an eig of Z (1+0j) (-0.201289629358-0.206848634604j)\n",
      "not an eig of Z (1-0j) (-0.398375177237-0.107781585398j)\n",
      "not an eig of Z (1+5.78605256474e-18j) (-0.272474031328-0.0737186570708j)\n",
      "not an eig of Z (1-0j) (-0.0018841457852-0.000509761228743j)\n",
      "Z: (3-0j)\n",
      "not an eig of Z (1+0j) (-0.00752534816927-4.89468909288e-05j)\n",
      "not an eig of Z (1+0j) (-0.115808086937-0.0641535967723j)\n",
      "not an eig of Z (1-0j) (-0.215694452696-0.0222067681645j)\n",
      "Z: (5+0j)\n",
      "Z: (-5+0j)\n",
      "not an eig of Z (1+0j) (-0.362362456974+0.0639715876544j)\n",
      "Z: (3-0j)\n",
      "not an eig of Z (1-0j) (-0.000133894063596-1.02778506083e-05j)\n",
      "not an eig of Z (1-0j) (-0.000670568565994-0.00411336782579j)\n",
      "not an eig of Z (1-0j) (0.00368135434867+0.00165369990261j)\n",
      "Z: (3+0j)\n",
      "not an eig of Z (-1-0j) (0.0804460975417+0.493468388051j)\n",
      "not an eig of Z (1+0j) (-0.0110393889349+0.00738030904186j)\n",
      "not an eig of Z (1-0j) (-0.239730130414+0.160269962362j)\n",
      "not an eig of Z (1-2.25113924395e-17j) (0.352956655298+0.158803816501j)\n",
      "Z: (3-0j)\n",
      "not an eig of Z (1+0j) (0.00147091605235+0.000661801043724j)\n",
      "not an eig of Z (1+0j) (-0.0129080259796-0.00580763603203j)\n",
      "not an eig of Z (1-0j) (0.0138190835233-0.0109801501145j)\n",
      "not an eig of Z (1-0j) (-0.159218488397+0.126509323187j)\n"
     ]
    }
   ],
   "source": [
    "# expectations of Z in eigs of H\n",
    "valsH, vecsH = la.eigh(H)\n",
    "Zs = []\n",
    "for i, vec in enumerate(vecsH.T):\n",
    "    a = (Z@vec)\n",
    "    a = a[np.absolute(vec) > .0001]\n",
    "    a = a/vec[np.absolute(vec) > .0001]\n",
    "    if np.all(np.isclose(a[0], a)): \n",
    "        print(\"Z:\", a[0])\n",
    "        Zs.append(a[0])\n",
    "    else: \n",
    "        print(\"not an eig of Z\", a[0], vec[np.absolute(vec) > .0001][np.argmax(np.absolute(a - a[0]))])\n",
    "        Zs.append(None)\n",
    "#     print(\"should be\", valsX[i], '\\n')"
   ]
  },
  {
   "cell_type": "code",
   "execution_count": 148,
   "metadata": {},
   "outputs": [
    {
     "name": "stdout",
     "output_type": "stream",
     "text": [
      "[ 1.  1.  1.]\n"
     ]
    }
   ],
   "source": [
    "Zs = np.array(np.real(Zs))\n",
    "Zarr = Zs[Zs > -1E-10]\n",
    "mask = np.isclose(Zs, np.min(np.min(Zarr)))\n",
    "print(Zs[mask])"
   ]
  },
  {
   "cell_type": "code",
   "execution_count": 149,
   "metadata": {},
   "outputs": [],
   "source": [
    "vecs = vecsH.T[mask]\n",
    "Ss = []\n",
    "for i, vec in enumerate(vecsH.T):\n",
    "    a = (S2@vec)\n",
    "    a = a[np.absolute(vec) > .0001]\n",
    "    a = a/vec[np.absolute(vec) > .0001]\n",
    "    if np.all(np.isclose(a[0], a)): \n",
    "#         print(\"Z:\", a[0])\n",
    "        Ss.append(a[0])\n",
    "    else: \n",
    "#         print(\"not an eig of Z\")\n",
    "        Ss.append(None)\n",
    "#     print(\"should be\", valsX[i], '\\n')\n",
    "Ss = np.real(np.array(Ss))"
   ]
  },
  {
   "cell_type": "code",
   "execution_count": 150,
   "metadata": {},
   "outputs": [
    {
     "data": {
      "text/plain": [
       "array([  3.,  15.,   3.])"
      ]
     },
     "execution_count": 150,
     "metadata": {},
     "output_type": "execute_result"
    }
   ],
   "source": [
    "Ss[mask]"
   ]
  },
  {
   "cell_type": "code",
   "execution_count": 48,
   "metadata": {},
   "outputs": [
    {
     "name": "stdout",
     "output_type": "stream",
     "text": [
      "[  3.   3.   3.   3.  15.  15.  15.  15.]\n"
     ]
    }
   ],
   "source": [
    "print(vals)"
   ]
  },
  {
   "cell_type": "code",
   "execution_count": 78,
   "metadata": {},
   "outputs": [
    {
     "name": "stdout",
     "output_type": "stream",
     "text": [
      "[ nan  nan  nan  nan  nan  nan  nan  -3.]\n",
      "\n",
      "[ nan  nan  nan  -1.  nan  nan  nan  nan]\n",
      "\n",
      "[ nan  nan  nan  nan  nan  -1.  nan  nan]\n",
      "\n",
      "[ nan  nan  nan  nan  nan  nan  -1.  nan]\n",
      "\n",
      "[ nan  nan  nan  nan   1.  nan  nan  nan]\n",
      "\n",
      "[ nan  nan   1.  nan  nan  nan  nan  nan]\n",
      "\n",
      "[ nan   1.  nan  nan  nan  nan  nan  nan]\n",
      "\n",
      "[  3.  nan  nan  nan  nan  nan  nan  nan]\n",
      "\n"
     ]
    },
    {
     "name": "stderr",
     "output_type": "stream",
     "text": [
      "/Users/cstahl/anaconda3/lib/python3.5/site-packages/ipykernel/__main__.py:3: RuntimeWarning: invalid value encountered in true_divide\n",
      "  app.launch_new_instance()\n"
     ]
    }
   ],
   "source": [
    "for vec in vecs.T.conj():\n",
    "#     print(vec)\n",
    "    print((Z@vec)/vec)\n",
    "    print()"
   ]
  },
  {
   "cell_type": "code",
   "execution_count": 161,
   "metadata": {},
   "outputs": [
    {
     "name": "stdout",
     "output_type": "stream",
     "text": [
      "[[ 5.]]\n",
      "[[ 3.  0.  0.  0.  0.]\n",
      " [ 0.  3.  0.  0.  0.]\n",
      " [ 0.  0.  3.  0.  0.]\n",
      " [ 0.  0.  0.  3.  0.]\n",
      " [ 0.  0.  0.  0.  3.]]\n",
      "[[ 1.  0.  0.  0.  0.  0.  0.  0.  0.  0.]\n",
      " [ 0.  1.  0.  0.  0.  0.  0.  0.  0.  0.]\n",
      " [ 0.  0.  1.  0.  0.  0.  0.  0.  0.  0.]\n",
      " [ 0.  0.  0.  1.  0.  0.  0.  0.  0.  0.]\n",
      " [ 0.  0.  0.  0.  1.  0.  0.  0.  0.  0.]\n",
      " [ 0.  0.  0.  0.  0.  1.  0.  0.  0.  0.]\n",
      " [ 0.  0.  0.  0.  0.  0.  1.  0.  0.  0.]\n",
      " [ 0.  0.  0.  0.  0.  0.  0.  1.  0.  0.]\n",
      " [ 0.  0.  0.  0.  0.  0.  0.  0.  1.  0.]\n",
      " [ 0.  0.  0.  0.  0.  0.  0.  0.  0.  1.]]\n",
      "[[-1.  0.  0.  0.  0.  0.  0.  0.  0.  0.]\n",
      " [ 0. -1.  0.  0.  0.  0.  0.  0.  0.  0.]\n",
      " [ 0.  0. -1.  0.  0.  0.  0.  0.  0.  0.]\n",
      " [ 0.  0.  0. -1.  0.  0.  0.  0.  0.  0.]\n",
      " [ 0.  0.  0.  0. -1.  0.  0.  0.  0.  0.]\n",
      " [ 0.  0.  0.  0.  0. -1.  0.  0.  0.  0.]\n",
      " [ 0.  0.  0.  0.  0.  0. -1.  0.  0.  0.]\n",
      " [ 0.  0.  0.  0.  0.  0.  0. -1.  0.  0.]\n",
      " [ 0.  0.  0.  0.  0.  0.  0.  0. -1.  0.]\n",
      " [ 0.  0.  0.  0.  0.  0.  0.  0.  0. -1.]]\n",
      "[[-3.  0.  0.  0.  0.]\n",
      " [ 0. -3.  0.  0.  0.]\n",
      " [ 0.  0. -3.  0.  0.]\n",
      " [ 0.  0.  0. -3.  0.]\n",
      " [ 0.  0.  0.  0. -3.]]\n",
      "[[-5.]]\n"
     ]
    }
   ],
   "source": [
    "for arr in hm.mat2list(Z): print(arr)"
   ]
  },
  {
   "cell_type": "code",
   "execution_count": 189,
   "metadata": {},
   "outputs": [
    {
     "data": {
      "text/plain": [
       "<matplotlib.image.AxesImage at 0x10ea63128>"
      ]
     },
     "execution_count": 189,
     "metadata": {},
     "output_type": "execute_result"
    },
    {
     "data": {
      "image/png": "[encoded data removed]",
      "text/plain": [
       "<matplotlib.figure.Figure at 0x10e97a400>"
      ]
     },
     "metadata": {},
     "output_type": "display_data"
    }
   ],
   "source": [
    "alph2Sz, Sz2alph = hm.permutations(L)\n",
    "diag = vecsH.T\n",
    "diag = vecsH.T[alph2Sz]\n",
    "diag = diag[:,alph2Sz]\n",
    "plt.matshow(np.absolute(diag))"
   ]
  },
  {
   "cell_type": "code",
   "execution_count": null,
   "metadata": {
    "collapsed": true
   },
   "outputs": [],
   "source": []
  },
  {
   "cell_type": "code",
   "execution_count": null,
   "metadata": {
    "collapsed": true
   },
   "outputs": [],
   "source": []
  }
 ],
 "metadata": {
  "kernelspec": {
   "display_name": "Python 3",
   "language": "python",
   "name": "python3"
  },
  "language_info": {
   "codemirror_mode": {
    "name": "ipython",
    "version": 3
   },
   "file_extension": ".py",
   "mimetype": "text/x-python",
   "name": "python",
   "nbconvert_exporter": "python",
   "pygments_lexer": "ipython3",
   "version": "3.5.3"
  }
 },
 "nbformat": 4,
 "nbformat_minor": 1
}
