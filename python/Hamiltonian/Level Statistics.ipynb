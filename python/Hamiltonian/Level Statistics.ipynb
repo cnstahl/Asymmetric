{
 "cells": [
  {
   "cell_type": "code",
   "execution_count": 1,
   "metadata": {
    "collapsed": true
   },
   "outputs": [],
   "source": [
    "import numpy as np\n",
    "import scipy.linalg as la\n",
    "import hamiltonian as hm\n",
    "%matplotlib inline\n",
    "import matplotlib.pyplot as plt\n",
    "from random import gauss"
   ]
  },
  {
   "cell_type": "markdown",
   "metadata": {},
   "source": [
    "# Breaking Degeneracies"
   ]
  },
  {
   "cell_type": "code",
   "execution_count": 2,
   "metadata": {
    "collapsed": true
   },
   "outputs": [],
   "source": [
    "def ising_mult(l):\n",
    "    if (l==1): return np.zeros((2,2))\n",
    "    if (l==2): return np.matmul(np.kron(hm.Z,hm.I), np.kron(hm.I, hm.Z))\n",
    "    return (np.kron(ising_mult(l-1), np.eye(2)) + \n",
    "            np.kron(np.eye(2**(l-2)), np.matmul(np.kron(hm.Z,hm.I), np.kron(hm.I, hm.Z))))"
   ]
  },
  {
   "cell_type": "code",
   "execution_count": 3,
   "metadata": {
    "collapsed": true
   },
   "outputs": [],
   "source": [
    "def rand_vector():\n",
    "    vec = [gauss(0, 1) for i in range(3)]\n",
    "    mag = sum(x**2 for x in vec) ** .5\n",
    "    return [x/mag for x in vec]\n",
    "\n",
    "def rand_field(L):\n",
    "    H = np.zeros((2**L, 2**L), dtype='complex128')\n",
    "    for i in range(L):\n",
    "        vec = rand_vector()\n",
    "        Hi = 1\n",
    "        for j in range(L):\n",
    "            if (j==i): Hi = np.kron(Hi, vec[0]*hm.X+vec[1]*hm.Y+vec[2]*hm.Z)\n",
    "            else: Hi = np.kron(Hi,hm.I)\n",
    "        H += Hi\n",
    "    return H"
   ]
  },
  {
   "cell_type": "code",
   "execution_count": 4,
   "metadata": {
    "collapsed": true
   },
   "outputs": [],
   "source": [
    "L = 8\n",
    "dense = True\n",
    "if (dense):\n",
    "    H = hm.dense_H(L)\n",
    "    fix = 'dense'\n",
    "else:\n",
    "    H = hm.sparse_H(L)\n",
    "    fix = 'sparse'\n",
    "# vals, vecs = la.eigh(H)"
   ]
  },
  {
   "cell_type": "code",
   "execution_count": 5,
   "metadata": {
    "collapsed": true
   },
   "outputs": [],
   "source": [
    "Z  = hm.Zl(L)\n",
    "X  = hm.Xl(L)\n",
    "Y  = hm.Yl(L)\n",
    "S2 = hm.S2(L)\n",
    "Z2 = hm.Z2(L)"
   ]
  },
  {
   "cell_type": "code",
   "execution_count": 6,
   "metadata": {
    "collapsed": true
   },
   "outputs": [],
   "source": [
    "Hsmal = hm.mat2list(H)[(int)(L/2)]\n",
    "valsH, vecsH = la.eigh(Hsmal)\n",
    "# hm.chop(valsH)"
   ]
  },
  {
   "cell_type": "code",
   "execution_count": 7,
   "metadata": {},
   "outputs": [
    {
     "data": {
      "image/png": "[encoded data removed]",
      "text/plain": [
       "<matplotlib.figure.Figure at 0x1139e36a0>"
      ]
     },
     "metadata": {},
     "output_type": "display_data"
    }
   ],
   "source": [
    "vals = valsH\n",
    "# vals = valsH[valsH > 1e-10]\n",
    "delta = (vals - np.roll(vals, 1))[1:]\n",
    "stats = (np.minimum(delta, np.roll(delta, 1)) / np.maximum(delta, np.roll(delta, 1)))[1:]\n",
    "n, bins, patches = plt.hist(stats, 20, facecolor='green')\n",
    "plt.xlabel('r')\n",
    "plt.ylabel('p(r)')\n",
    "plt.title(\"Level Statistics, \" + fix + \", L=\" + str(L))\n",
    "plt.show()\n",
    "# plt.savefig(\"figures/level_stats_\" + fix + \"L\" + str(L) + \".pdf\")"
   ]
  },
  {
   "cell_type": "markdown",
   "metadata": {},
   "source": [
    "### Use Ising Term"
   ]
  },
  {
   "cell_type": "code",
   "execution_count": 8,
   "metadata": {
    "collapsed": true
   },
   "outputs": [],
   "source": [
    "ising_strength = -.1\n",
    "H_ising = H + ising_strength * ising_mult(L)\n",
    "Hsmal_i = hm.mat2list(H_ising)[(int)(L/2)]\n",
    "valsH_i, vecsH = la.eigh(Hsmal_i)"
   ]
  },
  {
   "cell_type": "code",
   "execution_count": 9,
   "metadata": {
    "scrolled": true
   },
   "outputs": [
    {
     "data": {
      "image/png": "[encoded data removed]",
      "text/plain": [
       "<matplotlib.figure.Figure at 0x118b76eb8>"
      ]
     },
     "metadata": {},
     "output_type": "display_data"
    }
   ],
   "source": [
    "vals = valsH_i\n",
    "# vals = valsH[valsH > 1e-10]\n",
    "delta = (vals - np.roll(vals, 1))[1:]\n",
    "stats = (np.minimum(delta, np.roll(delta, 1)) / np.maximum(delta, np.roll(delta, 1)))[1:]\n",
    "n, bins, patches = plt.hist(stats, 20, facecolor='green')\n",
    "plt.xlabel('r', fontsize=15)\n",
    "plt.ylabel('p(r)', fontsize=15)\n",
    "plt.title(\"Level Statistics, \" + fix + \", L=\" + str(L), fontsize=15)\n",
    "plt.savefig(\"figures/level_stats_\" + fix + \"L\" + str(L) + \".pdf\")\n",
    "plt.show()"
   ]
  },
  {
   "cell_type": "markdown",
   "metadata": {},
   "source": [
    "### Vary Ising field"
   ]
  },
  {
   "cell_type": "code",
   "execution_count": 31,
   "metadata": {},
   "outputs": [
    {
     "name": "stdout",
     "output_type": "stream",
     "text": [
      "0.0121635944855\n",
      "0.0121635944855\n",
      "0.0121635944855\n",
      "0.0121635944855\n",
      "0.0121635944855\n",
      "0.0121635944855\n",
      "0.0121635944855\n",
      "0.0121635944855\n",
      "0.0121635944855\n",
      "0.0121635944855\n",
      "0.0121635944855\n",
      "0.0121635944855\n",
      "0.0121635944855\n",
      "0.0121635944855\n",
      "0.0121635944855\n",
      "0.0121635944855\n",
      "0.0121635944855\n",
      "0.0121635944855\n",
      "0.0121635944855\n",
      "0.0121635944855\n",
      "0.0121635944855\n",
      "0.0121635944855\n",
      "0.0121635944855\n",
      "0.0121635944855\n",
      "0.0121635944855\n",
      "0.0121635944855\n",
      "0.0121635944855\n",
      "0.0121635944855\n",
      "0.0121635944855\n",
      "0.0121635944855\n",
      "0.0121635944855\n",
      "0.0121635944855\n",
      "0.0121635944855\n",
      "0.0121635944855\n",
      "0.0121635944855\n",
      "0.0121635944855\n",
      "0.0121635944855\n",
      "0.0121635944855\n",
      "0.0121635944855\n",
      "0.0121635944855\n",
      "0.0121635944855\n",
      "0.0121635944855\n",
      "0.0121635944855\n",
      "0.0121635944855\n",
      "0.0121635944855\n",
      "0.0121635944855\n",
      "0.0121635944855\n",
      "0.0121635944855\n",
      "0.0121635944855\n",
      "0.0121635944855\n",
      "0.0121635944855\n",
      "0.0121635944855\n",
      "0.0121635944855\n",
      "0.0121635944855\n",
      "0.0121635944855\n",
      "0.0121635944855\n",
      "0.0121635944855\n",
      "0.0121635944855\n",
      "0.0121635944855\n",
      "0.0121635944855\n",
      "0.0121635944855\n",
      "0.0121635944855\n",
      "0.0121635944855\n",
      "0.0121635944855\n",
      "0.0121635944855\n",
      "0.0121635944855\n",
      "0.0121635944855\n",
      "0.0121635944855\n",
      "0.0121635944855\n",
      "0.0121635944855\n",
      "0.0121635944855\n",
      "0.0121635944855\n",
      "0.0121635944855\n",
      "0.0121635944855\n",
      "0.0121635944855\n",
      "0.0121635944855\n",
      "0.0121635944855\n",
      "0.0121635944855\n",
      "0.0121635944855\n",
      "0.0121635944855\n",
      "0.0121635944855\n",
      "0.0121635944855\n",
      "0.0121635944855\n",
      "0.0121635944855\n",
      "0.0121635944855\n",
      "0.0121635944855\n",
      "0.0121635944855\n",
      "0.0121635944855\n",
      "0.0121635944855\n",
      "0.0121635944855\n",
      "0.0121635944855\n",
      "0.0121635944855\n",
      "0.0121635944855\n",
      "0.0121635944855\n",
      "0.0121635944855\n",
      "0.0121635944855\n",
      "0.0121635944855\n",
      "0.0121635944855\n",
      "0.0121635944855\n",
      "0.0121635944855\n"
     ]
    }
   ],
   "source": [
    "for i in range(100):\n",
    "    ising_strength = -10\n",
    "    H_ising = H + ising_strength * ising_mult(L)\n",
    "    Hsmal_i = hm.mat2list(H_ising)[(int)(L/2)]\n",
    "    vals, vecsH = la.eigh(Hsmal_i)\n",
    "    \n",
    "    # vals = valsH[valsH > 1e-10]\n",
    "    delta = (vals - np.roll(vals, 1))[1:]\n",
    "    stats = (np.minimum(delta, np.roll(delta, 1)) / np.maximum(delta, np.roll(delta, 1)))[1:]\n",
    "    print(np.average(stats))"
   ]
  },
  {
   "cell_type": "markdown",
   "metadata": {
    "collapsed": true
   },
   "source": [
    "### Use Random Field"
   ]
  },
  {
   "cell_type": "code",
   "execution_count": 10,
   "metadata": {
    "collapsed": true
   },
   "outputs": [],
   "source": [
    "field_strength = 5\n",
    "H_field = H + field_strength * rand_field(L)\n",
    "Hsmal_r = hm.mat2list(H_field)[(int)(L/2)]\n",
    "valsH_r, vecsH = la.eigh(H_field)\n",
    "# hm.chop(valsH_r)"
   ]
  },
  {
   "cell_type": "code",
   "execution_count": 11,
   "metadata": {},
   "outputs": [
    {
     "data": {
      "image/png": "[encoded data removed]",
      "text/plain": [
       "<matplotlib.figure.Figure at 0x118f06358>"
      ]
     },
     "metadata": {},
     "output_type": "display_data"
    }
   ],
   "source": [
    "vals = valsH_r\n",
    "# vals = valsH[valsH > 1e-10]\n",
    "delta = (vals - np.roll(vals, 1))[1:]\n",
    "# print(delta)\n",
    "stats = (np.minimum(delta, np.roll(delta, 1)) / np.maximum(delta, np.roll(delta, 1)))[1:]\n",
    "# print(stats)\n",
    "n, bins, patches = plt.hist(stats, bins=20, facecolor='green')\n",
    "plt.xlabel('r', fontsize=15)\n",
    "plt.ylabel('p(r)', fontsize=15)\n",
    "plt.title(\"Level Statistics, \" + fix + \", L=\" + str(L), fontsize=15)\n",
    "# plt.savefig(\"figures/level_stats_\" + fix + \"L\" + str(L) + \".pdf\")\n",
    "plt.show()"
   ]
  },
  {
   "cell_type": "markdown",
   "metadata": {},
   "source": [
    "### With stats"
   ]
  },
  {
   "cell_type": "code",
   "execution_count": 12,
   "metadata": {
    "collapsed": true
   },
   "outputs": [],
   "source": [
    "field_strength = 5\n",
    "trials = 10\n",
    "per_trial = 10\n",
    "data = np.zeros((trials, 20))\n",
    "# evls = np.zeros((trials, 2**L))\n",
    "for i in range(trials):\n",
    "    stats = np.zeros(2**L-2)\n",
    "    for j in range(per_trial):\n",
    "        H_field = H + field_strength * rand_field(L)\n",
    "#         Hsmal_r = hm.mat2list(H_field)[(int)(L/2)]\n",
    "        valsH_r, vecsH = la.eigh(H_field)\n",
    "        delta = (valsH_r - np.roll(valsH_r, 1))[1:]\n",
    "        stats += (np.minimum(delta, np.roll(delta, 1)) / np.maximum(delta, np.roll(delta, 1)))[1:]\n",
    "    data[i], bin_edges = np.histogram(stats[(int)(.25*len(stats)):(int)(.75*len(stats))]/per_trial, bins=20, range=(0,1))\n",
    "    \n",
    "    "
   ]
  },
  {
   "cell_type": "code",
   "execution_count": 13,
   "metadata": {},
   "outputs": [
    {
     "data": {
      "image/png": "[encoded data removed]",
      "text/plain": [
       "<matplotlib.figure.Figure at 0x118c36e48>"
      ]
     },
     "metadata": {},
     "output_type": "display_data"
    }
   ],
   "source": [
    "# y, bin_edges = np.histogram(np.mean(data, axis=1), bins=20)\n",
    "bin_centers = 0.5*(bin_edges[1:] + bin_edges[:-1])\n",
    "plt.errorbar(\n",
    "    bin_centers,\n",
    "    np.mean(data, axis=0),\n",
    "    yerr = np.std(data, axis=0)/np.sqrt(trials-1),\n",
    "    marker = '.',\n",
    "    drawstyle = 'steps-mid-'\n",
    ")\n",
    "plt.xlabel('r', fontsize=15)\n",
    "plt.ylabel('p(r)', fontsize=15)\n",
    "plt.title(\"Level Statistics, \" + fix + \", L=\" + str(L) + \", h=\" + str(field_strength), fontsize=15)\n",
    "plt.savefig(\"figures/level_stats_\" + fix + \"L\" + str(L) + \"h\" + str(field_strength) + \".pdf\")\n",
    "plt.show()"
   ]
  },
  {
   "cell_type": "markdown",
   "metadata": {},
   "source": [
    "### Expectations of S_z"
   ]
  },
  {
   "cell_type": "code",
   "execution_count": 14,
   "metadata": {
    "collapsed": true
   },
   "outputs": [],
   "source": [
    "field_strength = .0001\n",
    "trials = 100\n",
    "per_trial = 1\n",
    "bins=40\n",
    "data = np.zeros((trials, bins))\n",
    "# evls = np.zeros((trials, 2**L))\n",
    "for i in range(trials):\n",
    "    stats = np.zeros(2**L)\n",
    "    for j in range(per_trial):\n",
    "        H_field = H + field_strength * rand_field(L)\n",
    "#         Hsmal_r = hm.mat2list(H_field)[(int)(L/2)]\n",
    "        valsH_r, vecsH = la.eigh(H_field)\n",
    "        Zvals = hm.chop(np.einsum('ij,ji->i', np.dot(vecsH.conj().T, Z2), vecsH))\n",
    "        stats += Zvals\n",
    "#     data[i], bin_edges = np.histogram(stats[(int)(.25*len(stats)):(int)(.75*len(stats))]/per_trial, bins=bins, range=(0-5/bins,10-5/bins))\n",
    "    data[i], bin_edges = np.histogram(stats/per_trial, bins=bins, range=(0-5/bins,10-5/bins))\n",
    "\n"
   ]
  },
  {
   "cell_type": "code",
   "execution_count": 23,
   "metadata": {},
   "outputs": [
    {
     "data": {
      "image/png": "[encoded data removed]",
      "text/plain": [
       "<matplotlib.figure.Figure at 0x1193d99b0>"
      ]
     },
     "metadata": {},
     "output_type": "display_data"
    }
   ],
   "source": [
    "# y, bin_edges = np.histogram(np.mean(data, axis=1), bins=20)\n",
    "bin_centers = 0.5*(bin_edges[1:] + bin_edges[:-1])\n",
    "plt.errorbar(\n",
    "    bin_centers,\n",
    "    np.mean(data, axis=0),\n",
    "    yerr = np.std(data, axis=0)/np.sqrt(trials-1),\n",
    "    marker = '.',\n",
    "    drawstyle = 'steps-mid-'\n",
    ")\n",
    "plt.xlabel('$<S_Z>$', fontsize=15)\n",
    "plt.ylabel('$p(<S_Z>)$', fontsize=15)\n",
    "plt.title(\"Expectation of $S_Z$, \" + fix + \", L=\" + str(L) + \", h=\" + str(field_strength), fontsize=15)\n",
    "plt.savefig(\"figures/total_Sz_\" + fix + \"L\" + str(L) + \"h\" + str(field_strength) + \".pdf\")\n",
    "plt.show()"
   ]
  },
  {
   "cell_type": "code",
   "execution_count": null,
   "metadata": {
    "collapsed": true
   },
   "outputs": [],
   "source": []
  },
  {
   "cell_type": "code",
   "execution_count": null,
   "metadata": {
    "collapsed": true
   },
   "outputs": [],
   "source": []
  },
  {
   "cell_type": "code",
   "execution_count": null,
   "metadata": {
    "collapsed": true
   },
   "outputs": [],
   "source": []
  },
  {
   "cell_type": "code",
   "execution_count": null,
   "metadata": {
    "collapsed": true
   },
   "outputs": [],
   "source": []
  },
  {
   "cell_type": "code",
   "execution_count": 16,
   "metadata": {
    "collapsed": true
   },
   "outputs": [],
   "source": [
    "strength = 0.0001\n",
    "valsH_r, vecsH = la.eigh(H + strength*rand_field(L))\n",
    "Zvals = np.einsum('ij,ji->i', np.dot(vecsH.conj().T, Z), vecsH)\n",
    "Z2vals = np.einsum('ij,ji->i', np.dot(vecsH.conj().T, Z2), vecsH)\n",
    "S2vals = np.einsum('ij,ji->i', np.dot(vecsH.conj().T, S2), vecsH)"
   ]
  },
  {
   "cell_type": "code",
   "execution_count": 17,
   "metadata": {},
   "outputs": [
    {
     "name": "stdout",
     "output_type": "stream",
     "text": [
      "0 6.63565657735\n",
      "0 -6.63565657735\n",
      "0 -2.96192197926\n",
      "0 2.96192197926\n",
      "0 2.74821583409\n",
      "0 -2.74821583409\n",
      "0 -5.23184556662\n",
      "0 5.23184556662\n",
      "0.5 -0.784212442467\n",
      "0.5 0.784212442467\n",
      "0.5 0.784456868148\n",
      "0.5 -0.784456868148\n",
      "0.51 -2.63071437941\n",
      "0.51 2.63071437941\n",
      "0.51 2.63094175548\n",
      "0.51 -2.63094175548\n",
      "0.526 5.16238384688\n",
      "0.526 -5.16238384688\n",
      "0.527 5.16220281252\n",
      "0.527 -5.16220281252\n",
      "0.563 4.23816959347\n",
      "0.563 -4.23816959347\n",
      "0.563 -4.23826578083\n",
      "0.563 4.23826578083\n",
      "0.58 -5.96248785565\n",
      "0.58 5.96248785565\n",
      "0.58 5.96260579656\n",
      "0.58 -5.96260579656\n",
      "0.606 -3.22406738594\n",
      "0.606 3.22406738594\n",
      "0.606 -3.2239202454\n",
      "0.606 3.2239202454\n",
      "0.614 4.93903800876\n",
      "0.614 -4.93903800876\n",
      "0.614 -4.93922366897\n",
      "0.614 4.93922366897\n",
      "0.624 -7.45108534909\n",
      "0.624 7.45108534909\n",
      "0.624 -7.45089975327\n",
      "0.624 7.45089975327\n",
      "0.64 -2.23266868175\n",
      "0.64 2.23266868175\n",
      "0.64 2.23278261094\n",
      "0.64 -2.23278261094\n",
      "0.641 -0.50213457406\n",
      "0.641 0.50213457406\n",
      "0.641 -1.79163961232\n",
      "0.641 1.79163961232\n",
      "0.641 1.79174680613\n",
      "0.641 -1.79174680613\n",
      "0.651 -2.55955430085\n",
      "0.651 2.55955430085\n",
      "0.651 2.55967559848\n",
      "0.651 -2.55967559848\n",
      "0.68 0.502196270177\n",
      "0.68 -0.502196270177\n",
      "0.68 0.502072879763\n",
      "0.68 -0.502072879763\n",
      "0.699 2.55961496258\n",
      "0.699 -2.55961496258\n",
      "0.717 -1.7916932097\n",
      "0.717 1.7916932097\n",
      "0.72 2.23272564364\n",
      "0.72 -2.23272564364\n",
      "0.752 7.45099255114\n",
      "0.752 -7.45099255114\n",
      "0.771 -4.93913084176\n",
      "0.771 4.93913084176\n",
      "0.788 3.22399381688\n",
      "0.788 -3.22399381688\n",
      "0.84 -5.96254682144\n",
      "0.84 5.96254682144\n",
      "0.873 4.23821768917\n",
      "0.873 -4.23821768917\n",
      "0.947 -5.162293356\n",
      "0.947 5.162293356\n",
      "0.98 2.63082808334\n",
      "0.98 -2.63082808334\n",
      "1 -0.784334741878\n",
      "1 0.784334741878\n",
      "1.075 -1.19129511124\n",
      "1.075 1.19129511124\n",
      "1.075 1.19161384683\n",
      "1.075 -1.19161384683\n",
      "1.101 5.72003239981\n",
      "1.101 -5.72003239981\n",
      "1.101 -5.72040988906\n",
      "1.101 5.72040988906\n",
      "1.186 -4.79792357626\n",
      "1.186 4.79792357626\n",
      "1.186 4.79758950488\n",
      "1.186 -4.79758950488\n",
      "1.376 -3.39701146283\n",
      "1.376 3.39701146283\n",
      "1.377 3.39733759241\n",
      "1.377 -3.39733759241\n",
      "1.588 0.753382706208\n",
      "1.588 -0.753382706208\n",
      "1.594 -0.753106623755\n",
      "1.594 0.753106623755\n",
      "1.615 2.40168483422\n",
      "1.615 -2.40168483422\n",
      "1.616 -2.40142862417\n",
      "1.616 2.40142862417\n",
      "1.688 -0.000352039187745\n",
      "1.688 0.000352039187755\n",
      "1.734 -2.53613551464\n",
      "1.734 2.53613551464\n",
      "1.736 2.53585418197\n",
      "1.736 -2.53585418197\n",
      "1.848 0.000110864307049\n",
      "1.848 -0.000110864307052\n",
      "1.88 -1.77237405699e-05\n",
      "1.88 1.77237405701e-05\n",
      "1.926 8.04676851648\n",
      "1.926 -8.04676851648\n",
      "1.955 -0.000169763156212\n",
      "1.955 0.000169763156211\n",
      "1.963 8.04683309007\n",
      "1.963 -8.04683309007\n",
      "1.963 8.04670394541\n",
      "1.963 -8.04670394541\n",
      "1.996 -2.59462521268e-05\n",
      "1.996 2.59462521203e-05\n",
      "2.019 0.980683157678\n",
      "2.019 -0.980683157678\n",
      "2.019 0.980196871886\n",
      "2.019 -0.980196871886\n",
      "2.039 -1.33250688725e-05\n",
      "2.039 1.33250688679e-05\n",
      "2.074 -8.04663937686\n",
      "2.074 8.04663937686\n",
      "2.074 -8.04689766617\n",
      "2.074 8.04689766617\n",
      "2.091 -0.000214135165696\n",
      "2.091 0.000214135165698\n",
      "2.107 0.000160645413601\n",
      "2.107 -0.000160645413602\n",
      "2.129 -0.00025065344145\n",
      "2.129 0.000250653441453\n",
      "2.132 2.53592450748\n",
      "2.132 -2.53592450748\n",
      "2.133 2.53606517375\n",
      "2.133 -2.53606517375\n",
      "2.136 -0.000181608795519\n",
      "2.136 0.000181608795518\n",
      "2.192 2.40149265985\n",
      "2.192 -2.40149265985\n",
      "2.193 -2.40162076485\n",
      "2.193 2.40162076485\n",
      "2.201 0.753175457518\n",
      "2.201 -0.753175457518\n",
      "2.208 -0.753313498426\n",
      "2.208 0.753313498426\n",
      "2.247 0.000117791206873\n",
      "2.247 -0.000117791206878\n",
      "2.265 -2.53599483805\n",
      "2.265 2.53599483805\n",
      "2.312 3.39725605593\n",
      "2.312 -3.39725605593\n",
      "2.312 -3.39709299115\n",
      "2.312 3.39709299115\n",
      "2.314 4.45157339319e-06\n",
      "2.314 -4.45157339528e-06\n",
      "2.342 5.41670918104\n",
      "2.342 -5.41670918104\n",
      "2.343 5.41626632276\n",
      "2.343 -5.41626632276\n",
      "2.385 -2.40155670673\n",
      "2.385 2.40155670673\n",
      "2.388 0.00014119411384\n",
      "2.388 -0.000141194113842\n",
      "2.407 4.79784007642\n",
      "2.407 -4.79784007642\n",
      "2.407 4.79767304072\n",
      "2.407 -4.79767304072\n",
      "2.409 0.753244415633\n",
      "2.409 -0.753244415633\n",
      "2.413 0.000199733226173\n",
      "2.413 -0.000199733226172\n",
      "2.415 -0.000120742961225\n",
      "2.415 0.000120742961224\n",
      "2.427 -4.47889478473e-05\n",
      "2.427 4.47889478469e-05\n",
      "2.436 0.000307663402387\n",
      "2.436 -0.00030766340238\n",
      "2.45 5.72012676785\n",
      "2.45 -5.72012676785\n",
      "2.45 -5.72031551248\n",
      "2.45 5.72031551248\n",
      "2.462 -1.19153419088\n",
      "2.462 1.19153419088\n",
      "2.463 1.19137482309\n",
      "2.463 -1.19137482309\n",
      "2.593 -5.0290006486e-05\n",
      "2.593 5.02900064825e-05\n",
      "2.624 3.39717452218\n",
      "2.624 -3.39717452218\n",
      "2.656 -9.9897568648e-05\n",
      "2.656 9.98975686418e-05\n",
      "2.667 8.96410317963e-05\n",
      "2.667 -8.96410317957e-05\n",
      "2.7 -3.39697050763e-05\n",
      "2.7 3.39697050754e-05\n",
      "2.814 -4.79775656457\n",
      "2.814 4.79775656457\n",
      "2.866 0.00023274103173\n",
      "2.866 -0.000232741031725\n",
      "2.899 5.72022113874\n",
      "2.899 -5.72022113874\n",
      "2.925 -1.1914545163\n",
      "2.925 1.1914545163\n",
      "3.128 6.48502747232e-05\n",
      "3.128 -6.48502747245e-05\n",
      "3.336 7.6836765411e-05\n",
      "3.336 -7.68367654107e-05\n",
      "3.397 -3.26225253724\n",
      "3.397 3.26225253724\n",
      "3.399 3.2618501436\n",
      "3.399 -3.2618501436\n",
      "3.416 -0.000151701463794\n",
      "3.416 0.000151701463797\n",
      "3.522 0.000266687031231\n",
      "3.522 -0.000266687031226\n",
      "3.999 3.26191720374\n",
      "3.999 -3.26191720374\n",
      "4 -5.4163401269\n",
      "4 5.4163401269\n",
      "4 0.980277901665\n",
      "4 -0.980277901665\n",
      "4 -0.98060209219\n",
      "4 0.98060209219\n",
      "4 -5.41663536575\n",
      "4 5.41663536575\n",
      "4.001 -3.26218546615\n",
      "4.001 3.26218546615\n",
      "4.36 -3.26198426606\n",
      "4.36 3.26198426606\n",
      "4.362 3.26211839727\n",
      "4.362 -3.26211839727\n",
      "4.482 -3.26205133057\n",
      "4.482 3.26205133057\n",
      "4.606 -0.000394805475676\n",
      "4.606 0.000394805475681\n",
      "4.994 -5.41641393327\n",
      "4.994 5.41641393327\n",
      "4.995 5.41656155269\n",
      "4.995 -5.41656155269\n",
      "5.189 0.980358938584\n",
      "5.189 -0.980358938584\n",
      "5.189 -0.980521033846\n",
      "5.189 0.980521033846\n",
      "5.326 5.41648774187\n",
      "5.326 -5.41648774187\n",
      "5.585 -0.980439982644\n",
      "5.585 0.980439982644\n"
     ]
    }
   ],
   "source": [
    "indices = np.argsort(Z2vals)\n",
    "for i in indices:\n",
    "#     print(np.sort(np.abs(Zvals))[i], np.sort(Z2vals)[i])\n",
    "    print(hm.chop(Z2vals[i]), (valsH_r[i]))"
   ]
  },
  {
   "cell_type": "code",
   "execution_count": 18,
   "metadata": {},
   "outputs": [
    {
     "name": "stdout",
     "output_type": "stream",
     "text": [
      "\n",
      "chop() removed the imaginary part\n",
      " \n"
     ]
    },
    {
     "data": {
      "text/plain": [
       "array([[ 2.074,  1.438,  0.786, ..., -0.   ,  0.   , -0.   ],\n",
       "       [ 1.438,  1.963,  0.587, ..., -0.   ,  0.   ,  0.   ],\n",
       "       [ 0.786,  0.587,  1.926, ...,  0.   , -0.   , -0.   ],\n",
       "       ..., \n",
       "       [-0.   , -0.   ,  0.   , ...,  1.926,  0.587,  0.786],\n",
       "       [ 0.   ,  0.   , -0.   , ...,  0.587,  1.963,  1.438],\n",
       "       [-0.   ,  0.   , -0.   , ...,  0.786,  1.438,  2.074]])"
      ]
     },
     "execution_count": 18,
     "metadata": {},
     "output_type": "execute_result"
    }
   ],
   "source": [
    "hm.chop(vecsH.conj().T @ Z@Z @ vecsH)"
   ]
  },
  {
   "cell_type": "code",
   "execution_count": 19,
   "metadata": {},
   "outputs": [
    {
     "name": "stdout",
     "output_type": "stream",
     "text": [
      "4.0 0 0\n",
      "3.0 1 1\n",
      "3.0 2 2\n",
      "2.0 3 3\n",
      "3.0 4 4\n",
      "2.0 5 5\n",
      "2.0 6 6\n",
      "1.0 7 7\n",
      "3.0 8 8\n",
      "2.0 9 9\n",
      "2.0 10 10\n",
      "1.0 11 11\n",
      "2.0 12 12\n",
      "1.0 13 13\n",
      "1.0 14 14\n",
      "3.0 16 16\n",
      "2.0 17 17\n",
      "2.0 18 18\n",
      "1.0 19 19\n",
      "2.0 20 20\n",
      "1.0 21 21\n",
      "1.0 22 22\n",
      "2.0 24 24\n",
      "1.0 25 25\n",
      "1.0 26 26\n",
      "1.0 28 28\n",
      "-1.0 31 31\n",
      "3.0 32 32\n",
      "2.0 33 33\n",
      "2.0 34 34\n",
      "1.0 35 35\n",
      "2.0 36 36\n",
      "1.0 37 37\n",
      "1.0 38 38\n",
      "2.0 40 40\n",
      "1.0 41 41\n",
      "1.0 42 42\n",
      "1.0 44 44\n",
      "-1.0 47 47\n",
      "2.0 48 48\n",
      "1.0 49 49\n",
      "1.0 50 50\n",
      "1.0 52 52\n",
      "-1.0 55 55\n",
      "1.0 56 56\n",
      "-1.0 59 59\n",
      "-1.0 61 61\n",
      "-1.0 62 62\n",
      "-2.0 63 63\n",
      "3.0 64 64\n",
      "2.0 65 65\n",
      "2.0 66 66\n",
      "1.0 67 67\n",
      "2.0 68 68\n",
      "1.0 69 69\n",
      "1.0 70 70\n",
      "2.0 72 72\n",
      "1.0 73 73\n",
      "1.0 74 74\n",
      "1.0 76 76\n",
      "-1.0 79 79\n",
      "2.0 80 80\n",
      "1.0 81 81\n",
      "1.0 82 82\n",
      "1.0 84 84\n",
      "-1.0 87 87\n",
      "1.0 88 88\n",
      "-1.0 91 91\n",
      "-1.0 93 93\n",
      "-1.0 94 94\n",
      "-2.0 95 95\n",
      "2.0 96 96\n",
      "1.0 97 97\n",
      "1.0 98 98\n",
      "1.0 100 100\n",
      "-1.0 103 103\n",
      "1.0 104 104\n",
      "-1.0 107 107\n",
      "-1.0 109 109\n",
      "-1.0 110 110\n",
      "-2.0 111 111\n",
      "1.0 112 112\n",
      "-1.0 115 115\n",
      "-1.0 117 117\n",
      "-1.0 118 118\n",
      "-2.0 119 119\n",
      "-1.0 121 121\n",
      "-1.0 122 122\n",
      "-2.0 123 123\n",
      "-1.0 124 124\n",
      "-2.0 125 125\n",
      "-2.0 126 126\n",
      "-3.0 127 127\n",
      "3.0 128 128\n",
      "2.0 129 129\n",
      "2.0 130 130\n",
      "1.0 131 131\n",
      "2.0 132 132\n",
      "1.0 133 133\n",
      "1.0 134 134\n",
      "2.0 136 136\n",
      "1.0 137 137\n",
      "1.0 138 138\n",
      "1.0 140 140\n",
      "-1.0 143 143\n",
      "2.0 144 144\n",
      "1.0 145 145\n",
      "1.0 146 146\n",
      "1.0 148 148\n",
      "-1.0 151 151\n",
      "1.0 152 152\n",
      "-1.0 155 155\n",
      "-1.0 157 157\n",
      "-1.0 158 158\n",
      "-2.0 159 159\n",
      "2.0 160 160\n",
      "1.0 161 161\n",
      "1.0 162 162\n",
      "1.0 164 164\n",
      "-1.0 167 167\n",
      "1.0 168 168\n",
      "-1.0 171 171\n",
      "-1.0 173 173\n",
      "-1.0 174 174\n",
      "-2.0 175 175\n",
      "1.0 176 176\n",
      "-1.0 179 179\n",
      "-1.0 181 181\n",
      "-1.0 182 182\n",
      "-2.0 183 183\n",
      "-1.0 185 185\n",
      "-1.0 186 186\n",
      "-2.0 187 187\n",
      "-1.0 188 188\n",
      "-2.0 189 189\n",
      "-2.0 190 190\n",
      "-3.0 191 191\n",
      "2.0 192 192\n",
      "1.0 193 193\n",
      "1.0 194 194\n",
      "1.0 196 196\n",
      "-1.0 199 199\n",
      "1.0 200 200\n",
      "-1.0 203 203\n",
      "-1.0 205 205\n",
      "-1.0 206 206\n",
      "-2.0 207 207\n",
      "1.0 208 208\n",
      "-1.0 211 211\n",
      "-1.0 213 213\n",
      "-1.0 214 214\n",
      "-2.0 215 215\n",
      "-1.0 217 217\n",
      "-1.0 218 218\n",
      "-2.0 219 219\n",
      "-1.0 220 220\n",
      "-2.0 221 221\n",
      "-2.0 222 222\n",
      "-3.0 223 223\n",
      "1.0 224 224\n",
      "-1.0 227 227\n",
      "-1.0 229 229\n",
      "-1.0 230 230\n",
      "-2.0 231 231\n",
      "-1.0 233 233\n",
      "-1.0 234 234\n",
      "-2.0 235 235\n",
      "-1.0 236 236\n",
      "-2.0 237 237\n",
      "-2.0 238 238\n",
      "-3.0 239 239\n",
      "-1.0 241 241\n",
      "-1.0 242 242\n",
      "-2.0 243 243\n",
      "-1.0 244 244\n",
      "-2.0 245 245\n",
      "-2.0 246 246\n",
      "-3.0 247 247\n",
      "-1.0 248 248\n",
      "-2.0 249 249\n",
      "-2.0 250 250\n",
      "-3.0 251 251\n",
      "-2.0 252 252\n",
      "-3.0 253 253\n",
      "-3.0 254 254\n",
      "-4.0 255 255\n"
     ]
    }
   ],
   "source": [
    "for i in range(2**L):\n",
    "    for j in range(2**L):\n",
    "        if ((Z[i,j] != 0)): print(Z[i,j], i, j)"
   ]
  },
  {
   "cell_type": "code",
   "execution_count": 20,
   "metadata": {},
   "outputs": [
    {
     "data": {
      "text/plain": [
       "(3.6095121170086171-2.4266725925977742e-17j)"
      ]
     },
     "execution_count": 20,
     "metadata": {},
     "output_type": "execute_result"
    }
   ],
   "source": [
    "# np.all(np.isclose(S2@vecsH, S2vals*vecsH))\n",
    "np.max(S2@vecsH- S2vals*vecsH)"
   ]
  },
  {
   "cell_type": "code",
   "execution_count": 21,
   "metadata": {},
   "outputs": [
    {
     "data": {
      "text/plain": [
       "array([[ -4.21444977e-10 -0.00000000e+00j,\n",
       "         -6.25919670e-06 +3.07599403e-06j,\n",
       "          9.55384732e-07 -1.15447511e-05j, ...,\n",
       "         -2.92855230e-07 -2.05573304e-07j,\n",
       "          2.72041932e-09 +1.65950530e-07j,\n",
       "         -7.26073575e-12 +6.06936149e-12j],\n",
       "       [ -4.22457905e-10 -0.00000000e+00j,\n",
       "         -6.27413666e-06 +3.08342134e-06j,\n",
       "          9.57740403e-07 -1.15731195e-05j, ...,\n",
       "          1.16859603e-06 +8.20099269e-07j,\n",
       "         -1.09353159e-08 -6.62155344e-07j,\n",
       "          2.89665444e-11 -2.42203463e-11j],\n",
       "       [ -2.59323895e-10 -0.00000000e+00j,\n",
       "         -3.85128699e-06 +1.89276538e-06j,\n",
       "          5.87941137e-07 -7.10448879e-06j, ...,\n",
       "         -2.85555532e-06 -2.00346074e-06j,\n",
       "          2.69165149e-08 +1.61791564e-06j,\n",
       "         -7.07664591e-11 +5.91878330e-11j],\n",
       "       ..., \n",
       "       [  9.22555760e-11 -0.00000000e+00j,\n",
       "         -1.01734918e-06 -1.25832276e-06j,\n",
       "         -9.05062248e-07 +3.36881485e-06j, ...,\n",
       "          5.00897429e-06 +5.07243653e-06j,\n",
       "         -4.16853529e-06 +1.01896309e-06j,\n",
       "          1.98919508e-10 -1.66372809e-10j],\n",
       "       [ -3.77582556e-11 -0.00000000e+00j,\n",
       "          4.16355925e-07 +5.14992257e-07j,\n",
       "          3.70438205e-07 -1.37875126e-06j, ...,\n",
       "          8.15841165e-06 +8.26405962e-06j,\n",
       "         -6.79113975e-06 +1.65912595e-06j,\n",
       "          3.24091922e-10 -2.70989128e-10j],\n",
       "       [  9.46337321e-12 -0.00000000e+00j,\n",
       "         -1.04345616e-07 -1.29069638e-07j,\n",
       "         -9.28469921e-08 +3.45548846e-07j, ...,\n",
       "          8.13727431e-06 +8.24492596e-06j,\n",
       "         -6.77514154e-06 +1.65430943e-06j,\n",
       "          3.23351995e-10 -2.70294942e-10j]])"
      ]
     },
     "execution_count": 21,
     "metadata": {},
     "output_type": "execute_result"
    }
   ],
   "source": [
    "vecsH.T"
   ]
  },
  {
   "cell_type": "code",
   "execution_count": 22,
   "metadata": {},
   "outputs": [
    {
     "data": {
      "text/plain": [
       "array([[16,  0,  0, ...,  0,  0,  0],\n",
       "       [ 0,  9,  0, ...,  0,  0,  0],\n",
       "       [ 0,  0,  9, ...,  0,  0,  0],\n",
       "       ..., \n",
       "       [ 0,  0,  0, ...,  9,  0,  0],\n",
       "       [ 0,  0,  0, ...,  0,  9,  0],\n",
       "       [ 0,  0,  0, ...,  0,  0, 16]])"
      ]
     },
     "execution_count": 22,
     "metadata": {},
     "output_type": "execute_result"
    }
   ],
   "source": [
    "hm.chop(Z2)"
   ]
  },
  {
   "cell_type": "code",
   "execution_count": 40,
   "metadata": {},
   "outputs": [
    {
     "data": {
      "image/png": "[encoded data removed]",
      "text/plain": [
       "<matplotlib.figure.Figure at 0x118e92be0>"
      ]
     },
     "metadata": {},
     "output_type": "display_data"
    }
   ],
   "source": [
    "alph2Sz, Sz2alph = hm.permutations(L)\n",
    "plt.imshow(np.absolute(hm.Zl(L))[alph2Sz][:,alph2Sz], interpolation='nearest')\n",
    "plt.show()"
   ]
  },
  {
   "cell_type": "code",
   "execution_count": null,
   "metadata": {
    "collapsed": true
   },
   "outputs": [],
   "source": []
  }
 ],
 "metadata": {
  "kernelspec": {
   "display_name": "Python 3",
   "language": "python",
   "name": "python3"
  },
  "language_info": {
   "codemirror_mode": {
    "name": "ipython",
    "version": 3
   },
   "file_extension": ".py",
   "mimetype": "text/x-python",
   "name": "python",
   "nbconvert_exporter": "python",
   "pygments_lexer": "ipython3",
   "version": "3.5.3"
  }
 },
 "nbformat": 4,
 "nbformat_minor": 1
}
