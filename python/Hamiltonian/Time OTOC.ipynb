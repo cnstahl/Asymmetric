{
 "cells": [
  {
   "cell_type": "code",
   "execution_count": 3,
   "metadata": {},
   "outputs": [
    {
     "name": "stdout",
     "output_type": "stream",
     "text": [
      " "
     ]
    }
   ],
   "source": [
    "#num_trials = 1\n",
    "%run -p otocs_more.py\n",
    "\n",
    "#    ncalls  tottime  percall  cumtime  percall filename:lineno(function)\n",
    "#     29/20    0.403    0.014    0.426    0.021 {built-in method _imp.create_dynamic}\n",
    "#      1714    0.227    0.000    0.227    0.000 {built-in method scipy.sparse._sparsetools.csr_matmat_pass2}\n",
    "#     14260    0.223    0.000    0.617    0.000 compressed.py:126(check_format)\n",
    "#     47529    0.198    0.000    0.198    0.000 {method 'reduce' of 'numpy.ufunc' objects}\n",
    "#    231767    0.198    0.000    0.198    0.000 {built-in method numpy.core.multiarray.array}"
   ]
  },
  {
   "cell_type": "code",
   "execution_count": 2,
   "metadata": {},
   "outputs": [
    {
     "name": "stdout",
     "output_type": "stream",
     "text": [
      " "
     ]
    }
   ],
   "source": [
    "num_trials = 10\n",
    "%run -p otocs_more.py\n",
    "\n",
    "#    ncalls  tottime  percall  cumtime  percall filename:lineno(function)\n",
    "#     38880    3.609    0.000    3.609    0.000 {built-in method numpy.core.multiarray.matmul}\n",
    "#    139903    3.108    0.000    8.471    0.000 compressed.py:126(check_format)\n",
    "#     17140    2.883    0.000    2.883    0.000 {built-in method scipy.sparse._sparsetools.csr_matmat_pass2}\n",
    "#    395323    2.678    0.000    6.192    0.000 sputils.py:125(get_index_dtype)\n",
    "#   2225747    2.658    0.000    2.662    0.000 {built-in method numpy.core.multiarray.array}\n",
    "#    420002    2.454    0.000    2.454    0.000 {method 'reduce' of 'numpy.ufunc' objects}"
   ]
  },
  {
   "cell_type": "code",
   "execution_count": null,
   "metadata": {
    "collapsed": true
   },
   "outputs": [],
   "source": []
  }
 ],
 "metadata": {
  "kernelspec": {
   "display_name": "Python 3",
   "language": "python",
   "name": "python3"
  },
  "language_info": {
   "codemirror_mode": {
    "name": "ipython",
    "version": 3
   },
   "file_extension": ".py",
   "mimetype": "text/x-python",
   "name": "python",
   "nbconvert_exporter": "python",
   "pygments_lexer": "ipython3",
   "version": "3.5.3"
  }
 },
 "nbformat": 4,
 "nbformat_minor": 1
}
