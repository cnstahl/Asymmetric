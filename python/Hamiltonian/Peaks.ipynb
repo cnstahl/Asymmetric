{
 "cells": [
  {
   "cell_type": "code",
   "execution_count": 1,
   "metadata": {},
   "outputs": [],
   "source": [
    "import numpy as np\n",
    "import scipy.linalg as la\n",
    "import asymmetric as asym\n",
    "import quantum as qm\n",
    "%matplotlib inline\n",
    "import matplotlib.pyplot as plt\n",
    "from scipy.signal import argrelextrema\n",
    "import glob"
   ]
  },
  {
   "cell_type": "markdown",
   "metadata": {},
   "source": [
    "# Naive"
   ]
  },
  {
   "cell_type": "code",
   "execution_count": 2,
   "metadata": {},
   "outputs": [
    {
     "name": "stdout",
     "output_type": "stream",
     "text": [
      "<class 'scipy.sparse.csr.csr_matrix'>\n"
     ]
    },
    {
     "ename": "IndexError",
     "evalue": "index (1) out of range",
     "output_type": "error",
     "traceback": [
      "\u001b[0;31m---------------------------------------------------------------------------\u001b[0m",
      "\u001b[0;31mIndexError\u001b[0m                                Traceback (most recent call last)",
      "\u001b[0;32m<ipython-input-2-e7e934eb9679>\u001b[0m in \u001b[0;36m<module>\u001b[0;34m()\u001b[0m\n\u001b[1;32m      5\u001b[0m \u001b[0mn\u001b[0m \u001b[0;34m=\u001b[0m \u001b[0;36m3\u001b[0m\u001b[0;34m\u001b[0m\u001b[0m\n\u001b[1;32m      6\u001b[0m \u001b[0;34m\u001b[0m\u001b[0m\n\u001b[0;32m----> 7\u001b[0;31m \u001b[0mweightfore9\u001b[0m\u001b[0;34m,\u001b[0m \u001b[0mweightback9\u001b[0m \u001b[0;34m=\u001b[0m \u001b[0masym\u001b[0m\u001b[0;34m.\u001b[0m\u001b[0mget_all_weights\u001b[0m\u001b[0;34m(\u001b[0m\u001b[0mL\u001b[0m\u001b[0;34m,\u001b[0m \u001b[0mend\u001b[0m\u001b[0;34m,\u001b[0m \u001b[0mn\u001b[0m\u001b[0;34m,\u001b[0m \u001b[0mhere\u001b[0m\u001b[0;34m=\u001b[0m\u001b[0;32mFalse\u001b[0m\u001b[0;34m,\u001b[0m \u001b[0mdense\u001b[0m \u001b[0;34m=\u001b[0m \u001b[0;32mTrue\u001b[0m\u001b[0;34m)\u001b[0m\u001b[0;34m\u001b[0m\u001b[0m\n\u001b[0m",
      "\u001b[0;32m/Users/cstahl/Documents/Research/Asymmetric/python/Hamiltonian/asymmetric.py\u001b[0m in \u001b[0;36mget_all_weights\u001b[0;34m(L, end, n, here, pauli, dense, dot_strength, field_strength, Azero, Aplus, Amult)\u001b[0m\n\u001b[1;32m    262\u001b[0m         ret[:,:,i] = get_weights_from_time_sites(L, t, range(L), vals_list,\n\u001b[1;32m    263\u001b[0m                                                  \u001b[0mvecs_list\u001b[0m\u001b[0;34m,\u001b[0m \u001b[0mvecsd_list\u001b[0m\u001b[0;34m,\u001b[0m\u001b[0;34m\u001b[0m\u001b[0m\n\u001b[0;32m--> 264\u001b[0;31m                                                  here,pauli, Azero,Aplus,Amult)\n\u001b[0m\u001b[1;32m    265\u001b[0m \u001b[0;34m\u001b[0m\u001b[0m\n\u001b[1;32m    266\u001b[0m     \u001b[0;32mreturn\u001b[0m \u001b[0mret\u001b[0m\u001b[0;34m\u001b[0m\u001b[0m\n",
      "\u001b[0;32m/Users/cstahl/Documents/Research/Asymmetric/python/Hamiltonian/asymmetric.py\u001b[0m in \u001b[0;36mget_weights_from_time_sites\u001b[0;34m(L, t, sites, vals_list, vecs_list, vecsd_list, here, pauli, Azero, Aplus, Amult)\u001b[0m\n\u001b[1;32m    186\u001b[0m             \u001b[0;32mfor\u001b[0m \u001b[0mj\u001b[0m \u001b[0;32min\u001b[0m \u001b[0mrange\u001b[0m\u001b[0;34m(\u001b[0m\u001b[0mL\u001b[0m\u001b[0;34m)\u001b[0m\u001b[0;34m:\u001b[0m\u001b[0;34m\u001b[0m\u001b[0m\n\u001b[1;32m    187\u001b[0m                 \u001b[0mprint\u001b[0m\u001b[0;34m(\u001b[0m\u001b[0mtype\u001b[0m\u001b[0;34m(\u001b[0m\u001b[0mAt\u001b[0m\u001b[0;34m)\u001b[0m\u001b[0;34m)\u001b[0m\u001b[0;34m\u001b[0m\u001b[0m\n\u001b[0;32m--> 188\u001b[0;31m                 \u001b[0mAt\u001b[0m \u001b[0;34m=\u001b[0m \u001b[0mqm\u001b[0m\u001b[0;34m.\u001b[0m\u001b[0mend_trace\u001b[0m\u001b[0;34m(\u001b[0m\u001b[0mAt\u001b[0m\u001b[0;34m,\u001b[0m\u001b[0;36m1\u001b[0m\u001b[0;34m)\u001b[0m\u001b[0;34m\u001b[0m\u001b[0m\n\u001b[0m\u001b[1;32m    189\u001b[0m                 \u001b[0mBt\u001b[0m \u001b[0;34m=\u001b[0m \u001b[0mqm\u001b[0m\u001b[0;34m.\u001b[0m\u001b[0mfront_trace\u001b[0m\u001b[0;34m(\u001b[0m\u001b[0mBt\u001b[0m\u001b[0;34m,\u001b[0m\u001b[0;36m1\u001b[0m\u001b[0;34m)\u001b[0m\u001b[0;34m\u001b[0m\u001b[0m\n\u001b[1;32m    190\u001b[0m                 \u001b[0mfronthere\u001b[0m \u001b[0;34m=\u001b[0m \u001b[0mqm\u001b[0m\u001b[0;34m.\u001b[0m\u001b[0mmat_norm\u001b[0m\u001b[0;34m(\u001b[0m\u001b[0mAt\u001b[0m\u001b[0;34m)\u001b[0m\u001b[0;34m\u001b[0m\u001b[0m\n",
      "\u001b[0;32m/Users/cstahl/Documents/Research/Asymmetric/python/Hamiltonian/quantum.py\u001b[0m in \u001b[0;36mend_trace\u001b[0;34m(x, i)\u001b[0m\n\u001b[1;32m    113\u001b[0m     \u001b[0mN\u001b[0m \u001b[0;34m=\u001b[0m \u001b[0mnp\u001b[0m\u001b[0;34m.\u001b[0m\u001b[0mlog2\u001b[0m\u001b[0;34m(\u001b[0m\u001b[0mx\u001b[0m\u001b[0;34m.\u001b[0m\u001b[0mshape\u001b[0m\u001b[0;34m[\u001b[0m\u001b[0;36m0\u001b[0m\u001b[0;34m]\u001b[0m\u001b[0;34m)\u001b[0m\u001b[0;34m\u001b[0m\u001b[0m\n\u001b[1;32m    114\u001b[0m     \u001b[0;32mfor\u001b[0m \u001b[0msite\u001b[0m \u001b[0;32min\u001b[0m \u001b[0mrange\u001b[0m\u001b[0;34m(\u001b[0m\u001b[0mi\u001b[0m\u001b[0;34m)\u001b[0m\u001b[0;34m:\u001b[0m\u001b[0;34m\u001b[0m\u001b[0m\n\u001b[0;32m--> 115\u001b[0;31m         \u001b[0mx\u001b[0m \u001b[0;34m=\u001b[0m \u001b[0mpar_tr\u001b[0m\u001b[0;34m(\u001b[0m\u001b[0mx\u001b[0m\u001b[0;34m,\u001b[0m \u001b[0mN\u001b[0m\u001b[0;34m-\u001b[0m\u001b[0;36m1\u001b[0m\u001b[0;34m-\u001b[0m\u001b[0msite\u001b[0m\u001b[0;34m)\u001b[0m\u001b[0;34m\u001b[0m\u001b[0m\n\u001b[0m\u001b[1;32m    116\u001b[0m     \u001b[0;32mreturn\u001b[0m \u001b[0mx\u001b[0m\u001b[0;34m\u001b[0m\u001b[0m\n\u001b[1;32m    117\u001b[0m \u001b[0;34m\u001b[0m\u001b[0m\n",
      "\u001b[0;32m/Users/cstahl/Documents/Research/Asymmetric/python/Hamiltonian/quantum.py\u001b[0m in \u001b[0;36mpar_tr\u001b[0;34m(x, i)\u001b[0m\n\u001b[1;32m    133\u001b[0m     \u001b[0mindices\u001b[0m \u001b[0;34m=\u001b[0m \u001b[0mindices\u001b[0m \u001b[0;34m&\u001b[0m \u001b[0mmask\u001b[0m\u001b[0;34m\u001b[0m\u001b[0m\n\u001b[1;32m    134\u001b[0m     return (x[:,np.unique(indices)][np.unique(indices)] +\n\u001b[0;32m--> 135\u001b[0;31m             x[:,np.unique(indices + bit)][np.unique(indices + bit)])/2\n\u001b[0m\u001b[1;32m    136\u001b[0m \u001b[0;34m\u001b[0m\u001b[0m\n\u001b[1;32m    137\u001b[0m \u001b[0;31m################################################################################\u001b[0m\u001b[0;34m\u001b[0m\u001b[0;34m\u001b[0m\u001b[0m\n",
      "\u001b[0;32m/Users/cstahl/anaconda3/lib/python3.5/site-packages/scipy/sparse/csr.py\u001b[0m in \u001b[0;36m__getitem__\u001b[0;34m(self, key)\u001b[0m\n\u001b[1;32m    305\u001b[0m             \u001b[0;32melif\u001b[0m \u001b[0missequence\u001b[0m\u001b[0;34m(\u001b[0m\u001b[0mcol\u001b[0m\u001b[0;34m)\u001b[0m\u001b[0;34m:\u001b[0m\u001b[0;34m\u001b[0m\u001b[0m\n\u001b[1;32m    306\u001b[0m                 \u001b[0;31m# row is slice, col is sequence.\u001b[0m\u001b[0;34m\u001b[0m\u001b[0;34m\u001b[0m\u001b[0m\n\u001b[0;32m--> 307\u001b[0;31m                 \u001b[0mP\u001b[0m \u001b[0;34m=\u001b[0m \u001b[0mextractor\u001b[0m\u001b[0;34m(\u001b[0m\u001b[0mcol\u001b[0m\u001b[0;34m,\u001b[0m\u001b[0mself\u001b[0m\u001b[0;34m.\u001b[0m\u001b[0mshape\u001b[0m\u001b[0;34m[\u001b[0m\u001b[0;36m1\u001b[0m\u001b[0;34m]\u001b[0m\u001b[0;34m)\u001b[0m\u001b[0;34m.\u001b[0m\u001b[0mT\u001b[0m        \u001b[0;31m# [1:2,[1,2]]\u001b[0m\u001b[0;34m\u001b[0m\u001b[0m\n\u001b[0m\u001b[1;32m    308\u001b[0m                 \u001b[0msliced\u001b[0m \u001b[0;34m=\u001b[0m \u001b[0mself\u001b[0m\u001b[0;34m\u001b[0m\u001b[0m\n\u001b[1;32m    309\u001b[0m                 \u001b[0;32mif\u001b[0m \u001b[0mrow\u001b[0m \u001b[0;34m!=\u001b[0m \u001b[0mslice\u001b[0m\u001b[0;34m(\u001b[0m\u001b[0;32mNone\u001b[0m\u001b[0;34m,\u001b[0m \u001b[0;32mNone\u001b[0m\u001b[0;34m,\u001b[0m \u001b[0;32mNone\u001b[0m\u001b[0;34m)\u001b[0m\u001b[0;34m:\u001b[0m\u001b[0;34m\u001b[0m\u001b[0m\n",
      "\u001b[0;32m/Users/cstahl/anaconda3/lib/python3.5/site-packages/scipy/sparse/csr.py\u001b[0m in \u001b[0;36mextractor\u001b[0;34m(indices, N)\u001b[0m\n\u001b[1;32m    268\u001b[0m             \u001b[0mindices\u001b[0m \u001b[0;34m=\u001b[0m \u001b[0masindices\u001b[0m\u001b[0;34m(\u001b[0m\u001b[0mindices\u001b[0m\u001b[0;34m)\u001b[0m\u001b[0;34m.\u001b[0m\u001b[0mcopy\u001b[0m\u001b[0;34m(\u001b[0m\u001b[0;34m)\u001b[0m\u001b[0;34m\u001b[0m\u001b[0m\n\u001b[1;32m    269\u001b[0m \u001b[0;34m\u001b[0m\u001b[0m\n\u001b[0;32m--> 270\u001b[0;31m             \u001b[0mmin_indx\u001b[0m\u001b[0;34m,\u001b[0m \u001b[0mmax_indx\u001b[0m \u001b[0;34m=\u001b[0m \u001b[0mcheck_bounds\u001b[0m\u001b[0;34m(\u001b[0m\u001b[0mindices\u001b[0m\u001b[0;34m,\u001b[0m \u001b[0mN\u001b[0m\u001b[0;34m)\u001b[0m\u001b[0;34m\u001b[0m\u001b[0m\n\u001b[0m\u001b[1;32m    271\u001b[0m \u001b[0;34m\u001b[0m\u001b[0m\n\u001b[1;32m    272\u001b[0m             \u001b[0;32mif\u001b[0m \u001b[0mmin_indx\u001b[0m \u001b[0;34m<\u001b[0m \u001b[0;36m0\u001b[0m\u001b[0;34m:\u001b[0m\u001b[0;34m\u001b[0m\u001b[0m\n",
      "\u001b[0;32m/Users/cstahl/anaconda3/lib/python3.5/site-packages/scipy/sparse/csr.py\u001b[0m in \u001b[0;36mcheck_bounds\u001b[0;34m(indices, N)\u001b[0m\n\u001b[1;32m    254\u001b[0m             \u001b[0mmax_indx\u001b[0m \u001b[0;34m=\u001b[0m \u001b[0mindices\u001b[0m\u001b[0;34m.\u001b[0m\u001b[0mmax\u001b[0m\u001b[0;34m(\u001b[0m\u001b[0;34m)\u001b[0m\u001b[0;34m\u001b[0m\u001b[0m\n\u001b[1;32m    255\u001b[0m             \u001b[0;32mif\u001b[0m \u001b[0mmax_indx\u001b[0m \u001b[0;34m>=\u001b[0m \u001b[0mN\u001b[0m\u001b[0;34m:\u001b[0m\u001b[0;34m\u001b[0m\u001b[0m\n\u001b[0;32m--> 256\u001b[0;31m                 \u001b[0;32mraise\u001b[0m \u001b[0mIndexError\u001b[0m\u001b[0;34m(\u001b[0m\u001b[0;34m'index (%d) out of range'\u001b[0m \u001b[0;34m%\u001b[0m \u001b[0mmax_indx\u001b[0m\u001b[0;34m)\u001b[0m\u001b[0;34m\u001b[0m\u001b[0m\n\u001b[0m\u001b[1;32m    257\u001b[0m \u001b[0;34m\u001b[0m\u001b[0m\n\u001b[1;32m    258\u001b[0m             \u001b[0mmin_indx\u001b[0m \u001b[0;34m=\u001b[0m \u001b[0mindices\u001b[0m\u001b[0;34m.\u001b[0m\u001b[0mmin\u001b[0m\u001b[0;34m(\u001b[0m\u001b[0;34m)\u001b[0m\u001b[0;34m\u001b[0m\u001b[0m\n",
      "\u001b[0;31mIndexError\u001b[0m: index (1) out of range"
     ]
    }
   ],
   "source": [
    "L = 4\n",
    "# Total time elapsed\n",
    "end = 20\n",
    "# Time steps per second\n",
    "n = 3\n",
    "\n",
    "weightfore9, weightback9 = asym.get_all_weights(L, end, n, here=False, dense = True)"
   ]
  },
  {
   "cell_type": "code",
   "execution_count": null,
   "metadata": {
    "scrolled": false
   },
   "outputs": [],
   "source": [
    "stop = (int) (n*end)\n",
    "peaks = np.zeros((2,L))\n",
    "\n",
    "ax = plt.subplot(111)\n",
    "for i in range(L):\n",
    "    data = weightfore9[i]\n",
    "    for jdx, val in enumerate(data):\n",
    "        if (val > data[jdx+1]): peaks[0,i] = jdx; break\n",
    "        if (jdx == 58): peaks[0,i] = 59; break\n",
    "    peaks[0,0]=0\n",
    "    if (i%1==0): \n",
    "        ax.plot(np.arange(stop)/n,weightfore9[i,:stop], label = str(i))\n",
    "        ax.scatter(peaks[0,i]/n, weightfore9[i, (int)(peaks[0,i])])\n",
    "box = ax.get_position()\n",
    "ax.set_position([box.x0, box.y0, box.width * 0.9, box.height])\n",
    "ax.legend(bbox_to_anchor=(1, 1), loc=2)\n",
    "plt.ylim(0,1)\n",
    "plt.xlim(0,end)\n",
    "plt.ylabel('Forward Front')\n",
    "plt.xlabel('site')\n",
    "plt.show()\n",
    "\n",
    "ax = plt.subplot(111)\n",
    "for i in range(L):\n",
    "    data = weightback9[i]\n",
    "    for jdx, val in enumerate(data):\n",
    "        if (val > data[jdx+1]): peaks[1,i] = jdx; break\n",
    "        if (jdx == 58): peaks[1,i] = 59; break\n",
    "    peaks[1,L-1]=0\n",
    "    if (i%1==0): \n",
    "        ax.plot(np.arange(stop)/n,weightback9[i,:stop], label = str(i))\n",
    "        ax.scatter(peaks[1,i]/n, weightback9[i, (int)(peaks[1,i])])\n",
    "box = ax.get_position()\n",
    "ax.set_position([box.x0, box.y0, box.width * 0.9, box.height])\n",
    "ax.legend(bbox_to_anchor=(1, 1), loc=2)\n",
    "plt.ylim(0,1)\n",
    "plt.xlim(0,end)\n",
    "plt.ylabel('Backward Front')\n",
    "plt.xlabel('site')\n",
    "plt.show()"
   ]
  },
  {
   "cell_type": "code",
   "execution_count": null,
   "metadata": {
    "scrolled": false
   },
   "outputs": [],
   "source": [
    "plt.plot(range(L),peaks[0], label=\"Forward\")\n",
    "plt.plot(range(L),peaks[1][::-1], label=\"Backward\")\n",
    "plt.ylabel('Time')\n",
    "plt.xlabel('Site')\n",
    "plt.legend(loc=4)\n",
    "plt.savefig('figures/peaks_no_disorder.pdf')\n",
    "plt.show()"
   ]
  },
  {
   "cell_type": "markdown",
   "metadata": {},
   "source": [
    "# Averaging\n",
    "### Without disorder"
   ]
  },
  {
   "cell_type": "code",
   "execution_count": null,
   "metadata": {
    "scrolled": false
   },
   "outputs": [],
   "source": [
    "stop = (int) (n*end)\n",
    "peaks = np.zeros((2,L-1))\n",
    "\n",
    "ax = plt.subplot(111)\n",
    "for i in range(L-1):\n",
    "    data = (weightfore9[i]+weightfore9[i+1])/2\n",
    "    for jdx, val in enumerate(data):\n",
    "        if (val > data[jdx+1]): peaks[0,i] = jdx; break\n",
    "    if (i%1==0): \n",
    "        ax.plot(np.arange(stop)/n,data[:stop], label = str(i))\n",
    "        ax.scatter(peaks[0,i]/n, data[(int)(peaks[0,i])])\n",
    "box = ax.get_position()\n",
    "ax.set_position([box.x0, box.y0, box.width * 0.9, box.height])\n",
    "ax.legend(bbox_to_anchor=(1.05, 1), loc=2)\n",
    "plt.ylim(0,.5)\n",
    "plt.xlim(0,3)\n",
    "plt.show()\n",
    "\n",
    "ax = plt.subplot(111)\n",
    "for i in range(L-1):\n",
    "    data = (weightback9[i]+weightback9[i+1])/2\n",
    "    for jdx, val in enumerate(data):\n",
    "        if (val > data[jdx+1]): \n",
    "            peaks[1,i] = jdx\n",
    "            break\n",
    "    if (i%1==0): \n",
    "        ax.plot(np.arange(stop)/n,data[:stop], label = str(i))\n",
    "        ax.scatter(peaks[1,i]/n, data[(int)(peaks[1,i])])\n",
    "box = ax.get_position()\n",
    "ax.set_position([box.x0, box.y0, box.width * 0.9, box.height])\n",
    "ax.legend(bbox_to_anchor=(1.05, 1), loc=2)\n",
    "plt.ylim(0,.5)\n",
    "plt.xlim(0,3)\n",
    "plt.show()"
   ]
  },
  {
   "cell_type": "code",
   "execution_count": null,
   "metadata": {
    "collapsed": true,
    "scrolled": false
   },
   "outputs": [],
   "source": [
    "plt.plot(range(L-1),peaks[0])\n",
    "plt.plot(range(L-1),peaks[1,::-1])"
   ]
  },
  {
   "cell_type": "markdown",
   "metadata": {},
   "source": [
    "### With Disorder"
   ]
  },
  {
   "cell_type": "code",
   "execution_count": null,
   "metadata": {
    "collapsed": true
   },
   "outputs": [],
   "source": [
    "L = 9; end = 20; n = 3\n",
    "\n",
    "weightfore9, weightback9 = asym.get_all_weights(L, end, n, here=False, dense = True, field_strength=.5)"
   ]
  },
  {
   "cell_type": "code",
   "execution_count": null,
   "metadata": {
    "collapsed": true,
    "scrolled": false
   },
   "outputs": [],
   "source": [
    "stop = (int) (n*end)\n",
    "peaks = np.zeros((2,L-1))\n",
    "\n",
    "ax = plt.subplot(111)\n",
    "for i in range(L-1):\n",
    "    data = (weightfore9[i]+weightfore9[i+1])/2\n",
    "    for jdx, val in enumerate(data):\n",
    "        if (val > data[jdx+1]): peaks[0,i] = jdx; break\n",
    "        if (jdx == 58): peaks[1,i] = 59; break\n",
    "    if (i%1==0): \n",
    "        ax.plot(np.arange(stop)/n,data[:stop], label = str(i))\n",
    "        ax.scatter(peaks[0,i]/n, data[(int)(peaks[0,i])])\n",
    "box = ax.get_position()\n",
    "ax.set_position([box.x0, box.y0, box.width * 0.9, box.height])\n",
    "ax.legend(bbox_to_anchor=(1.05, 1), loc=2)\n",
    "plt.ylim(0,.5)\n",
    "plt.xlim(0,20)\n",
    "plt.show()\n",
    "\n",
    "ax = plt.subplot(111)\n",
    "for i in range(L-1):\n",
    "    data = (weightback9[i]+weightback9[i+1])/2\n",
    "    for jdx, val in enumerate(data):\n",
    "        if (val > data[jdx+1]): \n",
    "            peaks[1,i] = jdx\n",
    "            break\n",
    "        if (jdx == 58): peaks[1,i] = 59; break\n",
    "    if (i%1==0): \n",
    "        ax.plot(np.arange(stop)/n,data[:stop], label = str(i))\n",
    "        ax.scatter(peaks[1,i]/n, data[(int)(peaks[1,i])])\n",
    "box = ax.get_position()\n",
    "ax.set_position([box.x0, box.y0, box.width * 0.9, box.height])\n",
    "ax.legend(bbox_to_anchor=(1.05, 1), loc=2)\n",
    "plt.ylim(0,.5)\n",
    "plt.xlim(0,20)\n",
    "plt.show()"
   ]
  },
  {
   "cell_type": "code",
   "execution_count": null,
   "metadata": {
    "collapsed": true,
    "scrolled": false
   },
   "outputs": [],
   "source": [
    "plt.plot(range(L-1),peaks[0])\n",
    "plt.plot(range(L-1),peaks[1,::-1])"
   ]
  },
  {
   "cell_type": "code",
   "execution_count": null,
   "metadata": {
    "collapsed": true
   },
   "outputs": [],
   "source": []
  },
  {
   "cell_type": "markdown",
   "metadata": {},
   "source": [
    "# $A_0+A_1$"
   ]
  },
  {
   "cell_type": "code",
   "execution_count": null,
   "metadata": {
    "collapsed": true
   },
   "outputs": [],
   "source": [
    "L = 9\n",
    "# Total time elapsed\n",
    "end = 20\n",
    "# Time steps per second\n",
    "n = 3\n",
    "\n",
    "weightfore9, weightback9 = asym.get_all_weights(L, end, n, here=False, dense = True, Azero=False, Aplus=True, \n",
    "                                                field_strength=0)"
   ]
  },
  {
   "cell_type": "code",
   "execution_count": null,
   "metadata": {
    "collapsed": true,
    "scrolled": false
   },
   "outputs": [],
   "source": [
    "stop = (int) (n*end)\n",
    "peaks = np.zeros((2,L))\n",
    "\n",
    "ax = plt.subplot(111)\n",
    "for i in range(L):\n",
    "    for jdx, val in enumerate(weightfore9[i]):\n",
    "        if (val > weightfore9[i,jdx+1] or jdx==58): peaks[0,i] = jdx; break\n",
    "    peaks[0,0]=0\n",
    "    if (i%1==0): \n",
    "        ax.plot(np.arange(stop)/n,weightfore9[i,:stop], label = str(i))\n",
    "        ax.scatter(peaks[0,i]/n, weightfore9[i, (int)(peaks[0,i])])\n",
    "box = ax.get_position()\n",
    "ax.set_position([box.x0, box.y0, box.width * 0.9, box.height])\n",
    "ax.legend(bbox_to_anchor=(1, 1), loc=2)\n",
    "plt.ylim(0,.75)\n",
    "plt.xlim(0,3)\n",
    "plt.ylabel('Forward OTOC')\n",
    "plt.xlabel('site')\n",
    "plt.title('With Disorder')\n",
    "plt.savefig('figures/plusOTOCwDisorder_fore.pdf')\n",
    "plt.show()\n",
    "\n",
    "ax = plt.subplot(111)\n",
    "for i in range(L):\n",
    "    for jdx, val in enumerate(weightback9[i]):\n",
    "        if (val > weightback9[i,jdx+1] or jdx==58): \n",
    "            peaks[1,i] = jdx\n",
    "            break\n",
    "    peaks[1,L-1]=0\n",
    "    if (i%1==0): \n",
    "        ax.plot(np.arange(stop)/n,weightback9[i,:stop], label = str(i))\n",
    "        ax.scatter(peaks[1,i]/n, weightback9[i, (int)(peaks[1,i])])\n",
    "box = ax.get_position()\n",
    "ax.set_position([box.x0, box.y0, box.width * 0.9, box.height])\n",
    "ax.legend(bbox_to_anchor=(1, 1), loc=2)\n",
    "plt.ylim(0,.75)\n",
    "plt.xlim(0,3)\n",
    "plt.ylabel('Backward OTOC')\n",
    "plt.xlabel('site')\n",
    "plt.title('With Disorder')\n",
    "plt.savefig('figures/plusOTOCwDisorder_back.pdf')\n",
    "plt.show()"
   ]
  },
  {
   "cell_type": "code",
   "execution_count": null,
   "metadata": {
    "collapsed": true
   },
   "outputs": [],
   "source": [
    "plt.plot(range(L),peaks[0], label=\"Forward\")\n",
    "plt.plot(range(L),peaks[1][::-1], label=\"Backward\")\n",
    "plt.ylabel('Time')\n",
    "plt.xlabel('Site')\n",
    "plt.legend(loc=4)\n",
    "plt.savefig('figures/plusPeakssDisorder')\n",
    "plt.show()"
   ]
  },
  {
   "cell_type": "markdown",
   "metadata": {},
   "source": [
    "# Read from file\n",
    "### L=9"
   ]
  },
  {
   "cell_type": "code",
   "execution_count": null,
   "metadata": {
    "collapsed": true
   },
   "outputs": [],
   "source": [
    "L = 9\n",
    "end = 3\n",
    "n = 20\n",
    "\n",
    "here = True\n",
    "pauli = True\n",
    "Azero = True\n",
    "Aplus = False\n",
    "Amult = False\n",
    "field_strength = 1\n",
    "dot_strength = 0\n",
    "\n",
    "prefix = \"data/weights_L\"+str(L)+\"end\"+str(end)+\"n\"+str(n)+\"_\"+str(int(here))+ \\\n",
    "         str(int(pauli))+\"_\"+str(int(Azero))+str(int(Aplus))+str(int(Amult))+ \\\n",
    "         \"_f\"+str(field_strength)+\"d\"+str(dot_strength)+\"#\"\n",
    "fnames = glob.glob(prefix + \"*.npy\")"
   ]
  },
  {
   "cell_type": "code",
   "execution_count": null,
   "metadata": {
    "collapsed": true
   },
   "outputs": [],
   "source": [
    "trials = len(fnames)\n",
    "weights = np.zeros((trials, 2, L-1, end*n))\n",
    "peakses = np.zeros((trials, 2, L-1))\n",
    "\n",
    "\n",
    "for idx, fname in enumerate(fnames):\n",
    "    _, _, weightfore, weightback = np.load(fname)\n",
    "\n",
    "    for i in range(L-1):\n",
    "        data = (weightfore[i]+weightfore[i+1])/2\n",
    "        for jdx, val in enumerate(data):\n",
    "            if (val > data[jdx+1]): peakses[idx,0,i] = jdx; break\n",
    "            if (jdx == 58): peakses[idx,0,i] = 59; break\n",
    "        weights[idx,0,i] = data\n",
    "\n",
    "    for i in range(L-1):\n",
    "        data = (weightback[i]+weightback[i+1])/2\n",
    "        for jdx, val in enumerate(data):\n",
    "            if (val > data[jdx+1]): \n",
    "                peakses[idx,1,i] = jdx\n",
    "                break\n",
    "            if (jdx == 58): peakses[idx,1,i] = 59; break\n",
    "        weights[idx,1,i] = data"
   ]
  },
  {
   "cell_type": "code",
   "execution_count": null,
   "metadata": {
    "collapsed": true
   },
   "outputs": [],
   "source": [
    "avg_weight, std_weight = qm.mean_and_std(weights)\n",
    "\n",
    "stop = n*end\n",
    "peaks = np.zeros((2,L-1))\n",
    "ax = plt.subplot(111)\n",
    "for i in range(L-1):\n",
    "    data = avg_weight[0,i]\n",
    "    for jdx, val in enumerate(data):\n",
    "        if (val > data[jdx+1]): peaks[0,i] = jdx; break\n",
    "        if (jdx == 58): peaks[0,i] = 59; break\n",
    "    peaks[0,0] = 0\n",
    "    if (i%1==0): \n",
    "        ax.plot(np.arange(stop)/n,data[:stop], label = str(i))\n",
    "        ax.scatter(peaks[0,i]/n, data[(int)(peaks[0,i])])\n",
    "box = ax.get_position()\n",
    "ax.set_position([box.x0, box.y0, box.width * 0.9, box.height])\n",
    "ax.legend(bbox_to_anchor=(1, 1), loc=2)\n",
    "plt.ylim(0,.75)\n",
    "plt.xlim(0,3)\n",
    "plt.ylabel('Right Weight')\n",
    "plt.xlabel('Time')\n",
    "plt.title('Weight at Bond, With Disorder')\n",
    "# plt.savefig('figures/avgRweight.pdf')\n",
    "plt.show()\n",
    "\n",
    "ax = plt.subplot(111)\n",
    "for i in range(L-1):\n",
    "    data = avg_weight[1,i]\n",
    "    for jdx, val in enumerate(data):\n",
    "        if (val > data[jdx+1]): peaks[1,i] = jdx; break\n",
    "        if (jdx == 58): peaks[1,i] = 59; break\n",
    "    peaks[1,L-2]=0\n",
    "    if (i%1==0): \n",
    "        ax.plot(np.arange(stop)/n,data[:stop], label = str(i))\n",
    "        ax.scatter(peaks[1,i]/n, data[(int)(peaks[1,i])])\n",
    "box = ax.get_position()\n",
    "ax.set_position([box.x0, box.y0, box.width * 0.9, box.height])\n",
    "ax.legend(bbox_to_anchor=(1, 1), loc=2)\n",
    "plt.ylim(0,.75)\n",
    "plt.xlim(0,3)\n",
    "plt.ylabel('Left Weight')\n",
    "plt.xlabel('Time')\n",
    "plt.title('Weight at Bond, With Disorder')\n",
    "# plt.savefig('figures/plusOTOCwDisorder_back.pdf')\n",
    "plt.show()"
   ]
  },
  {
   "cell_type": "code",
   "execution_count": null,
   "metadata": {
    "collapsed": true
   },
   "outputs": [],
   "source": [
    "plt.plot(range(L-1),peaks[0]/n, label=\"Forward\")\n",
    "plt.plot(range(L-1),peaks[1][::-1]/n, label=\"Backward\")\n",
    "plt.ylabel('Time')\n",
    "plt.xlabel('Site')\n",
    "plt.legend(loc=4)\n",
    "plt.title(\"Average Weights First\")\n",
    "# plt.savefig('figures/plusPeakssDisorder')\n",
    "plt.show()"
   ]
  },
  {
   "cell_type": "code",
   "execution_count": null,
   "metadata": {
    "collapsed": true
   },
   "outputs": [],
   "source": [
    "avg_peaks, std_peaks = qm.mean_and_std(peakses)\n",
    "plt.plot(range(L-1),avg_peaks[0]/n, label=\"Forward\")\n",
    "plt.plot(range(L-1),avg_peaks[1][::-1]/n, label=\"Backward\")\n",
    "plt.ylabel('Time')\n",
    "plt.xlabel('Site')\n",
    "plt.legend(loc=4)\n",
    "# plt.savefig('figures/plusPeakssDisorder')\n",
    "plt.title('Average Peaks')\n",
    "plt.show()"
   ]
  },
  {
   "cell_type": "code",
   "execution_count": null,
   "metadata": {
    "collapsed": true
   },
   "outputs": [],
   "source": [
    "print(peaks/n)\n",
    "print(qm.chop(avg_peaks/n))"
   ]
  },
  {
   "cell_type": "markdown",
   "metadata": {},
   "source": [
    "### L=10"
   ]
  },
  {
   "cell_type": "code",
   "execution_count": null,
   "metadata": {
    "collapsed": true
   },
   "outputs": [],
   "source": [
    "L = 10\n",
    "end = 3\n",
    "n = 20\n",
    "\n",
    "here = True\n",
    "pauli = True\n",
    "Azero = True\n",
    "Aplus = False\n",
    "Amult = False\n",
    "field_strength = 1\n",
    "dot_strength = 0\n",
    "\n",
    "prefix = \"data/weights_L\"+str(L)+\"end\"+str(end)+\"n\"+str(n)+\"_\"+str(int(here))+ \\\n",
    "         str(int(pauli))+\"_\"+str(int(Azero))+str(int(Aplus))+str(int(Amult))+ \\\n",
    "         \"_f\"+str(field_strength)+\"d\"+str(dot_strength)+\"#\"\n",
    "fnames = glob.glob(prefix + \"*.npy\")"
   ]
  },
  {
   "cell_type": "code",
   "execution_count": null,
   "metadata": {
    "collapsed": true
   },
   "outputs": [],
   "source": [
    "trials = len(fnames)\n",
    "weights = np.zeros((trials, 2, L-1, end*n))\n",
    "peakses = np.zeros((trials, 2, L-1))\n",
    "\n",
    "\n",
    "for idx, fname in enumerate(fnames):\n",
    "    _, _, weightfore, weightback = np.load(fname)\n",
    "\n",
    "    for i in range(L-1):\n",
    "        data = (weightfore[i]+weightfore[i+1])/2\n",
    "        for jdx, val in enumerate(data):\n",
    "            if (val > data[jdx+1]): peakses[idx,0,i] = jdx; break\n",
    "            if (jdx == 58): peakses[idx,0,i] = 59; break\n",
    "        weights[idx,0,i] = data\n",
    "\n",
    "    for i in range(L-1):\n",
    "        data = (weightback[i]+weightback[i+1])/2\n",
    "        for jdx, val in enumerate(data):\n",
    "            if (val > data[jdx+1]): \n",
    "                peakses[idx,1,i] = jdx\n",
    "                break\n",
    "            if (jdx == 58): peakses[idx,1,i] = 59; break\n",
    "        weights[idx,1,i] = data"
   ]
  },
  {
   "cell_type": "code",
   "execution_count": null,
   "metadata": {
    "collapsed": true
   },
   "outputs": [],
   "source": [
    "avg_weight, std_weight = qm.mean_and_std(weights)\n",
    "\n",
    "stop = n*end\n",
    "peaks = np.zeros((2,L-1))\n",
    "ax = plt.subplot(111)\n",
    "for i in range(L-1):\n",
    "    data = avg_weight[0,i]\n",
    "    for jdx, val in enumerate(data):\n",
    "        if (val > data[jdx+1]): peaks[0,i] = jdx; break\n",
    "        if (jdx == 58): peaks[0,i] = 59; break\n",
    "    peaks[0,0] = 0\n",
    "    if (i%1==0): \n",
    "        ax.plot(np.arange(stop)/n,data[:stop], label = str(i))\n",
    "        ax.scatter(peaks[0,i]/n, data[(int)(peaks[0,i])])\n",
    "box = ax.get_position()\n",
    "ax.set_position([box.x0, box.y0, box.width * 0.9, box.height])\n",
    "ax.legend(bbox_to_anchor=(1, 1), loc=2)\n",
    "plt.ylim(0,.75)\n",
    "plt.xlim(0,3)\n",
    "plt.ylabel('Right Weight')\n",
    "plt.xlabel('Time')\n",
    "plt.title('Weight at Bond, With Disorder')\n",
    "# plt.savefig('figures/avgRweight.pdf')\n",
    "plt.show()\n",
    "\n",
    "ax = plt.subplot(111)\n",
    "for i in range(L-1):\n",
    "    data = avg_weight[1,i]\n",
    "    for jdx, val in enumerate(data):\n",
    "        if (val > data[jdx+1]): peaks[1,i] = jdx; break\n",
    "        if (jdx == 58): peaks[1,i] = 59; break\n",
    "    peaks[1,L-2]=0\n",
    "    if (i%1==0): \n",
    "        ax.plot(np.arange(stop)/n,data[:stop], label = str(i))\n",
    "        ax.scatter(peaks[1,i]/n, data[(int)(peaks[1,i])])\n",
    "box = ax.get_position()\n",
    "ax.set_position([box.x0, box.y0, box.width * 0.9, box.height])\n",
    "ax.legend(bbox_to_anchor=(1, 1), loc=2)\n",
    "plt.ylim(0,.75)\n",
    "plt.xlim(0,3)\n",
    "plt.ylabel('Left Weight')\n",
    "plt.xlabel('Time')\n",
    "plt.title('Weight at Bond, With Disorder')\n",
    "# plt.savefig('figures/plusOTOCwDisorder_back.pdf')\n",
    "plt.show()"
   ]
  },
  {
   "cell_type": "code",
   "execution_count": null,
   "metadata": {
    "collapsed": true
   },
   "outputs": [],
   "source": [
    "plt.plot(range(L-1),peaks[0]/n, label=\"Forward\")\n",
    "plt.plot(range(L-1),peaks[1][::-1]/n, label=\"Backward\")\n",
    "plt.ylabel('Time')\n",
    "plt.xlabel('Site')\n",
    "plt.legend(loc=4)\n",
    "plt.title(\"Average Weights First\")\n",
    "# plt.savefig('figures/plusPeakssDisorder')\n",
    "plt.show()"
   ]
  },
  {
   "cell_type": "code",
   "execution_count": null,
   "metadata": {
    "collapsed": true
   },
   "outputs": [],
   "source": [
    "avg_peaks, std_peaks = qm.mean_and_std(peakses)\n",
    "plt.plot(range(L-1),avg_peaks[0]/n, label=\"Forward\")\n",
    "plt.plot(range(L-1),avg_peaks[1][::-1]/n, label=\"Backward\")\n",
    "plt.ylabel('Time')\n",
    "plt.xlabel('Site')\n",
    "plt.legend(loc=4)\n",
    "# plt.savefig('figures/plusPeakssDisorder')\n",
    "plt.title('Average Peaks')\n",
    "plt.show()"
   ]
  },
  {
   "cell_type": "code",
   "execution_count": null,
   "metadata": {
    "collapsed": true
   },
   "outputs": [],
   "source": [
    "print(peaks/n)\n",
    "print(qm.chop(avg_peaks/n))"
   ]
  },
  {
   "cell_type": "markdown",
   "metadata": {},
   "source": [
    "### L=11"
   ]
  },
  {
   "cell_type": "code",
   "execution_count": null,
   "metadata": {
    "collapsed": true
   },
   "outputs": [],
   "source": [
    "L = 11\n",
    "end = 3\n",
    "n = 20\n",
    "\n",
    "here = True\n",
    "pauli = True\n",
    "Azero = True\n",
    "Aplus = False\n",
    "Amult = False\n",
    "field_strength = 1\n",
    "dot_strength = 0\n",
    "\n",
    "prefix = \"data/weights_L\"+str(L)+\"end\"+str(end)+\"n\"+str(n)+\"_\"+str(int(here))+ \\\n",
    "         str(int(pauli))+\"_\"+str(int(Azero))+str(int(Aplus))+str(int(Amult))+ \\\n",
    "         \"_f\"+str(field_strength)+\"d\"+str(dot_strength)+\"#\"\n",
    "fnames = glob.glob(prefix + \"*.npy\")"
   ]
  },
  {
   "cell_type": "code",
   "execution_count": null,
   "metadata": {
    "collapsed": true
   },
   "outputs": [],
   "source": [
    "trials = len(fnames)\n",
    "weights = np.zeros((trials, 2, L-1, end*n))\n",
    "peakses = np.zeros((trials, 2, L-1))\n",
    "\n",
    "\n",
    "for idx, fname in enumerate(fnames):\n",
    "    _, _, weightfore, weightback = np.load(fname)\n",
    "\n",
    "    for i in range(L-1):\n",
    "        data = (weightfore[i]+weightfore[i+1])/2\n",
    "        for jdx, val in enumerate(data):\n",
    "            if (val > data[jdx+1]): peakses[idx,0,i] = jdx; break\n",
    "            if (jdx == 58): peakses[idx,0,i] = 59; break\n",
    "        weights[idx,0,i] = data\n",
    "\n",
    "    for i in range(L-1):\n",
    "        data = (weightback[i]+weightback[i+1])/2\n",
    "        for jdx, val in enumerate(data):\n",
    "            if (val > data[jdx+1]): \n",
    "                peakses[idx,1,i] = jdx\n",
    "                break\n",
    "            if (jdx == 58): peakses[idx,1,i] = 59; break\n",
    "        weights[idx,1,i] = data"
   ]
  },
  {
   "cell_type": "code",
   "execution_count": null,
   "metadata": {
    "collapsed": true
   },
   "outputs": [],
   "source": [
    "avg_weight, std_weight = qm.mean_and_std(weights)\n",
    "\n",
    "stop = n*end\n",
    "peaks = np.zeros((2,L-1))\n",
    "ax = plt.subplot(111)\n",
    "for i in range(L-1):\n",
    "    data = avg_weight[0,i]\n",
    "    for jdx, val in enumerate(data):\n",
    "        if (val > data[jdx+1]): peaks[0,i] = jdx; break\n",
    "        if (jdx == 58): peaks[0,i] = 59; break\n",
    "    peaks[0,0] = 0\n",
    "    if (i%1==0): \n",
    "        ax.plot(np.arange(stop)/n,data[:stop], label = str(i)+'&'+str(i+1))\n",
    "        ax.scatter(peaks[0,i]/n, data[(int)(peaks[0,i])])\n",
    "box = ax.get_position()\n",
    "ax.set_position([box.x0, box.y0, box.width * 0.9, box.height])\n",
    "ax.legend(bbox_to_anchor=(1, 1), loc=2)\n",
    "plt.ylim(0,.75)\n",
    "plt.xlim(0,3)\n",
    "plt.ylabel('Right Weight')\n",
    "plt.xlabel('Time')\n",
    "plt.title('Weight at Bond, With Disorder')\n",
    "plt.savefig('figures/avgRweightL11.pdf')\n",
    "plt.show()\n",
    "\n",
    "ax = plt.subplot(111)\n",
    "for i in range(L-1):\n",
    "    data = avg_weight[1,i]\n",
    "    for jdx, val in enumerate(data):\n",
    "        if (val > data[jdx+1]): peaks[1,i] = jdx; break\n",
    "        if (jdx == 58): peaks[1,i] = 59; break\n",
    "    peaks[1,L-2]=0\n",
    "    if (i%1==0): \n",
    "        ax.plot(np.arange(stop)/n,data[:stop], label = str(i)+'&'+str(i+1))\n",
    "        ax.scatter(peaks[1,i]/n, data[(int)(peaks[1,i])])\n",
    "box = ax.get_position()\n",
    "ax.set_position([box.x0, box.y0, box.width * 0.9, box.height])\n",
    "ax.legend(bbox_to_anchor=(1, 1), loc=2)\n",
    "plt.ylim(0,.75)\n",
    "plt.xlim(0,3)\n",
    "plt.ylabel('Left Weight')\n",
    "plt.xlabel('Time')\n",
    "plt.title('Weight at Bond, With Disorder')\n",
    "plt.savefig('figures/avgLweightL11.pdf')\n",
    "plt.show()"
   ]
  },
  {
   "cell_type": "code",
   "execution_count": null,
   "metadata": {
    "collapsed": true
   },
   "outputs": [],
   "source": [
    "plt.plot(range(L-1),peaks[0]/n, 'o-', label=\"Forward\")\n",
    "plt.plot(range(L-1),peaks[1][::-1]/n, 'o-', label=\"Backward\")\n",
    "plt.ylabel('Time')\n",
    "plt.xlabel('Bond')\n",
    "plt.legend(loc=4)\n",
    "plt.title(\"Average Weights First\")\n",
    "plt.savefig('figures/avgPeaksL11_1.pdf')\n",
    "plt.show()"
   ]
  },
  {
   "cell_type": "code",
   "execution_count": null,
   "metadata": {
    "collapsed": true
   },
   "outputs": [],
   "source": [
    "avg_peaks, std_peaks = qm.mean_and_std(peakses)\n",
    "plt.plot(range(L-1),avg_peaks[0]/n, 'o-', label=\"Forward\")\n",
    "plt.plot(range(L-1),avg_peaks[1][::-1]/n, 'o-', label=\"Backward\")\n",
    "plt.ylabel('Time')\n",
    "plt.xlabel('Bond')\n",
    "plt.legend(loc=4)\n",
    "plt.savefig('figures/avgPeaksL11_2.pdf')\n",
    "plt.title('Average Peaks over Disorder')\n",
    "plt.show()"
   ]
  },
  {
   "cell_type": "code",
   "execution_count": null,
   "metadata": {
    "collapsed": true
   },
   "outputs": [],
   "source": [
    "print(peaks/n)\n",
    "print(qm.chop(avg_peaks/n))"
   ]
  },
  {
   "cell_type": "markdown",
   "metadata": {},
   "source": [
    "### L=13"
   ]
  },
  {
   "cell_type": "code",
   "execution_count": null,
   "metadata": {
    "collapsed": true
   },
   "outputs": [],
   "source": [
    "L = 13\n",
    "end = 3\n",
    "n = 20\n",
    "\n",
    "here = True\n",
    "pauli = True\n",
    "Azero = True\n",
    "Aplus = False\n",
    "Amult = False\n",
    "field_strength = 1\n",
    "dot_strength = 0\n",
    "\n",
    "prefix = \"data/weights_L\"+str(L)+\"end\"+str(end)+\"n\"+str(n)+\"_\"+str(int(here))+ \\\n",
    "         str(int(pauli))+\"_\"+str(int(Azero))+str(int(Aplus))+str(int(Amult))+ \\\n",
    "         \"_f\"+str(field_strength)+\"d\"+str(dot_strength)+\"#\"\n",
    "fnames = glob.glob(prefix + \"*.npy\")"
   ]
  },
  {
   "cell_type": "code",
   "execution_count": null,
   "metadata": {
    "collapsed": true
   },
   "outputs": [],
   "source": [
    "trials = len(fnames)\n",
    "weights = np.zeros((trials, 2, L-1, end*n))\n",
    "peakses = np.zeros((trials, 2, L-1))\n",
    "\n",
    "\n",
    "for idx, fname in enumerate(fnames):\n",
    "    _, _, weightfore, weightback = np.load(fname)\n",
    "\n",
    "    for i in range(L-1):\n",
    "        data = (weightfore[i]+weightfore[i+1])/2\n",
    "        for jdx, val in enumerate(data):\n",
    "            if (val > data[jdx+1]): peakses[idx,0,i] = jdx; break\n",
    "            if (jdx == 58): peakses[idx,0,i] = 59; break\n",
    "        weights[idx,0,i] = data\n",
    "\n",
    "    for i in range(L-1):\n",
    "        data = (weightback[i]+weightback[i+1])/2\n",
    "        for jdx, val in enumerate(data):\n",
    "            if (val > data[jdx+1]): \n",
    "                peakses[idx,1,i] = jdx\n",
    "                break\n",
    "            if (jdx == 58): peakses[idx,1,i] = 59; break\n",
    "        weights[idx,1,i] = data"
   ]
  },
  {
   "cell_type": "code",
   "execution_count": null,
   "metadata": {
    "collapsed": true
   },
   "outputs": [],
   "source": [
    "avg_weight, std_weight = qm.mean_and_std(weights)\n",
    "\n",
    "stop = n*end\n",
    "peaks = np.zeros((2,L-1))\n",
    "ax = plt.subplot(111)\n",
    "for i in range(L-1):\n",
    "    data = avg_weight[0,i]\n",
    "    for jdx, val in enumerate(data):\n",
    "        if (val > data[jdx+1]): peaks[0,i] = jdx; break\n",
    "        if (jdx == 58): peaks[0,i] = 59; break\n",
    "    peaks[0,0] = 0\n",
    "    if (i%1==0): \n",
    "        ax.plot(np.arange(stop)/n,data[:stop], label = str(i)+'&'+str(i+1))\n",
    "        ax.scatter(peaks[0,i]/n, data[(int)(peaks[0,i])])\n",
    "box = ax.get_position()\n",
    "ax.set_position([box.x0, box.y0, box.width * 0.9, box.height])\n",
    "ax.legend(bbox_to_anchor=(1, 1), loc=2)\n",
    "plt.ylim(0,.75)\n",
    "plt.xlim(0,3)\n",
    "plt.ylabel('Right Weight')\n",
    "plt.xlabel('Time')\n",
    "plt.title('Weight at Bond, With Disorder')\n",
    "plt.savefig('figures/avgRweightL13.pdf')\n",
    "plt.show()\n",
    "\n",
    "ax = plt.subplot(111)\n",
    "for i in range(L-1):\n",
    "    data = avg_weight[1,i]\n",
    "    for jdx, val in enumerate(data):\n",
    "        if (val > data[jdx+1]): peaks[1,i] = jdx; break\n",
    "        if (jdx == 58): peaks[1,i] = 59; break\n",
    "    peaks[1,L-2]=0\n",
    "    if (i%1==0): \n",
    "        ax.plot(np.arange(stop)/n,data[:stop], label = str(i)+'&'+str(i+1))\n",
    "        ax.scatter(peaks[1,i]/n, data[(int)(peaks[1,i])])\n",
    "box = ax.get_position()\n",
    "ax.set_position([box.x0, box.y0, box.width * 0.9, box.height])\n",
    "ax.legend(bbox_to_anchor=(1, 1), loc=2)\n",
    "plt.ylim(0,.75)\n",
    "plt.xlim(0,3)\n",
    "plt.ylabel('Left Weight')\n",
    "plt.xlabel('Time')\n",
    "plt.title('Weight at Bond, With Disorder')\n",
    "plt.savefig('figures/avgLweightL13.pdf')\n",
    "plt.show()"
   ]
  },
  {
   "cell_type": "code",
   "execution_count": null,
   "metadata": {
    "collapsed": true
   },
   "outputs": [],
   "source": [
    "plt.plot(range(L-1),peaks[0]/n, 'o-', label=\"Forward\")\n",
    "plt.plot(range(L-1),peaks[1][::-1]/n, 'o-', label=\"Backward\")\n",
    "plt.ylabel('Time')\n",
    "plt.xlabel('Bond')\n",
    "plt.legend(loc=4)\n",
    "plt.title(\"Average Weights First\")\n",
    "plt.savefig('figures/avgPeaksL13_1.pdf')\n",
    "plt.show()"
   ]
  },
  {
   "cell_type": "code",
   "execution_count": null,
   "metadata": {
    "collapsed": true
   },
   "outputs": [],
   "source": [
    "avg_peaks, std_peaks = qm.mean_and_std(peakses)\n",
    "plt.errorbar(range(L-1),avg_peaks[0]/n, yerr=std_peaks[0]/n, capthick=2, label=\"Forward\")\n",
    "plt.errorbar(range(L-1),avg_peaks[1][::-1]/n, yerr=std_peaks[1]/n, capthick=2, label=\"Backward\")\n",
    "plt.ylabel('Time')\n",
    "plt.xlabel('Bond')\n",
    "plt.legend(loc=4)\n",
    "plt.savefig('figures/avgPeaksL13_2.pdf')\n",
    "plt.title('Average Peaks over Disorder')\n",
    "plt.show()"
   ]
  },
  {
   "cell_type": "code",
   "execution_count": null,
   "metadata": {
    "collapsed": true
   },
   "outputs": [],
   "source": [
    "print(peaks/n)\n",
    "print(qm.chop(avg_peaks/n))"
   ]
  },
  {
   "cell_type": "code",
   "execution_count": null,
   "metadata": {
    "collapsed": true
   },
   "outputs": [],
   "source": []
  }
 ],
 "metadata": {
  "kernelspec": {
   "display_name": "Python 3",
   "language": "python",
   "name": "python3"
  },
  "language_info": {
   "codemirror_mode": {
    "name": "ipython",
    "version": 3
   },
   "file_extension": ".py",
   "mimetype": "text/x-python",
   "name": "python",
   "nbconvert_exporter": "python",
   "pygments_lexer": "ipython3",
   "version": "3.5.3"
  }
 },
 "nbformat": 4,
 "nbformat_minor": 1
}
