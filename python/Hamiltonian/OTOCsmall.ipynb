{
 "cells": [
  {
   "cell_type": "code",
   "execution_count": 1,
   "metadata": {
    "collapsed": true
   },
   "outputs": [],
   "source": [
    "import numpy as np\n",
    "import scipy.linalg as la\n",
    "import asymmetric as asym\n",
    "import quantum as qm"
   ]
  },
  {
   "cell_type": "code",
   "execution_count": 21,
   "metadata": {
    "collapsed": true
   },
   "outputs": [],
   "source": [
    "def norm(A):\n",
    "    norm = np.trace(np.matmul(A, A.T.conj()))/(len(A))\n",
    "#    print(\"here\")\n",
    "    assert np.isclose(np.imag(norm),0)\n",
    "    return np.real(norm)\n",
    "def par_tr(x,i):\n",
    "    N = len(x)\n",
    "    assert 2**i < N\n",
    "\n",
    "    indices = np.array(range(N))\n",
    "    bit = int((N/2)/2**i)\n",
    "    mask = N - (bit) - 1\n",
    "    indices = indices & mask\n",
    "    return (x[:,np.unique(indices)][np.unique(indices)] +\n",
    "            x[:,np.unique(indices + bit)][np.unique(indices + bit)])/2"
   ]
  },
  {
   "cell_type": "code",
   "execution_count": 6,
   "metadata": {
    "collapsed": true
   },
   "outputs": [],
   "source": [
    "L     = 4\n",
    "pert_strength = 14\n",
    "h = 2\n",
    "_, _, _, sig_z_list = qm.get_sigma_lists(L)\n",
    "\n",
    "H = asym.dense_H(L)\n",
    "H = H + asym.init_pert(L, pert_strength)\n",
    "H = H + asym.finl_pert(L, pert_strength)\n",
    "H = H + qm.get_local_field(sig_z_list, np.random.rand(L)*2*h - h)/2\n",
    "\n",
    "H = H.A\n",
    "\n",
    "A = np.array([1, -1])\n",
    "for i in range(L-1):\n",
    "    A = np.kron(A,np.array([1,1]))"
   ]
  },
  {
   "cell_type": "code",
   "execution_count": 5,
   "metadata": {},
   "outputs": [],
   "source": [
    "vals, vecs = la.eigh(H)\n",
    "vecsd = vecs.T.conj()"
   ]
  },
  {
   "cell_type": "code",
   "execution_count": 20,
   "metadata": {},
   "outputs": [],
   "source": [
    "t = 0.33333333\n",
    "\n",
    "u    = np.matmul(vecs * np.exp(-1j*vals*t), vecsd)\n",
    "uinv = np.matmul(vecs * np.exp( 1j*vals*t), vecsd)\n",
    "\n",
    "At = np.matmul(uinv * A, u)"
   ]
  },
  {
   "cell_type": "code",
   "execution_count": 23,
   "metadata": {},
   "outputs": [
    {
     "name": "stdout",
     "output_type": "stream",
     "text": [
      "0.427733804347\n"
     ]
    }
   ],
   "source": [
    "site = 3\n",
    "\n",
    "Aj = par_tr(At,site)\n",
    "print(1- norm(Aj))"
   ]
  },
  {
   "cell_type": "code",
   "execution_count": null,
   "metadata": {
    "collapsed": true
   },
   "outputs": [],
   "source": []
  }
 ],
 "metadata": {
  "kernelspec": {
   "display_name": "Python 3",
   "language": "python",
   "name": "python3"
  },
  "language_info": {
   "codemirror_mode": {
    "name": "ipython",
    "version": 3
   },
   "file_extension": ".py",
   "mimetype": "text/x-python",
   "name": "python",
   "nbconvert_exporter": "python",
   "pygments_lexer": "ipython3",
   "version": "3.5.3"
  }
 },
 "nbformat": 4,
 "nbformat_minor": 1
}
