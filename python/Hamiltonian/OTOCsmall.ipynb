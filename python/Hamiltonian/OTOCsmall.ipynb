{
 "cells": [
  {
   "cell_type": "code",
   "execution_count": 1,
   "metadata": {
    "collapsed": true
   },
   "outputs": [],
   "source": [
    "import numpy as np\n",
    "import quantum as qm\n",
    "import asymmetric as asym\n",
    "%matplotlib inline\n",
    "import matplotlib.pyplot as plt"
   ]
  },
  {
   "cell_type": "code",
   "execution_count": null,
   "metadata": {
    "collapsed": true
   },
   "outputs": [],
   "source": [
    "L     = 4\n",
    "dense = True\n",
    "#vs = np.asarray([5])                                 \n",
    "# vs    = np.asarray([1, 3, 5,  6,  7,  8,  9, 10, 11, 12, 14, 16, 18, 20, 22, 24])                                    \n",
    "vs    = np.asarray([1, 3, 5,  7, 9, 11, 14, 17, 20])\n",
    "sites = np.arange(L)\n",
    "pert_strength = 14\n",
    "h = 2\n",
    "_, _, _, sig_z_list = qm.get_sigma_lists(L)\n",
    "\n",
    "if (dense):\n",
    "    H = asym.dense_H(L)\n",
    "    prefix = 'data/otoc_dense'\n",
    "else:\n",
    "    H = asym.sparse_H(L)\n",
    "    prefix = 'data/otoc_sparse'\n",
    "if (not pert_strength == 0):\n",
    "    prefix = prefix + \"_pert_\"\n",
    "H = H + asym.init_pert(L, pert_strength)\n",
    "H = H + asym.finl_pert(L, pert_strength)\n",
    "H = H + qm.get_local_field(sig_z_list, np.random.rand(L)*2*h - h)/2"
   ]
  }
 ],
 "metadata": {
  "kernelspec": {
   "display_name": "Python 3",
   "language": "python",
   "name": "python3"
  },
  "language_info": {
   "codemirror_mode": {
    "name": "ipython",
    "version": 3
   },
   "file_extension": ".py",
   "mimetype": "text/x-python",
   "name": "python",
   "nbconvert_exporter": "python",
   "pygments_lexer": "ipython3",
   "version": "3.5.3"
  }
 },
 "nbformat": 4,
 "nbformat_minor": 1
}
