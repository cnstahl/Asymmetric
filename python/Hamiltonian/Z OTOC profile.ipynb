{
 "cells": [
  {
   "cell_type": "code",
   "execution_count": 1,
   "metadata": {
    "collapsed": true
   },
   "outputs": [],
   "source": [
    "import pstats"
   ]
  },
  {
   "cell_type": "code",
   "execution_count": 2,
   "metadata": {},
   "outputs": [
    {
     "name": "stdout",
     "output_type": "stream",
     "text": [
      "Wed Oct 24 00:23:00 2018    zotocProf\n",
      "\n",
      "         33727404 function calls (33699323 primitive calls) in 64.654 seconds\n",
      "\n",
      "   Ordered by: internal time\n",
      "   List reduced from 1388 to 10 due to restriction <10>\n",
      "\n",
      "   ncalls  tottime  percall  cumtime  percall filename:lineno(function)\n",
      "  1247338    8.670    0.000   19.952    0.000 linalg.py:2203(norm)\n",
      "  1276051    7.699    0.000    7.720    0.000 {method 'reduce' of 'numpy.ufunc' objects}\n",
      "    12000    6.249    0.001   39.866    0.003 _expm_multiply.py:190(_expm_multiply_simple_core)\n",
      "   642089    2.973    0.000    8.624    0.000 compressed.py:451(_mul_vector)\n",
      "   105916    2.493    0.000    7.186    0.000 compressed.py:128(check_format)\n",
      "   630089    2.243    0.000    2.243    0.000 {built-in method scipy.sparse._sparsetools.csr_matvec}\n",
      "  2135080    2.148    0.000    3.098    0.000 numeric.py:433(asarray)\n",
      "  1247338    2.142    0.000   23.236    0.000 _expm_multiply.py:15(_exact_inf_norm)\n",
      "   642125    1.909    0.000    1.909    0.000 {built-in method numpy.core.multiarray.zeros}\n",
      "   225934    1.810    0.000    4.250    0.000 sputils.py:120(get_index_dtype)\n",
      "\n",
      "\n"
     ]
    },
    {
     "data": {
      "text/plain": [
       "<pstats.Stats at 0x10558e8d0>"
      ]
     },
     "execution_count": 2,
     "metadata": {},
     "output_type": "execute_result"
    }
   ],
   "source": [
    "# L = 9\n",
    "p = pstats.Stats('zotocProf')\n",
    "p.strip_dirs().sort_stats('time').print_stats(10)"
   ]
  },
  {
   "cell_type": "code",
   "execution_count": 3,
   "metadata": {},
   "outputs": [
    {
     "name": "stdout",
     "output_type": "stream",
     "text": [
      "Wed Oct 24 00:33:34 2018    zotocProf\n",
      "\n",
      "         44290982 function calls (44257743 primitive calls) in 82.591 seconds\n",
      "\n",
      "   Ordered by: internal time\n",
      "   List reduced from 1388 to 10 due to restriction <10>\n",
      "\n",
      "   ncalls  tottime  percall  cumtime  percall filename:lineno(function)\n",
      "  1718606   12.534    0.000   27.992    0.000 linalg.py:2203(norm)\n",
      "  1753495   10.933    0.000   10.956    0.000 {method 'reduce' of 'numpy.ufunc' objects}\n",
      "    14520    9.012    0.001   55.591    0.004 _expm_multiply.py:190(_expm_multiply_simple_core)\n",
      "   880390    3.709    0.000   11.954    0.000 compressed.py:451(_mul_vector)\n",
      "   865870    3.687    0.000    3.687    0.000 {built-in method scipy.sparse._sparsetools.csr_matvec}\n",
      "   128411    2.770    0.000    7.831    0.000 compressed.py:128(check_format)\n",
      "  1718606    2.757    0.000   32.250    0.000 _expm_multiply.py:15(_exact_inf_norm)\n",
      "   880430    2.616    0.000    2.616    0.000 {built-in method numpy.core.multiarray.zeros}\n",
      "  2794886    2.465    0.000    3.578    0.000 numeric.py:433(asarray)\n",
      "   935655    1.938    0.000   21.985    0.000 base.py:452(__mul__)\n",
      "\n",
      "\n"
     ]
    },
    {
     "data": {
      "text/plain": [
       "<pstats.Stats at 0x1041a1940>"
      ]
     },
     "execution_count": 3,
     "metadata": {},
     "output_type": "execute_result"
    }
   ],
   "source": [
    "# L = 10\n",
    "p = pstats.Stats('zotocProf')\n",
    "p.strip_dirs().sort_stats('time').print_stats(10)"
   ]
  },
  {
   "cell_type": "code",
   "execution_count": 5,
   "metadata": {},
   "outputs": [
    {
     "name": "stdout",
     "output_type": "stream",
     "text": [
      "Wed Oct 24 00:54:13 2018    zotocProf\n",
      "\n",
      "         158269163 function calls (157408876 primitive calls) in 346.121 seconds\n",
      "\n",
      "   Ordered by: internal time\n",
      "   List reduced from 1454 to 10 due to restriction <10>\n",
      "\n",
      "   ncalls  tottime  percall  cumtime  percall filename:lineno(function)\n",
      "  6311956   52.697    0.000  108.572    0.000 linalg.py:2203(norm)\n",
      "  6603613   40.992    0.000   41.022    0.000 {method 'reduce' of 'numpy.ufunc' objects}\n",
      "    17280   34.595    0.002  224.187    0.013 _expm_multiply.py:190(_expm_multiply_simple_core)\n",
      "  3144458   22.977    0.000   22.977    0.000 {built-in method scipy.sparse._sparsetools.csr_matvec}\n",
      "  3161738   14.055    0.000   54.220    0.000 compressed.py:451(_mul_vector)\n",
      "  4233160   12.614    0.000   12.614    0.000 {built-in method numpy.core.multiarray.zeros}\n",
      "  6311956   10.439    0.000  124.560    0.000 _expm_multiply.py:15(_exact_inf_norm)\n",
      "   392836    9.736    0.000    9.736    0.000 {built-in method scipy.sparse._sparsetools.csr_matvecs}\n",
      "   392836    9.473    0.000    9.473    0.000 {built-in method scipy.sparse._sparsetools.csc_matvecs}\n",
      "  4013446    8.807    0.000  102.227    0.000 base.py:452(__mul__)\n",
      "\n",
      "\n"
     ]
    },
    {
     "data": {
      "text/plain": [
       "<pstats.Stats at 0x105efdfd0>"
      ]
     },
     "execution_count": 5,
     "metadata": {},
     "output_type": "execute_result"
    }
   ],
   "source": [
    "# L = 11\n",
    "p = pstats.Stats('zotocProf')\n",
    "p.strip_dirs().sort_stats('time').print_stats(10)"
   ]
  },
  {
   "cell_type": "code",
   "execution_count": 9,
   "metadata": {},
   "outputs": [
    {
     "name": "stdout",
     "output_type": "stream",
     "text": [
      "Wed Oct 24 20:37:59 2018    zotocProf\n",
      "\n",
      "         40122731 function calls (40099956 primitive calls) in 77.372 seconds\n",
      "\n",
      "   Ordered by: cumulative time\n",
      "   List reduced from 1518 to 10 due to restriction <10>\n",
      "\n",
      "   ncalls  tottime  percall  cumtime  percall filename:lineno(function)\n",
      "    247/1    0.016    0.000   77.373   77.373 {built-in method builtins.exec}\n",
      "        1    0.000    0.000   77.373   77.373 zotocs_save.py:1(<module>)\n",
      "        1    0.014    0.014   68.725   68.725 asymmetric.py:119(zotoc_vec_expm)\n",
      "     7200    0.100    0.000   66.016    0.009 _expm_multiply.py:48(expm_multiply)\n",
      "     7200    0.230    0.000   65.891    0.009 _expm_multiply.py:137(_expm_multiply_simple)\n",
      "      540    0.089    0.000   61.676    0.114 asymmetric.py:128(<listcomp>)\n",
      "     7200    9.075    0.001   54.013    0.008 _expm_multiply.py:190(_expm_multiply_simple_core)\n",
      "  1612516    2.839    0.000   31.226    0.000 _expm_multiply.py:15(_exact_inf_norm)\n",
      "  1612516   11.932    0.000   27.000    0.000 linalg.py:2203(norm)\n",
      "   863460    1.917    0.000   21.134    0.000 base.py:452(__mul__)\n",
      "\n",
      "\n"
     ]
    },
    {
     "data": {
      "text/plain": [
       "<pstats.Stats at 0x10642df60>"
      ]
     },
     "execution_count": 9,
     "metadata": {},
     "output_type": "execute_result"
    }
   ],
   "source": [
    "# Hybrid method, on laptop, L=9\n",
    "p = pstats.Stats('zotocProf')\n",
    "p.strip_dirs().sort_stats('cumtime').print_stats(10)"
   ]
  },
  {
   "cell_type": "code",
   "execution_count": null,
   "metadata": {
    "collapsed": true
   },
   "outputs": [],
   "source": []
  }
 ],
 "metadata": {
  "kernelspec": {
   "display_name": "Python 3",
   "language": "python",
   "name": "python3"
  },
  "language_info": {
   "codemirror_mode": {
    "name": "ipython",
    "version": 3
   },
   "file_extension": ".py",
   "mimetype": "text/x-python",
   "name": "python",
   "nbconvert_exporter": "python",
   "pygments_lexer": "ipython3",
   "version": "3.5.3"
  }
 },
 "nbformat": 4,
 "nbformat_minor": 1
}
