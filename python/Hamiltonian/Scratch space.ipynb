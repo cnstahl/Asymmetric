{
 "cells": [
  {
   "cell_type": "code",
   "execution_count": 2,
   "metadata": {
    "collapsed": true
   },
   "outputs": [],
   "source": [
    "import timeit\n",
    "import time\n",
    "from time import time as t\n",
    "import numpy as np\n",
    "from scipy.signal import argrelextrema\n",
    "import glob\n",
    "import asymmetric as asym\n",
    "import quantum as qm\n",
    "%matplotlib inline\n",
    "import matplotlib.pyplot as plt\n",
    "import pstats\n",
    "from scipy.special import comb\n",
    "import scipy as sp"
   ]
  },
  {
   "cell_type": "code",
   "execution_count": null,
   "metadata": {
    "collapsed": true
   },
   "outputs": [],
   "source": [
    "start = time.time()\n",
    "for i in range(5):\n",
    "    time.sleep(1)\n",
    "    if (i==900): print('here')\n",
    "end = time.time()\n",
    "print(end - start)"
   ]
  },
  {
   "cell_type": "code",
   "execution_count": 51,
   "metadata": {},
   "outputs": [
    {
     "name": "stdout",
     "output_type": "stream",
     "text": [
      "0\n",
      "1\n",
      "3\n",
      "3\n",
      "6\n",
      "7\n",
      "7\n",
      "7\n",
      "8\n"
     ]
    }
   ],
   "source": [
    "forenames = glob.glob(\"leckv*.npy\")\n",
    "highest=-1\n",
    "for fname in forenames:\n",
    "    current = int(fname.replace(\"leckv\", \"\").replace(\".npy\", \"\"))\n",
    "    if current>highest: highest=current\n",
    "    print(highest)\n",
    "np.save(\"leckv\"+str(highest+1), [1])"
   ]
  },
  {
   "cell_type": "code",
   "execution_count": 20,
   "metadata": {},
   "outputs": [
    {
     "name": "stdout",
     "output_type": "stream",
     "text": [
      "1 2 0\n",
      "3 4 1\n"
     ]
    }
   ],
   "source": [
    "a = None; b = (1,2); c = (3,4); d = None\n",
    "for idx, (i,j) in enumerate(x for x in [a,b,c,d] if (x != None)):\n",
    "    print(i,j, idx)"
   ]
  },
  {
   "cell_type": "code",
   "execution_count": 9,
   "metadata": {},
   "outputs": [
    {
     "name": "stdout",
     "output_type": "stream",
     "text": [
      "512\n",
      "1.0\n",
      "11.0\n",
      "55.0\n",
      "165.0\n",
      "330.0\n",
      "462.0\n",
      "462.0\n",
      "330.0\n",
      "165.0\n",
      "55.0\n",
      "11.0\n"
     ]
    }
   ],
   "source": [
    "print(2**9)\n",
    "for i in range(11):\n",
    "    print(comb(11,i))"
   ]
  },
  {
   "cell_type": "code",
   "execution_count": 4,
   "metadata": {},
   "outputs": [
    {
     "name": "stdout",
     "output_type": "stream",
     "text": [
      "1.0\n",
      "9.0\n",
      "36.0\n",
      "84.0\n",
      "126.0\n",
      "126.0\n",
      "84.0\n",
      "36.0\n",
      "9.0\n"
     ]
    }
   ],
   "source": [
    "for i in range(9):\n",
    "    print(comb(9,i))"
   ]
  },
  {
   "cell_type": "code",
   "execution_count": 20,
   "metadata": {},
   "outputs": [
    {
     "data": {
      "image/png": "[encoded data removed]",
      "text/plain": [
       "<matplotlib.figure.Figure at 0x1c19100da0>"
      ]
     },
     "metadata": {},
     "output_type": "display_data"
    }
   ],
   "source": [
    "xmin = 80; xmax = 120; xrange = xmax-xmin; xavg = (xmin+xmax)/2\n",
    "ymin =  0; ymax =  32; yrange = ymax-ymin\n",
    "data = np.random.normal(loc=xavg,scale=10,size=(500,1,yrange))\n",
    "hist = np.ones((yrange,20)) # initialise hist\n",
    "for z in range(yrange):\n",
    "    hist[z],edges = np.histogram(data[:,0,z],bins=np.arange(xmin,xmax+2,2))\n",
    "fig, ax = plt.subplots(figsize=(6,6))\n",
    "\n",
    "ax.imshow(hist, cmap=plt.cm.Reds, interpolation='none', extent=[xmin,xmax,ymax,ymin])\n",
    "ax.set_aspect(1*xrange/yrange)"
   ]
  },
  {
   "cell_type": "code",
   "execution_count": null,
   "metadata": {
    "collapsed": true
   },
   "outputs": [],
   "source": []
  }
 ],
 "metadata": {
  "kernelspec": {
   "display_name": "Python 3",
   "language": "python",
   "name": "python3"
  },
  "language_info": {
   "codemirror_mode": {
    "name": "ipython",
    "version": 3
   },
   "file_extension": ".py",
   "mimetype": "text/x-python",
   "name": "python",
   "nbconvert_exporter": "python",
   "pygments_lexer": "ipython3",
   "version": "3.5.3"
  }
 },
 "nbformat": 4,
 "nbformat_minor": 1
}
