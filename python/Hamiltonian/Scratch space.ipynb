{
 "cells": [
  {
   "cell_type": "code",
   "execution_count": 3,
   "metadata": {
    "collapsed": true
   },
   "outputs": [],
   "source": [
    "import timeit\n",
    "import time\n",
    "from time import time as t\n",
    "import numpy as np\n",
    "from scipy.signal import argrelextrema\n",
    "import glob\n",
    "import asymmetric as asym\n",
    "import quantum as qm\n",
    "%matplotlib inline\n",
    "import matplotlib.pyplot as plt\n",
    "import pstats"
   ]
  },
  {
   "cell_type": "code",
   "execution_count": null,
   "metadata": {
    "collapsed": true
   },
   "outputs": [],
   "source": [
    "start = time.time()\n",
    "for i in range(5):\n",
    "    time.sleep(1)\n",
    "    if (i==900): print('here')\n",
    "end = time.time()\n",
    "print(end - start)"
   ]
  },
  {
   "cell_type": "code",
   "execution_count": 51,
   "metadata": {},
   "outputs": [
    {
     "name": "stdout",
     "output_type": "stream",
     "text": [
      "0\n",
      "1\n",
      "3\n",
      "3\n",
      "6\n",
      "7\n",
      "7\n",
      "7\n",
      "8\n"
     ]
    }
   ],
   "source": [
    "forenames = glob.glob(\"leckv*.npy\")\n",
    "highest=-1\n",
    "for fname in forenames:\n",
    "    current = int(fname.replace(\"leckv\", \"\").replace(\".npy\", \"\"))\n",
    "    if current>highest: highest=current\n",
    "    print(highest)\n",
    "np.save(\"leckv\"+str(highest+1), [1])"
   ]
  },
  {
   "cell_type": "code",
   "execution_count": 20,
   "metadata": {},
   "outputs": [
    {
     "name": "stdout",
     "output_type": "stream",
     "text": [
      "1 2 0\n",
      "3 4 1\n"
     ]
    }
   ],
   "source": [
    "a = None; b = (1,2); c = (3,4); d = None\n",
    "for idx, (i,j) in enumerate(x for x in [a,b,c,d] if (x != None)):\n",
    "    print(i,j, idx)"
   ]
  },
  {
   "cell_type": "code",
   "execution_count": 6,
   "metadata": {},
   "outputs": [
    {
     "name": "stdout",
     "output_type": "stream",
     "text": [
      "[array([ 1.,  2.,  3.])]\n"
     ]
    }
   ],
   "source": [
    "trial = np.zeros(3)\n",
    "trial[0]=1; trial[1]=2; trial[2]=3\n",
    "lisT = []\n",
    "lisT.append(trial.copy())\n",
    "trial[2] = 7\n",
    "print(lisT)"
   ]
  },
  {
   "cell_type": "code",
   "execution_count": 11,
   "metadata": {},
   "outputs": [
    {
     "name": "stdout",
     "output_type": "stream",
     "text": [
      " 1\n"
     ]
    }
   ],
   "source": [
    "print(\" \"+str(int(True)))"
   ]
  },
  {
   "cell_type": "code",
   "execution_count": 19,
   "metadata": {},
   "outputs": [
    {
     "data": {
      "image/png": "[encoded data removed]",
      "text/plain": [
       "<matplotlib.figure.Figure at 0x11bea1470>"
      ]
     },
     "metadata": {},
     "output_type": "display_data"
    }
   ],
   "source": [
    "L = 7\n",
    "H = asym.dense_H(L)\n",
    "alph2Sz, Sz2alph = asym.permutations(L)\n",
    "plt.matshow(np.absolute(H[alph2Sz][:,alph2Sz].A))\n",
    "plt.show()"
   ]
  },
  {
   "cell_type": "code",
   "execution_count": 20,
   "metadata": {
    "collapsed": true
   },
   "outputs": [],
   "source": [
    "A = np.array([1, -1])\n",
    "for i in range(L-1):\n",
    "    A = np.kron(A,np.array([1,1]))"
   ]
  },
  {
   "cell_type": "code",
   "execution_count": 21,
   "metadata": {},
   "outputs": [
    {
     "ename": "NameError",
     "evalue": "name 'arr2list' is not defined",
     "output_type": "error",
     "traceback": [
      "\u001b[0;31m---------------------------------------------------------------------------\u001b[0m",
      "\u001b[0;31mNameError\u001b[0m                                 Traceback (most recent call last)",
      "\u001b[0;32m<ipython-input-21-8348f69a1a2f>\u001b[0m in \u001b[0;36m<module>\u001b[0;34m()\u001b[0m\n\u001b[0;32m----> 1\u001b[0;31m \u001b[0mAlist\u001b[0m \u001b[0;34m=\u001b[0m \u001b[0marr2list\u001b[0m\u001b[0;34m(\u001b[0m\u001b[0mA\u001b[0m\u001b[0;34m)\u001b[0m\u001b[0;34m\u001b[0m\u001b[0m\n\u001b[0m\u001b[1;32m      2\u001b[0m \u001b[0mAtlist\u001b[0m \u001b[0;34m=\u001b[0m \u001b[0;34m[\u001b[0m\u001b[0;34m]\u001b[0m\u001b[0;34m\u001b[0m\u001b[0m\n\u001b[1;32m      3\u001b[0m \u001b[0;32mfor\u001b[0m \u001b[0midx\u001b[0m\u001b[0;34m,\u001b[0m \u001b[0mval\u001b[0m \u001b[0;32min\u001b[0m \u001b[0menumerate\u001b[0m\u001b[0;34m(\u001b[0m\u001b[0mAlist\u001b[0m\u001b[0;34m)\u001b[0m\u001b[0;34m:\u001b[0m\u001b[0;34m\u001b[0m\u001b[0m\n\u001b[1;32m      4\u001b[0m     \u001b[0mAtlist\u001b[0m\u001b[0;34m.\u001b[0m\u001b[0mappend\u001b[0m\u001b[0;34m(\u001b[0m\u001b[0mnp\u001b[0m\u001b[0;34m.\u001b[0m\u001b[0mmatmul\u001b[0m\u001b[0;34m(\u001b[0m\u001b[0muinvlist\u001b[0m\u001b[0;34m[\u001b[0m\u001b[0midx\u001b[0m\u001b[0;34m]\u001b[0m \u001b[0;34m*\u001b[0m \u001b[0mval\u001b[0m\u001b[0;34m,\u001b[0m \u001b[0mulist\u001b[0m\u001b[0;34m[\u001b[0m\u001b[0midx\u001b[0m\u001b[0;34m]\u001b[0m\u001b[0;34m)\u001b[0m\u001b[0;34m)\u001b[0m\u001b[0;34m\u001b[0m\u001b[0m\n\u001b[1;32m      5\u001b[0m \u001b[0mAt\u001b[0m \u001b[0;34m=\u001b[0m \u001b[0mlist2mat\u001b[0m\u001b[0;34m(\u001b[0m\u001b[0mAtlist\u001b[0m\u001b[0;34m)\u001b[0m\u001b[0;34m\u001b[0m\u001b[0m\n",
      "\u001b[0;31mNameError\u001b[0m: name 'arr2list' is not defined"
     ]
    }
   ],
   "source": [
    "Alist = asym.arr2list(A)\n",
    "Atlist = []\n",
    "for idx, val in enumerate(Alist):\n",
    "    Atlist.append(np.matmul(uinvlist[idx] * val, ulist[idx]))\n",
    "At = list2mat(Atlist)"
   ]
  },
  {
   "cell_type": "code",
   "execution_count": 24,
   "metadata": {},
   "outputs": [
    {
     "name": "stdout",
     "output_type": "stream",
     "text": [
      "/Users/cstahl/anaconda3/lib/python3.5/site-packages/numpy/__init__.py\n"
     ]
    }
   ],
   "source": [
    "print(n)"
   ]
  },
  {
   "cell_type": "code",
   "execution_count": 25,
   "metadata": {},
   "outputs": [
    {
     "data": {
      "text/plain": [
       "'1.10.4'"
      ]
     },
     "execution_count": 25,
     "metadata": {},
     "output_type": "execute_result"
    }
   ],
   "source": [
    "np.version.version"
   ]
  },
  {
   "cell_type": "code",
   "execution_count": 10,
   "metadata": {},
   "outputs": [
    {
     "name": "stdout",
     "output_type": "stream",
     "text": [
      "Wed Oct 17 11:06:00 2018    macProf\n",
      "\n",
      "         8052646 function calls (8035999 primitive calls) in 391.638 seconds\n",
      "\n",
      "   Ordered by: internal time\n",
      "   List reduced from 1322 to 10 due to restriction <10>\n",
      "\n",
      "   ncalls  tottime  percall  cumtime  percall filename:lineno(function)\n",
      "    13442  237.789    0.018  237.789    0.018 {built-in method scipy.sparse._sparsetools.csr_matmat_pass2}\n",
      "    13442   59.438    0.004   59.438    0.004 {built-in method scipy.sparse._sparsetools.csr_matmat_pass1}\n",
      "     2880   11.732    0.004   11.732    0.004 {built-in method numpy.core.multiarray.matmul}\n",
      "     2640    6.851    0.003   74.774    0.028 quantum.py:118(par_tr)\n",
      "     3659    6.188    0.002    6.188    0.002 {built-in method numpy.core.multiarray.zeros}\n",
      "   104853    6.088    0.000    6.088    0.000 {built-in method numpy.core.multiarray.empty}\n",
      "     2640    5.450    0.002  278.081    0.105 quantum.py:28(mat_norm)\n",
      "     8041    4.852    0.001    4.852    0.001 {built-in method scipy.sparse._sparsetools.csc_tocsr}\n",
      "    84696    4.189    0.000    4.189    0.000 {method 'reduce' of 'numpy.ufunc' objects}\n",
      "     2661    4.117    0.002    4.117    0.002 {built-in method scipy.sparse._sparsetools.csr_plus_csr}\n",
      "\n",
      "\n"
     ]
    },
    {
     "data": {
      "text/plain": [
       "<pstats.Stats at 0x120cca1d0>"
      ]
     },
     "execution_count": 10,
     "metadata": {},
     "output_type": "execute_result"
    }
   ],
   "source": [
    "p = pstats.Stats('macProf')\n",
    "p.strip_dirs().sort_stats('time').print_stats(10)"
   ]
  },
  {
   "cell_type": "code",
   "execution_count": 11,
   "metadata": {},
   "outputs": [
    {
     "name": "stdout",
     "output_type": "stream",
     "text": [
      "Wed Oct 17 11:35:56 2018    feynProf\n",
      "\n",
      "         9812936 function calls (9796060 primitive calls) in 270.057 seconds\n",
      "\n",
      "   Ordered by: internal time\n",
      "   List reduced from 1317 to 10 due to restriction <10>\n",
      "\n",
      "   ncalls  tottime  percall  cumtime  percall filename:lineno(function)\n",
      "    13442  184.358    0.014  184.358    0.014 {built-in method scipy.sparse._sparsetools.csr_matmat_pass2}\n",
      "    13442   48.272    0.004   48.272    0.004 {built-in method scipy.sparse._sparsetools.csr_matmat_pass1}\n",
      "     8041    5.910    0.001    5.910    0.001 {built-in method scipy.sparse._sparsetools.csc_tocsr}\n",
      "     2880    3.507    0.001    3.507    0.001 {built-in method numpy.core.multiarray.matmul}\n",
      "     2661    2.709    0.001    2.709    0.001 {built-in method scipy.sparse._sparsetools.csr_plus_csr}\n",
      "     3659    2.701    0.001    2.701    0.001 {built-in method numpy.core.multiarray.zeros}\n",
      "     1958    1.705    0.001    1.705    0.001 {built-in method scipy.sparse._sparsetools.coo_tocsr}\n",
      "   999564    1.666    0.000    1.667    0.000 {built-in method numpy.core.multiarray.array}\n",
      "     2652    1.406    0.001    1.406    0.001 {built-in method scipy.sparse._sparsetools.csr_todense}\n",
      "    73608    1.265    0.000    1.265    0.000 {method 'reduce' of 'numpy.ufunc' objects}\n",
      "\n",
      "\n"
     ]
    },
    {
     "data": {
      "text/plain": [
       "<pstats.Stats at 0x120de7ba8>"
      ]
     },
     "execution_count": 11,
     "metadata": {},
     "output_type": "execute_result"
    }
   ],
   "source": [
    "p = pstats.Stats('feynProf')\n",
    "p.strip_dirs().sort_stats('time').print_stats(10)"
   ]
  },
  {
   "cell_type": "code",
   "execution_count": 12,
   "metadata": {},
   "outputs": [
    {
     "name": "stdout",
     "output_type": "stream",
     "text": [
      "Wed Oct 17 11:35:56 2018    slrmProf\n",
      "\n",
      "         9810780 function calls (9793904 primitive calls) in 383.994 seconds\n",
      "\n",
      "   Ordered by: internal time\n",
      "   List reduced from 1317 to 10 due to restriction <10>\n",
      "\n",
      "   ncalls  tottime  percall  cumtime  percall filename:lineno(function)\n",
      "    13442  200.194    0.015  200.194    0.015 {built-in method scipy.sparse._sparsetools.csr_matmat_pass2}\n",
      "     2880   78.525    0.027   78.525    0.027 {built-in method numpy.core.multiarray.matmul}\n",
      "    13442   44.207    0.003   44.207    0.003 {built-in method scipy.sparse._sparsetools.csr_matmat_pass1}\n",
      "     8041    9.539    0.001    9.539    0.001 {built-in method scipy.sparse._sparsetools.csc_tocsr}\n",
      "6277/4126    6.110    0.001   13.295    0.003 coo.py:126(__init__)\n",
      "       12    5.171    0.431    5.174    0.431 decomp.py:270(eigh)\n",
      "     2652    3.332    0.001    3.332    0.001 {built-in method scipy.sparse._sparsetools.csr_todense}\n",
      "     1602    3.290    0.002    3.290    0.002 {method 'nonzero' of 'numpy.ndarray' objects}\n",
      "     2661    2.957    0.001    2.957    0.001 {built-in method scipy.sparse._sparsetools.csr_plus_csr}\n",
      "     3659    2.848    0.001    2.848    0.001 {built-in method numpy.core.multiarray.zeros}\n",
      "\n",
      "\n"
     ]
    },
    {
     "data": {
      "text/plain": [
       "<pstats.Stats at 0x120e0c710>"
      ]
     },
     "execution_count": 12,
     "metadata": {},
     "output_type": "execute_result"
    }
   ],
   "source": [
    "p = pstats.Stats('slrmProf')\n",
    "p.strip_dirs().sort_stats('time').print_stats(10)"
   ]
  },
  {
   "cell_type": "code",
   "execution_count": 5,
   "metadata": {},
   "outputs": [
    {
     "name": "stdout",
     "output_type": "stream",
     "text": [
      "(array([ 0,  1,  2,  4,  8,  3,  5,  6,  9, 10, 12,  7, 11, 13, 14, 15]), array([ 0,  1,  2,  5,  3,  6,  7, 11,  4,  8,  9, 12, 10, 13, 14, 15]))\n"
     ]
    }
   ],
   "source": [
    "print(asym.permutations(4))"
   ]
  },
  {
   "cell_type": "code",
   "execution_count": null,
   "metadata": {
    "collapsed": true
   },
   "outputs": [],
   "source": []
  }
 ],
 "metadata": {
  "kernelspec": {
   "display_name": "Python 3",
   "language": "python",
   "name": "python3"
  },
  "language_info": {
   "codemirror_mode": {
    "name": "ipython",
    "version": 3
   },
   "file_extension": ".py",
   "mimetype": "text/x-python",
   "name": "python",
   "nbconvert_exporter": "python",
   "pygments_lexer": "ipython3",
   "version": "3.5.3"
  }
 },
 "nbformat": 4,
 "nbformat_minor": 1
}
