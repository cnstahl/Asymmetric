{
 "cells": [
  {
   "cell_type": "code",
   "execution_count": 14,
   "metadata": {},
   "outputs": [],
   "source": [
    "import timeit\n",
    "import time\n",
    "from time import time as t\n",
    "import numpy as np"
   ]
  },
  {
   "cell_type": "code",
   "execution_count": 6,
   "metadata": {},
   "outputs": [
    {
     "name": "stdout",
     "output_type": "stream",
     "text": [
      "5.021391153335571\n"
     ]
    }
   ],
   "source": [
    "start = time.time()\n",
    "for i in range(5):\n",
    "    time.sleep(1)\n",
    "    if (i==900): print('here')\n",
    "end = time.time()\n",
    "print(end - start)"
   ]
  },
  {
   "cell_type": "code",
   "execution_count": 9,
   "metadata": {},
   "outputs": [
    {
     "data": {
      "text/plain": [
       "1537555073.266516"
      ]
     },
     "execution_count": 9,
     "metadata": {},
     "output_type": "execute_result"
    }
   ],
   "source": [
    "t()"
   ]
  },
  {
   "cell_type": "code",
   "execution_count": 10,
   "metadata": {},
   "outputs": [
    {
     "data": {
      "text/plain": [
       "1537555129.241217"
      ]
     },
     "execution_count": 10,
     "metadata": {},
     "output_type": "execute_result"
    }
   ],
   "source": [
    "t()"
   ]
  },
  {
   "cell_type": "code",
   "execution_count": 11,
   "metadata": {
    "collapsed": true
   },
   "outputs": [],
   "source": [
    "a = t()"
   ]
  },
  {
   "cell_type": "code",
   "execution_count": 12,
   "metadata": {},
   "outputs": [
    {
     "data": {
      "text/plain": [
       "1537555157.146936"
      ]
     },
     "execution_count": 12,
     "metadata": {},
     "output_type": "execute_result"
    }
   ],
   "source": [
    "a"
   ]
  },
  {
   "cell_type": "code",
   "execution_count": 29,
   "metadata": {},
   "outputs": [
    {
     "name": "stdout",
     "output_type": "stream",
     "text": [
      "[[ 1.          2.          3.        ]\n",
      " [ 0.5         1.          1.5       ]\n",
      " [ 0.33333333  0.66666667  1.        ]\n",
      " [ 0.25        0.5         0.75      ]\n",
      " [ 0.16666667  0.33333333  0.5       ]\n",
      " [ 0.125       0.25        0.375     ]\n",
      " [ 0.08333333  0.16666667  0.25      ]\n",
      " [ 0.0625      0.125       0.1875    ]\n",
      " [ 0.05555556  0.11111111  0.16666667]]\n",
      "28\n"
     ]
    }
   ],
   "source": [
    "vs = [1, 2, 3, 4,  6, 8, 12, 16, 18]\n",
    "L = 4\n",
    "times = np.zeros([len(vs), L-1])\n",
    "for i in range(1, L):\n",
    "    for j, v in enumerate(vs):\n",
    "        times[j,i-1] = i/v\n",
    "print(times)\n",
    "sumb = 0\n",
    "for i, val in enumerate(times):\n",
    "    for j, k in enumerate(val):\n",
    "        sumb += np.sum(np.isclose(k, times))\n",
    "print((sumb - (L-1)*len(vs)))"
   ]
  },
  {
   "cell_type": "code",
   "execution_count": 31,
   "metadata": {},
   "outputs": [
    {
     "data": {
      "text/plain": [
       "0.8"
      ]
     },
     "execution_count": 31,
     "metadata": {},
     "output_type": "execute_result"
    }
   ],
   "source": [
    "float('0.8')"
   ]
  },
  {
   "cell_type": "code",
   "execution_count": null,
   "metadata": {
    "collapsed": true
   },
   "outputs": [],
   "source": []
  }
 ],
 "metadata": {
  "kernelspec": {
   "display_name": "Python 3",
   "language": "python",
   "name": "python3"
  },
  "language_info": {
   "codemirror_mode": {
    "name": "ipython",
    "version": 3
   },
   "file_extension": ".py",
   "mimetype": "text/x-python",
   "name": "python",
   "nbconvert_exporter": "python",
   "pygments_lexer": "ipython3",
   "version": "3.5.3"
  }
 },
 "nbformat": 4,
 "nbformat_minor": 1
}
