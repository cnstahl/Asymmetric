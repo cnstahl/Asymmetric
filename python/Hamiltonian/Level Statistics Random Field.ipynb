{
 "cells": [
  {
   "cell_type": "code",
   "execution_count": 1,
   "metadata": {
    "collapsed": true
   },
   "outputs": [],
   "source": [
    "%matplotlib inline\n",
    "import numpy as np\n",
    "import matplotlib.pyplot as plt\n",
    "import quantum as qm\n",
    "import asymmetric as asym\n",
    "import scipy.sparse as sparse\n",
    "import scipy.sparse.linalg as la"
   ]
  },
  {
   "cell_type": "code",
   "execution_count": 16,
   "metadata": {},
   "outputs": [
    {
     "name": "stdout",
     "output_type": "stream",
     "text": [
      "8\n",
      "10\n",
      "12\n"
     ]
    }
   ],
   "source": [
    "data = np.zeros((3,2,6))\n",
    "for i, L in enumerate([8,10,12]):\n",
    "    \n",
    "    trials = 260 - 20*L\n",
    "    levels = 6\n",
    "    rs = np.zeros((trials, levels))\n",
    "    hs = np.logspace(-5,0, levels)\n",
    "    \n",
    "    # Only create these once\n",
    "    H0 = asym.dense_H(L)\n",
    "    _, _, _, sig_z_list = qm.get_sigma_lists(L)\n",
    "\n",
    "    for idx, h in enumerate(hs):\n",
    "        for j in range(trials):\n",
    "            H_pert = qm.get_local_field(sig_z_list, np.random.rand(L)*2*h - h)/2\n",
    "            H = H0 + H_pert\n",
    "            choose = L//2\n",
    "            rs[j, idx] = qm.get_r(asym.mat2list(H)[choose], nonz=True)\n",
    "\n",
    "    data[i] = qm.mean_and_std(rs)\n",
    "#     rs[i,0] = mean\n",
    "#     rs[i,1] = std\n",
    "    print(L)"
   ]
  },
  {
   "cell_type": "code",
   "execution_count": 20,
   "metadata": {},
   "outputs": [
    {
     "data": {
      "image/png": "[encoded data removed]",
      "text/plain": [
       "<matplotlib.figure.Figure at 0x1042d5860>"
      ]
     },
     "metadata": {},
     "output_type": "display_data"
    }
   ],
   "source": [
    "ax = plt.subplot(111)\n",
    "for i, L in enumerate([8,10,12]):\n",
    "    ax.set_xscale(\"log\", nonposx='clip')\n",
    "    ax.errorbar(\n",
    "        hs,\n",
    "        data[i,0],\n",
    "        yerr = data[i,1],\n",
    "        marker = '.',\n",
    "        drawstyle = 'steps-mid-',\n",
    "        label ='L='+str(L)\n",
    "    )\n",
    "    plt.xlabel('$h$', fontsize=15)\n",
    "    plt.ylabel('$r$', fontsize=15)\n",
    "#     plt.ylim(.4,.6)\n",
    "plt.legend()\n",
    "plt.title(\"Level repulsion transition\", fontsize=15)\n",
    "plt.savefig(\"figures/levelrepultrans_tiny.pdf\")\n",
    "plt.show()"
   ]
  },
  {
   "cell_type": "code",
   "execution_count": 9,
   "metadata": {
    "scrolled": true
   },
   "outputs": [
    {
     "data": {
      "text/plain": [
       "array([  1.00000000e-05,   1.00000000e-04,   1.00000000e-03,\n",
       "         1.00000000e-02,   1.00000000e-01,   1.00000000e+00])"
      ]
     },
     "execution_count": 9,
     "metadata": {},
     "output_type": "execute_result"
    }
   ],
   "source": [
    "np.logspace(-5,0, levels)"
   ]
  },
  {
   "cell_type": "code",
   "execution_count": null,
   "metadata": {
    "collapsed": true
   },
   "outputs": [],
   "source": [
    "X = sparse.csr_matrix(sparse.diags([-9,-8,-7,-6,-5,-4,-3,-2,-1,0.00000000000001,1,2,3,4,5,6,7,8,9]))"
   ]
  },
  {
   "cell_type": "code",
   "execution_count": null,
   "metadata": {
    "collapsed": true
   },
   "outputs": [],
   "source": [
    "val, _ = la.eigsh(X, sigma=0, k = 4, which=\"LA\")\n",
    "qm.chop(val)"
   ]
  },
  {
   "cell_type": "code",
   "execution_count": null,
   "metadata": {
    "collapsed": true
   },
   "outputs": [],
   "source": [
    "L = 8\n",
    "\n",
    "H0 = asym.dense_H(L)\n",
    "H0 = H0 + asym.init_pert(L, 4)\n",
    "H0 = H0 + asym.finl_pert(L, 4)\n",
    "\n",
    "alph2Sz, Sz2alph = asym.permutations(L)\n",
    "plt.matshow(np.absolute(H0.A[alph2Sz][:,alph2Sz]))\n",
    "plt.show()"
   ]
  },
  {
   "cell_type": "code",
   "execution_count": null,
   "metadata": {
    "collapsed": true
   },
   "outputs": [],
   "source": [
    "vals = np.array([-2,-1,0,1E-16, 3, 4, 5])\n",
    "print('zeros:', sum(np.isclose(vals,0)))\n",
    "vals = vals[np.isclose(np.isclose(vals,0),0)]\n",
    "vals = vals[vals>0]\n",
    "print(vals)"
   ]
  },
  {
   "cell_type": "code",
   "execution_count": null,
   "metadata": {
    "collapsed": true
   },
   "outputs": [],
   "source": [
    "mean = np.array([1,2,3,4])\n",
    "np.append(mean, 5)\n",
    "print(mean)\n",
    "print(np.append(mean, 5))"
   ]
  },
  {
   "cell_type": "code",
   "execution_count": 15,
   "metadata": {},
   "outputs": [
    {
     "data": {
      "text/plain": [
       "array([[ 0.47988439,  0.42147488,  0.43166956,  0.43914512,  0.47489996,\n",
       "         0.56277852],\n",
       "       [ 0.45889272,  0.43790773,  0.44897086,  0.42918392,  0.45450246,\n",
       "         0.72552431],\n",
       "       [ 0.45007658,  0.43459462,  0.37906601,  0.44527093,  0.4715649 ,\n",
       "         0.56904339],\n",
       "       [ 0.45495151,  0.46992976,  0.38649643,  0.45886743,  0.51540321,\n",
       "         0.65686873],\n",
       "       [ 0.48038013,  0.41473309,  0.45706452,  0.38987194,  0.51609341,\n",
       "         0.60931703],\n",
       "       [ 0.44250427,  0.49344476,  0.41916336,  0.42327641,  0.49012448,\n",
       "         0.67923861],\n",
       "       [ 0.4879483 ,  0.45514168,  0.46436911,  0.45632215,  0.42935516,\n",
       "         0.52363578],\n",
       "       [ 0.4267916 ,  0.41397126,  0.4734302 ,  0.47774322,  0.48085008,\n",
       "         0.63196574],\n",
       "       [ 0.39553729,  0.40688853,  0.46176698,  0.37052705,  0.47182975,\n",
       "         0.56009505],\n",
       "       [ 0.43519046,  0.44185205,  0.4499624 ,  0.44700002,  0.49459787,\n",
       "         0.70749139],\n",
       "       [ 0.50401509,  0.43345114,  0.43087282,  0.4426976 ,  0.49302325,\n",
       "         0.55301893],\n",
       "       [ 0.41729509,  0.45364761,  0.44788172,  0.4539311 ,  0.43407909,\n",
       "         0.65157886],\n",
       "       [ 0.4423005 ,  0.47031123,  0.48133919,  0.48501707,  0.51594884,\n",
       "         0.52053487],\n",
       "       [ 0.40824357,  0.43895558,  0.44930623,  0.43687455,  0.51779441,\n",
       "         0.46912185],\n",
       "       [ 0.40022042,  0.46101549,  0.44491294,  0.36922736,  0.44050193,\n",
       "         0.5861081 ],\n",
       "       [ 0.45217188,  0.44079692,  0.45328507,  0.38029956,  0.49249891,\n",
       "         0.50462811],\n",
       "       [ 0.4340681 ,  0.44383089,  0.44973792,  0.44083623,  0.48337625,\n",
       "         0.60625688],\n",
       "       [ 0.40128869,  0.46368335,  0.43162644,  0.3813093 ,  0.42765658,\n",
       "         0.57680737],\n",
       "       [ 0.45306347,  0.44731052,  0.45982912,  0.43292603,  0.47663665,\n",
       "         0.41904614],\n",
       "       [ 0.39525827,  0.44574291,  0.46321044,  0.43243009,  0.43130905,\n",
       "         0.65403715],\n",
       "       [ 0.43360942,  0.42270068,  0.47081946,  0.39436399,  0.45879405,\n",
       "         0.58221945],\n",
       "       [ 0.47380919,  0.47537421,  0.46848521,  0.45463045,  0.46557089,\n",
       "         0.55799117],\n",
       "       [ 0.49156326,  0.47336914,  0.43201848,  0.45075959,  0.52678666,\n",
       "         0.54637632],\n",
       "       [ 0.42394627,  0.44556676,  0.48127357,  0.41964901,  0.46817068,\n",
       "         0.68922156],\n",
       "       [ 0.45391953,  0.43669593,  0.4414324 ,  0.3854486 ,  0.50553562,\n",
       "         0.50267599],\n",
       "       [ 0.40847883,  0.44901631,  0.44013209,  0.44517717,  0.49766408,\n",
       "         0.57463685],\n",
       "       [ 0.40549903,  0.45909311,  0.41095699,  0.39914363,  0.51767411,\n",
       "         0.52326648],\n",
       "       [ 0.46199514,  0.47729798,  0.39242117,  0.43330029,  0.41770289,\n",
       "         0.52036596],\n",
       "       [ 0.44762533,  0.45170162,  0.46020056,  0.41136007,  0.4871931 ,\n",
       "         0.50070317],\n",
       "       [ 0.47096418,  0.47629473,  0.44372523,  0.42763092,  0.48094838,\n",
       "         0.57386764],\n",
       "       [ 0.45427244,  0.41634796,  0.46707856,  0.43362927,  0.49667355,\n",
       "         0.57918197],\n",
       "       [ 0.43756687,  0.49617779,  0.46284396,  0.40199806,  0.45110919,\n",
       "         0.58994324],\n",
       "       [ 0.42994526,  0.48041707,  0.44520567,  0.43875781,  0.44442603,\n",
       "         0.5558671 ],\n",
       "       [ 0.43090942,  0.44886182,  0.42613391,  0.42304098,  0.4856063 ,\n",
       "         0.46982871],\n",
       "       [ 0.45582403,  0.46312649,  0.43128831,  0.410296  ,  0.4891378 ,\n",
       "         0.65269574],\n",
       "       [ 0.46448144,  0.43041792,  0.44831033,  0.35425321,  0.4681308 ,\n",
       "         0.40765429],\n",
       "       [ 0.45243861,  0.48859169,  0.45763844,  0.42960301,  0.43773315,\n",
       "         0.6060813 ],\n",
       "       [ 0.4003461 ,  0.43631949,  0.43919304,  0.43724331,  0.48574673,\n",
       "         0.55934093],\n",
       "       [ 0.48481925,  0.45893962,  0.41324603,  0.40472836,  0.49698322,\n",
       "         0.64374993],\n",
       "       [ 0.44573142,  0.43911604,  0.44920447,  0.45739032,  0.45053794,\n",
       "         0.58460082],\n",
       "       [ 0.45990867,  0.4795258 ,  0.45715464,  0.40998987,  0.48365095,\n",
       "         0.46783457],\n",
       "       [ 0.41613335,  0.45034831,  0.37743203,  0.43199062,  0.47377515,\n",
       "         0.50080115],\n",
       "       [ 0.4521052 ,  0.45664094,  0.36116362,  0.48156921,  0.4996388 ,\n",
       "         0.52990418],\n",
       "       [ 0.47534752,  0.44191674,  0.43403286,  0.48361755,  0.44243209,\n",
       "         0.66993297],\n",
       "       [ 0.42664071,  0.47364626,  0.52033327,  0.43498108,  0.53129788,\n",
       "         0.5135604 ],\n",
       "       [ 0.49136317,  0.42628882,  0.4461157 ,  0.46745614,  0.47942024,\n",
       "         0.67734999],\n",
       "       [ 0.48141673,  0.40987526,  0.42405908,  0.42709974,  0.44068654,\n",
       "         0.64417228],\n",
       "       [ 0.45677788,  0.45451009,  0.42025615,  0.44951632,  0.47393926,\n",
       "         0.67620431],\n",
       "       [ 0.43946347,  0.45451557,  0.39691041,  0.40118042,  0.49113466,\n",
       "         0.50520784],\n",
       "       [ 0.45588756,  0.44260108,  0.47992865,  0.45545232,  0.49010537,\n",
       "         0.54940357],\n",
       "       [ 0.4651377 ,  0.48128084,  0.45328254,  0.42405723,  0.49148708,\n",
       "         0.5410074 ],\n",
       "       [ 0.43216383,  0.4053834 ,  0.46478838,  0.44459715,  0.41210348,\n",
       "         0.64070691],\n",
       "       [ 0.48799484,  0.44588839,  0.44390349,  0.39616428,  0.45060238,\n",
       "         0.60409804],\n",
       "       [ 0.39993551,  0.4627844 ,  0.45658544,  0.48091278,  0.48463802,\n",
       "         0.4693284 ],\n",
       "       [ 0.47732874,  0.49388842,  0.47655817,  0.50562795,  0.50884808,\n",
       "         0.66860569],\n",
       "       [ 0.43429799,  0.46769752,  0.43717257,  0.44069252,  0.46565438,\n",
       "         0.61025817],\n",
       "       [ 0.44616919,  0.45442849,  0.45103175,  0.46014037,  0.48672001,\n",
       "         0.50466046],\n",
       "       [ 0.48715534,  0.47298771,  0.43516555,  0.39858162,  0.45645062,\n",
       "         0.5937952 ],\n",
       "       [ 0.45428188,  0.39206387,  0.39000682,  0.4265922 ,  0.51068032,\n",
       "         0.58553997],\n",
       "       [ 0.49460498,  0.47309557,  0.44875312,  0.42195047,  0.45367667,\n",
       "         0.5508037 ],\n",
       "       [ 0.42990228,  0.44014327,  0.48728734,  0.37437834,  0.51217287,\n",
       "         0.67382009],\n",
       "       [ 0.44692036,  0.43561103,  0.45291391,  0.39110812,  0.5031367 ,\n",
       "         0.57304399],\n",
       "       [ 0.46628306,  0.45229212,  0.42345723,  0.37862315,  0.49021663,\n",
       "         0.58836531],\n",
       "       [ 0.4225897 ,  0.4410218 ,  0.42361771,  0.40447479,  0.50049939,\n",
       "         0.58445552],\n",
       "       [ 0.44975558,  0.44394381,  0.3643361 ,  0.44885576,  0.48633384,\n",
       "         0.62045706],\n",
       "       [ 0.43278669,  0.4613056 ,  0.39887793,  0.47110994,  0.49194813,\n",
       "         0.57465443],\n",
       "       [ 0.45935773,  0.45841726,  0.42195032,  0.41799937,  0.42122757,\n",
       "         0.58037677],\n",
       "       [ 0.42732804,  0.42486892,  0.43298745,  0.43003592,  0.49357732,\n",
       "         0.48315082],\n",
       "       [ 0.39576883,  0.48801787,  0.4403066 ,  0.40278254,  0.42535035,\n",
       "         0.51066452],\n",
       "       [ 0.4315485 ,  0.4502107 ,  0.50389348,  0.46973215,  0.49814392,\n",
       "         0.69703539],\n",
       "       [ 0.47701402,  0.48004672,  0.40485774,  0.4220597 ,  0.50973827,\n",
       "         0.51368704],\n",
       "       [ 0.4172091 ,  0.44727544,  0.46550008,  0.4362466 ,  0.46208307,\n",
       "         0.61830409],\n",
       "       [ 0.46588311,  0.42718788,  0.44808269,  0.37559558,  0.49354819,\n",
       "         0.50348636],\n",
       "       [ 0.42672467,  0.45065652,  0.46833134,  0.39846502,  0.44160879,\n",
       "         0.64840341],\n",
       "       [ 0.41420291,  0.43311184,  0.43879138,  0.47079945,  0.49114135,\n",
       "         0.43568951],\n",
       "       [ 0.46631155,  0.45790527,  0.43606214,  0.50054609,  0.52877689,\n",
       "         0.54862868],\n",
       "       [ 0.45698121,  0.41119316,  0.4068554 ,  0.44929604,  0.47468087,\n",
       "         0.55543852],\n",
       "       [ 0.41767525,  0.50467792,  0.42558923,  0.43920725,  0.48660624,\n",
       "         0.51816356],\n",
       "       [ 0.44488452,  0.44887732,  0.44890727,  0.41897444,  0.50488298,\n",
       "         0.61829662],\n",
       "       [ 0.43219867,  0.43864688,  0.42513227,  0.41798206,  0.52350717,\n",
       "         0.63389133],\n",
       "       [ 0.41501304,  0.49950809,  0.45419515,  0.41532367,  0.46067654,\n",
       "         0.55880547],\n",
       "       [ 0.42192787,  0.43093708,  0.43680188,  0.38794346,  0.45115601,\n",
       "         0.61232829],\n",
       "       [ 0.44086102,  0.39490323,  0.43513696,  0.37403542,  0.49649909,\n",
       "         0.62617846],\n",
       "       [ 0.45626358,  0.45581369,  0.46537681,  0.44598441,  0.4709743 ,\n",
       "         0.49896422],\n",
       "       [ 0.47331666,  0.47499454,  0.47966012,  0.41145061,  0.41148151,\n",
       "         0.610245  ],\n",
       "       [ 0.42665402,  0.44779002,  0.41612529,  0.47008443,  0.46980553,\n",
       "         0.7296267 ],\n",
       "       [ 0.46364557,  0.39816235,  0.44457765,  0.4319097 ,  0.44426659,\n",
       "         0.62464896],\n",
       "       [ 0.4420034 ,  0.48861466,  0.45035848,  0.47489084,  0.48724841,\n",
       "         0.58029952],\n",
       "       [ 0.47098135,  0.459344  ,  0.50568878,  0.461576  ,  0.47216834,\n",
       "         0.58746249],\n",
       "       [ 0.49644955,  0.45928033,  0.42912369,  0.40648486,  0.41509126,\n",
       "         0.47254725],\n",
       "       [ 0.45401909,  0.42995076,  0.44198651,  0.44698108,  0.46731506,\n",
       "         0.65709763],\n",
       "       [ 0.41657623,  0.45624907,  0.46427367,  0.44835567,  0.47533328,\n",
       "         0.54278292],\n",
       "       [ 0.48098054,  0.48243698,  0.44251262,  0.42047196,  0.48000813,\n",
       "         0.56153173],\n",
       "       [ 0.46411623,  0.46765822,  0.47798888,  0.40475713,  0.49251874,\n",
       "         0.6329856 ],\n",
       "       [ 0.48960938,  0.44715283,  0.424199  ,  0.43140866,  0.42316423,\n",
       "         0.47698395],\n",
       "       [ 0.43004541,  0.45796722,  0.45931783,  0.42477139,  0.45782931,\n",
       "         0.62903382],\n",
       "       [ 0.4615196 ,  0.45980991,  0.46181139,  0.39742645,  0.50984534,\n",
       "         0.57277704],\n",
       "       [ 0.47173794,  0.39264872,  0.41057594,  0.45691198,  0.46028401,\n",
       "         0.59562101],\n",
       "       [ 0.4555527 ,  0.41161191,  0.43052951,  0.39380418,  0.49829502,\n",
       "         0.48485904],\n",
       "       [ 0.49646975,  0.44172683,  0.42268998,  0.43020989,  0.53052944,\n",
       "         0.50623338]])"
      ]
     },
     "execution_count": 15,
     "metadata": {},
     "output_type": "execute_result"
    }
   ],
   "source": [
    "rs"
   ]
  },
  {
   "cell_type": "code",
   "execution_count": null,
   "metadata": {
    "collapsed": true
   },
   "outputs": [],
   "source": []
  }
 ],
 "metadata": {
  "kernelspec": {
   "display_name": "Python 3",
   "language": "python",
   "name": "python3"
  },
  "language_info": {
   "codemirror_mode": {
    "name": "ipython",
    "version": 3
   },
   "file_extension": ".py",
   "mimetype": "text/x-python",
   "name": "python",
   "nbconvert_exporter": "python",
   "pygments_lexer": "ipython3",
   "version": "3.5.3"
  }
 },
 "nbformat": 4,
 "nbformat_minor": 1
}
