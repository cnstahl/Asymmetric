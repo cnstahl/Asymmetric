{
 "cells": [
  {
   "cell_type": "code",
   "execution_count": 3,
   "metadata": {
    "collapsed": true
   },
   "outputs": [],
   "source": [
    "%matplotlib inline\n",
    "import numpy as np\n",
    "import matplotlib.pyplot as plt\n",
    "import quantum as qm\n",
    "import asymmetric as asym\n",
    "import scipy.sparse as sparse\n",
    "import scipy.linalg as la"
   ]
  },
  {
   "cell_type": "code",
   "execution_count": 2,
   "metadata": {},
   "outputs": [
    {
     "ename": "KeyboardInterrupt",
     "evalue": "",
     "output_type": "error",
     "traceback": [
      "\u001b[0;31m---------------------------------------------------------------------------\u001b[0m",
      "\u001b[0;31mKeyboardInterrupt\u001b[0m                         Traceback (most recent call last)",
      "\u001b[0;32m<ipython-input-2-be7cd9cbac46>\u001b[0m in \u001b[0;36m<module>\u001b[0;34m()\u001b[0m\n\u001b[1;32m     21\u001b[0m             \u001b[0mH\u001b[0m \u001b[0;34m=\u001b[0m \u001b[0mH0\u001b[0m \u001b[0;34m+\u001b[0m \u001b[0mH_pert\u001b[0m\u001b[0;34m\u001b[0m\u001b[0m\n\u001b[1;32m     22\u001b[0m             \u001b[0mchoose\u001b[0m \u001b[0;34m=\u001b[0m \u001b[0mL\u001b[0m\u001b[0;34m//\u001b[0m\u001b[0;36m2\u001b[0m\u001b[0;34m\u001b[0m\u001b[0m\n\u001b[0;32m---> 23\u001b[0;31m             \u001b[0mrs\u001b[0m\u001b[0;34m[\u001b[0m\u001b[0mj\u001b[0m\u001b[0;34m,\u001b[0m \u001b[0midx\u001b[0m\u001b[0;34m]\u001b[0m \u001b[0;34m=\u001b[0m \u001b[0mqm\u001b[0m\u001b[0;34m.\u001b[0m\u001b[0mget_r\u001b[0m\u001b[0;34m(\u001b[0m\u001b[0masym\u001b[0m\u001b[0;34m.\u001b[0m\u001b[0mmat2list\u001b[0m\u001b[0;34m(\u001b[0m\u001b[0mH\u001b[0m\u001b[0;34m)\u001b[0m\u001b[0;34m[\u001b[0m\u001b[0mchoose\u001b[0m\u001b[0;34m]\u001b[0m\u001b[0;34m.\u001b[0m\u001b[0mA\u001b[0m\u001b[0;34m,\u001b[0m \u001b[0mnonz\u001b[0m\u001b[0;34m=\u001b[0m\u001b[0;32mTrue\u001b[0m\u001b[0;34m)\u001b[0m\u001b[0;34m\u001b[0m\u001b[0m\n\u001b[0m\u001b[1;32m     24\u001b[0m \u001b[0;34m\u001b[0m\u001b[0m\n\u001b[1;32m     25\u001b[0m     \u001b[0mdata\u001b[0m\u001b[0;34m[\u001b[0m\u001b[0mi\u001b[0m\u001b[0;34m]\u001b[0m \u001b[0;34m=\u001b[0m \u001b[0mqm\u001b[0m\u001b[0;34m.\u001b[0m\u001b[0mmean_and_std\u001b[0m\u001b[0;34m(\u001b[0m\u001b[0mrs\u001b[0m\u001b[0;34m)\u001b[0m\u001b[0;34m\u001b[0m\u001b[0m\n",
      "\u001b[0;32m/Users/cstahl/Documents/Research/Asymmetric/python/Hamiltonian/quantum.py\u001b[0m in \u001b[0;36mget_r\u001b[0;34m(mat, avg, frac, nonz)\u001b[0m\n\u001b[1;32m     35\u001b[0m \u001b[0;31m# get r value (average ratio between adjacent gaps) from a matrix\u001b[0m\u001b[0;34m\u001b[0m\u001b[0;34m\u001b[0m\u001b[0m\n\u001b[1;32m     36\u001b[0m \u001b[0;32mdef\u001b[0m \u001b[0mget_r\u001b[0m\u001b[0;34m(\u001b[0m\u001b[0mmat\u001b[0m\u001b[0;34m,\u001b[0m \u001b[0mavg\u001b[0m\u001b[0;34m=\u001b[0m\u001b[0;32mTrue\u001b[0m\u001b[0;34m,\u001b[0m \u001b[0mfrac\u001b[0m\u001b[0;34m=\u001b[0m\u001b[0;36m1\u001b[0m\u001b[0;34m/\u001b[0m\u001b[0;36m3\u001b[0m\u001b[0;34m,\u001b[0m \u001b[0mnonz\u001b[0m\u001b[0;34m=\u001b[0m\u001b[0;32mFalse\u001b[0m\u001b[0;34m)\u001b[0m\u001b[0;34m:\u001b[0m\u001b[0;34m\u001b[0m\u001b[0m\n\u001b[0;32m---> 37\u001b[0;31m     \u001b[0mvals\u001b[0m \u001b[0;34m=\u001b[0m \u001b[0mla\u001b[0m\u001b[0;34m.\u001b[0m\u001b[0meigvalsh\u001b[0m\u001b[0;34m(\u001b[0m\u001b[0mmat\u001b[0m\u001b[0;34m)\u001b[0m\u001b[0;34m\u001b[0m\u001b[0m\n\u001b[0m\u001b[1;32m     38\u001b[0m     \u001b[0;31m# print(vals)\u001b[0m\u001b[0;34m\u001b[0m\u001b[0;34m\u001b[0m\u001b[0m\n\u001b[1;32m     39\u001b[0m     \u001b[0;32mif\u001b[0m \u001b[0mnonz\u001b[0m\u001b[0;34m:\u001b[0m\u001b[0;34m\u001b[0m\u001b[0m\n",
      "\u001b[0;32m/Users/cstahl/anaconda3/lib/python3.5/site-packages/scipy/linalg/decomp.py\u001b[0m in \u001b[0;36meigvalsh\u001b[0;34m(a, b, lower, overwrite_a, overwrite_b, turbo, eigvals, type, check_finite)\u001b[0m\n\u001b[1;32m    859\u001b[0m                 \u001b[0moverwrite_a\u001b[0m\u001b[0;34m=\u001b[0m\u001b[0moverwrite_a\u001b[0m\u001b[0;34m,\u001b[0m \u001b[0moverwrite_b\u001b[0m\u001b[0;34m=\u001b[0m\u001b[0moverwrite_b\u001b[0m\u001b[0;34m,\u001b[0m\u001b[0;34m\u001b[0m\u001b[0m\n\u001b[1;32m    860\u001b[0m                 \u001b[0mturbo\u001b[0m\u001b[0;34m=\u001b[0m\u001b[0mturbo\u001b[0m\u001b[0;34m,\u001b[0m \u001b[0meigvals\u001b[0m\u001b[0;34m=\u001b[0m\u001b[0meigvals\u001b[0m\u001b[0;34m,\u001b[0m \u001b[0mtype\u001b[0m\u001b[0;34m=\u001b[0m\u001b[0mtype\u001b[0m\u001b[0;34m,\u001b[0m\u001b[0;34m\u001b[0m\u001b[0m\n\u001b[0;32m--> 861\u001b[0;31m                 check_finite=check_finite)\n\u001b[0m\u001b[1;32m    862\u001b[0m \u001b[0;34m\u001b[0m\u001b[0m\n\u001b[1;32m    863\u001b[0m \u001b[0;34m\u001b[0m\u001b[0m\n",
      "\u001b[0;32m/Users/cstahl/anaconda3/lib/python3.5/site-packages/scipy/linalg/decomp.py\u001b[0m in \u001b[0;36meigh\u001b[0;34m(a, b, lower, eigvals_only, overwrite_a, overwrite_b, turbo, eigvals, type, check_finite)\u001b[0m\n\u001b[1;32m    430\u001b[0m         \u001b[0;32mif\u001b[0m \u001b[0meigvals\u001b[0m \u001b[0;32mis\u001b[0m \u001b[0;32mNone\u001b[0m\u001b[0;34m:\u001b[0m\u001b[0;34m\u001b[0m\u001b[0m\n\u001b[1;32m    431\u001b[0m             w, v, info = evr(a1, uplo=uplo, jobz=_job, range=\"A\", il=1,\n\u001b[0;32m--> 432\u001b[0;31m                              iu=a1.shape[0], overwrite_a=overwrite_a)\n\u001b[0m\u001b[1;32m    433\u001b[0m         \u001b[0;32melse\u001b[0m\u001b[0;34m:\u001b[0m\u001b[0;34m\u001b[0m\u001b[0m\n\u001b[1;32m    434\u001b[0m             \u001b[0;34m(\u001b[0m\u001b[0mlo\u001b[0m\u001b[0;34m,\u001b[0m \u001b[0mhi\u001b[0m\u001b[0;34m)\u001b[0m \u001b[0;34m=\u001b[0m \u001b[0meigvals\u001b[0m\u001b[0;34m\u001b[0m\u001b[0m\n",
      "\u001b[0;31mKeyboardInterrupt\u001b[0m: "
     ]
    }
   ],
   "source": [
    "Ls = [10]\n",
    "levels = 11\n",
    "mn = .1\n",
    "mx = .5\n",
    "log = False\n",
    "hs = (np.logspace(mn, mx, levels) if log else np.linspace(mn, mx, levels))\n",
    "data = np.zeros((len(Ls),2,levels))\n",
    "for i, L in enumerate(Ls):\n",
    "    \n",
    "#     trials = 260 - 20*L\n",
    "    trials = 200\n",
    "    rs = np.zeros((trials, levels))\n",
    "    \n",
    "    # Only create these once\n",
    "    H0 = asym.dense_H(L)\n",
    "    _, _, _, sig_z_list = ([sig/2 for sig in sigs] for sigs in qm.get_sigma_lists(L))\n",
    "\n",
    "    for idx, h in enumerate(hs):\n",
    "        for j in range(trials):\n",
    "            H_pert = qm.get_local_field(sig_z_list, np.random.rand(L)*2*h - h)/2\n",
    "            H = H0 + H_pert\n",
    "            choose = L//2\n",
    "            rs[j, idx] = qm.get_r(asym.mat2list(H)[choose].A, nonz=True)\n",
    "\n",
    "    data[i] = qm.mean_and_std(rs)\n",
    "#     rs[i,0] = mean\n",
    "#     rs[i,1] = std\n",
    "    print(L)"
   ]
  },
  {
   "cell_type": "code",
   "execution_count": null,
   "metadata": {},
   "outputs": [],
   "source": [
    "ax = plt.subplot(111)\n",
    "for i, L in enumerate(Ls):\n",
    "    if log: ax.set_xscale(\"log\", nonposx='clip')\n",
    "    ax.errorbar(\n",
    "        hs,\n",
    "        data[i,0],\n",
    "        yerr = data[i,1],\n",
    "        marker = '.',\n",
    "        drawstyle = 'steps-mid-',\n",
    "        label ='L='+str(L)\n",
    "    )\n",
    "    plt.xlabel('$h$', fontsize=15)\n",
    "    plt.ylabel('$r$', fontsize=15)\n",
    "#     plt.ylim(.4,.6)\n",
    "plt.legend()\n",
    "plt.xlim(mn,mx)\n",
    "plt.title(\"Level repulsion transition\", fontsize=15)\n",
    "# plt.savefig(\"figures/levelrepultrans.pdf\")\n",
    "plt.show()"
   ]
  },
  {
   "cell_type": "markdown",
   "metadata": {
    "scrolled": true
   },
   "source": [
    "# Load data"
   ]
  },
  {
   "cell_type": "code",
   "execution_count": 4,
   "metadata": {},
   "outputs": [
    {
     "data": {
      "image/png": "[encoded data removed]",
      "text/plain": [
       "<matplotlib.figure.Figure at 0x115509240>"
      ]
     },
     "metadata": {},
     "output_type": "display_data"
    }
   ],
   "source": [
    "Ls = [10]\n",
    "levels = 31\n",
    "mn = .1\n",
    "mx = .5\n",
    "log = False\n",
    "add = \"log\" if log else \"\"\n",
    "hs = (np.logspace(mn, mx, levels) if log else np.linspace(mn, mx, levels))\n",
    "data = np.load(\"data/phasetrans_min\"+str(mn)+\"mx\"+str(mx)+add+\".npy\")\n",
    "ax = plt.subplot(111)\n",
    "for i, L in enumerate(Ls):\n",
    "#     if (i==0): continue\n",
    "    if log: ax.set_xscale(\"log\", nonposx='clip')\n",
    "    ax.errorbar(\n",
    "        hs,\n",
    "        data[i,0],\n",
    "        yerr = data[i,1],\n",
    "        marker = '.',\n",
    "        drawstyle = 'steps-mid-',\n",
    "        label ='L='+str(L)\n",
    "    )\n",
    "    plt.xlabel('$h$', fontsize=15)\n",
    "    plt.ylabel('$r$', fontsize=15)\n",
    "#     plt.ylim(.4,.6)\n",
    "plt.legend()\n",
    "plt.xlim(mn,mx)\n",
    "plt.title(\"Level repulsion transition\", fontsize=15)\n",
    "# plt.savefig(\"figures/levelrepultransf.pdf\")\n",
    "plt.show()"
   ]
  },
  {
   "cell_type": "code",
   "execution_count": 28,
   "metadata": {},
   "outputs": [
    {
     "data": {
      "text/plain": [
       "array([0.1 , 0.14, 0.18, 0.22, 0.26, 0.3 , 0.34, 0.38, 0.42, 0.46, 0.5 ])"
      ]
     },
     "execution_count": 28,
     "metadata": {},
     "output_type": "execute_result"
    }
   ],
   "source": [
    "hs"
   ]
  },
  {
   "cell_type": "code",
   "execution_count": null,
   "metadata": {
    "collapsed": true
   },
   "outputs": [],
   "source": [
    "L = 8\n",
    "\n",
    "H0 = asym.dense_H(L)\n",
    "H0 = H0 + asym.init_pert(L, 4)\n",
    "H0 = H0 + asym.finl_pert(L, 4)\n",
    "\n",
    "alph2Sz, Sz2alph = asym.permutations(L)\n",
    "plt.matshow(np.absolute(H0.A[alph2Sz][:,alph2Sz]))\n",
    "plt.show()"
   ]
  },
  {
   "cell_type": "code",
   "execution_count": null,
   "metadata": {
    "collapsed": true
   },
   "outputs": [],
   "source": [
    "vals = np.array([-2,-1,0,1E-16, 3, 4, 5])\n",
    "print('zeros:', sum(np.isclose(vals,0)))\n",
    "vals = vals[np.isclose(np.isclose(vals,0),0)]\n",
    "vals = vals[vals>0]\n",
    "print(vals)"
   ]
  },
  {
   "cell_type": "code",
   "execution_count": 4,
   "metadata": {},
   "outputs": [
    {
     "data": {
      "text/plain": [
       "(1, 2, 31)"
      ]
     },
     "execution_count": 4,
     "metadata": {},
     "output_type": "execute_result"
    }
   ],
   "source": [
    "np.shape(data)"
   ]
  },
  {
   "cell_type": "code",
   "execution_count": 5,
   "metadata": {},
   "outputs": [
    {
     "data": {
      "text/plain": [
       "11"
      ]
     },
     "execution_count": 5,
     "metadata": {},
     "output_type": "execute_result"
    }
   ],
   "source": [
    "len(hs)"
   ]
  },
  {
   "cell_type": "code",
   "execution_count": null,
   "metadata": {
    "collapsed": true
   },
   "outputs": [],
   "source": []
  }
 ],
 "metadata": {
  "kernelspec": {
   "display_name": "Python 3",
   "language": "python",
   "name": "python3"
  },
  "language_info": {
   "codemirror_mode": {
    "name": "ipython",
    "version": 3
   },
   "file_extension": ".py",
   "mimetype": "text/x-python",
   "name": "python",
   "nbconvert_exporter": "python",
   "pygments_lexer": "ipython3",
   "version": "3.5.3"
  }
 },
 "nbformat": 4,
 "nbformat_minor": 1
}
