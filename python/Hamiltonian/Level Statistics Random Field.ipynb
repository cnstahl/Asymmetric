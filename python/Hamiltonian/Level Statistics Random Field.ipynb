{
 "cells": [
  {
   "cell_type": "code",
   "execution_count": 4,
   "metadata": {
    "collapsed": true
   },
   "outputs": [],
   "source": [
    "%matplotlib inline\n",
    "import numpy as np\n",
    "import matplotlib.pyplot as plt\n",
    "import quantum as qm\n",
    "import asymmetric as asym\n",
    "import scipy.sparse as sparse\n",
    "import scipy.sparse.linalg as la"
   ]
  },
  {
   "cell_type": "code",
   "execution_count": 7,
   "metadata": {},
   "outputs": [
    {
     "name": "stdout",
     "output_type": "stream",
     "text": [
      "8\n",
      "10\n",
      "12\n"
     ]
    },
    {
     "data": {
      "image/png": "[encoded data removed]",
      "text/plain": [
       "<matplotlib.figure.Figure at 0x104ebd588>"
      ]
     },
     "metadata": {},
     "output_type": "display_data"
    }
   ],
   "source": [
    "pert_strength = 2.5\n",
    "for L in [8,10,12]:\n",
    "    \n",
    "    trials = 260 - 20*L\n",
    "    levels = 10\n",
    "    rs = np.zeros((trials, levels))\n",
    "    hs = np.linspace(1,20, levels)\n",
    "    \n",
    "    # Only create these once\n",
    "    H0 = asym.dense_H(L)\n",
    "    H0 = H0 + asym.init_pert(L, pert_strength)\n",
    "    H0 = H0 + asym.finl_pert(L, pert_strength)\n",
    "    _, _, _, sig_z_list = qm.get_sigma_lists(L)\n",
    "\n",
    "    for idx, h in enumerate(hs):\n",
    "        for j in range(trials):\n",
    "            H_pert = qm.get_local_field(sig_z_list, np.random.rand(L)*2*h - h)/2\n",
    "            H = H0 + H_pert\n",
    "            choose = L//2\n",
    "            rs[j, idx] = qm.get_r(asym.mat2list(H)[choose], nonz=True)\n",
    "\n",
    "    mean, std = qm.mean_and_std(rs)\n",
    "    plt.errorbar(\n",
    "        hs,\n",
    "        mean,\n",
    "        yerr = std,\n",
    "        marker = '.',\n",
    "        drawstyle = 'steps-mid-',\n",
    "        label ='L='+str(L)\n",
    "    )\n",
    "    plt.xlabel('$h$', fontsize=15)\n",
    "    plt.ylabel('$r$', fontsize=15)\n",
    "#     plt.ylim(.4,.6)\n",
    "    print(L)\n",
    "plt.legend()\n",
    "plt.title(\"Level repulsion transition\", fontsize=15)\n",
    "plt.savefig(\"figures/levelrepultrans.pdf\")\n",
    "plt.show()"
   ]
  },
  {
   "cell_type": "code",
   "execution_count": null,
   "metadata": {
    "collapsed": true,
    "scrolled": true
   },
   "outputs": [],
   "source": [
    "%run -p level_stats_random_h.py"
   ]
  },
  {
   "cell_type": "code",
   "execution_count": null,
   "metadata": {
    "collapsed": true
   },
   "outputs": [],
   "source": [
    "X = sparse.csr_matrix(sparse.diags([-9,-8,-7,-6,-5,-4,-3,-2,-1,0.00000000000001,1,2,3,4,5,6,7,8,9]))"
   ]
  },
  {
   "cell_type": "code",
   "execution_count": null,
   "metadata": {
    "collapsed": true
   },
   "outputs": [],
   "source": [
    "val, _ = la.eigsh(X, sigma=0, k = 4, which=\"LA\")\n",
    "qm.chop(val)"
   ]
  },
  {
   "cell_type": "code",
   "execution_count": null,
   "metadata": {
    "collapsed": true
   },
   "outputs": [],
   "source": [
    "L = 8\n",
    "\n",
    "H0 = asym.dense_H(L)\n",
    "H0 = H0 + asym.init_pert(L, 4)\n",
    "H0 = H0 + asym.finl_pert(L, 4)\n",
    "\n",
    "alph2Sz, Sz2alph = asym.permutations(L)\n",
    "plt.matshow(np.absolute(H0.A[alph2Sz][:,alph2Sz]))\n",
    "plt.show()"
   ]
  },
  {
   "cell_type": "code",
   "execution_count": null,
   "metadata": {
    "collapsed": true
   },
   "outputs": [],
   "source": [
    "vals = np.array([-2,-1,0,1E-16, 3, 4, 5])\n",
    "print('zeros:', sum(np.isclose(vals,0)))\n",
    "vals = vals[np.isclose(np.isclose(vals,0),0)]\n",
    "vals = vals[vals>0]\n",
    "print(vals)"
   ]
  },
  {
   "cell_type": "code",
   "execution_count": null,
   "metadata": {
    "collapsed": true
   },
   "outputs": [],
   "source": [
    "mean = np.array([1,2,3,4])\n",
    "np.append(mean, 5)\n",
    "print(mean)\n",
    "print(np.append(mean, 5))"
   ]
  },
  {
   "cell_type": "code",
   "execution_count": null,
   "metadata": {
    "collapsed": true
   },
   "outputs": [],
   "source": [
    "(sparse.csr_matrix([[ 1,  0],[ 0,  1]])/2).A"
   ]
  },
  {
   "cell_type": "code",
   "execution_count": null,
   "metadata": {
    "collapsed": true
   },
   "outputs": [],
   "source": []
  }
 ],
 "metadata": {
  "kernelspec": {
   "display_name": "Python 3",
   "language": "python",
   "name": "python3"
  },
  "language_info": {
   "codemirror_mode": {
    "name": "ipython",
    "version": 3
   },
   "file_extension": ".py",
   "mimetype": "text/x-python",
   "name": "python",
   "nbconvert_exporter": "python",
   "pygments_lexer": "ipython3",
   "version": "3.5.3"
  }
 },
 "nbformat": 4,
 "nbformat_minor": 1
}
