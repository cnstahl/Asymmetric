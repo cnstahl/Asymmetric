{
 "cells": [
  {
   "cell_type": "code",
   "execution_count": 1,
   "metadata": {
    "collapsed": true
   },
   "outputs": [],
   "source": [
    "import numpy as np\n",
    "%matplotlib inline\n",
    "import matplotlib.pyplot as plt\n",
    "import quantum as qm\n",
    "import glob\n",
    "import scipy.linalg as la\n",
    "import seaborn as sns"
   ]
  },
  {
   "cell_type": "code",
   "execution_count": 2,
   "metadata": {
    "collapsed": true
   },
   "outputs": [],
   "source": [
    "colors = [\"aqua\", \"red\"]\n",
    "sns.set_palette(sns.xkcd_palette(colors)+sns.color_palette(\"Set1\", 9))"
   ]
  },
  {
   "cell_type": "code",
   "execution_count": 13,
   "metadata": {
    "collapsed": true
   },
   "outputs": [],
   "source": [
    "# Setup #\n",
    "L = 5\n",
    "dense = True\n",
    "pert = True\n",
    "prefix = 'data/zotoc_dense'\n",
    "sites = np.arange(L-1)+.5\n",
    "# print(prefix + \"foreL\" + str(L) + \"v*.npy\")\n",
    "forenames = glob.glob(prefix + \"foreL\" + str(L) + \"v*.npy\")\n",
    "backnames = glob.glob(prefix + \"backL\" + str(L) + \"v*.npy\")"
   ]
  },
  {
   "cell_type": "code",
   "execution_count": 14,
   "metadata": {
    "collapsed": true
   },
   "outputs": [],
   "source": [
    "otocsfore = []\n",
    "otocsback = []\n",
    "vs        = []\n",
    "vsback    = []\n",
    "for fname in forenames:\n",
    "    otocsfore.append(np.load(fname))\n",
    "    vs.append(    float(fname.replace(prefix + \"foreL\" + str(L) + \"v\", \"\").replace(\".npy\", \"\")))\n",
    "for fname in backnames:\n",
    "    otocsback.append(np.load(fname)[:,::-1])\n",
    "    vsback.append(float(fname.replace(prefix + \"backL\" + str(L) + \"v\", \"\").replace(\".npy\", \"\")))\n",
    "vs        = np.array(vs)\n",
    "otocsfore = np.array(otocsfore)\n",
    "otocsback = np.array(otocsback)\n",
    "args      = np.argsort(vs)\n",
    "vs        = vs[args]\n",
    "otocsfore = otocsfore[args]\n",
    "otocsback = otocsback[np.argsort(vsback)]"
   ]
  },
  {
   "cell_type": "code",
   "execution_count": 15,
   "metadata": {},
   "outputs": [
    {
     "ename": "ValueError",
     "evalue": "the number of data points must exceed order + 2 for Bayesian estimate the covariance matrix",
     "output_type": "error",
     "traceback": [
      "\u001b[0;31m---------------------------------------------------------------------------\u001b[0m",
      "\u001b[0;31mValueError\u001b[0m                                Traceback (most recent call last)",
      "\u001b[0;32m<ipython-input-15-4691df03e464>\u001b[0m in \u001b[0;36m<module>\u001b[0;34m()\u001b[0m\n\u001b[1;32m     11\u001b[0m     \u001b[0my\u001b[0m \u001b[0;34m=\u001b[0m \u001b[0mmean\u001b[0m\u001b[0;34m[\u001b[0m\u001b[0;36m2\u001b[0m\u001b[0;34m:\u001b[0m\u001b[0;36m7\u001b[0m\u001b[0;34m:\u001b[0m\u001b[0;34m]\u001b[0m\u001b[0;34m\u001b[0m\u001b[0m\n\u001b[1;32m     12\u001b[0m     \u001b[0mlogy\u001b[0m \u001b[0;34m=\u001b[0m \u001b[0mnp\u001b[0m\u001b[0;34m.\u001b[0m\u001b[0mlog\u001b[0m\u001b[0;34m(\u001b[0m\u001b[0my\u001b[0m\u001b[0;34m)\u001b[0m\u001b[0;34m\u001b[0m\u001b[0m\n\u001b[0;32m---> 13\u001b[0;31m     \u001b[0mcoeffs\u001b[0m\u001b[0;34m,\u001b[0m \u001b[0merrors\u001b[0m \u001b[0;34m=\u001b[0m \u001b[0mnp\u001b[0m\u001b[0;34m.\u001b[0m\u001b[0mpolyfit\u001b[0m\u001b[0;34m(\u001b[0m\u001b[0mx\u001b[0m\u001b[0;34m,\u001b[0m\u001b[0mlogy\u001b[0m\u001b[0;34m,\u001b[0m\u001b[0mdeg\u001b[0m\u001b[0;34m=\u001b[0m\u001b[0;36m1\u001b[0m\u001b[0;34m,\u001b[0m \u001b[0mcov\u001b[0m\u001b[0;34m=\u001b[0m\u001b[0;32mTrue\u001b[0m\u001b[0;34m)\u001b[0m\u001b[0;34m\u001b[0m\u001b[0m\n\u001b[0m\u001b[1;32m     14\u001b[0m \u001b[0;31m#     print(vs[idx], coeffs)\u001b[0m\u001b[0;34m\u001b[0m\u001b[0;34m\u001b[0m\u001b[0m\n\u001b[1;32m     15\u001b[0m     \u001b[0mpoly\u001b[0m \u001b[0;34m=\u001b[0m \u001b[0mnp\u001b[0m\u001b[0;34m.\u001b[0m\u001b[0mpoly1d\u001b[0m\u001b[0;34m(\u001b[0m\u001b[0mcoeffs\u001b[0m\u001b[0;34m)\u001b[0m\u001b[0;34m\u001b[0m\u001b[0m\n",
      "\u001b[0;32m/Users/cstahl/anaconda3/lib/python3.5/site-packages/numpy/lib/polynomial.py\u001b[0m in \u001b[0;36mpolyfit\u001b[0;34m(x, y, deg, rcond, full, w, cov)\u001b[0m\n\u001b[1;32m    596\u001b[0m         \u001b[0;31m#  Plus, it gives a slightly more conservative estimate of uncertainty.\u001b[0m\u001b[0;34m\u001b[0m\u001b[0;34m\u001b[0m\u001b[0m\n\u001b[1;32m    597\u001b[0m         \u001b[0;32mif\u001b[0m \u001b[0mlen\u001b[0m\u001b[0;34m(\u001b[0m\u001b[0mx\u001b[0m\u001b[0;34m)\u001b[0m \u001b[0;34m<=\u001b[0m \u001b[0morder\u001b[0m \u001b[0;34m+\u001b[0m \u001b[0;36m2\u001b[0m\u001b[0;34m:\u001b[0m\u001b[0;34m\u001b[0m\u001b[0m\n\u001b[0;32m--> 598\u001b[0;31m             raise ValueError(\"the number of data points must exceed order + 2 \"\n\u001b[0m\u001b[1;32m    599\u001b[0m                              \"for Bayesian estimate the covariance matrix\")\n\u001b[1;32m    600\u001b[0m         \u001b[0mfac\u001b[0m \u001b[0;34m=\u001b[0m \u001b[0mresids\u001b[0m \u001b[0;34m/\u001b[0m \u001b[0;34m(\u001b[0m\u001b[0mlen\u001b[0m\u001b[0;34m(\u001b[0m\u001b[0mx\u001b[0m\u001b[0;34m)\u001b[0m \u001b[0;34m-\u001b[0m \u001b[0morder\u001b[0m \u001b[0;34m-\u001b[0m \u001b[0;36m2.0\u001b[0m\u001b[0;34m)\u001b[0m\u001b[0;34m\u001b[0m\u001b[0m\n",
      "\u001b[0;31mValueError\u001b[0m: the number of data points must exceed order + 2 for Bayesian estimate the covariance matrix"
     ]
    },
    {
     "data": {
      "image/png": "[encoded data removed]",
      "text/plain": [
       "<matplotlib.figure.Figure at 0x1a21b532e8>"
      ]
     },
     "metadata": {},
     "output_type": "display_data"
    }
   ],
   "source": [
    "# Forward\n",
    "ax = plt.subplot(111)\n",
    "gammas_fore = []\n",
    "errors_fore = []\n",
    "for idx, otocfore in enumerate(otocsfore):\n",
    "    mean, std = qm.mean_and_std(otocfore[::])\n",
    "    ax.set_yscale(\"log\", nonposy='clip')\n",
    "    ax.errorbar(sites[::], mean, label = str(vs[idx]))\n",
    "#     ax.errorbar(sites[::], mean, yerr=std, label = str(vs[idx]))\n",
    "    x = sites[2:7:]\n",
    "    y = mean[2:7:]\n",
    "    logy = np.log(y)\n",
    "    coeffs, errors = np.polyfit(x,logy,deg=1, cov=True)\n",
    "#     print(vs[idx], coeffs)\n",
    "    poly = np.poly1d(coeffs)\n",
    "    yfit = lambda x: np.exp(poly(x))\n",
    "    ax.plot(x,yfit(x), 'k--')\n",
    "    gammas_fore.append(coeffs[0] * vs[idx])\n",
    "    errors_fore.append(np.sqrt(errors[0,0]) * vs[idx])\n",
    "box = ax.get_position()\n",
    "ax.set_position([box.x0, box.y0, box.width * 0.9, box.height])\n",
    "ax.legend(bbox_to_anchor=(1.05, 1), loc=2, title=\"velocity\")\n",
    "plt.ylim(0,1)\n",
    "plt.title(\"Forward OTOCs\")\n",
    "# plt.savefig('figures/otocs_' + fix + 'foreL' + str(L) + '.pdf')\n",
    "plt.show()\n",
    "\n",
    "# Backward\n",
    "ax = plt.subplot(111)\n",
    "gammas_back = []\n",
    "errors_back = []\n",
    "for idx, otocback in enumerate(otocsback):\n",
    "    mean, std = qm.mean_and_std(otocback[::])\n",
    "    ax.set_yscale(\"log\", nonposy='clip')\n",
    "    ax.errorbar(sites[::], mean, label = str(vs[idx]))\n",
    "#     ax.errorbar(sites[::], mean, yerr=std, label = str(vs[idx]))\n",
    "    x = sites[2:7:]\n",
    "    y = mean[2:7:]\n",
    "    logy = np.log(y)\n",
    "    coeffs, errors = np.polyfit(x,logy,deg=1, cov=True)\n",
    "#     print(vs[idx], coeffs)\n",
    "    poly = np.poly1d(coeffs)\n",
    "    yfit = lambda x: np.exp(poly(x))\n",
    "    ax.plot(x,yfit(x), 'k--')\n",
    "    gammas_back.append(coeffs[0] * vs[idx])\n",
    "    errors_back.append(np.sqrt(errors[0,0]) * vs[idx])\n",
    "box = ax.get_position()\n",
    "ax.set_position([box.x0, box.y0, box.width * 0.9, box.height])\n",
    "ax.legend(bbox_to_anchor=(1.05, 1), loc=2)\n",
    "plt.ylim(0,1)\n",
    "plt.title(\"Backward OTOCs\")\n",
    "# plt.savefig('figures/otocs_' + fix + 'backL' + str(L) + '.pdf')\n",
    "plt.show()"
   ]
  },
  {
   "cell_type": "code",
   "execution_count": null,
   "metadata": {},
   "outputs": [],
   "source": [
    "ax = plt.subplot(111)\n",
    "ax.errorbar(vs, gammas_fore, yerr=errors_fore,  label = \"Forward\")\n",
    "ax.errorbar(vs, gammas_back, yerr=errors_back,  label = \"Backward\")\n",
    "ax.plot(vs, np.zeros(len(vs)), 'k')\n",
    "box = ax.get_position()\n",
    "ax.set_position([box.x0, box.y0, box.width, box.height])\n",
    "ax.legend(bbox_to_anchor=(.6, 1), loc=2)\n",
    "plt.title(\"Butterfly Velocities\")\n",
    "plt.xlabel(\"Velocity\")\n",
    "plt.ylabel(\"$\\lambda(v)$\")\n",
    "# plt.savefig('figures/butterfly_' + fix + 'L' + str(L) + '.pdf')\n",
    "plt.show()"
   ]
  },
  {
   "cell_type": "code",
   "execution_count": null,
   "metadata": {
    "collapsed": true
   },
   "outputs": [],
   "source": []
  },
  {
   "cell_type": "code",
   "execution_count": null,
   "metadata": {
    "collapsed": true
   },
   "outputs": [],
   "source": [
    "stop here"
   ]
  },
  {
   "cell_type": "code",
   "execution_count": null,
   "metadata": {},
   "outputs": [],
   "source": [
    "ax = plt.subplot(111)\n",
    "ax.plot(vs, gammas_fore,  label = \"Forward\")\n",
    "ax.plot(vs, gammas_back,  label = \"Backward\")\n",
    "ax.plot(vs, np.zeros(len(vs)), 'k')\n",
    "box = ax.get_position()\n",
    "ax.set_position([box.x0, box.y0, box.width, box.height])\n",
    "ax.legend(bbox_to_anchor=(.6, 1), loc=2)\n",
    "plt.title(\"Butterfly Velocities\")\n",
    "plt.xlabel(\"Velocity\")\n",
    "plt.ylabel(\"lambda(v)\")\n",
    "plt.savefig('figures/butterfly_L' + str(L) + '.pdf')\n",
    "plt.show()"
   ]
  },
  {
   "cell_type": "code",
   "execution_count": null,
   "metadata": {},
   "outputs": [],
   "source": [
    "np.shape(otocsfore)"
   ]
  },
  {
   "cell_type": "code",
   "execution_count": null,
   "metadata": {},
   "outputs": [],
   "source": [
    "print(np.average(otocsfore, axis=1))"
   ]
  },
  {
   "cell_type": "code",
   "execution_count": 9,
   "metadata": {},
   "outputs": [
    {
     "data": {
      "text/plain": [
       "'data/zotoc_denseforeL9v*.npy'"
      ]
     },
     "execution_count": 9,
     "metadata": {},
     "output_type": "execute_result"
    }
   ],
   "source": [
    "prefix + \"foreL\" + str(L) + \"v*.npy\""
   ]
  },
  {
   "cell_type": "code",
   "execution_count": null,
   "metadata": {},
   "outputs": [],
   "source": [
    "otocsfore"
   ]
  },
  {
   "cell_type": "code",
   "execution_count": null,
   "metadata": {
    "collapsed": true
   },
   "outputs": [],
   "source": []
  }
 ],
 "metadata": {
  "kernelspec": {
   "display_name": "Python 3",
   "language": "python",
   "name": "python3"
  },
  "language_info": {
   "codemirror_mode": {
    "name": "ipython",
    "version": 3
   },
   "file_extension": ".py",
   "mimetype": "text/x-python",
   "name": "python",
   "nbconvert_exporter": "python",
   "pygments_lexer": "ipython3",
   "version": "3.5.3"
  }
 },
 "nbformat": 4,
 "nbformat_minor": 1
}
