{
 "cells": [
  {
   "cell_type": "code",
   "execution_count": 1,
   "metadata": {
    "collapsed": true
   },
   "outputs": [],
   "source": [
    "import numpy as np\n",
    "import scipy.linalg as la\n",
    "import hamiltonian as hm\n",
    "%matplotlib inline\n",
    "import matplotlib.pyplot as plt"
   ]
  },
  {
   "cell_type": "code",
   "execution_count": 59,
   "metadata": {},
   "outputs": [],
   "source": [
    "L     = 11\n",
    "vs    = np.asarray([1,2,3,4,5])\n",
    "sites = np.arange(L)"
   ]
  },
  {
   "cell_type": "code",
   "execution_count": 60,
   "metadata": {},
   "outputs": [],
   "source": [
    "times = []\n",
    "for v in vs: times.extend(sites/v)"
   ]
  },
  {
   "cell_type": "code",
   "execution_count": 67,
   "metadata": {},
   "outputs": [
    {
     "name": "stdout",
     "output_type": "stream",
     "text": [
      "[0.0, 0.20000000000000001, 0.25, 0.33333333333333331, 0.40000000000000002, 0.5, 0.59999999999999998, 0.66666666666666663, 0.75, 0.80000000000000004, 1.0, 1.2, 1.25, 1.3333333333333333, 1.3999999999999999, 1.5, 1.6000000000000001, 1.6666666666666667, 1.75, 1.8, 2.0, 2.25, 2.3333333333333335, 2.5, 2.6666666666666665, 3.0, 3.3333333333333335, 3.5, 4.0, 4.5, 5.0, 6.0, 7.0, 8.0, 9.0, 10.0]\n"
     ]
    }
   ],
   "source": [
    "times = list(dict.fromkeys(times))\n",
    "times.sort()\n",
    "print(times)"
   ]
  },
  {
   "cell_type": "code",
   "execution_count": 71,
   "metadata": {},
   "outputs": [],
   "source": [
    "sites_at_ts = []\n",
    "for time in times:\n",
    "    sites_at_t = []\n",
    "    for v in vs: \n",
    "        site = (int) (np.round(time*v))\n",
    "        if np.isclose((time*v), site) and (site < L) and not site in sites_at_t: \n",
    "            sites_at_t.append(site)\n",
    "    sites_at_ts.append(sites_at_t)"
   ]
  },
  {
   "cell_type": "code",
   "execution_count": 74,
   "metadata": {},
   "outputs": [
    {
     "name": "stdout",
     "output_type": "stream",
     "text": [
      "0.0 [0]\n",
      "0.2 [1]\n",
      "0.25 [1]\n",
      "0.333333333333 [1]\n",
      "0.4 [2]\n",
      "0.5 [1, 2]\n",
      "0.6 [3]\n",
      "0.666666666667 [2]\n",
      "0.75 [3]\n",
      "0.8 [4]\n",
      "1.0 [1, 2, 3, 4, 5]\n",
      "1.2 [6]\n",
      "1.25 [5]\n",
      "1.33333333333 [4]\n",
      "1.4 [7]\n",
      "1.5 [3, 6]\n",
      "1.6 [8]\n",
      "1.66666666667 [5]\n",
      "1.75 [7]\n",
      "1.8 [9]\n",
      "2.0 [2, 4, 6, 8, 10]\n",
      "2.25 [9]\n",
      "2.33333333333 [7]\n",
      "2.5 [5, 10]\n",
      "2.66666666667 [8]\n",
      "3.0 [3, 6, 9]\n",
      "3.33333333333 [10]\n",
      "3.5 [7]\n",
      "4.0 [4, 8]\n",
      "4.5 [9]\n",
      "5.0 [5, 10]\n",
      "6.0 [6]\n",
      "7.0 [7]\n",
      "8.0 [8]\n",
      "9.0 [9]\n",
      "10.0 [10]\n"
     ]
    }
   ],
   "source": [
    "for idx, val in enumerate(times):\n",
    "    print(val, sites_at_ts[idx])"
   ]
  },
  {
   "cell_type": "code",
   "execution_count": null,
   "metadata": {
    "collapsed": true
   },
   "outputs": [],
   "source": []
  }
 ],
 "metadata": {
  "kernelspec": {
   "display_name": "Python 3",
   "language": "python",
   "name": "python3"
  },
  "language_info": {
   "codemirror_mode": {
    "name": "ipython",
    "version": 3
   },
   "file_extension": ".py",
   "mimetype": "text/x-python",
   "name": "python",
   "nbconvert_exporter": "python",
   "pygments_lexer": "ipython3",
   "version": "3.5.3"
  }
 },
 "nbformat": 4,
 "nbformat_minor": 1
}
