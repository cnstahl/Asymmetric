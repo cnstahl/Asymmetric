{
 "cells": [
  {
   "cell_type": "code",
   "execution_count": 13,
   "metadata": {},
   "outputs": [],
   "source": [
    "import numpy as np\n",
    "import scipy.linalg as la\n",
    "import asymmetric as asym\n",
    "import quantum as qm\n",
    "%matplotlib inline\n",
    "import matplotlib.pyplot as plt\n",
    "import krypy"
   ]
  },
  {
   "cell_type": "code",
   "execution_count": 2,
   "metadata": {
    "collapsed": true
   },
   "outputs": [],
   "source": [
    "def get_vec_Haar(N):\n",
    "    vec = np.random.normal(size=N) + 1j * np.random.normal(size=N)\n",
    "    norm = la.norm(vec)\n",
    "    return vec/norm"
   ]
  },
  {
   "cell_type": "code",
   "execution_count": 71,
   "metadata": {},
   "outputs": [],
   "source": [
    "######################################################\n",
    "# Presets for problem\n",
    "######################################################\n",
    "L = 10\n",
    "H = asym.dense_H(L)\n",
    "maxiter = 2**L\n",
    "tol = 10e-10"
   ]
  },
  {
   "cell_type": "code",
   "execution_count": 82,
   "metadata": {},
   "outputs": [],
   "source": [
    "######################################################\n",
    "# Setup for a specific run\n",
    "######################################################\n",
    "t = 1\n",
    "v = get_vec_Haar(2**L)\n",
    "ret = krypy.utils.Arnoldi(-1j*H*t, np.array([v]).T)"
   ]
  },
  {
   "cell_type": "code",
   "execution_count": 63,
   "metadata": {},
   "outputs": [],
   "source": [
    "######################################################\n",
    "# At time t, try iter iterations until v(t) converges?\n",
    "# Then use the V_m you've found to make U(t), U^dag(t)\n",
    "# Once you've done this once, use the same m\n",
    "######################################################\n",
    "current = \n",
    "for iter in range(maxiter):\n",
    "    prev = current\n",
    "    ret.advance()\n",
    "    V, h = ret.get()"
   ]
  },
  {
   "cell_type": "code",
   "execution_count": 94,
   "metadata": {},
   "outputs": [
    {
     "name": "stdout",
     "output_type": "stream",
     "text": [
      "(1024, 26) (26, 25)\n",
      "\n"
     ]
    }
   ],
   "source": [
    "for i in range(10): ret.advance()\n",
    "stuff = ret.get()\n",
    "print(np.shape(stuff[0]), np.shape(stuff[1]))\n",
    "print()\n",
    "# for thing in stuff:\n",
    "#     print(thing)\n",
    "#     print()"
   ]
  },
  {
   "cell_type": "code",
   "execution_count": 95,
   "metadata": {},
   "outputs": [
    {
     "data": {
      "image/png": "[encoded data removed]",
      "text/plain": [
       "<matplotlib.figure.Figure at 0x11fc6b160>"
      ]
     },
     "metadata": {},
     "output_type": "display_data"
    }
   ],
   "source": [
    "V = stuff[0]\n",
    "plt.matshow(np.absolute(V.T.conj()@H@V)); plt.show()"
   ]
  },
  {
   "cell_type": "code",
   "execution_count": 77,
   "metadata": {},
   "outputs": [
    {
     "data": {
      "text/plain": [
       "<1024x1024 sparse matrix of type '<class 'numpy.float64'>'\n",
       "\twith 6912 stored elements in Compressed Sparse Row format>"
      ]
     },
     "execution_count": 77,
     "metadata": {},
     "output_type": "execute_result"
    }
   ],
   "source": [
    "np.absolute(H)"
   ]
  },
  {
   "cell_type": "code",
   "execution_count": null,
   "metadata": {
    "collapsed": true
   },
   "outputs": [],
   "source": []
  }
 ],
 "metadata": {
  "kernelspec": {
   "display_name": "Python 3",
   "language": "python",
   "name": "python3"
  },
  "language_info": {
   "codemirror_mode": {
    "name": "ipython",
    "version": 3
   },
   "file_extension": ".py",
   "mimetype": "text/x-python",
   "name": "python",
   "nbconvert_exporter": "python",
   "pygments_lexer": "ipython3",
   "version": "3.5.3"
  }
 },
 "nbformat": 4,
 "nbformat_minor": 1
}
