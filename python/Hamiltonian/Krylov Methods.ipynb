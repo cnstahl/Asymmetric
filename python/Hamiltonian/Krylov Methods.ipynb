{
 "cells": [
  {
   "cell_type": "code",
   "execution_count": 1,
   "metadata": {
    "collapsed": true
   },
   "outputs": [],
   "source": [
    "import numpy as np\n",
    "import scipy.linalg as la\n",
    "import scipy.sparse.linalg as spla\n",
    "import asymmetric as asym\n",
    "import quantum as qm\n",
    "%matplotlib inline\n",
    "import matplotlib.pyplot as plt\n",
    "import krypy\n",
    "import scipy"
   ]
  },
  {
   "cell_type": "code",
   "execution_count": 2,
   "metadata": {
    "collapsed": true
   },
   "outputs": [],
   "source": [
    "def get_vec_Haar(N):\n",
    "    vec = np.random.normal(size=N) + 1j * np.random.normal(size=N)\n",
    "    norm = la.norm(vec)\n",
    "    return vec/norm"
   ]
  },
  {
   "cell_type": "code",
   "execution_count": 3,
   "metadata": {
    "collapsed": true
   },
   "outputs": [],
   "source": [
    "# def get_otoc_krylov(H, t, v, A, B, m):\n",
    "#     # Commute the OTOC of A(t), B, approximating by the expectation wrt v\n",
    "#     # <v| A(t) B A(t) B |v>\n",
    "#     # Notation: v_a = B v, v_b = A e^(-iHt) B v, etc\n",
    "    \n",
    "#     v_a = B @ v\n",
    "#     ret = krypy.utils.Arnoldi(-1j*H*t, np.array([v_a]).T) # Arnoldi expects a [1,N] vector\n",
    "#     for i in range(m): ret.advance()\n",
    "#     V, _ = ret.get()\n",
    "#     U = la.expm(-1j*V.T.conj()@H@V*t)\n",
    "\n",
    "#     v_b = A @ V @ U[:,0]\n",
    "#     ret = krypy.utils.Arnoldi(1j*H*t, np.array([v_b]).T)\n",
    "#     for i in range(m): ret.advance()\n",
    "#     V, _ = ret.get()\n",
    "#     Udag = la.expm(1j*V.T.conj()@H@V*t)\n",
    "\n",
    "#     v_1 = V @ Udag[:,0]\n",
    "    \n",
    "#     ret_c = "
   ]
  },
  {
   "cell_type": "code",
   "execution_count": 4,
   "metadata": {
    "collapsed": true
   },
   "outputs": [],
   "source": [
    "def get_otoc(H, v, A, B, start=None, stop=None, num=None, endpoint=None):\n",
    "    # Commute the OTOC of A(t), B, approximating by the expectation wrt v\n",
    "    # <v| A(t) B A(t) B |v>\n",
    "    # Notation: v_a = B v, v_b = A e^(-iHt) B v, etc\n",
    "    # ts can be a list of times\n",
    "    \n",
    "    v_a = B.dot(v)\n",
    "    v_b = A.dot(spla.expm_multiply(-1j*H, v_a, start, stop, num, endpoint))\n",
    "    v_1 =       spla.expm_multiply( 1j*H, v_b, start, stop, num, endpoint)\n",
    "    \n",
    "    v_c = A.dot(spla.expm_multiply(-1j*H, v,   start, stop, num, endpoint))\n",
    "    v_2 = B.dot(spla.expm_multiply( 1j*H, v_c, start, stop, num, endpoint))\n",
    "#     print(np.shape(v_1))\n",
    "    \n",
    "    return (v_2.conj() * v_1).sum(0)"
   ]
  },
  {
   "cell_type": "code",
   "execution_count": 14,
   "metadata": {
    "collapsed": true
   },
   "outputs": [],
   "source": [
    "######################################################\n",
    "# Presets for problem\n",
    "######################################################\n",
    "L = 11\n",
    "H = asym.dense_H(L)\n",
    "maxiter = 2**L\n",
    "tol = 10e-10\n",
    "_, _, _, sig_z_list = qm.get_sigma_lists(L)"
   ]
  },
  {
   "cell_type": "code",
   "execution_count": 15,
   "metadata": {},
   "outputs": [
    {
     "name": "stderr",
     "output_type": "stream",
     "text": [
      "/Users/cstahl/anaconda3/lib/python3.5/site-packages/scipy/sparse/linalg/dsolve/linsolve.py:243: SparseEfficiencyWarning: splu requires CSC matrix format\n",
      "  warn('splu requires CSC matrix format', SparseEfficiencyWarning)\n",
      "/Users/cstahl/anaconda3/lib/python3.5/site-packages/scipy/sparse/linalg/dsolve/linsolve.py:161: SparseEfficiencyWarning: spsolve is more efficient when sparse b is in the CSC matrix format\n",
      "  'is in the CSC matrix format', SparseEfficiencyWarning)\n"
     ]
    }
   ],
   "source": [
    "######################################################\n",
    "# Setup for a specific run\n",
    "######################################################\n",
    "t = 1\n",
    "U    = la.expm(-1j*H*t)\n",
    "Udag = la.expm( 1j*H*t)"
   ]
  },
  {
   "cell_type": "code",
   "execution_count": 16,
   "metadata": {
    "collapsed": true
   },
   "outputs": [],
   "source": [
    "v = get_vec_Haar(2**L)\n",
    "ret = krypy.utils.Arnoldi(-1j*H*t, np.array([v]).T) # Arnoldi expects a [1,N] vector"
   ]
  },
  {
   "cell_type": "code",
   "execution_count": 17,
   "metadata": {},
   "outputs": [
    {
     "name": "stdout",
     "output_type": "stream",
     "text": [
      "27\n",
      "3.47387118763661e-11\n"
     ]
    }
   ],
   "source": [
    "######################################################\n",
    "# At time t, try iter iterations until v(t) converges?\n",
    "# Then use the V_m you've found to make U(t), U^dag(t)\n",
    "# Once you've done this once, use the same m always\n",
    "######################################################\n",
    "true = U@v\n",
    "current = v\n",
    "for iter in range(maxiter):\n",
    "    prev = current\n",
    "    ret.advance()\n",
    "    V, h = ret.get()\n",
    "    U_m = la.expm(-1j*V.T.conj()@H@V*t)\n",
    "    current = V@U_m[:,0]\n",
    "#     if (iter%5==0): print(la.norm(true-current))\n",
    "    if (la.norm(current-prev) < tol): break\n",
    "m = iter+2\n",
    "print(m)\n",
    "print(la.norm(true-current))"
   ]
  },
  {
   "cell_type": "code",
   "execution_count": 18,
   "metadata": {},
   "outputs": [
    {
     "name": "stdout",
     "output_type": "stream",
     "text": [
      "(2048, 27) (27, 26)\n"
     ]
    },
    {
     "data": {
      "image/png": "[encoded data removed]",
      "text/plain": [
       "<matplotlib.figure.Figure at 0x10d380d30>"
      ]
     },
     "metadata": {},
     "output_type": "display_data"
    }
   ],
   "source": [
    "print(np.shape(V), np.shape(h))\n",
    "plt.matshow(np.absolute(V.T.conj()@H@V)); plt.show()"
   ]
  },
  {
   "cell_type": "code",
   "execution_count": 19,
   "metadata": {},
   "outputs": [
    {
     "name": "stdout",
     "output_type": "stream",
     "text": [
      "[0.01202442 0.03087469 0.02552932 ... 0.03568364 0.01092346 0.0086453 ]\n"
     ]
    }
   ],
   "source": [
    "###################################################\n",
    "# You can't just use V naively\n",
    "###################################################\n",
    "U_m    = la.expm(-1j*V.T.conj()@H@V*t)\n",
    "Udag_m = la.expm( 1j*V.T.conj()@H@V*t)\n",
    "i = L//2\n",
    "Si = sig_z_list[i]\n",
    "S0 = sig_z_list[0]\n",
    "\n",
    "# True v_1:\n",
    "v1 = Udag @ Si @ U @ S0 @ v\n",
    "\n",
    "# Maybe Krylov approx?\n",
    "v1_m = V @ Udag_m @ V.T.conj() @ Si @ V @ U_m @ V.T.conj() @ S0 @ v\n",
    "\n",
    "print(np.absolute(v1-v1_m))"
   ]
  },
  {
   "cell_type": "markdown",
   "metadata": {},
   "source": [
    "We want $v_1 = S_1(t)S_0v = e^{iHt}S_1e^{-iHt}S_0v$. \n",
    "\n",
    "So define $v_a = S_0v,\\; v_b = S_1e^{-iHt}S_0v$. Then we can use Arnoldi to generate $v_b$ and $v_1$. There's a lot of matrix multiplication here but no exponentiation of large matrices."
   ]
  },
  {
   "cell_type": "code",
   "execution_count": 20,
   "metadata": {
    "collapsed": true
   },
   "outputs": [],
   "source": [
    "m = 25\n",
    "v_a = S0 @ v\n",
    "ret_a = krypy.utils.Arnoldi(-1j*H*t, np.array([v_a]).T) # Arnoldi expects a [1,N] vector\n",
    "for i in range(m): ret_a.advance()\n",
    "V, _ = ret_a.get()\n",
    "U_m = la.expm(-1j*V.T.conj()@H@V*t)\n",
    "\n",
    "v_b = Si @ V @ U_m[:,0]\n",
    "ret_b = krypy.utils.Arnoldi(1j*H*t, np.array([v_b]).T)\n",
    "for i in range(m): ret_b.advance()\n",
    "V, _ = ret_b.get()\n",
    "Udag_m = la.expm(1j*V.T.conj()@H@V*t)\n",
    "\n",
    "v1_m = V @ Udag_m[:,0]"
   ]
  },
  {
   "cell_type": "code",
   "execution_count": 21,
   "metadata": {},
   "outputs": [
    {
     "name": "stdout",
     "output_type": "stream",
     "text": [
      "[1.56038905e-12 1.39036084e-12 4.19659665e-12 1.34047431e-12\n",
      " 1.98703932e-12]\n",
      "[3.17393043e-12 3.72757929e-12 1.46460750e-12 3.76730846e-12\n",
      " 5.59535852e-12]\n"
     ]
    }
   ],
   "source": [
    "print(np.absolute(Si@U@S0@v - v_b)[:5])\n",
    "print(np.absolute(v1-v1_m)[:5])"
   ]
  },
  {
   "cell_type": "code",
   "execution_count": 22,
   "metadata": {},
   "outputs": [
    {
     "name": "stdout",
     "output_type": "stream",
     "text": [
      "100 loops, best of 3: 10.5 ms per loop\n",
      "10 loops, best of 3: 46.5 ms per loop\n"
     ]
    },
    {
     "ename": "NameError",
     "evalue": "name 'true_otoc' is not defined",
     "output_type": "error",
     "traceback": [
      "\u001b[0;31m---------------------------------------------------------------------------\u001b[0m",
      "\u001b[0;31mNameError\u001b[0m                                 Traceback (most recent call last)",
      "\u001b[0;32m<ipython-input-22-2da65a2b77ca>\u001b[0m in \u001b[0;36m<module>\u001b[0;34m()\u001b[0m\n\u001b[1;32m      3\u001b[0m \u001b[0mget_ipython\u001b[0m\u001b[0;34m(\u001b[0m\u001b[0;34m)\u001b[0m\u001b[0;34m.\u001b[0m\u001b[0mmagic\u001b[0m\u001b[0;34m(\u001b[0m\u001b[0;34m'timeit true_otoc = v.T.conj() @ Udag @ S0 @ U @ Si @ Udag @ S0 @ U @ Si @ v'\u001b[0m\u001b[0;34m)\u001b[0m\u001b[0;34m\u001b[0m\u001b[0m\n\u001b[1;32m      4\u001b[0m \u001b[0mget_ipython\u001b[0m\u001b[0;34m(\u001b[0m\u001b[0;34m)\u001b[0m\u001b[0;34m.\u001b[0m\u001b[0mmagic\u001b[0m\u001b[0;34m(\u001b[0m\u001b[0;34m'timeit try_otoc  = get_otoc(H, v, S0, Si)'\u001b[0m\u001b[0;34m)\u001b[0m\u001b[0;34m\u001b[0m\u001b[0m\n\u001b[0;32m----> 5\u001b[0;31m \u001b[0mprint\u001b[0m\u001b[0;34m(\u001b[0m\u001b[0mtrue_otoc\u001b[0m\u001b[0;34m,\u001b[0m \u001b[0mtry_otoc\u001b[0m\u001b[0;34m)\u001b[0m\u001b[0;34m\u001b[0m\u001b[0m\n\u001b[0m",
      "\u001b[0;31mNameError\u001b[0m: name 'true_otoc' is not defined"
     ]
    }
   ],
   "source": [
    "# We're doing S0(t), Si here\n",
    "\n",
    "true_otoc = v.T.conj() @ Udag @ S0 @ U @ Si @ Udag @ S0 @ U @ Si @ v\n",
    "try_otoc  = get_otoc(H, v, S0, Si)\n",
    "print(true_otoc, try_otoc)"
   ]
  },
  {
   "cell_type": "code",
   "execution_count": null,
   "metadata": {
    "collapsed": true
   },
   "outputs": [],
   "source": [
    "np.shape(spla.expm_multiply(-1j*H, np.array([v_a,v_a]).T, start=1, stop = 3, num=3))"
   ]
  },
  {
   "cell_type": "code",
   "execution_count": null,
   "metadata": {
    "collapsed": true
   },
   "outputs": [],
   "source": []
  }
 ],
 "metadata": {
  "kernelspec": {
   "display_name": "Python 3",
   "language": "python",
   "name": "python3"
  },
  "language_info": {
   "codemirror_mode": {
    "name": "ipython",
    "version": 3
   },
   "file_extension": ".py",
   "mimetype": "text/x-python",
   "name": "python",
   "nbconvert_exporter": "python",
   "pygments_lexer": "ipython3",
   "version": "3.5.3"
  }
 },
 "nbformat": 4,
 "nbformat_minor": 1
}
