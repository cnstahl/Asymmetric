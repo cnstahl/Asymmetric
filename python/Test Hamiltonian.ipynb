{
 "cells": [
  {
   "cell_type": "code",
   "execution_count": 1,
   "metadata": {
    "collapsed": true
   },
   "outputs": [],
   "source": [
    "import numpy as np\n",
    "import scipy.linalg as  la\n",
    "%matplotlib inline\n",
    "import matplotlib.pyplot as plt\n",
    "import time\n",
    "import hamiltonian as hm"
   ]
  },
  {
   "cell_type": "code",
   "execution_count": 156,
   "metadata": {
    "collapsed": true
   },
   "outputs": [],
   "source": [
    "def chop(a):\n",
    "    if not np.all(np.isclose(np.imag(a),0)): \n",
    "        print(\"\\nchop() removed the imaginary part\\n \")\n",
    "    A = np.round(np.real(a),3)\n",
    "    if np.all(np.isclose(A.astype(int), A)): return A.astype(int)\n",
    "    else: return A"
   ]
  },
  {
   "cell_type": "code",
   "execution_count": 4,
   "metadata": {
    "collapsed": true
   },
   "outputs": [],
   "source": [
    "def norm(A):\n",
    "    norm = np.trace(A @ A.T.conj())/(len(A))\n",
    "    assert np.isclose(np.imag(norm),0)\n",
    "    return np.real(norm)"
   ]
  },
  {
   "cell_type": "code",
   "execution_count": 5,
   "metadata": {
    "collapsed": true
   },
   "outputs": [],
   "source": [
    "def tensor(*args):\n",
    "    A = 1\n",
    "    for arg in args:\n",
    "        A = np.kron(A, arg)\n",
    "    return A"
   ]
  },
  {
   "cell_type": "code",
   "execution_count": 6,
   "metadata": {
    "collapsed": true
   },
   "outputs": [],
   "source": [
    "def par_tr(x,i):\n",
    "    N = len(x)\n",
    "    assert 2**i < N\n",
    "    \n",
    "    indices = np.array(range(N))\n",
    "    bit = int((N/2)/2**i)\n",
    "    mask = N - (bit) - 1\n",
    "    indices = indices & mask\n",
    "    return (x[:,np.unique(indices)][np.unique(indices)] + \n",
    "            x[:,np.unique(indices + bit)][np.unique(indices + bit)])/2"
   ]
  },
  {
   "cell_type": "code",
   "execution_count": 144,
   "metadata": {
    "collapsed": true
   },
   "outputs": [],
   "source": [
    "# Trace out the last/first i spins\n",
    "def end_trace(x, i):\n",
    "    N = len(x)\n",
    "    untraced = (int) (N/2**i)\n",
    "    traced = 2**i\n",
    "    x = x.reshape((untraced, traced, untraced, traced))\n",
    "    return np.trace(x, axis1=1, axis2=3)/2**i\n",
    "def front_trace(x, i):\n",
    "    N = len(x)\n",
    "    untraced = (int) (N/2**i)\n",
    "    traced = 2**i\n",
    "    x = x.reshape((traced, untraced, traced, untraced))\n",
    "    return np.trace(x, axis1=0, axis2=2)/2**i"
   ]
  },
  {
   "cell_type": "code",
   "execution_count": 8,
   "metadata": {
    "collapsed": true
   },
   "outputs": [],
   "source": [
    "def sparse_Hmult(l):\n",
    "    if (l==3): return H3mult\n",
    "#     print(np.shape(np.kron(sparse_Hmult(l-2),I2)))\n",
    "#     print(np.shape(np.kron(np.eye(l-3), H3mult)))\n",
    "    return np.kron(sparse_Hmult(l-2),I2) + np.kron(np.eye(2**(l-3)), H3mult)\n",
    "\n",
    "def sparse_ham(l):\n",
    "    if (l%2 != 1): assert False, \"l must be odd\"\n",
    "    H = sparse_Hmult(l)\n",
    "    return H * (2j * np.pi)/(3 * np.sqrt(3))"
   ]
  },
  {
   "cell_type": "markdown",
   "metadata": {},
   "source": [
    "# 3-Site system"
   ]
  },
  {
   "cell_type": "code",
   "execution_count": 17,
   "metadata": {
    "collapsed": true
   },
   "outputs": [],
   "source": [
    "H3mult = np.array([[0 ,  0 ,  0 ,  0 ,  0 ,  0 ,  0 , 0],\n",
    "               [0 ,  0 ,  1 ,  0 , -1 ,  0 ,  0 , 0],\n",
    "               [0 , -1 ,  0 ,  0 ,  1 ,  0 ,  0 , 0],\n",
    "               [0 ,  0 ,  0 ,  0 ,  0 , -1 ,  1 , 0],\n",
    "               [0 ,  1 , -1 ,  0 ,  0 ,  0 ,  0 , 0],\n",
    "               [0 ,  0 ,  0 ,  1 ,  0 ,  0 , -1 , 0],\n",
    "               [0 ,  0 ,  0 , -1 ,  0 ,  1 ,  0 , 0],\n",
    "               [0 ,  0 ,  0 ,  0 ,  0 ,  0 ,  0 , 0]])\n",
    "H3 = H3mult * (2j * np.pi)/(3 * np.sqrt(3))\n",
    "\n",
    "I = np.array([[ 1,  0],[ 0,  1]])\n",
    "X = np.array([[ 0,  1],[ 1,  0]])\n",
    "Y = np.array([[ 0,-1j],[1j,  0]])\n",
    "Z = np.array([[ 1,  0],[ 0, -1]])\n",
    "\n",
    "I2 = np.kron(I,I)"
   ]
  },
  {
   "cell_type": "code",
   "execution_count": 8,
   "metadata": {
    "collapsed": true
   },
   "outputs": [],
   "source": [
    "vals, vecs = la.eigh(H3)\n",
    "eners = np.diag(vals)\n",
    "vecsd = vecs.T.conj()"
   ]
  },
  {
   "cell_type": "code",
   "execution_count": 9,
   "metadata": {},
   "outputs": [
    {
     "name": "stdout",
     "output_type": "stream",
     "text": [
      "True\n"
     ]
    }
   ],
   "source": [
    "print(np.all(np.isclose(vecs@eners@vecsd, H3)))"
   ]
  },
  {
   "cell_type": "code",
   "execution_count": 10,
   "metadata": {},
   "outputs": [
    {
     "name": "stdout",
     "output_type": "stream",
     "text": [
      "[[1 0 0 0 0 0 0 0]\n",
      " [0 0 1 0 0 0 0 0]\n",
      " [0 0 0 0 1 0 0 0]\n",
      " [0 0 0 0 0 0 1 0]\n",
      " [0 1 0 0 0 0 0 0]\n",
      " [0 0 0 1 0 0 0 0]\n",
      " [0 0 0 0 0 1 0 0]\n",
      " [0 0 0 0 0 0 0 1]]\n"
     ]
    }
   ],
   "source": [
    "unit3t = vecs@np.diag(np.exp(-1j*vals))@vecsd\n",
    "print(chop(unit3t))"
   ]
  },
  {
   "cell_type": "code",
   "execution_count": 11,
   "metadata": {},
   "outputs": [
    {
     "data": {
      "image/png": "[encoded data removed]",
      "text/plain": [
       "<matplotlib.figure.Figure at 0x10bca7518>"
      ]
     },
     "metadata": {},
     "output_type": "display_data"
    }
   ],
   "source": [
    "end = 3\n",
    "n = 20\n",
    "N = n*end\n",
    "first = np.empty(N)\n",
    "second = np.empty(N)\n",
    "third = np.empty(N)\n",
    "\n",
    "for i in np.arange(N):\n",
    "    t = i/n\n",
    "    unit3t = vecs@np.diag(np.exp(-1j*vals*t))@vecsd\n",
    "    first[i] = np.real(unit3t[1,1])\n",
    "    second[i] = np.real(unit3t[4,1])\n",
    "    third[i] = np.real(unit3t[2,1])\n",
    "#     print(t)\n",
    "\n",
    "plt.plot(np.arange(N)/n, first)\n",
    "plt.show()\n",
    "# print(first)"
   ]
  },
  {
   "cell_type": "markdown",
   "metadata": {},
   "source": [
    "### 3-Site Tsunami\n",
    "##### Make gate, evolve in time, trace out different spins, rinse, repeat"
   ]
  },
  {
   "cell_type": "code",
   "execution_count": 12,
   "metadata": {
    "collapsed": true
   },
   "outputs": [],
   "source": [
    "# Total time elapsed\n",
    "end = 3\n",
    "# Time steps per second\n",
    "n = 6\n",
    "N = n*end\n",
    "A = np.kron(np.kron(Z,I),I)\n",
    "\n",
    "weight0 = np.empty(N)\n",
    "weight1 = np.empty(N)\n",
    "weight2 = np.empty(N)\n",
    "\n",
    "for i in np.arange(N):\n",
    "    t = i/n\n",
    "    unit3t = vecs@np.diag(np.exp(-1j*vals*t))@vecsd\n",
    "    At = np.linalg.inv(unit3t) @ A @ unit3t\n",
    "#     print(chop(unit3t),\"\\n\")\n",
    "    \n",
    "    weight0[i] = 1 - norm(par_tr(At,0))\n",
    "    weight1[i] = 1 - norm(par_tr(At,1))\n",
    "    weight2[i] = 1 - norm(par_tr(At,2))"
   ]
  },
  {
   "cell_type": "code",
   "execution_count": 13,
   "metadata": {},
   "outputs": [
    {
     "data": {
      "image/png": "[encoded data removed]",
      "text/plain": [
       "<matplotlib.figure.Figure at 0x10e554048>"
      ]
     },
     "metadata": {},
     "output_type": "display_data"
    }
   ],
   "source": [
    "plt.plot(np.arange(N)/n,weight1)\n",
    "plt.show()"
   ]
  },
  {
   "cell_type": "markdown",
   "metadata": {},
   "source": [
    "# 5-Site"
   ]
  },
  {
   "cell_type": "code",
   "execution_count": 18,
   "metadata": {
    "collapsed": true
   },
   "outputs": [],
   "source": [
    "H5mult = np.kron(H3mult,np.kron(I,I)) + np.kron(np.kron(I,I),H3mult)\n",
    "H5 = H5mult * (2j * np.pi)/(3 * np.sqrt(3))"
   ]
  },
  {
   "cell_type": "code",
   "execution_count": 19,
   "metadata": {
    "collapsed": true
   },
   "outputs": [],
   "source": [
    "vals5, vecs5 = la.eigh(H5)\n",
    "eners5 = np.diag(vals5)\n",
    "vecsd5 = vecs5.T.conj()"
   ]
  },
  {
   "cell_type": "code",
   "execution_count": 20,
   "metadata": {},
   "outputs": [
    {
     "name": "stdout",
     "output_type": "stream",
     "text": [
      "[[ 1.     0.     0.     0.     0.     0.     0.     0.     0.     0.   ]\n",
      " [ 0.     0.105  0.944 -0.     0.192  0.    -0.     0.    -0.249  0.   ]\n",
      " [ 0.    -0.181  0.105  0.     0.571  0.    -0.     0.     0.754  0.   ]\n",
      " [ 0.     0.    -0.     0.202  0.     0.109  0.64   0.     0.    -0.386]\n",
      " [ 0.     0.571  0.192  0.    -0.525  0.    -0.     0.     0.571  0.   ]\n",
      " [ 0.     0.     0.     0.64   0.    -0.463  0.04   0.     0.     0.294]\n",
      " [ 0.    -0.    -0.     0.109 -0.     0.359 -0.463  0.    -0.     0.277]\n",
      " [ 0.     0.     0.    -0.     0.     0.     0.     0.202  0.     0.   ]\n",
      " [ 0.    -0.249  0.008  0.     0.192  0.    -0.     0.     0.105  0.   ]\n",
      " [ 0.     0.     0.    -0.195  0.     0.106  0.086 -0.     0.    -0.253]]\n"
     ]
    }
   ],
   "source": [
    "unit5 = vecs5@np.diag(np.exp(-1j*vals5))@vecsd5\n",
    "print(chop(unit5[:10,:10]))"
   ]
  },
  {
   "cell_type": "code",
   "execution_count": 21,
   "metadata": {},
   "outputs": [
    {
     "data": {
      "image/png": "[encoded data removed]",
      "text/plain": [
       "<matplotlib.figure.Figure at 0x107ea99e8>"
      ]
     },
     "metadata": {},
     "output_type": "display_data"
    }
   ],
   "source": [
    "end = 10\n",
    "n = 15\n",
    "N = n*end\n",
    "first = np.empty(N)\n",
    "second = np.empty(N)\n",
    "third = np.empty(N)\n",
    "\n",
    "for i in np.arange(N):\n",
    "    t = i/n\n",
    "    unit5t = vecs5@np.diag(np.exp(-1j*vals5*t))@vecsd5\n",
    "    first[i] = np.real(unit5t[1,1])\n",
    "    second[i] = np.real(unit5t[4,1])\n",
    "    third[i] = np.real(unit5t[2,1])\n",
    "#     print(t)\n",
    "\n",
    "plt.plot(np.arange(N)/n, third)\n",
    "plt.show()\n",
    "# print(first)"
   ]
  },
  {
   "cell_type": "markdown",
   "metadata": {},
   "source": [
    "### 5-Site Tsunami\n",
    "##### Make gate, evolve in time, trace out different spins, rinse, repeat"
   ]
  },
  {
   "cell_type": "code",
   "execution_count": 151,
   "metadata": {
    "collapsed": true,
    "scrolled": true
   },
   "outputs": [],
   "source": [
    "# Total time elapsed\n",
    "end = 2\n",
    "# Time steps per second\n",
    "n = 20\n",
    "N = n*end\n",
    "A5 = np.kron(np.kron(Z,I),np.kron(np.kron(I,I),I))\n",
    "B5 = np.kron(np.kron(I,I),np.kron(np.kron(I,I),Z))\n",
    "\n",
    "weightfore = np.empty((5, N))\n",
    "weightback = np.empty((5, N))\n",
    "\n",
    "for i in np.arange(N):\n",
    "    t = i/n\n",
    "    unit5t = vecs5@np.diag(np.exp(-1j*vals5*t))@vecsd5\n",
    "    A5t = np.linalg.inv(unit5t) @ A5 @ unit5t\n",
    "    B5t = np.linalg.inv(unit5t) @ B5 @ unit5t\n",
    "#     print(chop(unit3t),\"\\n\")\n",
    "    front = norm(A5t)\n",
    "    back  = norm(B5t)\n",
    "    \n",
    "    for j in range(5):\n",
    "#         A5t = par_tr(A5t,5-j-1)\n",
    "        A5t = end_trace(A5t,1)\n",
    "        B5t = front_trace(B5t,1)\n",
    "        fronthere = norm(A5t)\n",
    "        backhere  = norm(B5t)\n",
    "        weightfore[5-1-j,i] = front - fronthere\n",
    "        weightback[j,i]     = back  - backhere\n",
    "        front = fronthere\n",
    "        back  = backhere"
   ]
  },
  {
   "cell_type": "code",
   "execution_count": 152,
   "metadata": {
    "scrolled": true
   },
   "outputs": [
    {
     "data": {
      "image/png": "[encoded data removed]",
      "text/plain": [
       "<matplotlib.figure.Figure at 0x10f069f28>"
      ]
     },
     "metadata": {},
     "output_type": "display_data"
    }
   ],
   "source": [
    "for i in range(5):\n",
    "    plt.plot(np.arange(N)/n,weightfore[i], label = str(i))\n",
    "plt.legend(loc=4)\n",
    "plt.show()"
   ]
  },
  {
   "cell_type": "code",
   "execution_count": 153,
   "metadata": {
    "scrolled": false
   },
   "outputs": [
    {
     "data": {
      "image/png": "[encoded data removed]",
      "text/plain": [
       "<matplotlib.figure.Figure at 0x1113e3940>"
      ]
     },
     "metadata": {},
     "output_type": "display_data"
    }
   ],
   "source": [
    "for i in range(5):\n",
    "    plt.plot(np.arange(N)/n,weightback[i], label = str(i))\n",
    "plt.legend(loc=3)\n",
    "plt.show()"
   ]
  },
  {
   "cell_type": "markdown",
   "metadata": {},
   "source": [
    "# Time Usage"
   ]
  },
  {
   "cell_type": "code",
   "execution_count": 42,
   "metadata": {
    "collapsed": true
   },
   "outputs": [],
   "source": [
    "L = 9\n",
    "\n",
    "H = hm.sparse_H(L)\n",
    "vals, vecs = la.eigh(H)\n",
    "eners = np.diag(vals)\n",
    "vecsd = vecs.T.conj()\n",
    "\n",
    "# Total time elapsed\n",
    "end = 3\n",
    "# Time steps per second\n",
    "n = 20\n",
    "N = n*end\n",
    "A = hm.Z\n",
    "for i in range(L-1):\n",
    "    A = np.kron(A,hm.I)\n",
    "B = hm.Z\n",
    "for i in range(L-1):\n",
    "    B = np.kron(hm.I,B)\n",
    "\n",
    "weightfore9 = np.empty((L, N))\n",
    "weightback9 = np.empty((L, N))\n",
    "\n",
    "for i in np.arange(N):\n",
    "    t = i/n\n",
    "    unitt = np.dot(np.dot(vecs,  np.diag(np.exp(-1j*vals*t))), vecsd)\n",
    "    unitt = la.expm(-1j*H*t)\n",
    "    At    = np.dot(np.dot(np.linalg.inv(unitt), A),             unitt)\n",
    "    Bt    = np.dot(np.dot(np.linalg.inv(unitt), B),             unitt)\n",
    "#     print(chop(unit3t),\"\\n\")\n",
    "    front = hm.norm(At)\n",
    "    back  = hm.norm(Bt)\n",
    "    \n",
    "    for j in range(L):\n",
    "        At = hm.end_trace(At,1)\n",
    "        Bt = hm.front_trace(Bt,1)\n",
    "        fronthere = hm.norm(At)\n",
    "        backhere  = hm.norm(Bt)\n",
    "        weightfore9[L-1-j, i] = front - fronthere\n",
    "        weightback9[j, i]     = back  - backhere\n",
    "        front = fronthere\n",
    "        back  = backhere"
   ]
  },
  {
   "cell_type": "code",
   "execution_count": 29,
   "metadata": {
    "scrolled": true
   },
   "outputs": [
    {
     "name": "stdout",
     "output_type": "stream",
     "text": [
      "\n",
      "IPython CPU timings (estimated):\n",
      "  User   :      29.43 s.\n",
      "  System :       1.20 s.\n",
      "Wall time:      15.51 s.\n"
     ]
    }
   ],
   "source": [
    "# with @ operator\n",
    "%run -t timeHamiltonian.py"
   ]
  },
  {
   "cell_type": "code",
   "execution_count": 5,
   "metadata": {},
   "outputs": [
    {
     "name": "stdout",
     "output_type": "stream",
     "text": [
      "\n",
      "IPython CPU timings (estimated):\n",
      "  User   :      27.76 s.\n",
      "  System :       1.08 s.\n",
      "Wall time:      14.48 s.\n"
     ]
    }
   ],
   "source": [
    "# with np.matmul\n",
    "%run -t timeHamiltonian.py"
   ]
  },
  {
   "cell_type": "code",
   "execution_count": 39,
   "metadata": {
    "scrolled": true
   },
   "outputs": [
    {
     "name": "stdout",
     "output_type": "stream",
     "text": [
      "\n",
      "IPython CPU timings (estimated):\n",
      "  User   :      28.58 s.\n",
      "  System :       1.11 s.\n",
      "Wall time:      14.99 s.\n"
     ]
    }
   ],
   "source": [
    "# with np.dot\n",
    "%run -t timeHamiltonian.py"
   ]
  },
  {
   "cell_type": "code",
   "execution_count": 48,
   "metadata": {},
   "outputs": [
    {
     "name": "stdout",
     "output_type": "stream",
     "text": [
      "\n",
      "IPython CPU timings (estimated):\n",
      "  User   :      56.23 s.\n",
      "  System :       4.50 s.\n",
      "Wall time:      30.46 s.\n"
     ]
    }
   ],
   "source": [
    "# with expm\n",
    "%run -t timeHamiltonian.py"
   ]
  },
  {
   "cell_type": "code",
   "execution_count": 6,
   "metadata": {},
   "outputs": [
    {
     "name": "stdout",
     "output_type": "stream",
     "text": [
      " "
     ]
    }
   ],
   "source": [
    "%run -p timeHamiltonian.py"
   ]
  },
  {
   "cell_type": "code",
   "execution_count": null,
   "metadata": {
    "collapsed": true
   },
   "outputs": [],
   "source": []
  },
  {
   "cell_type": "code",
   "execution_count": null,
   "metadata": {
    "collapsed": true
   },
   "outputs": [],
   "source": []
  },
  {
   "cell_type": "code",
   "execution_count": 43,
   "metadata": {},
   "outputs": [
    {
     "data": {
      "image/png": "[encoded data removed]",
      "text/plain": [
       "<matplotlib.figure.Figure at 0x10c427390>"
      ]
     },
     "metadata": {},
     "output_type": "display_data"
    },
    {
     "data": {
      "image/png": "[encoded data removed]",
      "text/plain": [
       "<matplotlib.figure.Figure at 0x102847e80>"
      ]
     },
     "metadata": {},
     "output_type": "display_data"
    }
   ],
   "source": [
    "end = (int) (n*1.5)\n",
    "\n",
    "for i in range(L):\n",
    "    plt.plot(np.arange(end)/n,weightfore9[i,:end], label = str(i))\n",
    "plt.legend(bbox_to_anchor=(1.05, 1), loc=2)\n",
    "plt.show()\n",
    "\n",
    "for i in range(L):\n",
    "    plt.plot(np.arange(end)/n,weightback9[i,:end], label = str(i))\n",
    "plt.legend(bbox_to_anchor=(1.05, 1), loc=2)\n",
    "plt.show()"
   ]
  },
  {
   "cell_type": "code",
   "execution_count": null,
   "metadata": {
    "collapsed": true
   },
   "outputs": [],
   "source": []
  },
  {
   "cell_type": "code",
   "execution_count": null,
   "metadata": {
    "collapsed": true
   },
   "outputs": [],
   "source": []
  },
  {
   "cell_type": "code",
   "execution_count": null,
   "metadata": {
    "collapsed": true
   },
   "outputs": [],
   "source": []
  },
  {
   "cell_type": "code",
   "execution_count": null,
   "metadata": {
    "collapsed": true
   },
   "outputs": [],
   "source": []
  },
  {
   "cell_type": "code",
   "execution_count": null,
   "metadata": {
    "collapsed": true
   },
   "outputs": [],
   "source": []
  },
  {
   "cell_type": "code",
   "execution_count": null,
   "metadata": {
    "collapsed": true
   },
   "outputs": [],
   "source": []
  },
  {
   "cell_type": "code",
   "execution_count": null,
   "metadata": {
    "collapsed": true
   },
   "outputs": [],
   "source": []
  },
  {
   "cell_type": "code",
   "execution_count": null,
   "metadata": {
    "collapsed": true
   },
   "outputs": [],
   "source": []
  },
  {
   "cell_type": "code",
   "execution_count": null,
   "metadata": {
    "collapsed": true
   },
   "outputs": [],
   "source": []
  },
  {
   "cell_type": "code",
   "execution_count": null,
   "metadata": {
    "collapsed": true
   },
   "outputs": [],
   "source": []
  },
  {
   "cell_type": "code",
   "execution_count": null,
   "metadata": {
    "collapsed": true
   },
   "outputs": [],
   "source": []
  },
  {
   "cell_type": "code",
   "execution_count": null,
   "metadata": {
    "collapsed": true
   },
   "outputs": [],
   "source": []
  },
  {
   "cell_type": "code",
   "execution_count": null,
   "metadata": {
    "collapsed": true
   },
   "outputs": [],
   "source": []
  },
  {
   "cell_type": "code",
   "execution_count": null,
   "metadata": {
    "collapsed": true
   },
   "outputs": [],
   "source": []
  },
  {
   "cell_type": "code",
   "execution_count": null,
   "metadata": {
    "collapsed": true
   },
   "outputs": [],
   "source": []
  },
  {
   "cell_type": "code",
   "execution_count": null,
   "metadata": {
    "collapsed": true
   },
   "outputs": [],
   "source": []
  },
  {
   "cell_type": "code",
   "execution_count": null,
   "metadata": {
    "collapsed": true
   },
   "outputs": [],
   "source": []
  },
  {
   "cell_type": "code",
   "execution_count": null,
   "metadata": {
    "collapsed": true
   },
   "outputs": [],
   "source": []
  },
  {
   "cell_type": "code",
   "execution_count": null,
   "metadata": {
    "collapsed": true
   },
   "outputs": [],
   "source": []
  },
  {
   "cell_type": "code",
   "execution_count": null,
   "metadata": {
    "collapsed": true
   },
   "outputs": [],
   "source": []
  },
  {
   "cell_type": "code",
   "execution_count": null,
   "metadata": {
    "collapsed": true
   },
   "outputs": [],
   "source": []
  },
  {
   "cell_type": "code",
   "execution_count": null,
   "metadata": {
    "collapsed": true
   },
   "outputs": [],
   "source": []
  },
  {
   "cell_type": "code",
   "execution_count": null,
   "metadata": {
    "collapsed": true
   },
   "outputs": [],
   "source": []
  },
  {
   "cell_type": "code",
   "execution_count": null,
   "metadata": {
    "collapsed": true
   },
   "outputs": [],
   "source": []
  },
  {
   "cell_type": "code",
   "execution_count": null,
   "metadata": {
    "collapsed": true
   },
   "outputs": [],
   "source": []
  },
  {
   "cell_type": "code",
   "execution_count": 52,
   "metadata": {},
   "outputs": [
    {
     "name": "stdout",
     "output_type": "stream",
     "text": [
      "3072\n",
      "262144\n"
     ]
    }
   ],
   "source": [
    "print(np.count_nonzero(H))\n",
    "print(np.shape(H)[0]**2)"
   ]
  },
  {
   "cell_type": "code",
   "execution_count": null,
   "metadata": {
    "collapsed": true
   },
   "outputs": [],
   "source": []
  }
 ],
 "metadata": {
  "kernelspec": {
   "display_name": "Python 3",
   "language": "python",
   "name": "python3"
  },
  "language_info": {
   "codemirror_mode": {
    "name": "ipython",
    "version": 3
   },
   "file_extension": ".py",
   "mimetype": "text/x-python",
   "name": "python",
   "nbconvert_exporter": "python",
   "pygments_lexer": "ipython3",
   "version": "3.5.3"
  }
 },
 "nbformat": 4,
 "nbformat_minor": 1
}
