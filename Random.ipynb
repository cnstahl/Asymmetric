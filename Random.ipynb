{
 "cells": [
  {
   "cell_type": "code",
   "execution_count": 108,
   "metadata": {
    "collapsed": true
   },
   "outputs": [],
   "source": [
    "%matplotlib inline \n",
    "import numpy as np\n",
    "import matplotlib.pyplot as plt\n",
    "import random"
   ]
  },
  {
   "cell_type": "code",
   "execution_count": 109,
   "metadata": {
    "collapsed": true
   },
   "outputs": [],
   "source": [
    "N = 200\n",
    "b = .5\n",
    "S = np.zeros(N)\n",
    "n = 5"
   ]
  },
  {
   "cell_type": "code",
   "execution_count": 110,
   "metadata": {
    "collapsed": true
   },
   "outputs": [],
   "source": [
    "def reset_S(N):\n",
    "    S = np.arange(N)\n",
    "    S = np.maximum(S-N/2, N/2-S)\n",
    "    return S"
   ]
  },
  {
   "cell_type": "code",
   "execution_count": 111,
   "metadata": {
    "collapsed": true
   },
   "outputs": [],
   "source": [
    "def brick_update_S(S):\n",
    "    nextS = np.copy(S)\n",
    "    for idx, val in enumerate(S):\n",
    "        if (idx != 0) and (idx != N-1):\n",
    "            nextS[idx] = np.minimum(S[idx-1]+1, S[idx+1]+1)\n",
    "            if nextS[idx] < S[idx]: raise ValueError(\"Decreasing entropy\")\n",
    "    return(nextS)"
   ]
  },
  {
   "cell_type": "code",
   "execution_count": 300,
   "metadata": {
    "collapsed": true
   },
   "outputs": [],
   "source": [
    "def random_update_S(S,b):\n",
    "    nextS = np.copy(S)\n",
    "    for idx, val in enumerate(S):\n",
    "        if (idx != 0) and (idx != N-1):\n",
    "            if random.random() < b: nextS[idx] = np.minimum(S[idx-1]+1, S[idx+1]+1)\n",
    "            if nextS[idx] < S[idx]: raise ValueError(\"Decreasing entropy\")\n",
    "    return(nextS)"
   ]
  },
  {
   "cell_type": "code",
   "execution_count": 243,
   "metadata": {
    "collapsed": true
   },
   "outputs": [],
   "source": [
    "def stair_update_S(S, n):\n",
    "    nextS = np.copy(S)\n",
    "    N = len(S)\n",
    "    site = int(np.floor((N-n) * random.random()))\n",
    "#     print(site-N/2)\n",
    "    for idx in range(site, site+n):\n",
    "        if (idx != 0) and (idx != N-1):\n",
    "            nextS[idx] = np.minimum(S[idx-1]+1, S[idx+1]+1)\n",
    "            if nextS[idx] < S[idx]: raise ValueError(\"Decreasing entropy\")\n",
    "    return(nextS)"
   ]
  },
  {
   "cell_type": "code",
   "execution_count": 311,
   "metadata": {
    "collapsed": true
   },
   "outputs": [],
   "source": [
    "def continuous_stair_update_S(S):\n",
    "    nextS = np.copy(S)\n",
    "    for idx, val in enumerate(S):\n",
    "        if (idx != 0) and (idx != N-1):\n",
    "            nextS[idx] = np.minimum(nextS[idx-1]+1, S[idx+1]+1)\n",
    "            if nextS[idx] < S[idx]: raise ValueError(\"Decreasing entropy\")\n",
    "    return(nextS)"
   ]
  },
  {
   "cell_type": "code",
   "execution_count": 362,
   "metadata": {},
   "outputs": [],
   "source": [
    "def spaced_stair_update_S(S, n):\n",
    "    nextS = np.copy(S)\n",
    "    N = len(S)\n",
    "#     seq = \"\"\n",
    "    for idx in range(0, n):\n",
    "        for jdx in range(idx, idx+N, n):\n",
    "#             seq += \", \" + str(jdx - N/2)\n",
    "            if (jdx != 0) and (jdx != N-1):\n",
    "                nextS[jdx] = np.minimum(nextS[jdx-1]+1, nextS[jdx+1]+1)\n",
    "                if nextS[jdx] < S[jdx]: raise ValueError(\"Decreasing entropy\")\n",
    "#     print(seq)\n",
    "    return(nextS)"
   ]
  },
  {
   "cell_type": "code",
   "execution_count": 114,
   "metadata": {
    "collapsed": true
   },
   "outputs": [],
   "source": [
    "def multi_brick_update_S(S,i):\n",
    "    for j in range(i):\n",
    "        S = brick_update_S(S)\n",
    "    return(S)"
   ]
  },
  {
   "cell_type": "code",
   "execution_count": 115,
   "metadata": {
    "collapsed": true
   },
   "outputs": [],
   "source": [
    "def multi_random_update_S(S,b,i):\n",
    "    for j in range(i):\n",
    "        S = random_update_S(S,b)\n",
    "    return(S)"
   ]
  },
  {
   "cell_type": "code",
   "execution_count": 116,
   "metadata": {
    "collapsed": true
   },
   "outputs": [],
   "source": [
    "def multi_stair_update_S(S,n,i):\n",
    "    for j in range(i):\n",
    "        S = stair_update_S(S,n)\n",
    "    return(S)"
   ]
  },
  {
   "cell_type": "code",
   "execution_count": 369,
   "metadata": {
    "collapsed": true
   },
   "outputs": [],
   "source": [
    "def draw_S(S, show = False, save = None):\n",
    "    plt.step(np.arange(N)-N/2, S, where='mid')\n",
    "    \n",
    "    axes = plt.gca()\n",
    "    axes.set_xlim([0-N/2,N/2-1])\n",
    "    axes.set_ylim([0,np.max(S)])\n",
    "    \n",
    "    plt.ylabel(\"S\")\n",
    "    plt.xlabel(\"y-x\")\n",
    "    plt.title(\"S(x,y)\")\n",
    "    if save: plt.savefig(save)\n",
    "    if show: plt.show()\n",
    "    plt.close()"
   ]
  },
  {
   "cell_type": "markdown",
   "metadata": {},
   "source": [
    "# Deterministic Circuit"
   ]
  },
  {
   "cell_type": "code",
   "execution_count": 118,
   "metadata": {},
   "outputs": [
    {
     "data": {
      "image/png": "[encoded data removed]",
      "text/plain": [
       "<matplotlib.figure.Figure at 0x118e526a0>"
      ]
     },
     "metadata": {},
     "output_type": "display_data"
    }
   ],
   "source": [
    "N = 200\n",
    "    \n",
    "S = reset_S(N)\n",
    "draw_S(S, save = \"figures/brickwork/brickwork_N{:02}T00.pdf\".format(N))\n",
    "\n",
    "for i in range(100):\n",
    "    S = brick_update_S(S)\n",
    "    if ((i+1)%4) == 0: draw_S(S, save = \"figures/brickwork/brickwork_N{:02}T{:02}.pdf\".format(N,i+1))\n",
    "draw_S(S, show=True)"
   ]
  },
  {
   "cell_type": "markdown",
   "metadata": {},
   "source": [
    "# Random Gates, b = .5"
   ]
  },
  {
   "cell_type": "code",
   "execution_count": 306,
   "metadata": {},
   "outputs": [
    {
     "data": {
      "image/png": "[encoded data removed]",
      "text/plain": [
       "<matplotlib.figure.Figure at 0x119d8bcc0>"
      ]
     },
     "metadata": {},
     "output_type": "display_data"
    }
   ],
   "source": [
    "N = 200\n",
    "b = .5\n",
    "steps = 120\n",
    "trials = 10\n",
    "\n",
    "S = reset_S(N)\n",
    "totS = np.zeros(N)\n",
    "\n",
    "for i in range(trials):\n",
    "    totS += multi_random_update_S(S, b, steps)\n",
    "    \n",
    "totS /= trials\n",
    "draw_S(totS, show=True)"
   ]
  },
  {
   "cell_type": "markdown",
   "metadata": {},
   "source": [
    "# Large Staircases, \"Small\" Time"
   ]
  },
  {
   "cell_type": "code",
   "execution_count": 341,
   "metadata": {},
   "outputs": [
    {
     "data": {
      "image/png": "[encoded data removed]",
      "text/plain": [
       "<matplotlib.figure.Figure at 0x1181eae48>"
      ]
     },
     "metadata": {},
     "output_type": "display_data"
    }
   ],
   "source": [
    "N = 200\n",
    "n = 10\n",
    "steps = 1500\n",
    "trials = 15\n",
    "\n",
    "S = reset_S(N)\n",
    "totS = np.zeros(N)\n",
    "\n",
    "for i in range(trials):\n",
    "    totS += multi_stair_update_S(S, n, steps)\n",
    "    \n",
    "totS /= trials\n",
    "draw_S(totS, show=True)"
   ]
  },
  {
   "cell_type": "markdown",
   "metadata": {
    "collapsed": true
   },
   "source": [
    "# Small Staircases, Large Time"
   ]
  },
  {
   "cell_type": "code",
   "execution_count": 338,
   "metadata": {
    "scrolled": true
   },
   "outputs": [
    {
     "data": {
      "image/png": "[encoded data removed]",
      "text/plain": [
       "<matplotlib.figure.Figure at 0x11e22e358>"
      ]
     },
     "metadata": {},
     "output_type": "display_data"
    }
   ],
   "source": [
    "N = 400\n",
    "n = 2\n",
    "steps = 40000\n",
    "trials = 1\n",
    "\n",
    "S = reset_S(N)\n",
    "totS = np.zeros(N)\n",
    "\n",
    "for i in range(trials):\n",
    "    totS += multi_stair_update_S(S, n, steps)\n",
    "    \n",
    "totS /= trials\n",
    "draw_S(totS, show=True)"
   ]
  },
  {
   "cell_type": "markdown",
   "metadata": {},
   "source": [
    "# Continuous Stair"
   ]
  },
  {
   "cell_type": "code",
   "execution_count": 314,
   "metadata": {},
   "outputs": [
    {
     "data": {
      "image/png": "[encoded data removed]",
      "text/plain": [
       "<matplotlib.figure.Figure at 0x11951fef0>"
      ]
     },
     "metadata": {},
     "output_type": "display_data"
    }
   ],
   "source": [
    "N = 200\n",
    "    \n",
    "S = reset_S(N)\n",
    "draw_S(S, save = \"figures/cont_stair/cont_N{:02}T00.pdf\".format(N))\n",
    "\n",
    "for i in range(50):\n",
    "    S = continuous_stair_update_S(S)\n",
    "    if ((i+1)%4) == 0: draw_S(S, save = \"figures/cont_stair/cont_N{:02}T{:02}.pdf\".format(N,i+1))\n",
    "draw_S(S, show=True)"
   ]
  },
  {
   "cell_type": "markdown",
   "metadata": {},
   "source": [
    "# Spaced Stairs"
   ]
  },
  {
   "cell_type": "code",
   "execution_count": 370,
   "metadata": {},
   "outputs": [
    {
     "data": {
      "image/png": "[encoded data removed]",
      "text/plain": [
       "<matplotlib.figure.Figure at 0x1195446a0>"
      ]
     },
     "metadata": {},
     "output_type": "display_data"
    }
   ],
   "source": [
    "N = 200\n",
    "n = 5\n",
    "    \n",
    "S = reset_S(N)\n",
    "# draw_S(S, save = \"figures/cont_stair/cont_N{:02}T00.pdf\".format(N))\n",
    "\n",
    "for i in range(50):\n",
    "    S = spaced_stair_update_S(S, n)\n",
    "#     if ((i+1)%1) == 0: draw_S(S, save = \"figures/space_stair/space_N{:02}T{:02}.pdf\".format(N,i+1))\n",
    "draw_S(S, show=True, save = \"figures/space_stair/space_test.pdf\")"
   ]
  },
  {
   "cell_type": "markdown",
   "metadata": {},
   "source": [
    "# Compare Brickwork and Random"
   ]
  },
  {
   "cell_type": "code",
   "execution_count": 287,
   "metadata": {},
   "outputs": [],
   "source": [
    "N = 200\n",
    "b = .5\n",
    "steps = 100\n",
    "trials = 10\n",
    "\n",
    "initS = reset_S(N)\n",
    "totS = np.zeros(N)\n",
    "\n",
    "for i in range(trials):\n",
    "    totS += multi_random_update_S(initS, b, steps)\n",
    "    \n",
    "totS /= trials\n",
    "initS = totS"
   ]
  },
  {
   "cell_type": "code",
   "execution_count": 293,
   "metadata": {},
   "outputs": [
    {
     "data": {
      "image/png": "[encoded data removed]",
      "text/plain": [
       "<matplotlib.figure.Figure at 0x1182ef0f0>"
      ]
     },
     "metadata": {},
     "output_type": "display_data"
    }
   ],
   "source": [
    "brickS = initS\n",
    "randomSs = np.zeros((trials, N))\n",
    "for i in range(trials):\n",
    "    randomSs[i] = initS\n",
    "\n",
    "for i in range(50):\n",
    "    brickS = brick_update_S(brickS)\n",
    "    for j in range(trials):\n",
    "        randomSs[j] = multi_random_update_S(randomSs[j], b, 2)\n",
    "    totS = np.sum(randomSs, axis=0)\n",
    "    \n",
    "    if (i%5 == 0): ## Draw ##\n",
    "        plt.step(np.arange(N)-N/2, brickS, where='mid', label = \"brick\")\n",
    "        plt.step(np.arange(N)-N/2, totS/trials, where='mid', label = \"random\")\n",
    "    \n",
    "        axes = plt.gca()\n",
    "        axes.set_xlim([0-N/2,N/2-1])\n",
    "        axes.set_ylim([0,np.max(S)])\n",
    "    \n",
    "        plt.legend(loc=4)\n",
    "        plt.ylabel(\"Brickwork vs. Random Arch.\")\n",
    "        plt.xlabel(\"y-x\")\n",
    "        plt.title(\"S(x,y)\")\n",
    "        plt.savefig(\"figures/compare/compare_N{:02}T{:02}.pdf\".format(N,i+1))\n",
    "        plt.close()\n",
    "    \n",
    "plt.step(np.arange(N)-N/2, brickS, where='mid', label = \"brick\")\n",
    "plt.step(np.arange(N)-N/2, totS/trials, where='mid', label = \"random\")\n",
    "    \n",
    "axes = plt.gca()\n",
    "axes.set_xlim([0-N/2,N/2-1])\n",
    "axes.set_ylim([0,np.max(S)])\n",
    "    \n",
    "plt.legend(loc=4)\n",
    "plt.ylabel(\"Brickwork vs. Random Arch.\")\n",
    "plt.xlabel(\"y-x\")\n",
    "plt.title(\"S(x,y)\")\n",
    "plt.show()\n",
    "plt.close()"
   ]
  },
  {
   "cell_type": "markdown",
   "metadata": {},
   "source": [
    "# Brickwork at non-max slope"
   ]
  },
  {
   "cell_type": "code",
   "execution_count": 297,
   "metadata": {},
   "outputs": [
    {
     "data": {
      "image/png": "[encoded data removed]",
      "text/plain": [
       "<matplotlib.figure.Figure at 0x1189709b0>"
      ]
     },
     "metadata": {},
     "output_type": "display_data"
    }
   ],
   "source": [
    "N = 200\n",
    "S = np.arange(N)\n",
    "S = np.maximum(N/4 - S, S/3 - N/12)\n",
    "\n",
    "draw_S(S, save = \"figures/slope/slope_N{:02}T00.pdf\".format(N))\n",
    "\n",
    "for i in range(100):\n",
    "    S = brick_update_S(S)\n",
    "    if ((i+1)%4) == 0: draw_S(S, save = \"figures/slope/slope_N{:02}T{:02}.pdf\".format(N,i+1))\n",
    "draw_S(S, show=True)"
   ]
  },
  {
   "cell_type": "markdown",
   "metadata": {},
   "source": [
    "### Testing"
   ]
  },
  {
   "cell_type": "code",
   "execution_count": 247,
   "metadata": {},
   "outputs": [
    {
     "name": "stdout",
     "output_type": "stream",
     "text": [
      "5.0\n",
      "6.0\n",
      "7.0\n",
      "8.0\n",
      "9.0\n"
     ]
    },
    {
     "data": {
      "image/png": "[encoded data removed]",
      "text/plain": [
       "<matplotlib.figure.Figure at 0x119a3ffd0>"
      ]
     },
     "metadata": {},
     "output_type": "display_data"
    }
   ],
   "source": [
    "N = 20\n",
    "n = 5\n",
    "\n",
    "def stair_update_S2(S, n):\n",
    "    nextS = np.copy(S)\n",
    "    N = len(S)\n",
    "    site = 15\n",
    "    for idx in range(site, site+n):\n",
    "        print(idx-N/2)\n",
    "        if (idx != 0) and (idx != N-1):\n",
    "            nextS[idx] = np.minimum(S[idx-1]+1, S[idx+1]+1)\n",
    "            if nextS[idx] < S[idx]: raise ValueError(\"Decreasing entropy\")\n",
    "    return(nextS)\n",
    "\n",
    "# S = reset_S(N)\n",
    "S = stair_update_S2(S,n)\n",
    "draw_S(S, show = True)"
   ]
  },
  {
   "cell_type": "code",
   "execution_count": 310,
   "metadata": {},
   "outputs": [
    {
     "data": {
      "image/png": "[encoded data removed]",
      "text/plain": [
       "<matplotlib.figure.Figure at 0x1198172e8>"
      ]
     },
     "metadata": {},
     "output_type": "display_data"
    }
   ],
   "source": [
    "N = 200\n",
    "b = .99\n",
    "    \n",
    "S = reset_S(N)\n",
    "draw_S(S, save = \"figures/other/near_brickwork_N{:02}T00.pdf\".format(N))\n",
    "\n",
    "for i in range(50):\n",
    "    S = random_update_S(S, b)\n",
    "    if ((i+1)%4) == 0: draw_S(S, save = \"figures/other/near_brickwork_N{:02}T{:02}.pdf\".format(N,i+1))\n",
    "for i in range(50):\n",
    "    S = brick_update_S(S)\n",
    "    if ((i+51)%4) == 0: draw_S(S, save = \"figures/other/near_brickwork_N{:02}T{:02}.pdf\".format(N,i+51))\n",
    "        \n",
    "draw_S(S, show=True)"
   ]
  },
  {
   "cell_type": "code",
   "execution_count": 352,
   "metadata": {},
   "outputs": [
    {
     "name": "stdout",
     "output_type": "stream",
     "text": [
      "h, 9\n"
     ]
    }
   ],
   "source": [
    "seq = \"\"\n",
    "seq += 'h'\n",
    "seq += \", \"+ str(9)\n",
    "print(seq)"
   ]
  },
  {
   "cell_type": "code",
   "execution_count": null,
   "metadata": {
    "collapsed": true
   },
   "outputs": [],
   "source": []
  }
 ],
 "metadata": {
  "kernelspec": {
   "display_name": "Python 3",
   "language": "python",
   "name": "python3"
  },
  "language_info": {
   "codemirror_mode": {
    "name": "ipython",
    "version": 3
   },
   "file_extension": ".py",
   "mimetype": "text/x-python",
   "name": "python",
   "nbconvert_exporter": "python",
   "pygments_lexer": "ipython3",
   "version": "3.5.3"
  }
 },
 "nbformat": 4,
 "nbformat_minor": 1
}
